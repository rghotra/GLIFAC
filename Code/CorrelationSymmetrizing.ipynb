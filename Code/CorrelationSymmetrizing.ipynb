{
 "cells": [
  {
   "cell_type": "code",
   "execution_count": 1,
   "id": "90c1d6c3",
   "metadata": {},
   "outputs": [],
   "source": [
    "import models\n",
    "import glifac_pipeline\n",
    "import os\n",
    "\n",
    "import numpy as np\n",
    "import glifac, utils"
   ]
  },
  {
   "cell_type": "code",
   "execution_count": 2,
   "id": "94e7168a",
   "metadata": {},
   "outputs": [],
   "source": [
    "file_path = '../Datasets/synthetic_interactions_dataset.h5'\n",
    "file_path = os.path.abspath(file_path)\n",
    "\n",
    "glifac_pipeline.load_dataset(file_path)\n",
    "\n",
    "names = ['ELF1', 'SIX3', 'ESR1', 'FOXN', 'CEBPB', 'YY1', 'GATA1', 'IRF1', 'SP1', 'NFIB', 'TEAD', 'TAL1']\n",
    "jaspar_ids = [utils.elf, utils.six, utils.esr, utils.foxn, utils.cebpb, utils.yy1, utils.gata, utils.irf, utils.sp1, utils.nfib, utils.tead, utils.tal]\n",
    "expecteds = [['ELF1', 'SIX3'], ['ESR1', 'FOXN'], ['GATA1', 'TAL1'], ['IRF1', 'SP1']]\n",
    "\n",
    "motifs = [jaspar_ids, names, expecteds]"
   ]
  },
  {
   "cell_type": "code",
   "execution_count": null,
   "id": "fd6bfecd",
   "metadata": {
    "scrolled": true
   },
   "outputs": [
    {
     "name": "stdout",
     "output_type": "stream",
     "text": [
      "Epoch 1/100\n",
      "350/350 - 5s - loss: 0.3035 - auroc: 0.8295 - aupr: 0.5215 - val_loss: 0.2517 - val_auroc: 0.9576 - val_aupr: 0.8544\n",
      "Epoch 2/100\n",
      "350/350 - 4s - loss: 0.1290 - auroc: 0.9718 - aupr: 0.8933 - val_loss: 0.1150 - val_auroc: 0.9780 - val_aupr: 0.9145\n",
      "Epoch 3/100\n",
      "350/350 - 5s - loss: 0.1074 - auroc: 0.9796 - aupr: 0.9217 - val_loss: 0.0984 - val_auroc: 0.9823 - val_aupr: 0.9330\n",
      "Epoch 4/100\n",
      "350/350 - 5s - loss: 0.0997 - auroc: 0.9823 - aupr: 0.9307 - val_loss: 0.0975 - val_auroc: 0.9867 - val_aupr: 0.9390\n",
      "Epoch 5/100\n",
      "350/350 - 5s - loss: 0.0967 - auroc: 0.9832 - aupr: 0.9337 - val_loss: 0.0841 - val_auroc: 0.9862 - val_aupr: 0.9494\n",
      "Epoch 6/100\n",
      "350/350 - 5s - loss: 0.0942 - auroc: 0.9839 - aupr: 0.9363 - val_loss: 0.0776 - val_auroc: 0.9905 - val_aupr: 0.9568\n",
      "Epoch 7/100\n",
      "350/350 - 5s - loss: 0.0921 - auroc: 0.9845 - aupr: 0.9393 - val_loss: 0.0916 - val_auroc: 0.9868 - val_aupr: 0.9450\n",
      "Epoch 8/100\n",
      "350/350 - 5s - loss: 0.0919 - auroc: 0.9845 - aupr: 0.9392 - val_loss: 0.0766 - val_auroc: 0.9882 - val_aupr: 0.9577\n",
      "Epoch 9/100\n",
      "350/350 - 5s - loss: 0.0908 - auroc: 0.9850 - aupr: 0.9408 - val_loss: 0.0753 - val_auroc: 0.9901 - val_aupr: 0.9585\n",
      "Epoch 10/100\n",
      "350/350 - 5s - loss: 0.0900 - auroc: 0.9851 - aupr: 0.9417 - val_loss: 0.0741 - val_auroc: 0.9906 - val_aupr: 0.9592\n",
      "Epoch 11/100\n",
      "350/350 - 5s - loss: 0.0890 - auroc: 0.9854 - aupr: 0.9430 - val_loss: 0.0728 - val_auroc: 0.9914 - val_aupr: 0.9611\n",
      "Epoch 12/100\n",
      "350/350 - 5s - loss: 0.0889 - auroc: 0.9855 - aupr: 0.9431 - val_loss: 0.0749 - val_auroc: 0.9908 - val_aupr: 0.9592\n",
      "Epoch 13/100\n",
      "350/350 - 5s - loss: 0.0885 - auroc: 0.9855 - aupr: 0.9437 - val_loss: 0.0735 - val_auroc: 0.9912 - val_aupr: 0.9602\n",
      "Epoch 14/100\n",
      "350/350 - 5s - loss: 0.0876 - auroc: 0.9858 - aupr: 0.9445 - val_loss: 0.0756 - val_auroc: 0.9912 - val_aupr: 0.9602\n",
      "Epoch 15/100\n",
      "350/350 - 5s - loss: 0.0879 - auroc: 0.9854 - aupr: 0.9443 - val_loss: 0.0733 - val_auroc: 0.9906 - val_aupr: 0.9601\n",
      "Epoch 16/100\n",
      "350/350 - 5s - loss: 0.0876 - auroc: 0.9856 - aupr: 0.9444 - val_loss: 0.0740 - val_auroc: 0.9902 - val_aupr: 0.9590\n",
      "Epoch 17/100\n",
      "350/350 - 5s - loss: 0.0860 - auroc: 0.9862 - aupr: 0.9464 - val_loss: 0.0767 - val_auroc: 0.9903 - val_aupr: 0.9583\n",
      "Epoch 18/100\n",
      "350/350 - 5s - loss: 0.0865 - auroc: 0.9861 - aupr: 0.9455 - val_loss: 0.0726 - val_auroc: 0.9905 - val_aupr: 0.9598\n",
      "Epoch 19/100\n",
      "350/350 - 5s - loss: 0.0864 - auroc: 0.9863 - aupr: 0.9460 - val_loss: 0.0722 - val_auroc: 0.9908 - val_aupr: 0.9612\n",
      "Epoch 20/100\n",
      "350/350 - 5s - loss: 0.0855 - auroc: 0.9865 - aupr: 0.9468 - val_loss: 0.0719 - val_auroc: 0.9911 - val_aupr: 0.9619\n",
      "Epoch 21/100\n",
      "350/350 - 5s - loss: 0.0862 - auroc: 0.9862 - aupr: 0.9460 - val_loss: 0.0761 - val_auroc: 0.9915 - val_aupr: 0.9602\n",
      "Epoch 22/100\n",
      "350/350 - 5s - loss: 0.0856 - auroc: 0.9864 - aupr: 0.9465 - val_loss: 0.0726 - val_auroc: 0.9908 - val_aupr: 0.9614\n",
      "Epoch 23/100\n",
      "350/350 - 5s - loss: 0.0851 - auroc: 0.9864 - aupr: 0.9474 - val_loss: 0.0708 - val_auroc: 0.9912 - val_aupr: 0.9631\n",
      "Epoch 24/100\n",
      "350/350 - 5s - loss: 0.0846 - auroc: 0.9866 - aupr: 0.9479 - val_loss: 0.0716 - val_auroc: 0.9906 - val_aupr: 0.9613\n",
      "Epoch 25/100\n",
      "350/350 - 5s - loss: 0.0841 - auroc: 0.9867 - aupr: 0.9489 - val_loss: 0.0708 - val_auroc: 0.9910 - val_aupr: 0.9621\n",
      "Epoch 26/100\n",
      "350/350 - 5s - loss: 0.0838 - auroc: 0.9868 - aupr: 0.9492 - val_loss: 0.0705 - val_auroc: 0.9915 - val_aupr: 0.9635\n",
      "Epoch 27/100\n",
      "350/350 - 5s - loss: 0.0830 - auroc: 0.9870 - aupr: 0.9498 - val_loss: 0.0714 - val_auroc: 0.9910 - val_aupr: 0.9623\n",
      "Epoch 28/100\n",
      "350/350 - 5s - loss: 0.0827 - auroc: 0.9872 - aupr: 0.9504 - val_loss: 0.0709 - val_auroc: 0.9912 - val_aupr: 0.9630\n",
      "Epoch 29/100\n",
      "350/350 - 5s - loss: 0.0821 - auroc: 0.9872 - aupr: 0.9508 - val_loss: 0.0698 - val_auroc: 0.9916 - val_aupr: 0.9636\n",
      "Epoch 30/100\n",
      "350/350 - 5s - loss: 0.0814 - auroc: 0.9875 - aupr: 0.9519 - val_loss: 0.0704 - val_auroc: 0.9910 - val_aupr: 0.9627\n",
      "Epoch 31/100\n",
      "350/350 - 5s - loss: 0.0809 - auroc: 0.9877 - aupr: 0.9523 - val_loss: 0.0701 - val_auroc: 0.9911 - val_aupr: 0.9635\n",
      "Epoch 32/100\n",
      "350/350 - 5s - loss: 0.0809 - auroc: 0.9876 - aupr: 0.9524 - val_loss: 0.0697 - val_auroc: 0.9918 - val_aupr: 0.9643\n",
      "Epoch 33/100\n",
      "350/350 - 5s - loss: 0.0800 - auroc: 0.9878 - aupr: 0.9532 - val_loss: 0.0685 - val_auroc: 0.9908 - val_aupr: 0.9645\n",
      "Epoch 34/100\n",
      "350/350 - 5s - loss: 0.0792 - auroc: 0.9881 - aupr: 0.9539 - val_loss: 0.0695 - val_auroc: 0.9914 - val_aupr: 0.9635\n",
      "Epoch 35/100\n",
      "350/350 - 5s - loss: 0.0786 - auroc: 0.9884 - aupr: 0.9546 - val_loss: 0.0701 - val_auroc: 0.9908 - val_aupr: 0.9635\n",
      "Epoch 36/100\n",
      "350/350 - 5s - loss: 0.0790 - auroc: 0.9879 - aupr: 0.9544 - val_loss: 0.0725 - val_auroc: 0.9905 - val_aupr: 0.9615\n",
      "Epoch 37/100\n",
      "350/350 - 5s - loss: 0.0788 - auroc: 0.9882 - aupr: 0.9547 - val_loss: 0.0690 - val_auroc: 0.9910 - val_aupr: 0.9645\n",
      "Epoch 38/100\n",
      "350/350 - 5s - loss: 0.0775 - auroc: 0.9886 - aupr: 0.9561 - val_loss: 0.0687 - val_auroc: 0.9913 - val_aupr: 0.9641\n",
      "Epoch 39/100\n",
      "350/350 - 5s - loss: 0.0780 - auroc: 0.9882 - aupr: 0.9556 - val_loss: 0.0694 - val_auroc: 0.9915 - val_aupr: 0.9640\n",
      "Epoch 40/100\n",
      "350/350 - 5s - loss: 0.0770 - auroc: 0.9887 - aupr: 0.9567 - val_loss: 0.0690 - val_auroc: 0.9914 - val_aupr: 0.9642\n",
      "Epoch 41/100\n",
      "350/350 - 5s - loss: 0.0771 - auroc: 0.9887 - aupr: 0.9562 - val_loss: 0.0696 - val_auroc: 0.9911 - val_aupr: 0.9640\n",
      "Epoch 42/100\n",
      "350/350 - 5s - loss: 0.0768 - auroc: 0.9888 - aupr: 0.9566 - val_loss: 0.0693 - val_auroc: 0.9915 - val_aupr: 0.9640\n",
      "Epoch 43/100\n",
      "\n",
      "Epoch 00043: ReduceLROnPlateau reducing learning rate to 0.00020000000949949026.\n",
      "350/350 - 5s - loss: 0.0767 - auroc: 0.9887 - aupr: 0.9571 - val_loss: 0.0693 - val_auroc: 0.9914 - val_aupr: 0.9637\n",
      "Epoch 44/100\n",
      "350/350 - 5s - loss: 0.0726 - auroc: 0.9899 - aupr: 0.9609 - val_loss: 0.0674 - val_auroc: 0.9919 - val_aupr: 0.9659\n",
      "Epoch 45/100\n",
      "350/350 - 5s - loss: 0.0722 - auroc: 0.9901 - aupr: 0.9613 - val_loss: 0.0671 - val_auroc: 0.9919 - val_aupr: 0.9659\n",
      "Epoch 46/100\n",
      "350/350 - 5s - loss: 0.0723 - auroc: 0.9899 - aupr: 0.9614 - val_loss: 0.0674 - val_auroc: 0.9915 - val_aupr: 0.9659\n",
      "Epoch 47/100\n",
      "350/350 - 5s - loss: 0.0717 - auroc: 0.9899 - aupr: 0.9618 - val_loss: 0.0673 - val_auroc: 0.9920 - val_aupr: 0.9661\n",
      "Epoch 48/100\n",
      "350/350 - 5s - loss: 0.0714 - auroc: 0.9901 - aupr: 0.9620 - val_loss: 0.0676 - val_auroc: 0.9917 - val_aupr: 0.9657\n",
      "Epoch 49/100\n",
      "350/350 - 5s - loss: 0.0713 - auroc: 0.9901 - aupr: 0.9623 - val_loss: 0.0680 - val_auroc: 0.9915 - val_aupr: 0.9654\n",
      "Epoch 50/100\n",
      "350/350 - 5s - loss: 0.0710 - auroc: 0.9902 - aupr: 0.9627 - val_loss: 0.0676 - val_auroc: 0.9916 - val_aupr: 0.9657\n",
      "Epoch 51/100\n",
      "350/350 - 5s - loss: 0.0710 - auroc: 0.9902 - aupr: 0.9626 - val_loss: 0.0675 - val_auroc: 0.9917 - val_aupr: 0.9660\n",
      "Epoch 52/100\n",
      "350/350 - 5s - loss: 0.0708 - auroc: 0.9902 - aupr: 0.9628 - val_loss: 0.0674 - val_auroc: 0.9920 - val_aupr: 0.9659\n",
      "Epoch 53/100\n",
      "350/350 - 5s - loss: 0.0707 - auroc: 0.9904 - aupr: 0.9630 - val_loss: 0.0674 - val_auroc: 0.9917 - val_aupr: 0.9658\n",
      "Epoch 54/100\n",
      "350/350 - 5s - loss: 0.0704 - auroc: 0.9903 - aupr: 0.9631 - val_loss: 0.0676 - val_auroc: 0.9918 - val_aupr: 0.9656\n",
      "Epoch 55/100\n",
      "\n",
      "Epoch 00055: ReduceLROnPlateau reducing learning rate to 4.0000001899898055e-05.\n",
      "350/350 - 5s - loss: 0.0705 - auroc: 0.9903 - aupr: 0.9632 - val_loss: 0.0678 - val_auroc: 0.9916 - val_aupr: 0.9651\n",
      "Epoch 56/100\n",
      "350/350 - 5s - loss: 0.0695 - auroc: 0.9906 - aupr: 0.9643 - val_loss: 0.0675 - val_auroc: 0.9918 - val_aupr: 0.9657\n",
      "Epoch 57/100\n",
      "350/350 - 5s - loss: 0.0695 - auroc: 0.9906 - aupr: 0.9640 - val_loss: 0.0674 - val_auroc: 0.9918 - val_aupr: 0.9658\n",
      "Epoch 58/100\n",
      "350/350 - 5s - loss: 0.0693 - auroc: 0.9905 - aupr: 0.9644 - val_loss: 0.0674 - val_auroc: 0.9917 - val_aupr: 0.9658\n",
      "Epoch 59/100\n",
      "350/350 - 5s - loss: 0.0692 - auroc: 0.9906 - aupr: 0.9644 - val_loss: 0.0675 - val_auroc: 0.9917 - val_aupr: 0.9657\n",
      "Epoch 60/100\n",
      "Restoring model weights from the end of the best epoch.\n",
      "350/350 - 5s - loss: 0.0692 - auroc: 0.9907 - aupr: 0.9646 - val_loss: 0.0675 - val_auroc: 0.9918 - val_aupr: 0.9658\n",
      "Epoch 00060: early stopping\n",
      "625/625 [==============================] - 1s 2ms/step - loss: 0.0675 - auroc: 0.9917 - aupr: 0.9653\n",
      "generated PPMs\n",
      "TomTom TPR:  0.96875\n",
      "TomTom FPR:  0.0\n",
      "Motif coverage:  1.0\n",
      "completed TomTom analysis\n",
      "completed clustering\n"
     ]
    },
    {
     "name": "stderr",
     "output_type": "stream",
     "text": [
      "/home/koolab/Documents/GLIFAC/Code/glifac.py:108: FutureWarning: Using a non-tuple sequence for multidimensional indexing is deprecated; use `arr[tuple(seq)]` instead of `arr[seq]`. In the future this will be interpreted as an array index, `arr[np.array(seq)]`, which will result either in an error or a different result.\n",
      "  filter_interactions = feature_maps[position_pairs].transpose([1, 2, 0])\n",
      "/home/koolab/Documents/GLIFAC/Code/glifac.py:46: FutureWarning: Using a non-tuple sequence for multidimensional indexing is deprecated; use `arr[tuple(seq)]` instead of `arr[seq]`. In the future this will be interpreted as an array index, `arr[np.array(seq)]`, which will result either in an error or a different result.\n",
      "  filter_interactions_values = correlation_matrix[ind.transpose().tolist()]\n"
     ]
    },
    {
     "name": "stdout",
     "output_type": "stream",
     "text": [
      "0.0  | AUROC: 0.9229041490149843  | AUPR: 0.9923701298701298  | SNR: 2.214005948128148\n"
     ]
    },
    {
     "name": "stderr",
     "output_type": "stream",
     "text": [
      "/home/koolab/Documents/GLIFAC/Code/glifac.py:108: FutureWarning: Using a non-tuple sequence for multidimensional indexing is deprecated; use `arr[tuple(seq)]` instead of `arr[seq]`. In the future this will be interpreted as an array index, `arr[np.array(seq)]`, which will result either in an error or a different result.\n",
      "  filter_interactions = feature_maps[position_pairs].transpose([1, 2, 0])\n",
      "/home/koolab/Documents/GLIFAC/Code/glifac.py:28: RuntimeWarning: invalid value encountered in float_scalars\n",
      "  return top/bottom\n",
      "/home/koolab/Documents/GLIFAC/Code/glifac.py:46: FutureWarning: Using a non-tuple sequence for multidimensional indexing is deprecated; use `arr[tuple(seq)]` instead of `arr[seq]`. In the future this will be interpreted as an array index, `arr[np.array(seq)]`, which will result either in an error or a different result.\n",
      "  filter_interactions_values = correlation_matrix[ind.transpose().tolist()]\n"
     ]
    },
    {
     "name": "stdout",
     "output_type": "stream",
     "text": [
      "0.1  | AUROC: 0.37706222105095955  | AUPR: 0.7696428571428573  | SNR: 1.61584548824091\n"
     ]
    },
    {
     "name": "stderr",
     "output_type": "stream",
     "text": [
      "/home/koolab/Documents/GLIFAC/Code/glifac.py:108: FutureWarning: Using a non-tuple sequence for multidimensional indexing is deprecated; use `arr[tuple(seq)]` instead of `arr[seq]`. In the future this will be interpreted as an array index, `arr[np.array(seq)]`, which will result either in an error or a different result.\n",
      "  filter_interactions = feature_maps[position_pairs].transpose([1, 2, 0])\n",
      "/home/koolab/Documents/GLIFAC/Code/glifac.py:28: RuntimeWarning: invalid value encountered in float_scalars\n",
      "  return top/bottom\n",
      "/home/koolab/Documents/GLIFAC/Code/glifac.py:46: FutureWarning: Using a non-tuple sequence for multidimensional indexing is deprecated; use `arr[tuple(seq)]` instead of `arr[seq]`. In the future this will be interpreted as an array index, `arr[np.array(seq)]`, which will result either in an error or a different result.\n",
      "  filter_interactions_values = correlation_matrix[ind.transpose().tolist()]\n"
     ]
    },
    {
     "name": "stdout",
     "output_type": "stream",
     "text": [
      "0.2  | AUROC: 0.41108491622473825  | AUPR: 0.7864042207792208  | SNR: 2.1432454312549334\n"
     ]
    },
    {
     "name": "stderr",
     "output_type": "stream",
     "text": [
      "/home/koolab/Documents/GLIFAC/Code/glifac.py:108: FutureWarning: Using a non-tuple sequence for multidimensional indexing is deprecated; use `arr[tuple(seq)]` instead of `arr[seq]`. In the future this will be interpreted as an array index, `arr[np.array(seq)]`, which will result either in an error or a different result.\n",
      "  filter_interactions = feature_maps[position_pairs].transpose([1, 2, 0])\n",
      "/home/koolab/Documents/GLIFAC/Code/glifac.py:28: RuntimeWarning: invalid value encountered in float_scalars\n",
      "  return top/bottom\n",
      "/home/koolab/Documents/GLIFAC/Code/glifac.py:46: FutureWarning: Using a non-tuple sequence for multidimensional indexing is deprecated; use `arr[tuple(seq)]` instead of `arr[seq]`. In the future this will be interpreted as an array index, `arr[np.array(seq)]`, which will result either in an error or a different result.\n",
      "  filter_interactions_values = correlation_matrix[ind.transpose().tolist()]\n"
     ]
    },
    {
     "name": "stdout",
     "output_type": "stream",
     "text": [
      "0.3  | AUROC: 0.3922976553925572  | AUPR: 0.7237418831168831  | SNR: 2.346324008361943\n"
     ]
    },
    {
     "name": "stderr",
     "output_type": "stream",
     "text": [
      "/home/koolab/Documents/GLIFAC/Code/glifac.py:108: FutureWarning: Using a non-tuple sequence for multidimensional indexing is deprecated; use `arr[tuple(seq)]` instead of `arr[seq]`. In the future this will be interpreted as an array index, `arr[np.array(seq)]`, which will result either in an error or a different result.\n",
      "  filter_interactions = feature_maps[position_pairs].transpose([1, 2, 0])\n",
      "/home/koolab/Documents/GLIFAC/Code/glifac.py:28: RuntimeWarning: invalid value encountered in float_scalars\n",
      "  return top/bottom\n",
      "/home/koolab/Documents/GLIFAC/Code/glifac.py:46: FutureWarning: Using a non-tuple sequence for multidimensional indexing is deprecated; use `arr[tuple(seq)]` instead of `arr[seq]`. In the future this will be interpreted as an array index, `arr[np.array(seq)]`, which will result either in an error or a different result.\n",
      "  filter_interactions_values = correlation_matrix[ind.transpose().tolist()]\n"
     ]
    },
    {
     "name": "stdout",
     "output_type": "stream",
     "text": [
      "0.4  | AUROC: 0.3813923452689749  | AUPR: 0.7294237012987013  | SNR: 2.2125941403794203\n"
     ]
    },
    {
     "name": "stderr",
     "output_type": "stream",
     "text": [
      "/home/koolab/Documents/GLIFAC/Code/glifac.py:108: FutureWarning: Using a non-tuple sequence for multidimensional indexing is deprecated; use `arr[tuple(seq)]` instead of `arr[seq]`. In the future this will be interpreted as an array index, `arr[np.array(seq)]`, which will result either in an error or a different result.\n",
      "  filter_interactions = feature_maps[position_pairs].transpose([1, 2, 0])\n",
      "/home/koolab/Documents/GLIFAC/Code/glifac.py:28: RuntimeWarning: invalid value encountered in float_scalars\n",
      "  return top/bottom\n",
      "/home/koolab/Documents/GLIFAC/Code/glifac.py:46: FutureWarning: Using a non-tuple sequence for multidimensional indexing is deprecated; use `arr[tuple(seq)]` instead of `arr[seq]`. In the future this will be interpreted as an array index, `arr[np.array(seq)]`, which will result either in an error or a different result.\n",
      "  filter_interactions_values = correlation_matrix[ind.transpose().tolist()]\n"
     ]
    },
    {
     "name": "stdout",
     "output_type": "stream",
     "text": [
      "0.5  | AUROC: 0.37142340210569313  | AUPR: 0.7049107142857143  | SNR: 2.2284680763552216\n"
     ]
    },
    {
     "name": "stderr",
     "output_type": "stream",
     "text": [
      "/home/koolab/Documents/GLIFAC/Code/glifac.py:108: FutureWarning: Using a non-tuple sequence for multidimensional indexing is deprecated; use `arr[tuple(seq)]` instead of `arr[seq]`. In the future this will be interpreted as an array index, `arr[np.array(seq)]`, which will result either in an error or a different result.\n",
      "  filter_interactions = feature_maps[position_pairs].transpose([1, 2, 0])\n",
      "/home/koolab/Documents/GLIFAC/Code/glifac.py:28: RuntimeWarning: invalid value encountered in float_scalars\n",
      "  return top/bottom\n",
      "/home/koolab/Documents/GLIFAC/Code/glifac.py:46: FutureWarning: Using a non-tuple sequence for multidimensional indexing is deprecated; use `arr[tuple(seq)]` instead of `arr[seq]`. In the future this will be interpreted as an array index, `arr[np.array(seq)]`, which will result either in an error or a different result.\n",
      "  filter_interactions_values = correlation_matrix[ind.transpose().tolist()]\n"
     ]
    },
    {
     "name": "stdout",
     "output_type": "stream",
     "text": [
      "0.6  | AUROC: 0.22810263091534666  | AUPR: 0.644724025974026  | SNR: 1.3447954798169066\n"
     ]
    },
    {
     "name": "stderr",
     "output_type": "stream",
     "text": [
      "/home/koolab/Documents/GLIFAC/Code/glifac.py:108: FutureWarning: Using a non-tuple sequence for multidimensional indexing is deprecated; use `arr[tuple(seq)]` instead of `arr[seq]`. In the future this will be interpreted as an array index, `arr[np.array(seq)]`, which will result either in an error or a different result.\n",
      "  filter_interactions = feature_maps[position_pairs].transpose([1, 2, 0])\n",
      "/home/koolab/Documents/GLIFAC/Code/glifac.py:28: RuntimeWarning: invalid value encountered in float_scalars\n",
      "  return top/bottom\n",
      "/home/koolab/Documents/GLIFAC/Code/glifac.py:46: FutureWarning: Using a non-tuple sequence for multidimensional indexing is deprecated; use `arr[tuple(seq)]` instead of `arr[seq]`. In the future this will be interpreted as an array index, `arr[np.array(seq)]`, which will result either in an error or a different result.\n",
      "  filter_interactions_values = correlation_matrix[ind.transpose().tolist()]\n"
     ]
    },
    {
     "name": "stdout",
     "output_type": "stream",
     "text": [
      "0.7  | AUROC: 0.19728560245204751  | AUPR: 0.6317775974025974  | SNR: 1.0523252922910182\n"
     ]
    },
    {
     "name": "stderr",
     "output_type": "stream",
     "text": [
      "/home/koolab/Documents/GLIFAC/Code/glifac.py:108: FutureWarning: Using a non-tuple sequence for multidimensional indexing is deprecated; use `arr[tuple(seq)]` instead of `arr[seq]`. In the future this will be interpreted as an array index, `arr[np.array(seq)]`, which will result either in an error or a different result.\n",
      "  filter_interactions = feature_maps[position_pairs].transpose([1, 2, 0])\n",
      "/home/koolab/Documents/GLIFAC/Code/glifac.py:28: RuntimeWarning: invalid value encountered in float_scalars\n",
      "  return top/bottom\n",
      "/home/koolab/Documents/GLIFAC/Code/glifac.py:46: FutureWarning: Using a non-tuple sequence for multidimensional indexing is deprecated; use `arr[tuple(seq)]` instead of `arr[seq]`. In the future this will be interpreted as an array index, `arr[np.array(seq)]`, which will result either in an error or a different result.\n",
      "  filter_interactions_values = correlation_matrix[ind.transpose().tolist()]\n"
     ]
    },
    {
     "name": "stdout",
     "output_type": "stream",
     "text": [
      "0.8  | AUROC: 0.17569709554156263  | AUPR: 0.5862418831168832  | SNR: 0.8759172287589273\n"
     ]
    },
    {
     "name": "stderr",
     "output_type": "stream",
     "text": [
      "/home/koolab/Documents/GLIFAC/Code/glifac.py:108: FutureWarning: Using a non-tuple sequence for multidimensional indexing is deprecated; use `arr[tuple(seq)]` instead of `arr[seq]`. In the future this will be interpreted as an array index, `arr[np.array(seq)]`, which will result either in an error or a different result.\n",
      "  filter_interactions = feature_maps[position_pairs].transpose([1, 2, 0])\n",
      "/home/koolab/Documents/GLIFAC/Code/glifac.py:28: RuntimeWarning: invalid value encountered in float_scalars\n",
      "  return top/bottom\n",
      "/home/koolab/Documents/GLIFAC/Code/glifac.py:46: FutureWarning: Using a non-tuple sequence for multidimensional indexing is deprecated; use `arr[tuple(seq)]` instead of `arr[seq]`. In the future this will be interpreted as an array index, `arr[np.array(seq)]`, which will result either in an error or a different result.\n",
      "  filter_interactions_values = correlation_matrix[ind.transpose().tolist()]\n"
     ]
    },
    {
     "name": "stdout",
     "output_type": "stream",
     "text": [
      "0.9  | AUROC: 0.18828680069415188  | AUPR: 0.6262987012987012  | SNR: 0.5643107991702816\n",
      "finished correlation interpretability\n",
      "saved statistics\n",
      "saved filters\n"
     ]
    },
    {
     "name": "stderr",
     "output_type": "stream",
     "text": [
      "/home/koolab/Documents/GLIFAC/Code/glifac_pipeline.py:297: MatplotlibDeprecationWarning: savefig() got unexpected keyword argument \"box_inches\" which is no longer supported as of 3.3 and will become an error two minor releases later\n",
      "  fig.savefig(glifac_dir, format='pdf', dpi=300, box_inches='tight')\n"
     ]
    },
    {
     "name": "stdout",
     "output_type": "stream",
     "text": [
      "saved glifac\n",
      "Epoch 1/100\n",
      "350/350 - 5s - loss: 0.2887 - auroc: 0.8460 - aupr: 0.5686 - val_loss: 0.2370 - val_auroc: 0.9696 - val_aupr: 0.8752\n",
      "Epoch 2/100\n",
      "350/350 - 5s - loss: 0.1336 - auroc: 0.9684 - aupr: 0.8872 - val_loss: 0.1233 - val_auroc: 0.9739 - val_aupr: 0.9025\n",
      "Epoch 3/100\n",
      "350/350 - 5s - loss: 0.1147 - auroc: 0.9756 - aupr: 0.9124 - val_loss: 0.0892 - val_auroc: 0.9845 - val_aupr: 0.9433\n",
      "Epoch 4/100\n",
      "350/350 - 5s - loss: 0.1062 - auroc: 0.9795 - aupr: 0.9225 - val_loss: 0.0879 - val_auroc: 0.9869 - val_aupr: 0.9456\n",
      "Epoch 5/100\n",
      "350/350 - 5s - loss: 0.1026 - auroc: 0.9803 - aupr: 0.9262 - val_loss: 0.0921 - val_auroc: 0.9840 - val_aupr: 0.9405\n",
      "Epoch 6/100\n",
      "350/350 - 5s - loss: 0.1005 - auroc: 0.9808 - aupr: 0.9285 - val_loss: 0.0859 - val_auroc: 0.9901 - val_aupr: 0.9510\n",
      "Epoch 7/100\n",
      "350/350 - 5s - loss: 0.0992 - auroc: 0.9813 - aupr: 0.9301 - val_loss: 0.0785 - val_auroc: 0.9889 - val_aupr: 0.9532\n",
      "Epoch 8/100\n",
      "350/350 - 5s - loss: 0.0985 - auroc: 0.9816 - aupr: 0.9312 - val_loss: 0.0834 - val_auroc: 0.9856 - val_aupr: 0.9512\n",
      "Epoch 9/100\n",
      "350/350 - 5s - loss: 0.0972 - auroc: 0.9823 - aupr: 0.9321 - val_loss: 0.0753 - val_auroc: 0.9908 - val_aupr: 0.9582\n",
      "Epoch 10/100\n",
      "350/350 - 5s - loss: 0.0968 - auroc: 0.9823 - aupr: 0.9329 - val_loss: 0.0760 - val_auroc: 0.9899 - val_aupr: 0.9568\n",
      "Epoch 11/100\n",
      "350/350 - 5s - loss: 0.0962 - auroc: 0.9822 - aupr: 0.9333 - val_loss: 0.0789 - val_auroc: 0.9901 - val_aupr: 0.9530\n",
      "Epoch 12/100\n",
      "350/350 - 5s - loss: 0.0953 - auroc: 0.9827 - aupr: 0.9348 - val_loss: 0.0764 - val_auroc: 0.9895 - val_aupr: 0.9563\n",
      "Epoch 13/100\n",
      "350/350 - 5s - loss: 0.0957 - auroc: 0.9822 - aupr: 0.9342 - val_loss: 0.0757 - val_auroc: 0.9905 - val_aupr: 0.9573\n",
      "Epoch 14/100\n",
      "350/350 - 5s - loss: 0.0949 - auroc: 0.9827 - aupr: 0.9353 - val_loss: 0.0763 - val_auroc: 0.9903 - val_aupr: 0.9591\n",
      "Epoch 15/100\n",
      "350/350 - 5s - loss: 0.0942 - auroc: 0.9832 - aupr: 0.9355 - val_loss: 0.0739 - val_auroc: 0.9908 - val_aupr: 0.9582\n",
      "Epoch 16/100\n",
      "350/350 - 5s - loss: 0.0936 - auroc: 0.9833 - aupr: 0.9367 - val_loss: 0.0742 - val_auroc: 0.9905 - val_aupr: 0.9593\n",
      "Epoch 17/100\n",
      "350/350 - 5s - loss: 0.0936 - auroc: 0.9832 - aupr: 0.9365 - val_loss: 0.0726 - val_auroc: 0.9909 - val_aupr: 0.9597\n",
      "Epoch 18/100\n",
      "350/350 - 5s - loss: 0.0931 - auroc: 0.9833 - aupr: 0.9377 - val_loss: 0.0752 - val_auroc: 0.9898 - val_aupr: 0.9576\n",
      "Epoch 19/100\n",
      "350/350 - 5s - loss: 0.0917 - auroc: 0.9839 - aupr: 0.9393 - val_loss: 0.0748 - val_auroc: 0.9909 - val_aupr: 0.9586\n",
      "Epoch 20/100\n",
      "350/350 - 5s - loss: 0.0897 - auroc: 0.9849 - aupr: 0.9418 - val_loss: 0.0723 - val_auroc: 0.9907 - val_aupr: 0.9613\n",
      "Epoch 21/100\n",
      "350/350 - 5s - loss: 0.0880 - auroc: 0.9852 - aupr: 0.9438 - val_loss: 0.0729 - val_auroc: 0.9906 - val_aupr: 0.9605\n",
      "Epoch 22/100\n",
      "350/350 - 5s - loss: 0.0874 - auroc: 0.9856 - aupr: 0.9443 - val_loss: 0.0730 - val_auroc: 0.9903 - val_aupr: 0.9608\n",
      "Epoch 23/100\n",
      "350/350 - 5s - loss: 0.0868 - auroc: 0.9858 - aupr: 0.9446 - val_loss: 0.0757 - val_auroc: 0.9910 - val_aupr: 0.9598\n",
      "Epoch 24/100\n",
      "350/350 - 5s - loss: 0.0868 - auroc: 0.9858 - aupr: 0.9443 - val_loss: 0.0724 - val_auroc: 0.9909 - val_aupr: 0.9611\n",
      "Epoch 25/100\n",
      "350/350 - 5s - loss: 0.0861 - auroc: 0.9860 - aupr: 0.9452 - val_loss: 0.0722 - val_auroc: 0.9910 - val_aupr: 0.9613\n",
      "Epoch 26/100\n",
      "350/350 - 5s - loss: 0.0863 - auroc: 0.9859 - aupr: 0.9455 - val_loss: 0.0725 - val_auroc: 0.9910 - val_aupr: 0.9612\n",
      "Epoch 27/100\n",
      "350/350 - 5s - loss: 0.0857 - auroc: 0.9860 - aupr: 0.9457 - val_loss: 0.0726 - val_auroc: 0.9907 - val_aupr: 0.9608\n",
      "Epoch 28/100\n",
      "350/350 - 5s - loss: 0.0845 - auroc: 0.9865 - aupr: 0.9473 - val_loss: 0.0719 - val_auroc: 0.9910 - val_aupr: 0.9608\n",
      "Epoch 29/100\n",
      "350/350 - 5s - loss: 0.0851 - auroc: 0.9863 - aupr: 0.9469 - val_loss: 0.0718 - val_auroc: 0.9910 - val_aupr: 0.9616\n",
      "Epoch 30/100\n",
      "350/350 - 5s - loss: 0.0850 - auroc: 0.9862 - aupr: 0.9470 - val_loss: 0.0726 - val_auroc: 0.9908 - val_aupr: 0.9607\n",
      "Epoch 31/100\n",
      "350/350 - 5s - loss: 0.0843 - auroc: 0.9865 - aupr: 0.9481 - val_loss: 0.0715 - val_auroc: 0.9909 - val_aupr: 0.9620\n",
      "Epoch 32/100\n",
      "350/350 - 5s - loss: 0.0837 - auroc: 0.9867 - aupr: 0.9484 - val_loss: 0.0721 - val_auroc: 0.9913 - val_aupr: 0.9623\n",
      "Epoch 33/100\n",
      "350/350 - 5s - loss: 0.0833 - auroc: 0.9867 - aupr: 0.9488 - val_loss: 0.0726 - val_auroc: 0.9912 - val_aupr: 0.9601\n",
      "Epoch 34/100\n",
      "350/350 - 5s - loss: 0.0825 - auroc: 0.9870 - aupr: 0.9499 - val_loss: 0.0704 - val_auroc: 0.9914 - val_aupr: 0.9629\n",
      "Epoch 35/100\n",
      "350/350 - 5s - loss: 0.0815 - auroc: 0.9874 - aupr: 0.9507 - val_loss: 0.0727 - val_auroc: 0.9909 - val_aupr: 0.9618\n",
      "Epoch 36/100\n",
      "350/350 - 5s - loss: 0.0819 - auroc: 0.9872 - aupr: 0.9505 - val_loss: 0.0698 - val_auroc: 0.9918 - val_aupr: 0.9633\n",
      "Epoch 37/100\n",
      "350/350 - 5s - loss: 0.0823 - auroc: 0.9869 - aupr: 0.9503 - val_loss: 0.0713 - val_auroc: 0.9913 - val_aupr: 0.9621\n",
      "Epoch 38/100\n",
      "350/350 - 5s - loss: 0.0812 - auroc: 0.9872 - aupr: 0.9512 - val_loss: 0.0712 - val_auroc: 0.9907 - val_aupr: 0.9619\n",
      "Epoch 39/100\n",
      "350/350 - 5s - loss: 0.0811 - auroc: 0.9875 - aupr: 0.9513 - val_loss: 0.0703 - val_auroc: 0.9911 - val_aupr: 0.9635\n",
      "Epoch 40/100\n",
      "350/350 - 5s - loss: 0.0810 - auroc: 0.9873 - aupr: 0.9513 - val_loss: 0.0700 - val_auroc: 0.9917 - val_aupr: 0.9634\n",
      "Epoch 41/100\n",
      "350/350 - 5s - loss: 0.0802 - auroc: 0.9875 - aupr: 0.9524 - val_loss: 0.0709 - val_auroc: 0.9915 - val_aupr: 0.9623\n",
      "Epoch 42/100\n",
      "350/350 - 5s - loss: 0.0795 - auroc: 0.9878 - aupr: 0.9532 - val_loss: 0.0710 - val_auroc: 0.9911 - val_aupr: 0.9621\n",
      "Epoch 43/100\n",
      "350/350 - 5s - loss: 0.0799 - auroc: 0.9876 - aupr: 0.9526 - val_loss: 0.0710 - val_auroc: 0.9912 - val_aupr: 0.9625\n",
      "Epoch 44/100\n",
      "350/350 - 5s - loss: 0.0797 - auroc: 0.9875 - aupr: 0.9529 - val_loss: 0.0713 - val_auroc: 0.9904 - val_aupr: 0.9624\n",
      "Epoch 45/100\n",
      "350/350 - 5s - loss: 0.0787 - auroc: 0.9880 - aupr: 0.9542 - val_loss: 0.0699 - val_auroc: 0.9917 - val_aupr: 0.9639\n",
      "Epoch 46/100\n",
      "\n",
      "Epoch 00046: ReduceLROnPlateau reducing learning rate to 0.00020000000949949026.\n",
      "350/350 - 5s - loss: 0.0791 - auroc: 0.9880 - aupr: 0.9541 - val_loss: 0.0712 - val_auroc: 0.9913 - val_aupr: 0.9627\n",
      "Epoch 47/100\n",
      "350/350 - 5s - loss: 0.0756 - auroc: 0.9890 - aupr: 0.9571 - val_loss: 0.0688 - val_auroc: 0.9918 - val_aupr: 0.9649\n",
      "Epoch 48/100\n",
      "350/350 - 5s - loss: 0.0745 - auroc: 0.9894 - aupr: 0.9584 - val_loss: 0.0686 - val_auroc: 0.9918 - val_aupr: 0.9651\n",
      "Epoch 49/100\n",
      "350/350 - 5s - loss: 0.0746 - auroc: 0.9893 - aupr: 0.9583 - val_loss: 0.0685 - val_auroc: 0.9919 - val_aupr: 0.9652\n",
      "Epoch 50/100\n",
      "350/350 - 5s - loss: 0.0744 - auroc: 0.9891 - aupr: 0.9589 - val_loss: 0.0686 - val_auroc: 0.9919 - val_aupr: 0.9649\n",
      "Epoch 51/100\n",
      "350/350 - 5s - loss: 0.0742 - auroc: 0.9893 - aupr: 0.9586 - val_loss: 0.0689 - val_auroc: 0.9919 - val_aupr: 0.9648\n",
      "Epoch 52/100\n",
      "350/350 - 5s - loss: 0.0737 - auroc: 0.9895 - aupr: 0.9597 - val_loss: 0.0689 - val_auroc: 0.9917 - val_aupr: 0.9648\n",
      "Epoch 53/100\n",
      "350/350 - 5s - loss: 0.0737 - auroc: 0.9894 - aupr: 0.9594 - val_loss: 0.0686 - val_auroc: 0.9919 - val_aupr: 0.9651\n",
      "Epoch 54/100\n",
      "350/350 - 5s - loss: 0.0735 - auroc: 0.9894 - aupr: 0.9594 - val_loss: 0.0687 - val_auroc: 0.9918 - val_aupr: 0.9649\n",
      "Epoch 55/100\n",
      "350/350 - 5s - loss: 0.0735 - auroc: 0.9893 - aupr: 0.9594 - val_loss: 0.0688 - val_auroc: 0.9918 - val_aupr: 0.9646\n",
      "Epoch 56/100\n",
      "350/350 - 5s - loss: 0.0728 - auroc: 0.9898 - aupr: 0.9603 - val_loss: 0.0692 - val_auroc: 0.9916 - val_aupr: 0.9646\n",
      "Epoch 57/100\n",
      "350/350 - 5s - loss: 0.0738 - auroc: 0.9892 - aupr: 0.9593 - val_loss: 0.0691 - val_auroc: 0.9917 - val_aupr: 0.9646\n",
      "Epoch 58/100\n",
      "\n",
      "Epoch 00058: ReduceLROnPlateau reducing learning rate to 4.0000001899898055e-05.\n",
      "350/350 - 5s - loss: 0.0730 - auroc: 0.9896 - aupr: 0.9600 - val_loss: 0.0689 - val_auroc: 0.9919 - val_aupr: 0.9648\n",
      "Epoch 59/100\n",
      "350/350 - 5s - loss: 0.0725 - auroc: 0.9897 - aupr: 0.9607 - val_loss: 0.0687 - val_auroc: 0.9918 - val_aupr: 0.9649\n",
      "Epoch 60/100\n",
      "350/350 - 5s - loss: 0.0719 - auroc: 0.9898 - aupr: 0.9612 - val_loss: 0.0686 - val_auroc: 0.9917 - val_aupr: 0.9649\n",
      "Epoch 61/100\n",
      "350/350 - 5s - loss: 0.0725 - auroc: 0.9895 - aupr: 0.9606 - val_loss: 0.0688 - val_auroc: 0.9918 - val_aupr: 0.9649\n",
      "Epoch 62/100\n",
      "350/350 - 5s - loss: 0.0725 - auroc: 0.9896 - aupr: 0.9603 - val_loss: 0.0688 - val_auroc: 0.9917 - val_aupr: 0.9648\n"
     ]
    },
    {
     "name": "stdout",
     "output_type": "stream",
     "text": [
      "Epoch 63/100\n",
      "350/350 - 5s - loss: 0.0724 - auroc: 0.9897 - aupr: 0.9608 - val_loss: 0.0687 - val_auroc: 0.9918 - val_aupr: 0.9649\n",
      "Epoch 64/100\n",
      "Restoring model weights from the end of the best epoch.\n",
      "350/350 - 5s - loss: 0.0720 - auroc: 0.9896 - aupr: 0.9613 - val_loss: 0.0687 - val_auroc: 0.9917 - val_aupr: 0.9648\n",
      "Epoch 00064: early stopping\n",
      "625/625 [==============================] - 1s 2ms/step - loss: 0.0684 - auroc: 0.9915 - aupr: 0.9646\n",
      "generated PPMs\n",
      "TomTom TPR:  0.9375\n",
      "TomTom FPR:  0.0\n",
      "Motif coverage:  1.0\n",
      "completed TomTom analysis\n",
      "completed clustering\n"
     ]
    },
    {
     "name": "stderr",
     "output_type": "stream",
     "text": [
      "/home/koolab/Documents/GLIFAC/Code/glifac.py:108: FutureWarning: Using a non-tuple sequence for multidimensional indexing is deprecated; use `arr[tuple(seq)]` instead of `arr[seq]`. In the future this will be interpreted as an array index, `arr[np.array(seq)]`, which will result either in an error or a different result.\n",
      "  filter_interactions = feature_maps[position_pairs].transpose([1, 2, 0])\n",
      "/home/koolab/Documents/GLIFAC/Code/glifac.py:46: FutureWarning: Using a non-tuple sequence for multidimensional indexing is deprecated; use `arr[tuple(seq)]` instead of `arr[seq]`. In the future this will be interpreted as an array index, `arr[np.array(seq)]`, which will result either in an error or a different result.\n",
      "  filter_interactions_values = correlation_matrix[ind.transpose().tolist()]\n"
     ]
    },
    {
     "name": "stdout",
     "output_type": "stream",
     "text": [
      "0.0  | AUROC: 0.9730855843472348  | AUPR: 0.9984407484407485  | SNR: 2.6773731281824045\n"
     ]
    },
    {
     "name": "stderr",
     "output_type": "stream",
     "text": [
      "/home/koolab/Documents/GLIFAC/Code/glifac.py:108: FutureWarning: Using a non-tuple sequence for multidimensional indexing is deprecated; use `arr[tuple(seq)]` instead of `arr[seq]`. In the future this will be interpreted as an array index, `arr[np.array(seq)]`, which will result either in an error or a different result.\n",
      "  filter_interactions = feature_maps[position_pairs].transpose([1, 2, 0])\n",
      "/home/koolab/Documents/GLIFAC/Code/glifac.py:46: FutureWarning: Using a non-tuple sequence for multidimensional indexing is deprecated; use `arr[tuple(seq)]` instead of `arr[seq]`. In the future this will be interpreted as an array index, `arr[np.array(seq)]`, which will result either in an error or a different result.\n",
      "  filter_interactions_values = correlation_matrix[ind.transpose().tolist()]\n"
     ]
    },
    {
     "name": "stdout",
     "output_type": "stream",
     "text": [
      "0.1  | AUROC: 0.06204090742740766  | AUPR: 0.43936243936243935  | SNR: 0.2765004732692637\n"
     ]
    },
    {
     "name": "stderr",
     "output_type": "stream",
     "text": [
      "/home/koolab/Documents/GLIFAC/Code/glifac.py:108: FutureWarning: Using a non-tuple sequence for multidimensional indexing is deprecated; use `arr[tuple(seq)]` instead of `arr[seq]`. In the future this will be interpreted as an array index, `arr[np.array(seq)]`, which will result either in an error or a different result.\n",
      "  filter_interactions = feature_maps[position_pairs].transpose([1, 2, 0])\n",
      "/home/koolab/Documents/GLIFAC/Code/glifac.py:28: RuntimeWarning: invalid value encountered in float_scalars\n",
      "  return top/bottom\n",
      "/home/koolab/Documents/GLIFAC/Code/glifac.py:46: FutureWarning: Using a non-tuple sequence for multidimensional indexing is deprecated; use `arr[tuple(seq)]` instead of `arr[seq]`. In the future this will be interpreted as an array index, `arr[np.array(seq)]`, which will result either in an error or a different result.\n",
      "  filter_interactions_values = correlation_matrix[ind.transpose().tolist()]\n"
     ]
    },
    {
     "name": "stdout",
     "output_type": "stream",
     "text": [
      "0.2  | AUROC: 0.10620576339676728  | AUPR: 0.6041233541233542  | SNR: 0.5571041794601211\n"
     ]
    },
    {
     "name": "stderr",
     "output_type": "stream",
     "text": [
      "/home/koolab/Documents/GLIFAC/Code/glifac.py:108: FutureWarning: Using a non-tuple sequence for multidimensional indexing is deprecated; use `arr[tuple(seq)]` instead of `arr[seq]`. In the future this will be interpreted as an array index, `arr[np.array(seq)]`, which will result either in an error or a different result.\n",
      "  filter_interactions = feature_maps[position_pairs].transpose([1, 2, 0])\n",
      "/home/koolab/Documents/GLIFAC/Code/glifac.py:28: RuntimeWarning: invalid value encountered in float_scalars\n",
      "  return top/bottom\n",
      "/home/koolab/Documents/GLIFAC/Code/glifac.py:46: FutureWarning: Using a non-tuple sequence for multidimensional indexing is deprecated; use `arr[tuple(seq)]` instead of `arr[seq]`. In the future this will be interpreted as an array index, `arr[np.array(seq)]`, which will result either in an error or a different result.\n",
      "  filter_interactions_values = correlation_matrix[ind.transpose().tolist()]\n"
     ]
    },
    {
     "name": "stdout",
     "output_type": "stream",
     "text": [
      "0.3  | AUROC: 0.1177215665882174  | AUPR: 0.6547124047124048  | SNR: 0.6089532125532359\n"
     ]
    },
    {
     "name": "stderr",
     "output_type": "stream",
     "text": [
      "/home/koolab/Documents/GLIFAC/Code/glifac.py:108: FutureWarning: Using a non-tuple sequence for multidimensional indexing is deprecated; use `arr[tuple(seq)]` instead of `arr[seq]`. In the future this will be interpreted as an array index, `arr[np.array(seq)]`, which will result either in an error or a different result.\n",
      "  filter_interactions = feature_maps[position_pairs].transpose([1, 2, 0])\n",
      "/home/koolab/Documents/GLIFAC/Code/glifac.py:28: RuntimeWarning: invalid value encountered in float_scalars\n",
      "  return top/bottom\n",
      "/home/koolab/Documents/GLIFAC/Code/glifac.py:46: FutureWarning: Using a non-tuple sequence for multidimensional indexing is deprecated; use `arr[tuple(seq)]` instead of `arr[seq]`. In the future this will be interpreted as an array index, `arr[np.array(seq)]`, which will result either in an error or a different result.\n",
      "  filter_interactions_values = correlation_matrix[ind.transpose().tolist()]\n"
     ]
    },
    {
     "name": "stdout",
     "output_type": "stream",
     "text": [
      "0.4  | AUROC: 0.12791107558261147  | AUPR: 0.5663548163548163  | SNR: 0.6168911008834079\n"
     ]
    },
    {
     "name": "stderr",
     "output_type": "stream",
     "text": [
      "/home/koolab/Documents/GLIFAC/Code/glifac.py:108: FutureWarning: Using a non-tuple sequence for multidimensional indexing is deprecated; use `arr[tuple(seq)]` instead of `arr[seq]`. In the future this will be interpreted as an array index, `arr[np.array(seq)]`, which will result either in an error or a different result.\n",
      "  filter_interactions = feature_maps[position_pairs].transpose([1, 2, 0])\n",
      "/home/koolab/Documents/GLIFAC/Code/glifac.py:28: RuntimeWarning: invalid value encountered in float_scalars\n",
      "  return top/bottom\n",
      "/home/koolab/Documents/GLIFAC/Code/glifac.py:46: FutureWarning: Using a non-tuple sequence for multidimensional indexing is deprecated; use `arr[tuple(seq)]` instead of `arr[seq]`. In the future this will be interpreted as an array index, `arr[np.array(seq)]`, which will result either in an error or a different result.\n",
      "  filter_interactions_values = correlation_matrix[ind.transpose().tolist()]\n"
     ]
    },
    {
     "name": "stdout",
     "output_type": "stream",
     "text": [
      "0.5  | AUROC: 0.10557599953560984  | AUPR: 0.5115211365211366  | SNR: 0.5373479135948016\n"
     ]
    },
    {
     "name": "stderr",
     "output_type": "stream",
     "text": [
      "/home/koolab/Documents/GLIFAC/Code/glifac.py:108: FutureWarning: Using a non-tuple sequence for multidimensional indexing is deprecated; use `arr[tuple(seq)]` instead of `arr[seq]`. In the future this will be interpreted as an array index, `arr[np.array(seq)]`, which will result either in an error or a different result.\n",
      "  filter_interactions = feature_maps[position_pairs].transpose([1, 2, 0])\n",
      "/home/koolab/Documents/GLIFAC/Code/glifac.py:28: RuntimeWarning: invalid value encountered in float_scalars\n",
      "  return top/bottom\n",
      "/home/koolab/Documents/GLIFAC/Code/glifac.py:46: FutureWarning: Using a non-tuple sequence for multidimensional indexing is deprecated; use `arr[tuple(seq)]` instead of `arr[seq]`. In the future this will be interpreted as an array index, `arr[np.array(seq)]`, which will result either in an error or a different result.\n",
      "  filter_interactions_values = correlation_matrix[ind.transpose().tolist()]\n"
     ]
    },
    {
     "name": "stdout",
     "output_type": "stream",
     "text": [
      "0.6  | AUROC: 0.10246264817841036  | AUPR: 0.48995148995149  | SNR: 0.36201242609241296\n"
     ]
    },
    {
     "name": "stderr",
     "output_type": "stream",
     "text": [
      "/home/koolab/Documents/GLIFAC/Code/glifac.py:108: FutureWarning: Using a non-tuple sequence for multidimensional indexing is deprecated; use `arr[tuple(seq)]` instead of `arr[seq]`. In the future this will be interpreted as an array index, `arr[np.array(seq)]`, which will result either in an error or a different result.\n",
      "  filter_interactions = feature_maps[position_pairs].transpose([1, 2, 0])\n",
      "/home/koolab/Documents/GLIFAC/Code/glifac.py:28: RuntimeWarning: invalid value encountered in float_scalars\n",
      "  return top/bottom\n",
      "/home/koolab/Documents/GLIFAC/Code/glifac.py:46: FutureWarning: Using a non-tuple sequence for multidimensional indexing is deprecated; use `arr[tuple(seq)]` instead of `arr[seq]`. In the future this will be interpreted as an array index, `arr[np.array(seq)]`, which will result either in an error or a different result.\n",
      "  filter_interactions_values = correlation_matrix[ind.transpose().tolist()]\n"
     ]
    },
    {
     "name": "stdout",
     "output_type": "stream",
     "text": [
      "0.7  | AUROC: 0.10815535289056238  | AUPR: 0.5300589050589051  | SNR: 0.3900332133892287\n"
     ]
    },
    {
     "name": "stderr",
     "output_type": "stream",
     "text": [
      "/home/koolab/Documents/GLIFAC/Code/glifac.py:108: FutureWarning: Using a non-tuple sequence for multidimensional indexing is deprecated; use `arr[tuple(seq)]` instead of `arr[seq]`. In the future this will be interpreted as an array index, `arr[np.array(seq)]`, which will result either in an error or a different result.\n",
      "  filter_interactions = feature_maps[position_pairs].transpose([1, 2, 0])\n",
      "/home/koolab/Documents/GLIFAC/Code/glifac.py:28: RuntimeWarning: invalid value encountered in float_scalars\n",
      "  return top/bottom\n",
      "/home/koolab/Documents/GLIFAC/Code/glifac.py:46: FutureWarning: Using a non-tuple sequence for multidimensional indexing is deprecated; use `arr[tuple(seq)]` instead of `arr[seq]`. In the future this will be interpreted as an array index, `arr[np.array(seq)]`, which will result either in an error or a different result.\n",
      "  filter_interactions_values = correlation_matrix[ind.transpose().tolist()]\n"
     ]
    },
    {
     "name": "stdout",
     "output_type": "stream",
     "text": [
      "0.8  | AUROC: 0.04761627332115601  | AUPR: 0.4366337491337492  | SNR: 0.07449829121556985\n"
     ]
    },
    {
     "name": "stderr",
     "output_type": "stream",
     "text": [
      "/home/koolab/Documents/GLIFAC/Code/glifac.py:108: FutureWarning: Using a non-tuple sequence for multidimensional indexing is deprecated; use `arr[tuple(seq)]` instead of `arr[seq]`. In the future this will be interpreted as an array index, `arr[np.array(seq)]`, which will result either in an error or a different result.\n",
      "  filter_interactions = feature_maps[position_pairs].transpose([1, 2, 0])\n",
      "/home/koolab/Documents/GLIFAC/Code/glifac.py:28: RuntimeWarning: invalid value encountered in float_scalars\n",
      "  return top/bottom\n",
      "/home/koolab/Documents/GLIFAC/Code/glifac.py:46: FutureWarning: Using a non-tuple sequence for multidimensional indexing is deprecated; use `arr[tuple(seq)]` instead of `arr[seq]`. In the future this will be interpreted as an array index, `arr[np.array(seq)]`, which will result either in an error or a different result.\n",
      "  filter_interactions_values = correlation_matrix[ind.transpose().tolist()]\n"
     ]
    },
    {
     "name": "stdout",
     "output_type": "stream",
     "text": [
      "0.9  | AUROC: 0.054473566708558206  | AUPR: 0.45703395703395705  | SNR: 0.051670735942518566\n",
      "finished correlation interpretability\n",
      "saved statistics\n",
      "saved filters\n"
     ]
    },
    {
     "name": "stderr",
     "output_type": "stream",
     "text": [
      "/home/koolab/Documents/GLIFAC/Code/glifac_pipeline.py:297: MatplotlibDeprecationWarning: savefig() got unexpected keyword argument \"box_inches\" which is no longer supported as of 3.3 and will become an error two minor releases later\n",
      "  fig.savefig(glifac_dir, format='pdf', dpi=300, box_inches='tight')\n"
     ]
    },
    {
     "name": "stdout",
     "output_type": "stream",
     "text": [
      "saved glifac\n",
      "Epoch 1/100\n",
      "350/350 - 5s - loss: 0.3137 - auroc: 0.8149 - aupr: 0.4983 - val_loss: 0.2840 - val_auroc: 0.9482 - val_aupr: 0.8140\n",
      "Epoch 2/100\n",
      "350/350 - 5s - loss: 0.1337 - auroc: 0.9706 - aupr: 0.8868 - val_loss: 0.1144 - val_auroc: 0.9821 - val_aupr: 0.9273\n",
      "Epoch 3/100\n",
      "350/350 - 5s - loss: 0.1080 - auroc: 0.9800 - aupr: 0.9212 - val_loss: 0.0937 - val_auroc: 0.9846 - val_aupr: 0.9373\n",
      "Epoch 4/100\n",
      "350/350 - 5s - loss: 0.1024 - auroc: 0.9818 - aupr: 0.9275 - val_loss: 0.0905 - val_auroc: 0.9856 - val_aupr: 0.9501\n",
      "Epoch 5/100\n",
      "350/350 - 5s - loss: 0.0999 - auroc: 0.9825 - aupr: 0.9308 - val_loss: 0.0768 - val_auroc: 0.9898 - val_aupr: 0.9571\n",
      "Epoch 6/100\n",
      "350/350 - 5s - loss: 0.0979 - auroc: 0.9829 - aupr: 0.9332 - val_loss: 0.0867 - val_auroc: 0.9897 - val_aupr: 0.9518\n",
      "Epoch 7/100\n",
      "350/350 - 5s - loss: 0.0967 - auroc: 0.9832 - aupr: 0.9343 - val_loss: 0.0794 - val_auroc: 0.9898 - val_aupr: 0.9546\n",
      "Epoch 8/100\n",
      "350/350 - 5s - loss: 0.0953 - auroc: 0.9837 - aupr: 0.9358 - val_loss: 0.0828 - val_auroc: 0.9884 - val_aupr: 0.9487\n",
      "Epoch 9/100\n",
      "350/350 - 5s - loss: 0.0946 - auroc: 0.9839 - aupr: 0.9366 - val_loss: 0.0767 - val_auroc: 0.9905 - val_aupr: 0.9567\n",
      "Epoch 10/100\n",
      "350/350 - 5s - loss: 0.0943 - auroc: 0.9842 - aupr: 0.9374 - val_loss: 0.0750 - val_auroc: 0.9902 - val_aupr: 0.9584\n",
      "Epoch 11/100\n",
      "350/350 - 5s - loss: 0.0936 - auroc: 0.9842 - aupr: 0.9382 - val_loss: 0.0783 - val_auroc: 0.9895 - val_aupr: 0.9544\n",
      "Epoch 12/100\n",
      "350/350 - 5s - loss: 0.0922 - auroc: 0.9847 - aupr: 0.9399 - val_loss: 0.0763 - val_auroc: 0.9897 - val_aupr: 0.9579\n",
      "Epoch 13/100\n",
      "350/350 - 5s - loss: 0.0924 - auroc: 0.9845 - aupr: 0.9395 - val_loss: 0.0773 - val_auroc: 0.9895 - val_aupr: 0.9571\n",
      "Epoch 14/100\n",
      "350/350 - 5s - loss: 0.0917 - auroc: 0.9849 - aupr: 0.9396 - val_loss: 0.0759 - val_auroc: 0.9895 - val_aupr: 0.9573\n",
      "Epoch 15/100\n",
      "350/350 - 5s - loss: 0.0918 - auroc: 0.9848 - aupr: 0.9402 - val_loss: 0.0759 - val_auroc: 0.9908 - val_aupr: 0.9580\n",
      "Epoch 16/100\n",
      "350/350 - 5s - loss: 0.0916 - auroc: 0.9846 - aupr: 0.9406 - val_loss: 0.0800 - val_auroc: 0.9899 - val_aupr: 0.9561\n",
      "Epoch 17/100\n",
      "350/350 - 5s - loss: 0.0914 - auroc: 0.9850 - aupr: 0.9405 - val_loss: 0.0732 - val_auroc: 0.9898 - val_aupr: 0.9598\n",
      "Epoch 18/100\n",
      "350/350 - 5s - loss: 0.0903 - auroc: 0.9853 - aupr: 0.9419 - val_loss: 0.0742 - val_auroc: 0.9903 - val_aupr: 0.9593\n",
      "Epoch 19/100\n",
      "350/350 - 5s - loss: 0.0903 - auroc: 0.9853 - aupr: 0.9418 - val_loss: 0.0764 - val_auroc: 0.9900 - val_aupr: 0.9576\n",
      "Epoch 20/100\n",
      "350/350 - 5s - loss: 0.0895 - auroc: 0.9856 - aupr: 0.9424 - val_loss: 0.0743 - val_auroc: 0.9900 - val_aupr: 0.9596\n",
      "Epoch 21/100\n",
      "350/350 - 5s - loss: 0.0894 - auroc: 0.9855 - aupr: 0.9427 - val_loss: 0.0731 - val_auroc: 0.9901 - val_aupr: 0.9606\n",
      "Epoch 22/100\n",
      "350/350 - 5s - loss: 0.0889 - auroc: 0.9857 - aupr: 0.9435 - val_loss: 0.0757 - val_auroc: 0.9911 - val_aupr: 0.9584\n",
      "Epoch 23/100\n",
      "350/350 - 5s - loss: 0.0885 - auroc: 0.9859 - aupr: 0.9443 - val_loss: 0.0756 - val_auroc: 0.9893 - val_aupr: 0.9581\n",
      "Epoch 24/100\n",
      "350/350 - 5s - loss: 0.0884 - auroc: 0.9859 - aupr: 0.9439 - val_loss: 0.0747 - val_auroc: 0.9904 - val_aupr: 0.9595\n",
      "Epoch 25/100\n",
      "350/350 - 5s - loss: 0.0880 - auroc: 0.9858 - aupr: 0.9446 - val_loss: 0.0721 - val_auroc: 0.9905 - val_aupr: 0.9610\n",
      "Epoch 26/100\n",
      "350/350 - 5s - loss: 0.0872 - auroc: 0.9862 - aupr: 0.9454 - val_loss: 0.0721 - val_auroc: 0.9908 - val_aupr: 0.9616\n",
      "Epoch 27/100\n",
      "350/350 - 5s - loss: 0.0869 - auroc: 0.9862 - aupr: 0.9460 - val_loss: 0.0731 - val_auroc: 0.9914 - val_aupr: 0.9622\n",
      "Epoch 28/100\n",
      "350/350 - 5s - loss: 0.0864 - auroc: 0.9864 - aupr: 0.9463 - val_loss: 0.0709 - val_auroc: 0.9913 - val_aupr: 0.9626\n",
      "Epoch 29/100\n",
      "350/350 - 5s - loss: 0.0865 - auroc: 0.9863 - aupr: 0.9462 - val_loss: 0.0707 - val_auroc: 0.9914 - val_aupr: 0.9629\n",
      "Epoch 30/100\n",
      "350/350 - 5s - loss: 0.0860 - auroc: 0.9866 - aupr: 0.9473 - val_loss: 0.0729 - val_auroc: 0.9908 - val_aupr: 0.9606\n",
      "Epoch 31/100\n",
      "350/350 - 5s - loss: 0.0855 - auroc: 0.9866 - aupr: 0.9476 - val_loss: 0.0714 - val_auroc: 0.9907 - val_aupr: 0.9618\n",
      "Epoch 32/100\n",
      "350/350 - 5s - loss: 0.0852 - auroc: 0.9869 - aupr: 0.9480 - val_loss: 0.0720 - val_auroc: 0.9911 - val_aupr: 0.9620\n",
      "Epoch 33/100\n",
      "350/350 - 5s - loss: 0.0848 - auroc: 0.9871 - aupr: 0.9483 - val_loss: 0.0716 - val_auroc: 0.9909 - val_aupr: 0.9619\n",
      "Epoch 34/100\n",
      "350/350 - 5s - loss: 0.0842 - auroc: 0.9870 - aupr: 0.9487 - val_loss: 0.0719 - val_auroc: 0.9911 - val_aupr: 0.9618\n",
      "Epoch 35/100\n",
      "350/350 - 5s - loss: 0.0840 - auroc: 0.9868 - aupr: 0.9492 - val_loss: 0.0720 - val_auroc: 0.9913 - val_aupr: 0.9629\n",
      "Epoch 36/100\n",
      "350/350 - 5s - loss: 0.0833 - auroc: 0.9874 - aupr: 0.9500 - val_loss: 0.0710 - val_auroc: 0.9913 - val_aupr: 0.9624\n",
      "Epoch 37/100\n",
      "350/350 - 5s - loss: 0.0832 - auroc: 0.9872 - aupr: 0.9501 - val_loss: 0.0709 - val_auroc: 0.9911 - val_aupr: 0.9628\n",
      "Epoch 38/100\n",
      "350/350 - 5s - loss: 0.0825 - auroc: 0.9875 - aupr: 0.9508 - val_loss: 0.0716 - val_auroc: 0.9910 - val_aupr: 0.9625\n",
      "Epoch 39/100\n",
      "\n",
      "Epoch 00039: ReduceLROnPlateau reducing learning rate to 0.00020000000949949026.\n",
      "350/350 - 5s - loss: 0.0817 - auroc: 0.9876 - aupr: 0.9517 - val_loss: 0.0721 - val_auroc: 0.9912 - val_aupr: 0.9610\n",
      "Epoch 40/100\n",
      "350/350 - 4s - loss: 0.0788 - auroc: 0.9886 - aupr: 0.9550 - val_loss: 0.0693 - val_auroc: 0.9916 - val_aupr: 0.9643\n",
      "Epoch 41/100\n",
      "350/350 - 4s - loss: 0.0782 - auroc: 0.9888 - aupr: 0.9553 - val_loss: 0.0691 - val_auroc: 0.9918 - val_aupr: 0.9646\n",
      "Epoch 42/100\n",
      "350/350 - 4s - loss: 0.0777 - auroc: 0.9888 - aupr: 0.9562 - val_loss: 0.0693 - val_auroc: 0.9917 - val_aupr: 0.9645\n",
      "Epoch 43/100\n",
      "350/350 - 5s - loss: 0.0775 - auroc: 0.9890 - aupr: 0.9564 - val_loss: 0.0693 - val_auroc: 0.9914 - val_aupr: 0.9641\n",
      "Epoch 44/100\n",
      "350/350 - 5s - loss: 0.0772 - auroc: 0.9891 - aupr: 0.9566 - val_loss: 0.0691 - val_auroc: 0.9914 - val_aupr: 0.9642\n",
      "Epoch 45/100\n",
      "350/350 - 5s - loss: 0.0773 - auroc: 0.9890 - aupr: 0.9565 - val_loss: 0.0696 - val_auroc: 0.9913 - val_aupr: 0.9641\n",
      "Epoch 46/100\n",
      "350/350 - 5s - loss: 0.0768 - auroc: 0.9890 - aupr: 0.9570 - val_loss: 0.0693 - val_auroc: 0.9914 - val_aupr: 0.9644\n",
      "Epoch 47/100\n",
      "350/350 - 5s - loss: 0.0765 - auroc: 0.9889 - aupr: 0.9569 - val_loss: 0.0692 - val_auroc: 0.9914 - val_aupr: 0.9643\n",
      "Epoch 48/100\n",
      "350/350 - 5s - loss: 0.0767 - auroc: 0.9890 - aupr: 0.9571 - val_loss: 0.0695 - val_auroc: 0.9911 - val_aupr: 0.9639\n",
      "Epoch 49/100\n",
      "350/350 - 5s - loss: 0.0763 - auroc: 0.9893 - aupr: 0.9576 - val_loss: 0.0694 - val_auroc: 0.9912 - val_aupr: 0.9641\n",
      "Epoch 50/100\n",
      "350/350 - 5s - loss: 0.0761 - auroc: 0.9893 - aupr: 0.9578 - val_loss: 0.0694 - val_auroc: 0.9916 - val_aupr: 0.9643\n",
      "Epoch 51/100\n",
      "\n",
      "Epoch 00051: ReduceLROnPlateau reducing learning rate to 4.0000001899898055e-05.\n",
      "350/350 - 5s - loss: 0.0761 - auroc: 0.9893 - aupr: 0.9577 - val_loss: 0.0694 - val_auroc: 0.9912 - val_aupr: 0.9640\n",
      "Epoch 52/100\n",
      "350/350 - 5s - loss: 0.0751 - auroc: 0.9895 - aupr: 0.9588 - val_loss: 0.0692 - val_auroc: 0.9913 - val_aupr: 0.9642\n",
      "Epoch 53/100\n",
      "350/350 - 5s - loss: 0.0750 - auroc: 0.9897 - aupr: 0.9588 - val_loss: 0.0692 - val_auroc: 0.9913 - val_aupr: 0.9643\n",
      "Epoch 54/100\n",
      "350/350 - 5s - loss: 0.0751 - auroc: 0.9896 - aupr: 0.9588 - val_loss: 0.0692 - val_auroc: 0.9914 - val_aupr: 0.9644\n",
      "Epoch 55/100\n",
      "350/350 - 5s - loss: 0.0752 - auroc: 0.9895 - aupr: 0.9587 - val_loss: 0.0691 - val_auroc: 0.9913 - val_aupr: 0.9642\n",
      "Epoch 56/100\n",
      "Restoring model weights from the end of the best epoch.\n",
      "350/350 - 5s - loss: 0.0753 - auroc: 0.9895 - aupr: 0.9585 - val_loss: 0.0692 - val_auroc: 0.9912 - val_aupr: 0.9642\n",
      "Epoch 00056: early stopping\n",
      "625/625 [==============================] - 1s 2ms/step - loss: 0.0689 - auroc: 0.9915 - aupr: 0.9643\n",
      "generated PPMs\n",
      "TomTom TPR:  0.84375\n",
      "TomTom FPR:  0.03125\n",
      "Motif coverage:  1.0\n",
      "completed TomTom analysis\n",
      "completed clustering\n"
     ]
    },
    {
     "name": "stderr",
     "output_type": "stream",
     "text": [
      "/home/koolab/Documents/GLIFAC/Code/glifac.py:108: FutureWarning: Using a non-tuple sequence for multidimensional indexing is deprecated; use `arr[tuple(seq)]` instead of `arr[seq]`. In the future this will be interpreted as an array index, `arr[np.array(seq)]`, which will result either in an error or a different result.\n",
      "  filter_interactions = feature_maps[position_pairs].transpose([1, 2, 0])\n",
      "/home/koolab/Documents/GLIFAC/Code/glifac.py:46: FutureWarning: Using a non-tuple sequence for multidimensional indexing is deprecated; use `arr[tuple(seq)]` instead of `arr[seq]`. In the future this will be interpreted as an array index, `arr[np.array(seq)]`, which will result either in an error or a different result.\n",
      "  filter_interactions_values = correlation_matrix[ind.transpose().tolist()]\n"
     ]
    },
    {
     "name": "stdout",
     "output_type": "stream",
     "text": [
      "0.0  | AUROC: 0.9509970620790769  | AUPR: 0.9975328947368421  | SNR: 2.9866493776476433\n"
     ]
    },
    {
     "name": "stderr",
     "output_type": "stream",
     "text": [
      "/home/koolab/Documents/GLIFAC/Code/glifac.py:108: FutureWarning: Using a non-tuple sequence for multidimensional indexing is deprecated; use `arr[tuple(seq)]` instead of `arr[seq]`. In the future this will be interpreted as an array index, `arr[np.array(seq)]`, which will result either in an error or a different result.\n",
      "  filter_interactions = feature_maps[position_pairs].transpose([1, 2, 0])\n",
      "/home/koolab/Documents/GLIFAC/Code/glifac.py:46: FutureWarning: Using a non-tuple sequence for multidimensional indexing is deprecated; use `arr[tuple(seq)]` instead of `arr[seq]`. In the future this will be interpreted as an array index, `arr[np.array(seq)]`, which will result either in an error or a different result.\n",
      "  filter_interactions_values = correlation_matrix[ind.transpose().tolist()]\n"
     ]
    },
    {
     "name": "stdout",
     "output_type": "stream",
     "text": [
      "0.1  | AUROC: 0.15491125306681047  | AUPR: 0.487312030075188  | SNR: 0.95671367301353\n"
     ]
    },
    {
     "name": "stderr",
     "output_type": "stream",
     "text": [
      "/home/koolab/Documents/GLIFAC/Code/glifac.py:108: FutureWarning: Using a non-tuple sequence for multidimensional indexing is deprecated; use `arr[tuple(seq)]` instead of `arr[seq]`. In the future this will be interpreted as an array index, `arr[np.array(seq)]`, which will result either in an error or a different result.\n",
      "  filter_interactions = feature_maps[position_pairs].transpose([1, 2, 0])\n",
      "/home/koolab/Documents/GLIFAC/Code/glifac.py:46: FutureWarning: Using a non-tuple sequence for multidimensional indexing is deprecated; use `arr[tuple(seq)]` instead of `arr[seq]`. In the future this will be interpreted as an array index, `arr[np.array(seq)]`, which will result either in an error or a different result.\n",
      "  filter_interactions_values = correlation_matrix[ind.transpose().tolist()]\n"
     ]
    },
    {
     "name": "stdout",
     "output_type": "stream",
     "text": [
      "0.2  | AUROC: 0.15467572334145757  | AUPR: 0.44384398496240596  | SNR: 1.1935839977461575\n"
     ]
    },
    {
     "name": "stderr",
     "output_type": "stream",
     "text": [
      "/home/koolab/Documents/GLIFAC/Code/glifac.py:108: FutureWarning: Using a non-tuple sequence for multidimensional indexing is deprecated; use `arr[tuple(seq)]` instead of `arr[seq]`. In the future this will be interpreted as an array index, `arr[np.array(seq)]`, which will result either in an error or a different result.\n",
      "  filter_interactions = feature_maps[position_pairs].transpose([1, 2, 0])\n",
      "/home/koolab/Documents/GLIFAC/Code/glifac.py:28: RuntimeWarning: invalid value encountered in float_scalars\n",
      "  return top/bottom\n",
      "/home/koolab/Documents/GLIFAC/Code/glifac.py:46: FutureWarning: Using a non-tuple sequence for multidimensional indexing is deprecated; use `arr[tuple(seq)]` instead of `arr[seq]`. In the future this will be interpreted as an array index, `arr[np.array(seq)]`, which will result either in an error or a different result.\n",
      "  filter_interactions_values = correlation_matrix[ind.transpose().tolist()]\n"
     ]
    },
    {
     "name": "stdout",
     "output_type": "stream",
     "text": [
      "0.3  | AUROC: 0.16640442731723876  | AUPR: 0.4477796052631579  | SNR: 1.011733271528443\n"
     ]
    },
    {
     "name": "stderr",
     "output_type": "stream",
     "text": [
      "/home/koolab/Documents/GLIFAC/Code/glifac.py:108: FutureWarning: Using a non-tuple sequence for multidimensional indexing is deprecated; use `arr[tuple(seq)]` instead of `arr[seq]`. In the future this will be interpreted as an array index, `arr[np.array(seq)]`, which will result either in an error or a different result.\n",
      "  filter_interactions = feature_maps[position_pairs].transpose([1, 2, 0])\n",
      "/home/koolab/Documents/GLIFAC/Code/glifac.py:28: RuntimeWarning: invalid value encountered in float_scalars\n",
      "  return top/bottom\n",
      "/home/koolab/Documents/GLIFAC/Code/glifac.py:46: FutureWarning: Using a non-tuple sequence for multidimensional indexing is deprecated; use `arr[tuple(seq)]` instead of `arr[seq]`. In the future this will be interpreted as an array index, `arr[np.array(seq)]`, which will result either in an error or a different result.\n",
      "  filter_interactions_values = correlation_matrix[ind.transpose().tolist()]\n"
     ]
    },
    {
     "name": "stdout",
     "output_type": "stream",
     "text": [
      "0.4  | AUROC: 0.11525681286019371  | AUPR: 0.48320018796992487  | SNR: 0.8980865733492082\n"
     ]
    },
    {
     "name": "stderr",
     "output_type": "stream",
     "text": [
      "/home/koolab/Documents/GLIFAC/Code/glifac.py:108: FutureWarning: Using a non-tuple sequence for multidimensional indexing is deprecated; use `arr[tuple(seq)]` instead of `arr[seq]`. In the future this will be interpreted as an array index, `arr[np.array(seq)]`, which will result either in an error or a different result.\n",
      "  filter_interactions = feature_maps[position_pairs].transpose([1, 2, 0])\n",
      "/home/koolab/Documents/GLIFAC/Code/glifac.py:28: RuntimeWarning: invalid value encountered in float_scalars\n",
      "  return top/bottom\n",
      "/home/koolab/Documents/GLIFAC/Code/glifac.py:46: FutureWarning: Using a non-tuple sequence for multidimensional indexing is deprecated; use `arr[tuple(seq)]` instead of `arr[seq]`. In the future this will be interpreted as an array index, `arr[np.array(seq)]`, which will result either in an error or a different result.\n",
      "  filter_interactions_values = correlation_matrix[ind.transpose().tolist()]\n"
     ]
    },
    {
     "name": "stdout",
     "output_type": "stream",
     "text": [
      "0.5  | AUROC: 0.09146181754950809  | AUPR: 0.4865484022556391  | SNR: 0.7683141900071269\n"
     ]
    },
    {
     "name": "stderr",
     "output_type": "stream",
     "text": [
      "/home/koolab/Documents/GLIFAC/Code/glifac.py:108: FutureWarning: Using a non-tuple sequence for multidimensional indexing is deprecated; use `arr[tuple(seq)]` instead of `arr[seq]`. In the future this will be interpreted as an array index, `arr[np.array(seq)]`, which will result either in an error or a different result.\n",
      "  filter_interactions = feature_maps[position_pairs].transpose([1, 2, 0])\n",
      "/home/koolab/Documents/GLIFAC/Code/glifac.py:28: RuntimeWarning: invalid value encountered in float_scalars\n",
      "  return top/bottom\n",
      "/home/koolab/Documents/GLIFAC/Code/glifac.py:46: FutureWarning: Using a non-tuple sequence for multidimensional indexing is deprecated; use `arr[tuple(seq)]` instead of `arr[seq]`. In the future this will be interpreted as an array index, `arr[np.array(seq)]`, which will result either in an error or a different result.\n",
      "  filter_interactions_values = correlation_matrix[ind.transpose().tolist()]\n"
     ]
    },
    {
     "name": "stdout",
     "output_type": "stream",
     "text": [
      "0.6  | AUROC: 0.05812181927343135  | AUPR: 0.3759398496240602  | SNR: 0.4921958009004604\n"
     ]
    },
    {
     "name": "stderr",
     "output_type": "stream",
     "text": [
      "/home/koolab/Documents/GLIFAC/Code/glifac.py:108: FutureWarning: Using a non-tuple sequence for multidimensional indexing is deprecated; use `arr[tuple(seq)]` instead of `arr[seq]`. In the future this will be interpreted as an array index, `arr[np.array(seq)]`, which will result either in an error or a different result.\n",
      "  filter_interactions = feature_maps[position_pairs].transpose([1, 2, 0])\n",
      "/home/koolab/Documents/GLIFAC/Code/glifac.py:28: RuntimeWarning: invalid value encountered in float_scalars\n",
      "  return top/bottom\n",
      "/home/koolab/Documents/GLIFAC/Code/glifac.py:46: FutureWarning: Using a non-tuple sequence for multidimensional indexing is deprecated; use `arr[tuple(seq)]` instead of `arr[seq]`. In the future this will be interpreted as an array index, `arr[np.array(seq)]`, which will result either in an error or a different result.\n",
      "  filter_interactions_values = correlation_matrix[ind.transpose().tolist()]\n"
     ]
    },
    {
     "name": "stdout",
     "output_type": "stream",
     "text": [
      "0.7  | AUROC: 0.07144938663067497  | AUPR: 0.38028665413533835  | SNR: 0.6290469010363684\n"
     ]
    },
    {
     "name": "stderr",
     "output_type": "stream",
     "text": [
      "/home/koolab/Documents/GLIFAC/Code/glifac.py:108: FutureWarning: Using a non-tuple sequence for multidimensional indexing is deprecated; use `arr[tuple(seq)]` instead of `arr[seq]`. In the future this will be interpreted as an array index, `arr[np.array(seq)]`, which will result either in an error or a different result.\n",
      "  filter_interactions = feature_maps[position_pairs].transpose([1, 2, 0])\n",
      "/home/koolab/Documents/GLIFAC/Code/glifac.py:28: RuntimeWarning: invalid value encountered in float_scalars\n",
      "  return top/bottom\n",
      "/home/koolab/Documents/GLIFAC/Code/glifac.py:46: FutureWarning: Using a non-tuple sequence for multidimensional indexing is deprecated; use `arr[tuple(seq)]` instead of `arr[seq]`. In the future this will be interpreted as an array index, `arr[np.array(seq)]`, which will result either in an error or a different result.\n",
      "  filter_interactions_values = correlation_matrix[ind.transpose().tolist()]\n"
     ]
    },
    {
     "name": "stdout",
     "output_type": "stream",
     "text": [
      "0.8  | AUROC: 0.07317034540297869  | AUPR: 0.41071428571428564  | SNR: 0.7852338058441103\n"
     ]
    },
    {
     "name": "stderr",
     "output_type": "stream",
     "text": [
      "/home/koolab/Documents/GLIFAC/Code/glifac.py:108: FutureWarning: Using a non-tuple sequence for multidimensional indexing is deprecated; use `arr[tuple(seq)]` instead of `arr[seq]`. In the future this will be interpreted as an array index, `arr[np.array(seq)]`, which will result either in an error or a different result.\n",
      "  filter_interactions = feature_maps[position_pairs].transpose([1, 2, 0])\n",
      "/home/koolab/Documents/GLIFAC/Code/glifac.py:28: RuntimeWarning: invalid value encountered in float_scalars\n",
      "  return top/bottom\n",
      "/home/koolab/Documents/GLIFAC/Code/glifac.py:46: FutureWarning: Using a non-tuple sequence for multidimensional indexing is deprecated; use `arr[tuple(seq)]` instead of `arr[seq]`. In the future this will be interpreted as an array index, `arr[np.array(seq)]`, which will result either in an error or a different result.\n",
      "  filter_interactions_values = correlation_matrix[ind.transpose().tolist()]\n"
     ]
    },
    {
     "name": "stdout",
     "output_type": "stream",
     "text": [
      "0.9  | AUROC: 0.1434617277460973  | AUPR: 0.5399436090225563  | SNR: 0.7359137267236585\n",
      "finished correlation interpretability\n",
      "saved statistics\n",
      "saved filters\n"
     ]
    },
    {
     "name": "stderr",
     "output_type": "stream",
     "text": [
      "/home/koolab/Documents/GLIFAC/Code/glifac_pipeline.py:297: MatplotlibDeprecationWarning: savefig() got unexpected keyword argument \"box_inches\" which is no longer supported as of 3.3 and will become an error two minor releases later\n",
      "  fig.savefig(glifac_dir, format='pdf', dpi=300, box_inches='tight')\n"
     ]
    },
    {
     "name": "stdout",
     "output_type": "stream",
     "text": [
      "saved glifac\n",
      "Epoch 1/100\n",
      "350/350 - 5s - loss: 0.2942 - auroc: 0.8380 - aupr: 0.5533 - val_loss: 0.2565 - val_auroc: 0.9504 - val_aupr: 0.8198\n",
      "Epoch 2/100\n",
      "350/350 - 5s - loss: 0.1425 - auroc: 0.9659 - aupr: 0.8750 - val_loss: 0.1010 - val_auroc: 0.9844 - val_aupr: 0.9334\n",
      "Epoch 3/100\n",
      "350/350 - 5s - loss: 0.1107 - auroc: 0.9790 - aupr: 0.9170 - val_loss: 0.0897 - val_auroc: 0.9852 - val_aupr: 0.9443\n",
      "Epoch 4/100\n",
      "350/350 - 5s - loss: 0.1017 - auroc: 0.9816 - aupr: 0.9283 - val_loss: 0.0924 - val_auroc: 0.9841 - val_aupr: 0.9419\n",
      "Epoch 5/100\n",
      "350/350 - 5s - loss: 0.0972 - auroc: 0.9830 - aupr: 0.9334 - val_loss: 0.0781 - val_auroc: 0.9893 - val_aupr: 0.9557\n",
      "Epoch 6/100\n",
      "350/350 - 5s - loss: 0.0953 - auroc: 0.9833 - aupr: 0.9358 - val_loss: 0.0769 - val_auroc: 0.9898 - val_aupr: 0.9567\n",
      "Epoch 7/100\n",
      "350/350 - 5s - loss: 0.0937 - auroc: 0.9839 - aupr: 0.9371 - val_loss: 0.0850 - val_auroc: 0.9872 - val_aupr: 0.9474\n",
      "Epoch 8/100\n",
      "350/350 - 5s - loss: 0.0928 - auroc: 0.9841 - aupr: 0.9384 - val_loss: 0.0780 - val_auroc: 0.9889 - val_aupr: 0.9549\n",
      "Epoch 9/100\n",
      "350/350 - 5s - loss: 0.0926 - auroc: 0.9843 - aupr: 0.9385 - val_loss: 0.0768 - val_auroc: 0.9892 - val_aupr: 0.9569\n",
      "Epoch 10/100\n",
      "350/350 - 5s - loss: 0.0915 - auroc: 0.9846 - aupr: 0.9399 - val_loss: 0.0773 - val_auroc: 0.9896 - val_aupr: 0.9558\n",
      "Epoch 11/100\n",
      "350/350 - 5s - loss: 0.0913 - auroc: 0.9845 - aupr: 0.9398 - val_loss: 0.0801 - val_auroc: 0.9878 - val_aupr: 0.9535\n",
      "Epoch 12/100\n",
      "350/350 - 5s - loss: 0.0904 - auroc: 0.9850 - aupr: 0.9413 - val_loss: 0.0823 - val_auroc: 0.9886 - val_aupr: 0.9510\n",
      "Epoch 13/100\n",
      "350/350 - 5s - loss: 0.0906 - auroc: 0.9846 - aupr: 0.9410 - val_loss: 0.0755 - val_auroc: 0.9904 - val_aupr: 0.9591\n",
      "Epoch 14/100\n",
      "350/350 - 5s - loss: 0.0899 - auroc: 0.9849 - aupr: 0.9415 - val_loss: 0.0758 - val_auroc: 0.9910 - val_aupr: 0.9588\n",
      "Epoch 15/100\n",
      "350/350 - 5s - loss: 0.0899 - auroc: 0.9849 - aupr: 0.9418 - val_loss: 0.0728 - val_auroc: 0.9905 - val_aupr: 0.9613\n",
      "Epoch 16/100\n",
      "350/350 - 5s - loss: 0.0896 - auroc: 0.9849 - aupr: 0.9418 - val_loss: 0.0738 - val_auroc: 0.9902 - val_aupr: 0.9591\n",
      "Epoch 17/100\n",
      "350/350 - 5s - loss: 0.0889 - auroc: 0.9853 - aupr: 0.9427 - val_loss: 0.0745 - val_auroc: 0.9907 - val_aupr: 0.9595\n",
      "Epoch 18/100\n",
      "350/350 - 5s - loss: 0.0881 - auroc: 0.9854 - aupr: 0.9437 - val_loss: 0.0733 - val_auroc: 0.9905 - val_aupr: 0.9596\n",
      "Epoch 19/100\n",
      "350/350 - 5s - loss: 0.0881 - auroc: 0.9857 - aupr: 0.9433 - val_loss: 0.0730 - val_auroc: 0.9907 - val_aupr: 0.9599\n",
      "Epoch 20/100\n",
      "350/350 - 5s - loss: 0.0881 - auroc: 0.9855 - aupr: 0.9435 - val_loss: 0.0749 - val_auroc: 0.9909 - val_aupr: 0.9602\n",
      "Epoch 21/100\n",
      "350/350 - 5s - loss: 0.0877 - auroc: 0.9856 - aupr: 0.9439 - val_loss: 0.0708 - val_auroc: 0.9913 - val_aupr: 0.9617\n",
      "Epoch 22/100\n",
      "350/350 - 5s - loss: 0.0870 - auroc: 0.9857 - aupr: 0.9444 - val_loss: 0.0716 - val_auroc: 0.9911 - val_aupr: 0.9612\n",
      "Epoch 23/100\n",
      "350/350 - 5s - loss: 0.0868 - auroc: 0.9859 - aupr: 0.9455 - val_loss: 0.0726 - val_auroc: 0.9905 - val_aupr: 0.9605\n",
      "Epoch 24/100\n",
      "350/350 - 5s - loss: 0.0870 - auroc: 0.9859 - aupr: 0.9448 - val_loss: 0.0730 - val_auroc: 0.9913 - val_aupr: 0.9613\n",
      "Epoch 25/100\n",
      "350/350 - 5s - loss: 0.0864 - auroc: 0.9862 - aupr: 0.9456 - val_loss: 0.0712 - val_auroc: 0.9914 - val_aupr: 0.9617\n",
      "Epoch 26/100\n",
      "350/350 - 5s - loss: 0.0851 - auroc: 0.9862 - aupr: 0.9466 - val_loss: 0.0715 - val_auroc: 0.9912 - val_aupr: 0.9612\n",
      "Epoch 27/100\n",
      "350/350 - 5s - loss: 0.0858 - auroc: 0.9860 - aupr: 0.9461 - val_loss: 0.0694 - val_auroc: 0.9915 - val_aupr: 0.9641\n",
      "Epoch 28/100\n",
      "350/350 - 5s - loss: 0.0849 - auroc: 0.9864 - aupr: 0.9469 - val_loss: 0.0707 - val_auroc: 0.9912 - val_aupr: 0.9619\n",
      "Epoch 29/100\n",
      "350/350 - 5s - loss: 0.0845 - auroc: 0.9867 - aupr: 0.9476 - val_loss: 0.0728 - val_auroc: 0.9907 - val_aupr: 0.9617\n",
      "Epoch 30/100\n",
      "350/350 - 5s - loss: 0.0842 - auroc: 0.9866 - aupr: 0.9482 - val_loss: 0.0705 - val_auroc: 0.9916 - val_aupr: 0.9629\n",
      "Epoch 31/100\n",
      "350/350 - 5s - loss: 0.0843 - auroc: 0.9866 - aupr: 0.9478 - val_loss: 0.0702 - val_auroc: 0.9914 - val_aupr: 0.9631\n",
      "Epoch 32/100\n",
      "350/350 - 5s - loss: 0.0832 - auroc: 0.9871 - aupr: 0.9497 - val_loss: 0.0706 - val_auroc: 0.9914 - val_aupr: 0.9630\n",
      "Epoch 33/100\n",
      "350/350 - 5s - loss: 0.0827 - auroc: 0.9870 - aupr: 0.9501 - val_loss: 0.0708 - val_auroc: 0.9917 - val_aupr: 0.9624\n",
      "Epoch 34/100\n",
      "350/350 - 5s - loss: 0.0830 - auroc: 0.9869 - aupr: 0.9500 - val_loss: 0.0702 - val_auroc: 0.9912 - val_aupr: 0.9631\n",
      "Epoch 35/100\n",
      "350/350 - 5s - loss: 0.0820 - auroc: 0.9873 - aupr: 0.9509 - val_loss: 0.0698 - val_auroc: 0.9914 - val_aupr: 0.9628\n",
      "Epoch 36/100\n",
      "350/350 - 5s - loss: 0.0813 - auroc: 0.9873 - aupr: 0.9515 - val_loss: 0.0701 - val_auroc: 0.9912 - val_aupr: 0.9634\n",
      "Epoch 37/100\n",
      "350/350 - 5s - loss: 0.0810 - auroc: 0.9875 - aupr: 0.9515 - val_loss: 0.0690 - val_auroc: 0.9917 - val_aupr: 0.9642\n",
      "Epoch 38/100\n",
      "350/350 - 5s - loss: 0.0808 - auroc: 0.9874 - aupr: 0.9521 - val_loss: 0.0702 - val_auroc: 0.9917 - val_aupr: 0.9635\n",
      "Epoch 39/100\n",
      "350/350 - 5s - loss: 0.0802 - auroc: 0.9876 - aupr: 0.9531 - val_loss: 0.0709 - val_auroc: 0.9911 - val_aupr: 0.9626\n",
      "Epoch 40/100\n",
      "350/350 - 5s - loss: 0.0799 - auroc: 0.9878 - aupr: 0.9534 - val_loss: 0.0694 - val_auroc: 0.9916 - val_aupr: 0.9639\n",
      "Epoch 41/100\n",
      "350/350 - 5s - loss: 0.0789 - auroc: 0.9882 - aupr: 0.9542 - val_loss: 0.0694 - val_auroc: 0.9914 - val_aupr: 0.9646\n",
      "Epoch 42/100\n",
      "350/350 - 5s - loss: 0.0788 - auroc: 0.9881 - aupr: 0.9545 - val_loss: 0.0690 - val_auroc: 0.9912 - val_aupr: 0.9637\n",
      "Epoch 43/100\n",
      "350/350 - 5s - loss: 0.0783 - auroc: 0.9881 - aupr: 0.9549 - val_loss: 0.0694 - val_auroc: 0.9913 - val_aupr: 0.9635\n",
      "Epoch 44/100\n",
      "350/350 - 5s - loss: 0.0785 - auroc: 0.9881 - aupr: 0.9547 - val_loss: 0.0698 - val_auroc: 0.9916 - val_aupr: 0.9636\n",
      "Epoch 45/100\n",
      "350/350 - 5s - loss: 0.0784 - auroc: 0.9881 - aupr: 0.9550 - val_loss: 0.0694 - val_auroc: 0.9914 - val_aupr: 0.9648\n",
      "Epoch 46/100\n",
      "350/350 - 5s - loss: 0.0774 - auroc: 0.9885 - aupr: 0.9560 - val_loss: 0.0700 - val_auroc: 0.9913 - val_aupr: 0.9633\n",
      "Epoch 47/100\n",
      "\n",
      "Epoch 00047: ReduceLROnPlateau reducing learning rate to 0.00020000000949949026.\n",
      "350/350 - 5s - loss: 0.0774 - auroc: 0.9885 - aupr: 0.9558 - val_loss: 0.0704 - val_auroc: 0.9912 - val_aupr: 0.9635\n",
      "Epoch 48/100\n",
      "350/350 - 5s - loss: 0.0736 - auroc: 0.9895 - aupr: 0.9600 - val_loss: 0.0677 - val_auroc: 0.9918 - val_aupr: 0.9655\n",
      "Epoch 49/100\n",
      "350/350 - 5s - loss: 0.0732 - auroc: 0.9898 - aupr: 0.9600 - val_loss: 0.0678 - val_auroc: 0.9918 - val_aupr: 0.9656\n",
      "Epoch 50/100\n",
      "350/350 - 5s - loss: 0.0724 - auroc: 0.9898 - aupr: 0.9608 - val_loss: 0.0678 - val_auroc: 0.9917 - val_aupr: 0.9657\n",
      "Epoch 51/100\n",
      "350/350 - 5s - loss: 0.0721 - auroc: 0.9899 - aupr: 0.9613 - val_loss: 0.0680 - val_auroc: 0.9916 - val_aupr: 0.9653\n",
      "Epoch 52/100\n",
      "350/350 - 5s - loss: 0.0730 - auroc: 0.9895 - aupr: 0.9602 - val_loss: 0.0684 - val_auroc: 0.9915 - val_aupr: 0.9650\n",
      "Epoch 53/100\n",
      "350/350 - 5s - loss: 0.0719 - auroc: 0.9898 - aupr: 0.9613 - val_loss: 0.0678 - val_auroc: 0.9917 - val_aupr: 0.9656\n",
      "Epoch 54/100\n",
      "350/350 - 5s - loss: 0.0723 - auroc: 0.9898 - aupr: 0.9612 - val_loss: 0.0681 - val_auroc: 0.9914 - val_aupr: 0.9653\n",
      "Epoch 55/100\n",
      "350/350 - 5s - loss: 0.0717 - auroc: 0.9899 - aupr: 0.9615 - val_loss: 0.0683 - val_auroc: 0.9915 - val_aupr: 0.9654\n",
      "Epoch 56/100\n",
      "350/350 - 5s - loss: 0.0714 - auroc: 0.9899 - aupr: 0.9620 - val_loss: 0.0681 - val_auroc: 0.9914 - val_aupr: 0.9650\n",
      "Epoch 57/100\n",
      "350/350 - 5s - loss: 0.0711 - auroc: 0.9901 - aupr: 0.9621 - val_loss: 0.0684 - val_auroc: 0.9915 - val_aupr: 0.9650\n",
      "Epoch 58/100\n",
      "\n",
      "Epoch 00058: ReduceLROnPlateau reducing learning rate to 4.0000001899898055e-05.\n",
      "350/350 - 5s - loss: 0.0715 - auroc: 0.9899 - aupr: 0.9618 - val_loss: 0.0683 - val_auroc: 0.9912 - val_aupr: 0.9647\n",
      "Epoch 59/100\n",
      "350/350 - 5s - loss: 0.0716 - auroc: 0.9898 - aupr: 0.9618 - val_loss: 0.0680 - val_auroc: 0.9916 - val_aupr: 0.9651\n",
      "Epoch 60/100\n",
      "350/350 - 5s - loss: 0.0704 - auroc: 0.9903 - aupr: 0.9628 - val_loss: 0.0680 - val_auroc: 0.9916 - val_aupr: 0.9651\n",
      "Epoch 61/100\n",
      "350/350 - 5s - loss: 0.0706 - auroc: 0.9901 - aupr: 0.9629 - val_loss: 0.0680 - val_auroc: 0.9917 - val_aupr: 0.9652\n",
      "Epoch 62/100\n",
      "350/350 - 5s - loss: 0.0707 - auroc: 0.9901 - aupr: 0.9625 - val_loss: 0.0680 - val_auroc: 0.9916 - val_aupr: 0.9651\n"
     ]
    },
    {
     "name": "stdout",
     "output_type": "stream",
     "text": [
      "Epoch 63/100\n",
      "Restoring model weights from the end of the best epoch.\n",
      "350/350 - 5s - loss: 0.0704 - auroc: 0.9901 - aupr: 0.9630 - val_loss: 0.0680 - val_auroc: 0.9916 - val_aupr: 0.9650\n",
      "Epoch 00063: early stopping\n",
      "625/625 [==============================] - 2s 2ms/step - loss: 0.0685 - auroc: 0.9918 - aupr: 0.9642\n",
      "generated PPMs\n",
      "TomTom TPR:  0.84375\n",
      "TomTom FPR:  0.03125\n",
      "Motif coverage:  1.0\n",
      "completed TomTom analysis\n",
      "completed clustering\n"
     ]
    },
    {
     "name": "stderr",
     "output_type": "stream",
     "text": [
      "/home/koolab/Documents/GLIFAC/Code/glifac.py:108: FutureWarning: Using a non-tuple sequence for multidimensional indexing is deprecated; use `arr[tuple(seq)]` instead of `arr[seq]`. In the future this will be interpreted as an array index, `arr[np.array(seq)]`, which will result either in an error or a different result.\n",
      "  filter_interactions = feature_maps[position_pairs].transpose([1, 2, 0])\n",
      "/home/koolab/Documents/GLIFAC/Code/glifac.py:46: FutureWarning: Using a non-tuple sequence for multidimensional indexing is deprecated; use `arr[tuple(seq)]` instead of `arr[seq]`. In the future this will be interpreted as an array index, `arr[np.array(seq)]`, which will result either in an error or a different result.\n",
      "  filter_interactions_values = correlation_matrix[ind.transpose().tolist()]\n"
     ]
    },
    {
     "name": "stdout",
     "output_type": "stream",
     "text": [
      "0.0  | AUROC: 0.8986222857751139  | AUPR: 0.9909598214285714  | SNR: 2.417904884171301\n"
     ]
    },
    {
     "name": "stderr",
     "output_type": "stream",
     "text": [
      "/home/koolab/Documents/GLIFAC/Code/glifac.py:108: FutureWarning: Using a non-tuple sequence for multidimensional indexing is deprecated; use `arr[tuple(seq)]` instead of `arr[seq]`. In the future this will be interpreted as an array index, `arr[np.array(seq)]`, which will result either in an error or a different result.\n",
      "  filter_interactions = feature_maps[position_pairs].transpose([1, 2, 0])\n",
      "/home/koolab/Documents/GLIFAC/Code/glifac.py:28: RuntimeWarning: invalid value encountered in float_scalars\n",
      "  return top/bottom\n",
      "/home/koolab/Documents/GLIFAC/Code/glifac.py:46: FutureWarning: Using a non-tuple sequence for multidimensional indexing is deprecated; use `arr[tuple(seq)]` instead of `arr[seq]`. In the future this will be interpreted as an array index, `arr[np.array(seq)]`, which will result either in an error or a different result.\n",
      "  filter_interactions_values = correlation_matrix[ind.transpose().tolist()]\n"
     ]
    },
    {
     "name": "stdout",
     "output_type": "stream",
     "text": [
      "0.1  | AUROC: 0.14362419429196085  | AUPR: 0.765625  | SNR: 0.9819978884185566\n"
     ]
    },
    {
     "name": "stderr",
     "output_type": "stream",
     "text": [
      "/home/koolab/Documents/GLIFAC/Code/glifac.py:108: FutureWarning: Using a non-tuple sequence for multidimensional indexing is deprecated; use `arr[tuple(seq)]` instead of `arr[seq]`. In the future this will be interpreted as an array index, `arr[np.array(seq)]`, which will result either in an error or a different result.\n",
      "  filter_interactions = feature_maps[position_pairs].transpose([1, 2, 0])\n",
      "/home/koolab/Documents/GLIFAC/Code/glifac.py:28: RuntimeWarning: invalid value encountered in float_scalars\n",
      "  return top/bottom\n",
      "/home/koolab/Documents/GLIFAC/Code/glifac.py:46: FutureWarning: Using a non-tuple sequence for multidimensional indexing is deprecated; use `arr[tuple(seq)]` instead of `arr[seq]`. In the future this will be interpreted as an array index, `arr[np.array(seq)]`, which will result either in an error or a different result.\n",
      "  filter_interactions_values = correlation_matrix[ind.transpose().tolist()]\n"
     ]
    },
    {
     "name": "stdout",
     "output_type": "stream",
     "text": [
      "0.2  | AUROC: 0.1083982413268882  | AUPR: 0.6283482142857142  | SNR: 0.8255718857903844\n"
     ]
    },
    {
     "name": "stderr",
     "output_type": "stream",
     "text": [
      "/home/koolab/Documents/GLIFAC/Code/glifac.py:108: FutureWarning: Using a non-tuple sequence for multidimensional indexing is deprecated; use `arr[tuple(seq)]` instead of `arr[seq]`. In the future this will be interpreted as an array index, `arr[np.array(seq)]`, which will result either in an error or a different result.\n",
      "  filter_interactions = feature_maps[position_pairs].transpose([1, 2, 0])\n",
      "/home/koolab/Documents/GLIFAC/Code/glifac.py:28: RuntimeWarning: invalid value encountered in float_scalars\n",
      "  return top/bottom\n",
      "/home/koolab/Documents/GLIFAC/Code/glifac.py:46: FutureWarning: Using a non-tuple sequence for multidimensional indexing is deprecated; use `arr[tuple(seq)]` instead of `arr[seq]`. In the future this will be interpreted as an array index, `arr[np.array(seq)]`, which will result either in an error or a different result.\n",
      "  filter_interactions_values = correlation_matrix[ind.transpose().tolist()]\n"
     ]
    },
    {
     "name": "stdout",
     "output_type": "stream",
     "text": [
      "0.3  | AUROC: 0.08662113008764935  | AUPR: 0.6014508928571429  | SNR: 0.6004662260391284\n"
     ]
    },
    {
     "name": "stderr",
     "output_type": "stream",
     "text": [
      "/home/koolab/Documents/GLIFAC/Code/glifac.py:108: FutureWarning: Using a non-tuple sequence for multidimensional indexing is deprecated; use `arr[tuple(seq)]` instead of `arr[seq]`. In the future this will be interpreted as an array index, `arr[np.array(seq)]`, which will result either in an error or a different result.\n",
      "  filter_interactions = feature_maps[position_pairs].transpose([1, 2, 0])\n",
      "/home/koolab/Documents/GLIFAC/Code/glifac.py:28: RuntimeWarning: invalid value encountered in float_scalars\n",
      "  return top/bottom\n",
      "/home/koolab/Documents/GLIFAC/Code/glifac.py:46: FutureWarning: Using a non-tuple sequence for multidimensional indexing is deprecated; use `arr[tuple(seq)]` instead of `arr[seq]`. In the future this will be interpreted as an array index, `arr[np.array(seq)]`, which will result either in an error or a different result.\n",
      "  filter_interactions_values = correlation_matrix[ind.transpose().tolist()]\n"
     ]
    },
    {
     "name": "stdout",
     "output_type": "stream",
     "text": [
      "0.4  | AUROC: 0.04817536358753853  | AUPR: 0.47243303571428574  | SNR: 0.28704912073864103\n"
     ]
    },
    {
     "name": "stderr",
     "output_type": "stream",
     "text": [
      "/home/koolab/Documents/GLIFAC/Code/glifac.py:108: FutureWarning: Using a non-tuple sequence for multidimensional indexing is deprecated; use `arr[tuple(seq)]` instead of `arr[seq]`. In the future this will be interpreted as an array index, `arr[np.array(seq)]`, which will result either in an error or a different result.\n",
      "  filter_interactions = feature_maps[position_pairs].transpose([1, 2, 0])\n",
      "/home/koolab/Documents/GLIFAC/Code/glifac.py:28: RuntimeWarning: invalid value encountered in float_scalars\n",
      "  return top/bottom\n",
      "/home/koolab/Documents/GLIFAC/Code/glifac.py:46: FutureWarning: Using a non-tuple sequence for multidimensional indexing is deprecated; use `arr[tuple(seq)]` instead of `arr[seq]`. In the future this will be interpreted as an array index, `arr[np.array(seq)]`, which will result either in an error or a different result.\n",
      "  filter_interactions_values = correlation_matrix[ind.transpose().tolist()]\n"
     ]
    },
    {
     "name": "stdout",
     "output_type": "stream",
     "text": [
      "0.5  | AUROC: 0.053348486898902536  | AUPR: 0.46847098214285715  | SNR: 0.3349614983119293\n"
     ]
    },
    {
     "name": "stderr",
     "output_type": "stream",
     "text": [
      "/home/koolab/Documents/GLIFAC/Code/glifac.py:108: FutureWarning: Using a non-tuple sequence for multidimensional indexing is deprecated; use `arr[tuple(seq)]` instead of `arr[seq]`. In the future this will be interpreted as an array index, `arr[np.array(seq)]`, which will result either in an error or a different result.\n",
      "  filter_interactions = feature_maps[position_pairs].transpose([1, 2, 0])\n",
      "/home/koolab/Documents/GLIFAC/Code/glifac.py:28: RuntimeWarning: invalid value encountered in float_scalars\n",
      "  return top/bottom\n",
      "/home/koolab/Documents/GLIFAC/Code/glifac.py:46: FutureWarning: Using a non-tuple sequence for multidimensional indexing is deprecated; use `arr[tuple(seq)]` instead of `arr[seq]`. In the future this will be interpreted as an array index, `arr[np.array(seq)]`, which will result either in an error or a different result.\n",
      "  filter_interactions_values = correlation_matrix[ind.transpose().tolist()]\n"
     ]
    },
    {
     "name": "stdout",
     "output_type": "stream",
     "text": [
      "0.6  | AUROC: 0.054902386678195005  | AUPR: 0.4888392857142857  | SNR: 0.4005050954660964\n"
     ]
    },
    {
     "name": "stderr",
     "output_type": "stream",
     "text": [
      "/home/koolab/Documents/GLIFAC/Code/glifac.py:108: FutureWarning: Using a non-tuple sequence for multidimensional indexing is deprecated; use `arr[tuple(seq)]` instead of `arr[seq]`. In the future this will be interpreted as an array index, `arr[np.array(seq)]`, which will result either in an error or a different result.\n",
      "  filter_interactions = feature_maps[position_pairs].transpose([1, 2, 0])\n",
      "/home/koolab/Documents/GLIFAC/Code/glifac.py:28: RuntimeWarning: invalid value encountered in float_scalars\n",
      "  return top/bottom\n",
      "/home/koolab/Documents/GLIFAC/Code/glifac.py:46: FutureWarning: Using a non-tuple sequence for multidimensional indexing is deprecated; use `arr[tuple(seq)]` instead of `arr[seq]`. In the future this will be interpreted as an array index, `arr[np.array(seq)]`, which will result either in an error or a different result.\n",
      "  filter_interactions_values = correlation_matrix[ind.transpose().tolist()]\n"
     ]
    },
    {
     "name": "stdout",
     "output_type": "stream",
     "text": [
      "0.7  | AUROC: 0.053077575699644136  | AUPR: 0.484375  | SNR: 0.4745793064235189\n"
     ]
    },
    {
     "name": "stderr",
     "output_type": "stream",
     "text": [
      "/home/koolab/Documents/GLIFAC/Code/glifac.py:108: FutureWarning: Using a non-tuple sequence for multidimensional indexing is deprecated; use `arr[tuple(seq)]` instead of `arr[seq]`. In the future this will be interpreted as an array index, `arr[np.array(seq)]`, which will result either in an error or a different result.\n",
      "  filter_interactions = feature_maps[position_pairs].transpose([1, 2, 0])\n",
      "/home/koolab/Documents/GLIFAC/Code/glifac.py:28: RuntimeWarning: invalid value encountered in float_scalars\n",
      "  return top/bottom\n",
      "/home/koolab/Documents/GLIFAC/Code/glifac.py:46: FutureWarning: Using a non-tuple sequence for multidimensional indexing is deprecated; use `arr[tuple(seq)]` instead of `arr[seq]`. In the future this will be interpreted as an array index, `arr[np.array(seq)]`, which will result either in an error or a different result.\n",
      "  filter_interactions_values = correlation_matrix[ind.transpose().tolist()]\n"
     ]
    },
    {
     "name": "stdout",
     "output_type": "stream",
     "text": [
      "0.8  | AUROC: 0.06567495049787052  | AUPR: 0.5032366071428571  | SNR: 0.5722609304435764\n"
     ]
    },
    {
     "name": "stderr",
     "output_type": "stream",
     "text": [
      "/home/koolab/Documents/GLIFAC/Code/glifac.py:108: FutureWarning: Using a non-tuple sequence for multidimensional indexing is deprecated; use `arr[tuple(seq)]` instead of `arr[seq]`. In the future this will be interpreted as an array index, `arr[np.array(seq)]`, which will result either in an error or a different result.\n",
      "  filter_interactions = feature_maps[position_pairs].transpose([1, 2, 0])\n",
      "/home/koolab/Documents/GLIFAC/Code/glifac.py:28: RuntimeWarning: invalid value encountered in float_scalars\n",
      "  return top/bottom\n",
      "/home/koolab/Documents/GLIFAC/Code/glifac.py:46: FutureWarning: Using a non-tuple sequence for multidimensional indexing is deprecated; use `arr[tuple(seq)]` instead of `arr[seq]`. In the future this will be interpreted as an array index, `arr[np.array(seq)]`, which will result either in an error or a different result.\n",
      "  filter_interactions_values = correlation_matrix[ind.transpose().tolist()]\n"
     ]
    },
    {
     "name": "stdout",
     "output_type": "stream",
     "text": [
      "0.9  | AUROC: 0.07040144002660599  | AUPR: 0.5369977678571429  | SNR: 0.5834423477858653\n",
      "finished correlation interpretability\n",
      "saved statistics\n",
      "saved filters\n"
     ]
    },
    {
     "name": "stderr",
     "output_type": "stream",
     "text": [
      "/home/koolab/Documents/GLIFAC/Code/glifac_pipeline.py:297: MatplotlibDeprecationWarning: savefig() got unexpected keyword argument \"box_inches\" which is no longer supported as of 3.3 and will become an error two minor releases later\n",
      "  fig.savefig(glifac_dir, format='pdf', dpi=300, box_inches='tight')\n"
     ]
    },
    {
     "name": "stdout",
     "output_type": "stream",
     "text": [
      "saved glifac\n",
      "Epoch 1/100\n",
      "350/350 - 5s - loss: 0.2868 - auroc: 0.8503 - aupr: 0.5652 - val_loss: 0.2493 - val_auroc: 0.9713 - val_aupr: 0.8761\n",
      "Epoch 2/100\n",
      "350/350 - 5s - loss: 0.1305 - auroc: 0.9722 - aupr: 0.8903 - val_loss: 0.1035 - val_auroc: 0.9824 - val_aupr: 0.9299\n",
      "Epoch 3/100\n",
      "350/350 - 5s - loss: 0.1080 - auroc: 0.9797 - aupr: 0.9211 - val_loss: 0.0931 - val_auroc: 0.9857 - val_aupr: 0.9417\n",
      "Epoch 4/100\n",
      "350/350 - 5s - loss: 0.1027 - auroc: 0.9811 - aupr: 0.9275 - val_loss: 0.0813 - val_auroc: 0.9882 - val_aupr: 0.9518\n",
      "Epoch 5/100\n",
      "350/350 - 5s - loss: 0.0970 - auroc: 0.9831 - aupr: 0.9342 - val_loss: 0.0835 - val_auroc: 0.9874 - val_aupr: 0.9510\n",
      "Epoch 6/100\n",
      "350/350 - 5s - loss: 0.0939 - auroc: 0.9839 - aupr: 0.9380 - val_loss: 0.0813 - val_auroc: 0.9891 - val_aupr: 0.9521\n",
      "Epoch 7/100\n",
      "350/350 - 5s - loss: 0.0932 - auroc: 0.9842 - aupr: 0.9385 - val_loss: 0.0769 - val_auroc: 0.9893 - val_aupr: 0.9567\n",
      "Epoch 8/100\n",
      "350/350 - 5s - loss: 0.0920 - auroc: 0.9844 - aupr: 0.9397 - val_loss: 0.0766 - val_auroc: 0.9895 - val_aupr: 0.9571\n",
      "Epoch 9/100\n",
      "350/350 - 5s - loss: 0.0913 - auroc: 0.9845 - aupr: 0.9407 - val_loss: 0.0776 - val_auroc: 0.9897 - val_aupr: 0.9556\n",
      "Epoch 10/100\n",
      "350/350 - 5s - loss: 0.0899 - auroc: 0.9850 - aupr: 0.9422 - val_loss: 0.0766 - val_auroc: 0.9896 - val_aupr: 0.9585\n",
      "Epoch 11/100\n",
      "350/350 - 5s - loss: 0.0894 - auroc: 0.9851 - aupr: 0.9425 - val_loss: 0.0815 - val_auroc: 0.9873 - val_aupr: 0.9539\n",
      "Epoch 12/100\n",
      "350/350 - 5s - loss: 0.0893 - auroc: 0.9851 - aupr: 0.9423 - val_loss: 0.0753 - val_auroc: 0.9907 - val_aupr: 0.9593\n",
      "Epoch 13/100\n",
      "350/350 - 5s - loss: 0.0890 - auroc: 0.9851 - aupr: 0.9432 - val_loss: 0.0778 - val_auroc: 0.9886 - val_aupr: 0.9558\n",
      "Epoch 14/100\n",
      "350/350 - 5s - loss: 0.0886 - auroc: 0.9852 - aupr: 0.9434 - val_loss: 0.0745 - val_auroc: 0.9898 - val_aupr: 0.9590\n",
      "Epoch 15/100\n",
      "350/350 - 5s - loss: 0.0876 - auroc: 0.9856 - aupr: 0.9447 - val_loss: 0.0765 - val_auroc: 0.9901 - val_aupr: 0.9583\n",
      "Epoch 16/100\n",
      "350/350 - 5s - loss: 0.0881 - auroc: 0.9854 - aupr: 0.9441 - val_loss: 0.0747 - val_auroc: 0.9899 - val_aupr: 0.9594\n",
      "Epoch 17/100\n",
      "350/350 - 5s - loss: 0.0870 - auroc: 0.9859 - aupr: 0.9451 - val_loss: 0.0710 - val_auroc: 0.9913 - val_aupr: 0.9622\n",
      "Epoch 18/100\n",
      "350/350 - 5s - loss: 0.0865 - auroc: 0.9858 - aupr: 0.9457 - val_loss: 0.0744 - val_auroc: 0.9902 - val_aupr: 0.9601\n",
      "Epoch 19/100\n",
      "350/350 - 5s - loss: 0.0867 - auroc: 0.9857 - aupr: 0.9456 - val_loss: 0.0718 - val_auroc: 0.9906 - val_aupr: 0.9618\n",
      "Epoch 20/100\n",
      "350/350 - 5s - loss: 0.0862 - auroc: 0.9860 - aupr: 0.9465 - val_loss: 0.0723 - val_auroc: 0.9905 - val_aupr: 0.9607\n",
      "Epoch 21/100\n",
      "350/350 - 5s - loss: 0.0858 - auroc: 0.9862 - aupr: 0.9467 - val_loss: 0.0729 - val_auroc: 0.9905 - val_aupr: 0.9627\n",
      "Epoch 22/100\n",
      "350/350 - 5s - loss: 0.0858 - auroc: 0.9859 - aupr: 0.9466 - val_loss: 0.0713 - val_auroc: 0.9911 - val_aupr: 0.9624\n",
      "Epoch 23/100\n",
      "350/350 - 5s - loss: 0.0859 - auroc: 0.9859 - aupr: 0.9464 - val_loss: 0.0715 - val_auroc: 0.9909 - val_aupr: 0.9620\n",
      "Epoch 24/100\n",
      "350/350 - 5s - loss: 0.0852 - auroc: 0.9862 - aupr: 0.9475 - val_loss: 0.0708 - val_auroc: 0.9911 - val_aupr: 0.9624\n",
      "Epoch 25/100\n",
      "350/350 - 5s - loss: 0.0849 - auroc: 0.9863 - aupr: 0.9479 - val_loss: 0.0704 - val_auroc: 0.9914 - val_aupr: 0.9636\n",
      "Epoch 26/100\n",
      "350/350 - 5s - loss: 0.0843 - auroc: 0.9866 - aupr: 0.9485 - val_loss: 0.0714 - val_auroc: 0.9907 - val_aupr: 0.9625\n",
      "Epoch 27/100\n",
      "350/350 - 5s - loss: 0.0838 - auroc: 0.9867 - aupr: 0.9491 - val_loss: 0.0715 - val_auroc: 0.9913 - val_aupr: 0.9629\n",
      "Epoch 28/100\n",
      "350/350 - 5s - loss: 0.0837 - auroc: 0.9869 - aupr: 0.9495 - val_loss: 0.0712 - val_auroc: 0.9913 - val_aupr: 0.9629\n",
      "Epoch 29/100\n",
      "350/350 - 5s - loss: 0.0829 - auroc: 0.9870 - aupr: 0.9504 - val_loss: 0.0699 - val_auroc: 0.9912 - val_aupr: 0.9637\n",
      "Epoch 30/100\n",
      "350/350 - 5s - loss: 0.0820 - auroc: 0.9873 - aupr: 0.9514 - val_loss: 0.0705 - val_auroc: 0.9919 - val_aupr: 0.9641\n",
      "Epoch 31/100\n",
      "350/350 - 5s - loss: 0.0822 - auroc: 0.9872 - aupr: 0.9510 - val_loss: 0.0698 - val_auroc: 0.9916 - val_aupr: 0.9639\n",
      "Epoch 32/100\n",
      "350/350 - 5s - loss: 0.0814 - auroc: 0.9874 - aupr: 0.9516 - val_loss: 0.0717 - val_auroc: 0.9912 - val_aupr: 0.9628\n",
      "Epoch 33/100\n",
      "350/350 - 5s - loss: 0.0811 - auroc: 0.9874 - aupr: 0.9520 - val_loss: 0.0704 - val_auroc: 0.9914 - val_aupr: 0.9631\n",
      "Epoch 34/100\n",
      "350/350 - 5s - loss: 0.0808 - auroc: 0.9875 - aupr: 0.9527 - val_loss: 0.0707 - val_auroc: 0.9913 - val_aupr: 0.9621\n",
      "Epoch 35/100\n",
      "350/350 - 5s - loss: 0.0804 - auroc: 0.9875 - aupr: 0.9534 - val_loss: 0.0695 - val_auroc: 0.9917 - val_aupr: 0.9647\n",
      "Epoch 36/100\n",
      "350/350 - 5s - loss: 0.0800 - auroc: 0.9877 - aupr: 0.9536 - val_loss: 0.0703 - val_auroc: 0.9904 - val_aupr: 0.9634\n",
      "Epoch 37/100\n",
      "350/350 - 5s - loss: 0.0792 - auroc: 0.9878 - aupr: 0.9543 - val_loss: 0.0685 - val_auroc: 0.9916 - val_aupr: 0.9652\n",
      "Epoch 38/100\n",
      "350/350 - 5s - loss: 0.0787 - auroc: 0.9880 - aupr: 0.9550 - val_loss: 0.0704 - val_auroc: 0.9912 - val_aupr: 0.9634\n",
      "Epoch 39/100\n",
      "350/350 - 5s - loss: 0.0787 - auroc: 0.9880 - aupr: 0.9552 - val_loss: 0.0704 - val_auroc: 0.9913 - val_aupr: 0.9633\n",
      "Epoch 40/100\n",
      "350/350 - 5s - loss: 0.0785 - auroc: 0.9880 - aupr: 0.9551 - val_loss: 0.0683 - val_auroc: 0.9916 - val_aupr: 0.9655\n",
      "Epoch 41/100\n",
      "350/350 - 5s - loss: 0.0777 - auroc: 0.9882 - aupr: 0.9558 - val_loss: 0.0693 - val_auroc: 0.9914 - val_aupr: 0.9651\n",
      "Epoch 42/100\n",
      "350/350 - 5s - loss: 0.0767 - auroc: 0.9884 - aupr: 0.9567 - val_loss: 0.0691 - val_auroc: 0.9915 - val_aupr: 0.9647\n",
      "Epoch 43/100\n",
      "350/350 - 5s - loss: 0.0767 - auroc: 0.9887 - aupr: 0.9570 - val_loss: 0.0687 - val_auroc: 0.9915 - val_aupr: 0.9648\n",
      "Epoch 44/100\n",
      "350/350 - 5s - loss: 0.0763 - auroc: 0.9886 - aupr: 0.9573 - val_loss: 0.0681 - val_auroc: 0.9914 - val_aupr: 0.9655\n",
      "Epoch 45/100\n",
      "350/350 - 5s - loss: 0.0759 - auroc: 0.9887 - aupr: 0.9579 - val_loss: 0.0689 - val_auroc: 0.9916 - val_aupr: 0.9647\n",
      "Epoch 46/100\n",
      "350/350 - 5s - loss: 0.0757 - auroc: 0.9888 - aupr: 0.9583 - val_loss: 0.0686 - val_auroc: 0.9911 - val_aupr: 0.9643\n",
      "Epoch 47/100\n",
      "350/350 - 5s - loss: 0.0750 - auroc: 0.9891 - aupr: 0.9589 - val_loss: 0.0687 - val_auroc: 0.9914 - val_aupr: 0.9651\n",
      "Epoch 48/100\n",
      "350/350 - 5s - loss: 0.0751 - auroc: 0.9889 - aupr: 0.9588 - val_loss: 0.0684 - val_auroc: 0.9910 - val_aupr: 0.9650\n",
      "Epoch 49/100\n",
      "350/350 - 5s - loss: 0.0741 - auroc: 0.9891 - aupr: 0.9596 - val_loss: 0.0689 - val_auroc: 0.9913 - val_aupr: 0.9644\n",
      "Epoch 50/100\n",
      "350/350 - 5s - loss: 0.0740 - auroc: 0.9892 - aupr: 0.9601 - val_loss: 0.0686 - val_auroc: 0.9911 - val_aupr: 0.9645\n",
      "Epoch 51/100\n",
      "350/350 - 5s - loss: 0.0737 - auroc: 0.9892 - aupr: 0.9603 - val_loss: 0.0702 - val_auroc: 0.9906 - val_aupr: 0.9627\n",
      "Epoch 52/100\n",
      "350/350 - 5s - loss: 0.0736 - auroc: 0.9890 - aupr: 0.9603 - val_loss: 0.0688 - val_auroc: 0.9908 - val_aupr: 0.9645\n",
      "Epoch 53/100\n",
      "350/350 - 5s - loss: 0.0723 - auroc: 0.9897 - aupr: 0.9615 - val_loss: 0.0691 - val_auroc: 0.9910 - val_aupr: 0.9643\n",
      "Epoch 54/100\n",
      "\n",
      "Epoch 00054: ReduceLROnPlateau reducing learning rate to 0.00020000000949949026.\n",
      "350/350 - 5s - loss: 0.0723 - auroc: 0.9895 - aupr: 0.9618 - val_loss: 0.0691 - val_auroc: 0.9909 - val_aupr: 0.9638\n",
      "Epoch 55/100\n",
      "350/350 - 5s - loss: 0.0684 - auroc: 0.9907 - aupr: 0.9651 - val_loss: 0.0676 - val_auroc: 0.9918 - val_aupr: 0.9653\n",
      "Epoch 56/100\n",
      "350/350 - 5s - loss: 0.0686 - auroc: 0.9905 - aupr: 0.9650 - val_loss: 0.0676 - val_auroc: 0.9914 - val_aupr: 0.9656\n",
      "Epoch 57/100\n",
      "350/350 - 5s - loss: 0.0683 - auroc: 0.9906 - aupr: 0.9653 - val_loss: 0.0678 - val_auroc: 0.9916 - val_aupr: 0.9653\n",
      "Epoch 58/100\n",
      "350/350 - 5s - loss: 0.0681 - auroc: 0.9905 - aupr: 0.9656 - val_loss: 0.0676 - val_auroc: 0.9917 - val_aupr: 0.9655\n",
      "Epoch 59/100\n",
      "350/350 - 5s - loss: 0.0675 - auroc: 0.9906 - aupr: 0.9662 - val_loss: 0.0677 - val_auroc: 0.9915 - val_aupr: 0.9654\n",
      "Epoch 60/100\n",
      "350/350 - 5s - loss: 0.0673 - auroc: 0.9908 - aupr: 0.9663 - val_loss: 0.0678 - val_auroc: 0.9914 - val_aupr: 0.9650\n",
      "Epoch 61/100\n",
      "350/350 - 5s - loss: 0.0671 - auroc: 0.9907 - aupr: 0.9666 - val_loss: 0.0679 - val_auroc: 0.9914 - val_aupr: 0.9649\n",
      "Epoch 62/100\n",
      "350/350 - 5s - loss: 0.0670 - auroc: 0.9909 - aupr: 0.9665 - val_loss: 0.0680 - val_auroc: 0.9914 - val_aupr: 0.9649\n",
      "Epoch 63/100\n",
      "350/350 - 5s - loss: 0.0666 - auroc: 0.9909 - aupr: 0.9671 - val_loss: 0.0680 - val_auroc: 0.9912 - val_aupr: 0.9648\n"
     ]
    },
    {
     "name": "stdout",
     "output_type": "stream",
     "text": [
      "Epoch 64/100\n",
      "350/350 - 5s - loss: 0.0667 - auroc: 0.9908 - aupr: 0.9667 - val_loss: 0.0679 - val_auroc: 0.9914 - val_aupr: 0.9648\n",
      "Epoch 65/100\n",
      "\n",
      "Epoch 00065: ReduceLROnPlateau reducing learning rate to 4.0000001899898055e-05.\n",
      "350/350 - 5s - loss: 0.0662 - auroc: 0.9909 - aupr: 0.9675 - val_loss: 0.0682 - val_auroc: 0.9914 - val_aupr: 0.9649\n",
      "Epoch 66/100\n",
      "350/350 - 5s - loss: 0.0658 - auroc: 0.9910 - aupr: 0.9678 - val_loss: 0.0680 - val_auroc: 0.9913 - val_aupr: 0.9649\n",
      "Epoch 67/100\n",
      "350/350 - 5s - loss: 0.0658 - auroc: 0.9910 - aupr: 0.9677 - val_loss: 0.0681 - val_auroc: 0.9913 - val_aupr: 0.9649\n",
      "Epoch 68/100\n",
      "350/350 - 5s - loss: 0.0661 - auroc: 0.9909 - aupr: 0.9675 - val_loss: 0.0681 - val_auroc: 0.9913 - val_aupr: 0.9647\n",
      "Epoch 69/100\n",
      "350/350 - 5s - loss: 0.0657 - auroc: 0.9910 - aupr: 0.9680 - val_loss: 0.0681 - val_auroc: 0.9913 - val_aupr: 0.9647\n",
      "Epoch 70/100\n",
      "Restoring model weights from the end of the best epoch.\n",
      "350/350 - 5s - loss: 0.0650 - auroc: 0.9914 - aupr: 0.9683 - val_loss: 0.0682 - val_auroc: 0.9913 - val_aupr: 0.9647\n",
      "Epoch 00070: early stopping\n",
      "625/625 [==============================] - 1s 2ms/step - loss: 0.0679 - auroc: 0.9915 - aupr: 0.9651\n",
      "generated PPMs\n",
      "TomTom TPR:  0.90625\n",
      "TomTom FPR:  0.03125\n",
      "Motif coverage:  1.0\n",
      "completed TomTom analysis\n",
      "completed clustering\n"
     ]
    },
    {
     "name": "stderr",
     "output_type": "stream",
     "text": [
      "/home/koolab/Documents/GLIFAC/Code/glifac.py:108: FutureWarning: Using a non-tuple sequence for multidimensional indexing is deprecated; use `arr[tuple(seq)]` instead of `arr[seq]`. In the future this will be interpreted as an array index, `arr[np.array(seq)]`, which will result either in an error or a different result.\n",
      "  filter_interactions = feature_maps[position_pairs].transpose([1, 2, 0])\n",
      "/home/koolab/Documents/GLIFAC/Code/glifac.py:46: FutureWarning: Using a non-tuple sequence for multidimensional indexing is deprecated; use `arr[tuple(seq)]` instead of `arr[seq]`. In the future this will be interpreted as an array index, `arr[np.array(seq)]`, which will result either in an error or a different result.\n",
      "  filter_interactions_values = correlation_matrix[ind.transpose().tolist()]\n"
     ]
    },
    {
     "name": "stdout",
     "output_type": "stream",
     "text": [
      "0.0  | AUROC: 0.9129626145556526  | AUPR: 0.9940271309981777  | SNR: 2.436200180491363\n"
     ]
    },
    {
     "name": "stderr",
     "output_type": "stream",
     "text": [
      "/home/koolab/Documents/GLIFAC/Code/glifac.py:108: FutureWarning: Using a non-tuple sequence for multidimensional indexing is deprecated; use `arr[tuple(seq)]` instead of `arr[seq]`. In the future this will be interpreted as an array index, `arr[np.array(seq)]`, which will result either in an error or a different result.\n",
      "  filter_interactions = feature_maps[position_pairs].transpose([1, 2, 0])\n",
      "/home/koolab/Documents/GLIFAC/Code/glifac.py:46: FutureWarning: Using a non-tuple sequence for multidimensional indexing is deprecated; use `arr[tuple(seq)]` instead of `arr[seq]`. In the future this will be interpreted as an array index, `arr[np.array(seq)]`, which will result either in an error or a different result.\n",
      "  filter_interactions_values = correlation_matrix[ind.transpose().tolist()]\n"
     ]
    },
    {
     "name": "stdout",
     "output_type": "stream",
     "text": [
      "0.1  | AUROC: 0.12132337826566644  | AUPR: 0.6687588580684349  | SNR: 0.6724146015919314\n"
     ]
    },
    {
     "name": "stderr",
     "output_type": "stream",
     "text": [
      "/home/koolab/Documents/GLIFAC/Code/glifac.py:108: FutureWarning: Using a non-tuple sequence for multidimensional indexing is deprecated; use `arr[tuple(seq)]` instead of `arr[seq]`. In the future this will be interpreted as an array index, `arr[np.array(seq)]`, which will result either in an error or a different result.\n",
      "  filter_interactions = feature_maps[position_pairs].transpose([1, 2, 0])\n",
      "/home/koolab/Documents/GLIFAC/Code/glifac.py:28: RuntimeWarning: invalid value encountered in float_scalars\n",
      "  return top/bottom\n",
      "/home/koolab/Documents/GLIFAC/Code/glifac.py:46: FutureWarning: Using a non-tuple sequence for multidimensional indexing is deprecated; use `arr[tuple(seq)]` instead of `arr[seq]`. In the future this will be interpreted as an array index, `arr[np.array(seq)]`, which will result either in an error or a different result.\n",
      "  filter_interactions_values = correlation_matrix[ind.transpose().tolist()]\n"
     ]
    },
    {
     "name": "stdout",
     "output_type": "stream",
     "text": [
      "0.2  | AUROC: 0.09019942337291145  | AUPR: 0.5985017209961531  | SNR: 0.5279236628848495\n"
     ]
    },
    {
     "name": "stderr",
     "output_type": "stream",
     "text": [
      "/home/koolab/Documents/GLIFAC/Code/glifac.py:108: FutureWarning: Using a non-tuple sequence for multidimensional indexing is deprecated; use `arr[tuple(seq)]` instead of `arr[seq]`. In the future this will be interpreted as an array index, `arr[np.array(seq)]`, which will result either in an error or a different result.\n",
      "  filter_interactions = feature_maps[position_pairs].transpose([1, 2, 0])\n",
      "/home/koolab/Documents/GLIFAC/Code/glifac.py:28: RuntimeWarning: invalid value encountered in float_scalars\n",
      "  return top/bottom\n",
      "/home/koolab/Documents/GLIFAC/Code/glifac.py:46: FutureWarning: Using a non-tuple sequence for multidimensional indexing is deprecated; use `arr[tuple(seq)]` instead of `arr[seq]`. In the future this will be interpreted as an array index, `arr[np.array(seq)]`, which will result either in an error or a different result.\n",
      "  filter_interactions_values = correlation_matrix[ind.transpose().tolist()]\n"
     ]
    },
    {
     "name": "stdout",
     "output_type": "stream",
     "text": [
      "0.3  | AUROC: 0.07843537150222095  | AUPR: 0.5334075723830735  | SNR: 0.44040285693118464\n"
     ]
    },
    {
     "name": "stderr",
     "output_type": "stream",
     "text": [
      "/home/koolab/Documents/GLIFAC/Code/glifac.py:108: FutureWarning: Using a non-tuple sequence for multidimensional indexing is deprecated; use `arr[tuple(seq)]` instead of `arr[seq]`. In the future this will be interpreted as an array index, `arr[np.array(seq)]`, which will result either in an error or a different result.\n",
      "  filter_interactions = feature_maps[position_pairs].transpose([1, 2, 0])\n",
      "/home/koolab/Documents/GLIFAC/Code/glifac.py:28: RuntimeWarning: invalid value encountered in float_scalars\n",
      "  return top/bottom\n",
      "/home/koolab/Documents/GLIFAC/Code/glifac.py:46: FutureWarning: Using a non-tuple sequence for multidimensional indexing is deprecated; use `arr[tuple(seq)]` instead of `arr[seq]`. In the future this will be interpreted as an array index, `arr[np.array(seq)]`, which will result either in an error or a different result.\n",
      "  filter_interactions_values = correlation_matrix[ind.transpose().tolist()]\n"
     ]
    },
    {
     "name": "stdout",
     "output_type": "stream",
     "text": [
      "0.4  | AUROC: 0.06462056792239979  | AUPR: 0.4593035027333468  | SNR: 0.3506043846634616\n"
     ]
    },
    {
     "name": "stderr",
     "output_type": "stream",
     "text": [
      "/home/koolab/Documents/GLIFAC/Code/glifac.py:108: FutureWarning: Using a non-tuple sequence for multidimensional indexing is deprecated; use `arr[tuple(seq)]` instead of `arr[seq]`. In the future this will be interpreted as an array index, `arr[np.array(seq)]`, which will result either in an error or a different result.\n",
      "  filter_interactions = feature_maps[position_pairs].transpose([1, 2, 0])\n",
      "/home/koolab/Documents/GLIFAC/Code/glifac.py:28: RuntimeWarning: invalid value encountered in float_scalars\n",
      "  return top/bottom\n",
      "/home/koolab/Documents/GLIFAC/Code/glifac.py:46: FutureWarning: Using a non-tuple sequence for multidimensional indexing is deprecated; use `arr[tuple(seq)]` instead of `arr[seq]`. In the future this will be interpreted as an array index, `arr[np.array(seq)]`, which will result either in an error or a different result.\n",
      "  filter_interactions_values = correlation_matrix[ind.transpose().tolist()]\n"
     ]
    },
    {
     "name": "stdout",
     "output_type": "stream",
     "text": [
      "0.5  | AUROC: 0.0596395569061334  | AUPR: 0.40949584936221906  | SNR: 0.27798707594314637\n"
     ]
    },
    {
     "name": "stderr",
     "output_type": "stream",
     "text": [
      "/home/koolab/Documents/GLIFAC/Code/glifac.py:108: FutureWarning: Using a non-tuple sequence for multidimensional indexing is deprecated; use `arr[tuple(seq)]` instead of `arr[seq]`. In the future this will be interpreted as an array index, `arr[np.array(seq)]`, which will result either in an error or a different result.\n",
      "  filter_interactions = feature_maps[position_pairs].transpose([1, 2, 0])\n",
      "/home/koolab/Documents/GLIFAC/Code/glifac.py:28: RuntimeWarning: invalid value encountered in float_scalars\n",
      "  return top/bottom\n",
      "/home/koolab/Documents/GLIFAC/Code/glifac.py:46: FutureWarning: Using a non-tuple sequence for multidimensional indexing is deprecated; use `arr[tuple(seq)]` instead of `arr[seq]`. In the future this will be interpreted as an array index, `arr[np.array(seq)]`, which will result either in an error or a different result.\n",
      "  filter_interactions_values = correlation_matrix[ind.transpose().tolist()]\n"
     ]
    },
    {
     "name": "stdout",
     "output_type": "stream",
     "text": [
      "0.6  | AUROC: 0.05548261955919553  | AUPR: 0.40736991293784164  | SNR: 0.21126417923637603\n"
     ]
    },
    {
     "name": "stderr",
     "output_type": "stream",
     "text": [
      "/home/koolab/Documents/GLIFAC/Code/glifac.py:108: FutureWarning: Using a non-tuple sequence for multidimensional indexing is deprecated; use `arr[tuple(seq)]` instead of `arr[seq]`. In the future this will be interpreted as an array index, `arr[np.array(seq)]`, which will result either in an error or a different result.\n",
      "  filter_interactions = feature_maps[position_pairs].transpose([1, 2, 0])\n",
      "/home/koolab/Documents/GLIFAC/Code/glifac.py:28: RuntimeWarning: invalid value encountered in float_scalars\n",
      "  return top/bottom\n",
      "/home/koolab/Documents/GLIFAC/Code/glifac.py:46: FutureWarning: Using a non-tuple sequence for multidimensional indexing is deprecated; use `arr[tuple(seq)]` instead of `arr[seq]`. In the future this will be interpreted as an array index, `arr[np.array(seq)]`, which will result either in an error or a different result.\n",
      "  filter_interactions_values = correlation_matrix[ind.transpose().tolist()]\n"
     ]
    },
    {
     "name": "stdout",
     "output_type": "stream",
     "text": [
      "0.7  | AUROC: 0.04825895475395415  | AUPR: 0.40159951407167443  | SNR: 0.1529568885766686\n"
     ]
    },
    {
     "name": "stderr",
     "output_type": "stream",
     "text": [
      "/home/koolab/Documents/GLIFAC/Code/glifac.py:108: FutureWarning: Using a non-tuple sequence for multidimensional indexing is deprecated; use `arr[tuple(seq)]` instead of `arr[seq]`. In the future this will be interpreted as an array index, `arr[np.array(seq)]`, which will result either in an error or a different result.\n",
      "  filter_interactions = feature_maps[position_pairs].transpose([1, 2, 0])\n",
      "/home/koolab/Documents/GLIFAC/Code/glifac.py:28: RuntimeWarning: invalid value encountered in float_scalars\n",
      "  return top/bottom\n",
      "/home/koolab/Documents/GLIFAC/Code/glifac.py:46: FutureWarning: Using a non-tuple sequence for multidimensional indexing is deprecated; use `arr[tuple(seq)]` instead of `arr[seq]`. In the future this will be interpreted as an array index, `arr[np.array(seq)]`, which will result either in an error or a different result.\n",
      "  filter_interactions_values = correlation_matrix[ind.transpose().tolist()]\n"
     ]
    },
    {
     "name": "stdout",
     "output_type": "stream",
     "text": [
      "0.8  | AUROC: 0.04398667177458565  | AUPR: 0.37122899372342577  | SNR: 0.13988754510581888\n"
     ]
    },
    {
     "name": "stderr",
     "output_type": "stream",
     "text": [
      "/home/koolab/Documents/GLIFAC/Code/glifac.py:108: FutureWarning: Using a non-tuple sequence for multidimensional indexing is deprecated; use `arr[tuple(seq)]` instead of `arr[seq]`. In the future this will be interpreted as an array index, `arr[np.array(seq)]`, which will result either in an error or a different result.\n",
      "  filter_interactions = feature_maps[position_pairs].transpose([1, 2, 0])\n",
      "/home/koolab/Documents/GLIFAC/Code/glifac.py:28: RuntimeWarning: invalid value encountered in float_scalars\n",
      "  return top/bottom\n",
      "/home/koolab/Documents/GLIFAC/Code/glifac.py:46: FutureWarning: Using a non-tuple sequence for multidimensional indexing is deprecated; use `arr[tuple(seq)]` instead of `arr[seq]`. In the future this will be interpreted as an array index, `arr[np.array(seq)]`, which will result either in an error or a different result.\n",
      "  filter_interactions_values = correlation_matrix[ind.transpose().tolist()]\n"
     ]
    },
    {
     "name": "stdout",
     "output_type": "stream",
     "text": [
      "0.9  | AUROC: 0.04603651331964507  | AUPR: 0.37001417290949584  | SNR: 0.18026392282772002\n",
      "finished correlation interpretability\n",
      "saved statistics\n",
      "saved filters\n"
     ]
    },
    {
     "name": "stderr",
     "output_type": "stream",
     "text": [
      "/home/koolab/Documents/GLIFAC/Code/glifac_pipeline.py:297: MatplotlibDeprecationWarning: savefig() got unexpected keyword argument \"box_inches\" which is no longer supported as of 3.3 and will become an error two minor releases later\n",
      "  fig.savefig(glifac_dir, format='pdf', dpi=300, box_inches='tight')\n"
     ]
    },
    {
     "name": "stdout",
     "output_type": "stream",
     "text": [
      "saved glifac\n",
      "Epoch 1/100\n",
      "350/350 - 5s - loss: 0.2923 - auroc: 0.8402 - aupr: 0.5575 - val_loss: 0.2696 - val_auroc: 0.9643 - val_aupr: 0.8597\n",
      "Epoch 2/100\n",
      "350/350 - 5s - loss: 0.1299 - auroc: 0.9719 - aupr: 0.8926 - val_loss: 0.1005 - val_auroc: 0.9834 - val_aupr: 0.9367\n",
      "Epoch 3/100\n",
      "350/350 - 5s - loss: 0.1089 - auroc: 0.9798 - aupr: 0.9202 - val_loss: 0.0873 - val_auroc: 0.9862 - val_aupr: 0.9465\n",
      "Epoch 4/100\n",
      "350/350 - 5s - loss: 0.0998 - auroc: 0.9826 - aupr: 0.9308 - val_loss: 0.0839 - val_auroc: 0.9886 - val_aupr: 0.9491\n",
      "Epoch 5/100\n",
      "350/350 - 5s - loss: 0.0960 - auroc: 0.9838 - aupr: 0.9348 - val_loss: 0.1028 - val_auroc: 0.9815 - val_aupr: 0.9356\n",
      "Epoch 6/100\n",
      "350/350 - 5s - loss: 0.0946 - auroc: 0.9841 - aupr: 0.9360 - val_loss: 0.0787 - val_auroc: 0.9889 - val_aupr: 0.9547\n",
      "Epoch 7/100\n",
      "350/350 - 5s - loss: 0.0922 - auroc: 0.9847 - aupr: 0.9390 - val_loss: 0.0756 - val_auroc: 0.9895 - val_aupr: 0.9576\n",
      "Epoch 8/100\n",
      "350/350 - 5s - loss: 0.0910 - auroc: 0.9851 - aupr: 0.9402 - val_loss: 0.0748 - val_auroc: 0.9904 - val_aupr: 0.9595\n",
      "Epoch 9/100\n",
      "350/350 - 5s - loss: 0.0901 - auroc: 0.9853 - aupr: 0.9411 - val_loss: 0.0799 - val_auroc: 0.9891 - val_aupr: 0.9543\n",
      "Epoch 10/100\n",
      "350/350 - 5s - loss: 0.0895 - auroc: 0.9855 - aupr: 0.9413 - val_loss: 0.0756 - val_auroc: 0.9893 - val_aupr: 0.9572\n",
      "Epoch 11/100\n",
      "350/350 - 5s - loss: 0.0892 - auroc: 0.9855 - aupr: 0.9417 - val_loss: 0.0743 - val_auroc: 0.9899 - val_aupr: 0.9589\n",
      "Epoch 12/100\n",
      "350/350 - 5s - loss: 0.0890 - auroc: 0.9855 - aupr: 0.9420 - val_loss: 0.0801 - val_auroc: 0.9895 - val_aupr: 0.9551\n",
      "Epoch 13/100\n",
      "350/350 - 5s - loss: 0.0877 - auroc: 0.9859 - aupr: 0.9435 - val_loss: 0.0754 - val_auroc: 0.9906 - val_aupr: 0.9580\n",
      "Epoch 14/100\n",
      "350/350 - 5s - loss: 0.0875 - auroc: 0.9859 - aupr: 0.9435 - val_loss: 0.0767 - val_auroc: 0.9899 - val_aupr: 0.9581\n",
      "Epoch 15/100\n",
      "350/350 - 5s - loss: 0.0871 - auroc: 0.9860 - aupr: 0.9441 - val_loss: 0.0750 - val_auroc: 0.9891 - val_aupr: 0.9592\n",
      "Epoch 16/100\n",
      "350/350 - 5s - loss: 0.0870 - auroc: 0.9860 - aupr: 0.9441 - val_loss: 0.0748 - val_auroc: 0.9907 - val_aupr: 0.9580\n",
      "Epoch 17/100\n",
      "350/350 - 5s - loss: 0.0864 - auroc: 0.9862 - aupr: 0.9450 - val_loss: 0.0722 - val_auroc: 0.9909 - val_aupr: 0.9617\n",
      "Epoch 18/100\n",
      "350/350 - 5s - loss: 0.0861 - auroc: 0.9865 - aupr: 0.9450 - val_loss: 0.0728 - val_auroc: 0.9918 - val_aupr: 0.9605\n",
      "Epoch 19/100\n",
      "350/350 - 5s - loss: 0.0860 - auroc: 0.9863 - aupr: 0.9451 - val_loss: 0.0722 - val_auroc: 0.9910 - val_aupr: 0.9614\n",
      "Epoch 20/100\n",
      "350/350 - 5s - loss: 0.0861 - auroc: 0.9863 - aupr: 0.9451 - val_loss: 0.0726 - val_auroc: 0.9909 - val_aupr: 0.9609\n",
      "Epoch 21/100\n",
      "350/350 - 5s - loss: 0.0851 - auroc: 0.9867 - aupr: 0.9464 - val_loss: 0.0729 - val_auroc: 0.9904 - val_aupr: 0.9615\n",
      "Epoch 22/100\n",
      "350/350 - 5s - loss: 0.0851 - auroc: 0.9865 - aupr: 0.9465 - val_loss: 0.0719 - val_auroc: 0.9914 - val_aupr: 0.9622\n",
      "Epoch 23/100\n",
      "350/350 - 5s - loss: 0.0842 - auroc: 0.9869 - aupr: 0.9474 - val_loss: 0.0723 - val_auroc: 0.9911 - val_aupr: 0.9612\n",
      "Epoch 24/100\n",
      "350/350 - 5s - loss: 0.0840 - auroc: 0.9870 - aupr: 0.9475 - val_loss: 0.0719 - val_auroc: 0.9910 - val_aupr: 0.9619\n",
      "Epoch 25/100\n",
      "350/350 - 5s - loss: 0.0839 - auroc: 0.9869 - aupr: 0.9473 - val_loss: 0.0717 - val_auroc: 0.9913 - val_aupr: 0.9617\n",
      "Epoch 26/100\n",
      "350/350 - 5s - loss: 0.0827 - auroc: 0.9875 - aupr: 0.9491 - val_loss: 0.0718 - val_auroc: 0.9907 - val_aupr: 0.9610\n",
      "Epoch 27/100\n",
      "350/350 - 5s - loss: 0.0827 - auroc: 0.9873 - aupr: 0.9493 - val_loss: 0.0700 - val_auroc: 0.9916 - val_aupr: 0.9631\n",
      "Epoch 28/100\n",
      "350/350 - 5s - loss: 0.0818 - auroc: 0.9877 - aupr: 0.9500 - val_loss: 0.0712 - val_auroc: 0.9913 - val_aupr: 0.9620\n",
      "Epoch 29/100\n",
      "350/350 - 5s - loss: 0.0819 - auroc: 0.9876 - aupr: 0.9497 - val_loss: 0.0719 - val_auroc: 0.9913 - val_aupr: 0.9625\n",
      "Epoch 30/100\n",
      "350/350 - 5s - loss: 0.0817 - auroc: 0.9876 - aupr: 0.9500 - val_loss: 0.0717 - val_auroc: 0.9911 - val_aupr: 0.9614\n",
      "Epoch 31/100\n",
      "350/350 - 5s - loss: 0.0814 - auroc: 0.9876 - aupr: 0.9505 - val_loss: 0.0716 - val_auroc: 0.9916 - val_aupr: 0.9622\n",
      "Epoch 32/100\n",
      "350/350 - 5s - loss: 0.0810 - auroc: 0.9875 - aupr: 0.9512 - val_loss: 0.0704 - val_auroc: 0.9908 - val_aupr: 0.9628\n",
      "Epoch 33/100\n",
      "350/350 - 5s - loss: 0.0809 - auroc: 0.9877 - aupr: 0.9513 - val_loss: 0.0702 - val_auroc: 0.9911 - val_aupr: 0.9639\n",
      "Epoch 34/100\n",
      "350/350 - 5s - loss: 0.0804 - auroc: 0.9878 - aupr: 0.9519 - val_loss: 0.0695 - val_auroc: 0.9914 - val_aupr: 0.9640\n",
      "Epoch 35/100\n",
      "350/350 - 5s - loss: 0.0801 - auroc: 0.9879 - aupr: 0.9519 - val_loss: 0.0700 - val_auroc: 0.9912 - val_aupr: 0.9634\n",
      "Epoch 36/100\n",
      "350/350 - 5s - loss: 0.0789 - auroc: 0.9884 - aupr: 0.9534 - val_loss: 0.0710 - val_auroc: 0.9913 - val_aupr: 0.9631\n",
      "Epoch 37/100\n",
      "350/350 - 5s - loss: 0.0787 - auroc: 0.9883 - aupr: 0.9534 - val_loss: 0.0694 - val_auroc: 0.9915 - val_aupr: 0.9640\n",
      "Epoch 38/100\n",
      "350/350 - 5s - loss: 0.0788 - auroc: 0.9883 - aupr: 0.9536 - val_loss: 0.0688 - val_auroc: 0.9914 - val_aupr: 0.9643\n",
      "Epoch 39/100\n",
      "350/350 - 5s - loss: 0.0783 - auroc: 0.9884 - aupr: 0.9542 - val_loss: 0.0698 - val_auroc: 0.9918 - val_aupr: 0.9637\n",
      "Epoch 40/100\n",
      "350/350 - 5s - loss: 0.0782 - auroc: 0.9883 - aupr: 0.9544 - val_loss: 0.0694 - val_auroc: 0.9915 - val_aupr: 0.9640\n",
      "Epoch 41/100\n",
      "350/350 - 5s - loss: 0.0776 - auroc: 0.9886 - aupr: 0.9553 - val_loss: 0.0689 - val_auroc: 0.9916 - val_aupr: 0.9642\n",
      "Epoch 42/100\n",
      "350/350 - 5s - loss: 0.0770 - auroc: 0.9887 - aupr: 0.9555 - val_loss: 0.0688 - val_auroc: 0.9917 - val_aupr: 0.9643\n",
      "Epoch 43/100\n",
      "350/350 - 5s - loss: 0.0770 - auroc: 0.9887 - aupr: 0.9557 - val_loss: 0.0696 - val_auroc: 0.9917 - val_aupr: 0.9623\n",
      "Epoch 44/100\n",
      "350/350 - 5s - loss: 0.0764 - auroc: 0.9889 - aupr: 0.9566 - val_loss: 0.0702 - val_auroc: 0.9913 - val_aupr: 0.9627\n",
      "Epoch 45/100\n",
      "350/350 - 5s - loss: 0.0758 - auroc: 0.9889 - aupr: 0.9568 - val_loss: 0.0707 - val_auroc: 0.9907 - val_aupr: 0.9625\n",
      "Epoch 46/100\n",
      "350/350 - 5s - loss: 0.0760 - auroc: 0.9890 - aupr: 0.9566 - val_loss: 0.0697 - val_auroc: 0.9911 - val_aupr: 0.9631\n",
      "Epoch 47/100\n",
      "350/350 - 5s - loss: 0.0750 - auroc: 0.9893 - aupr: 0.9578 - val_loss: 0.0697 - val_auroc: 0.9910 - val_aupr: 0.9630\n",
      "Epoch 48/100\n",
      "\n",
      "Epoch 00048: ReduceLROnPlateau reducing learning rate to 0.00020000000949949026.\n",
      "350/350 - 5s - loss: 0.0755 - auroc: 0.9890 - aupr: 0.9573 - val_loss: 0.0702 - val_auroc: 0.9915 - val_aupr: 0.9630\n",
      "Epoch 49/100\n",
      "350/350 - 5s - loss: 0.0716 - auroc: 0.9901 - aupr: 0.9611 - val_loss: 0.0682 - val_auroc: 0.9919 - val_aupr: 0.9644\n",
      "Epoch 50/100\n",
      "350/350 - 5s - loss: 0.0718 - auroc: 0.9900 - aupr: 0.9609 - val_loss: 0.0684 - val_auroc: 0.9917 - val_aupr: 0.9644\n",
      "Epoch 51/100\n",
      "350/350 - 5s - loss: 0.0708 - auroc: 0.9904 - aupr: 0.9618 - val_loss: 0.0686 - val_auroc: 0.9918 - val_aupr: 0.9641\n",
      "Epoch 52/100\n",
      "350/350 - 5s - loss: 0.0709 - auroc: 0.9902 - aupr: 0.9619 - val_loss: 0.0685 - val_auroc: 0.9916 - val_aupr: 0.9641\n",
      "Epoch 53/100\n",
      "350/350 - 5s - loss: 0.0701 - auroc: 0.9905 - aupr: 0.9627 - val_loss: 0.0686 - val_auroc: 0.9917 - val_aupr: 0.9641\n",
      "Epoch 54/100\n",
      "350/350 - 5s - loss: 0.0704 - auroc: 0.9904 - aupr: 0.9624 - val_loss: 0.0686 - val_auroc: 0.9917 - val_aupr: 0.9640\n",
      "Epoch 55/100\n",
      "350/350 - 5s - loss: 0.0701 - auroc: 0.9905 - aupr: 0.9627 - val_loss: 0.0686 - val_auroc: 0.9916 - val_aupr: 0.9639\n",
      "Epoch 56/100\n",
      "350/350 - 5s - loss: 0.0697 - auroc: 0.9907 - aupr: 0.9630 - val_loss: 0.0685 - val_auroc: 0.9919 - val_aupr: 0.9644\n",
      "Epoch 57/100\n",
      "350/350 - 5s - loss: 0.0698 - auroc: 0.9904 - aupr: 0.9630 - val_loss: 0.0686 - val_auroc: 0.9914 - val_aupr: 0.9642\n",
      "Epoch 58/100\n",
      "350/350 - 5s - loss: 0.0703 - auroc: 0.9902 - aupr: 0.9624 - val_loss: 0.0688 - val_auroc: 0.9914 - val_aupr: 0.9638\n",
      "Epoch 59/100\n",
      "\n",
      "Epoch 00059: ReduceLROnPlateau reducing learning rate to 4.0000001899898055e-05.\n",
      "350/350 - 5s - loss: 0.0697 - auroc: 0.9904 - aupr: 0.9631 - val_loss: 0.0686 - val_auroc: 0.9916 - val_aupr: 0.9640\n",
      "Epoch 60/100\n",
      "350/350 - 5s - loss: 0.0685 - auroc: 0.9909 - aupr: 0.9645 - val_loss: 0.0683 - val_auroc: 0.9917 - val_aupr: 0.9642\n",
      "Epoch 61/100\n",
      "350/350 - 5s - loss: 0.0695 - auroc: 0.9905 - aupr: 0.9634 - val_loss: 0.0684 - val_auroc: 0.9915 - val_aupr: 0.9640\n",
      "Epoch 62/100\n",
      "350/350 - 5s - loss: 0.0688 - auroc: 0.9908 - aupr: 0.9643 - val_loss: 0.0684 - val_auroc: 0.9915 - val_aupr: 0.9641\n"
     ]
    },
    {
     "name": "stdout",
     "output_type": "stream",
     "text": [
      "Epoch 63/100\n",
      "350/350 - 5s - loss: 0.0685 - auroc: 0.9909 - aupr: 0.9645 - val_loss: 0.0684 - val_auroc: 0.9916 - val_aupr: 0.9641\n",
      "Epoch 64/100\n",
      "Restoring model weights from the end of the best epoch.\n",
      "350/350 - 5s - loss: 0.0686 - auroc: 0.9910 - aupr: 0.9642 - val_loss: 0.0685 - val_auroc: 0.9916 - val_aupr: 0.9641\n",
      "Epoch 00064: early stopping\n",
      "625/625 [==============================] - 1s 2ms/step - loss: 0.0681 - auroc: 0.9914 - aupr: 0.9648\n",
      "generated PPMs\n",
      "TomTom TPR:  0.96875\n",
      "TomTom FPR:  0.0\n",
      "Motif coverage:  1.0\n",
      "completed TomTom analysis\n",
      "completed clustering\n"
     ]
    },
    {
     "name": "stderr",
     "output_type": "stream",
     "text": [
      "/home/koolab/Documents/GLIFAC/Code/glifac.py:108: FutureWarning: Using a non-tuple sequence for multidimensional indexing is deprecated; use `arr[tuple(seq)]` instead of `arr[seq]`. In the future this will be interpreted as an array index, `arr[np.array(seq)]`, which will result either in an error or a different result.\n",
      "  filter_interactions = feature_maps[position_pairs].transpose([1, 2, 0])\n",
      "/home/koolab/Documents/GLIFAC/Code/glifac.py:46: FutureWarning: Using a non-tuple sequence for multidimensional indexing is deprecated; use `arr[tuple(seq)]` instead of `arr[seq]`. In the future this will be interpreted as an array index, `arr[np.array(seq)]`, which will result either in an error or a different result.\n",
      "  filter_interactions_values = correlation_matrix[ind.transpose().tolist()]\n"
     ]
    },
    {
     "name": "stdout",
     "output_type": "stream",
     "text": [
      "0.0  | AUROC: 0.9841430398554052  | AUPR: 0.9989700374531836  | SNR: 3.0831287328519137\n"
     ]
    },
    {
     "name": "stderr",
     "output_type": "stream",
     "text": [
      "/home/koolab/Documents/GLIFAC/Code/glifac.py:108: FutureWarning: Using a non-tuple sequence for multidimensional indexing is deprecated; use `arr[tuple(seq)]` instead of `arr[seq]`. In the future this will be interpreted as an array index, `arr[np.array(seq)]`, which will result either in an error or a different result.\n",
      "  filter_interactions = feature_maps[position_pairs].transpose([1, 2, 0])\n",
      "/home/koolab/Documents/GLIFAC/Code/glifac.py:46: FutureWarning: Using a non-tuple sequence for multidimensional indexing is deprecated; use `arr[tuple(seq)]` instead of `arr[seq]`. In the future this will be interpreted as an array index, `arr[np.array(seq)]`, which will result either in an error or a different result.\n",
      "  filter_interactions_values = correlation_matrix[ind.transpose().tolist()]\n"
     ]
    },
    {
     "name": "stdout",
     "output_type": "stream",
     "text": [
      "0.1  | AUROC: 0.15868839704549126  | AUPR: 0.721441947565543  | SNR: 0.8615238300639381\n"
     ]
    },
    {
     "name": "stderr",
     "output_type": "stream",
     "text": [
      "/home/koolab/Documents/GLIFAC/Code/glifac.py:108: FutureWarning: Using a non-tuple sequence for multidimensional indexing is deprecated; use `arr[tuple(seq)]` instead of `arr[seq]`. In the future this will be interpreted as an array index, `arr[np.array(seq)]`, which will result either in an error or a different result.\n",
      "  filter_interactions = feature_maps[position_pairs].transpose([1, 2, 0])\n",
      "/home/koolab/Documents/GLIFAC/Code/glifac.py:28: RuntimeWarning: invalid value encountered in float_scalars\n",
      "  return top/bottom\n",
      "/home/koolab/Documents/GLIFAC/Code/glifac.py:46: FutureWarning: Using a non-tuple sequence for multidimensional indexing is deprecated; use `arr[tuple(seq)]` instead of `arr[seq]`. In the future this will be interpreted as an array index, `arr[np.array(seq)]`, which will result either in an error or a different result.\n",
      "  filter_interactions_values = correlation_matrix[ind.transpose().tolist()]\n"
     ]
    },
    {
     "name": "stdout",
     "output_type": "stream",
     "text": [
      "0.2  | AUROC: 0.1500610308678306  | AUPR: 0.6342696629213483  | SNR: 0.8253130883641726\n"
     ]
    },
    {
     "name": "stderr",
     "output_type": "stream",
     "text": [
      "/home/koolab/Documents/GLIFAC/Code/glifac.py:108: FutureWarning: Using a non-tuple sequence for multidimensional indexing is deprecated; use `arr[tuple(seq)]` instead of `arr[seq]`. In the future this will be interpreted as an array index, `arr[np.array(seq)]`, which will result either in an error or a different result.\n",
      "  filter_interactions = feature_maps[position_pairs].transpose([1, 2, 0])\n",
      "/home/koolab/Documents/GLIFAC/Code/glifac.py:28: RuntimeWarning: invalid value encountered in float_scalars\n",
      "  return top/bottom\n",
      "/home/koolab/Documents/GLIFAC/Code/glifac.py:46: FutureWarning: Using a non-tuple sequence for multidimensional indexing is deprecated; use `arr[tuple(seq)]` instead of `arr[seq]`. In the future this will be interpreted as an array index, `arr[np.array(seq)]`, which will result either in an error or a different result.\n",
      "  filter_interactions_values = correlation_matrix[ind.transpose().tolist()]\n"
     ]
    },
    {
     "name": "stdout",
     "output_type": "stream",
     "text": [
      "0.3  | AUROC: 0.18150976668576643  | AUPR: 0.5762172284644195  | SNR: 0.7581682659451503\n"
     ]
    },
    {
     "name": "stderr",
     "output_type": "stream",
     "text": [
      "/home/koolab/Documents/GLIFAC/Code/glifac.py:108: FutureWarning: Using a non-tuple sequence for multidimensional indexing is deprecated; use `arr[tuple(seq)]` instead of `arr[seq]`. In the future this will be interpreted as an array index, `arr[np.array(seq)]`, which will result either in an error or a different result.\n",
      "  filter_interactions = feature_maps[position_pairs].transpose([1, 2, 0])\n",
      "/home/koolab/Documents/GLIFAC/Code/glifac.py:28: RuntimeWarning: invalid value encountered in float_scalars\n",
      "  return top/bottom\n",
      "/home/koolab/Documents/GLIFAC/Code/glifac.py:46: FutureWarning: Using a non-tuple sequence for multidimensional indexing is deprecated; use `arr[tuple(seq)]` instead of `arr[seq]`. In the future this will be interpreted as an array index, `arr[np.array(seq)]`, which will result either in an error or a different result.\n",
      "  filter_interactions_values = correlation_matrix[ind.transpose().tolist()]\n"
     ]
    },
    {
     "name": "stdout",
     "output_type": "stream",
     "text": [
      "0.4  | AUROC: 0.12103204049179377  | AUPR: 0.4468164794007491  | SNR: 0.5377455618920309\n"
     ]
    },
    {
     "name": "stderr",
     "output_type": "stream",
     "text": [
      "/home/koolab/Documents/GLIFAC/Code/glifac.py:108: FutureWarning: Using a non-tuple sequence for multidimensional indexing is deprecated; use `arr[tuple(seq)]` instead of `arr[seq]`. In the future this will be interpreted as an array index, `arr[np.array(seq)]`, which will result either in an error or a different result.\n",
      "  filter_interactions = feature_maps[position_pairs].transpose([1, 2, 0])\n",
      "/home/koolab/Documents/GLIFAC/Code/glifac.py:28: RuntimeWarning: invalid value encountered in float_scalars\n",
      "  return top/bottom\n",
      "/home/koolab/Documents/GLIFAC/Code/glifac.py:46: FutureWarning: Using a non-tuple sequence for multidimensional indexing is deprecated; use `arr[tuple(seq)]` instead of `arr[seq]`. In the future this will be interpreted as an array index, `arr[np.array(seq)]`, which will result either in an error or a different result.\n",
      "  filter_interactions_values = correlation_matrix[ind.transpose().tolist()]\n"
     ]
    },
    {
     "name": "stdout",
     "output_type": "stream",
     "text": [
      "0.5  | AUROC: 0.1384864964901295  | AUPR: 0.5758426966292134  | SNR: 0.5068081926169059\n"
     ]
    },
    {
     "name": "stderr",
     "output_type": "stream",
     "text": [
      "/home/koolab/Documents/GLIFAC/Code/glifac.py:108: FutureWarning: Using a non-tuple sequence for multidimensional indexing is deprecated; use `arr[tuple(seq)]` instead of `arr[seq]`. In the future this will be interpreted as an array index, `arr[np.array(seq)]`, which will result either in an error or a different result.\n",
      "  filter_interactions = feature_maps[position_pairs].transpose([1, 2, 0])\n",
      "/home/koolab/Documents/GLIFAC/Code/glifac.py:28: RuntimeWarning: invalid value encountered in float_scalars\n",
      "  return top/bottom\n",
      "/home/koolab/Documents/GLIFAC/Code/glifac.py:46: FutureWarning: Using a non-tuple sequence for multidimensional indexing is deprecated; use `arr[tuple(seq)]` instead of `arr[seq]`. In the future this will be interpreted as an array index, `arr[np.array(seq)]`, which will result either in an error or a different result.\n",
      "  filter_interactions_values = correlation_matrix[ind.transpose().tolist()]\n"
     ]
    },
    {
     "name": "stdout",
     "output_type": "stream",
     "text": [
      "0.6  | AUROC: 0.13488800955188146  | AUPR: 0.5513108614232209  | SNR: 0.4325603818142805\n"
     ]
    },
    {
     "name": "stderr",
     "output_type": "stream",
     "text": [
      "/home/koolab/Documents/GLIFAC/Code/glifac.py:108: FutureWarning: Using a non-tuple sequence for multidimensional indexing is deprecated; use `arr[tuple(seq)]` instead of `arr[seq]`. In the future this will be interpreted as an array index, `arr[np.array(seq)]`, which will result either in an error or a different result.\n",
      "  filter_interactions = feature_maps[position_pairs].transpose([1, 2, 0])\n",
      "/home/koolab/Documents/GLIFAC/Code/glifac.py:28: RuntimeWarning: invalid value encountered in float_scalars\n",
      "  return top/bottom\n",
      "/home/koolab/Documents/GLIFAC/Code/glifac.py:46: FutureWarning: Using a non-tuple sequence for multidimensional indexing is deprecated; use `arr[tuple(seq)]` instead of `arr[seq]`. In the future this will be interpreted as an array index, `arr[np.array(seq)]`, which will result either in an error or a different result.\n",
      "  filter_interactions_values = correlation_matrix[ind.transpose().tolist()]\n"
     ]
    },
    {
     "name": "stdout",
     "output_type": "stream",
     "text": [
      "0.7  | AUROC: 0.07389051540747185  | AUPR: 0.5538857677902622  | SNR: 0.2877153664994636\n"
     ]
    },
    {
     "name": "stderr",
     "output_type": "stream",
     "text": [
      "/home/koolab/Documents/GLIFAC/Code/glifac.py:108: FutureWarning: Using a non-tuple sequence for multidimensional indexing is deprecated; use `arr[tuple(seq)]` instead of `arr[seq]`. In the future this will be interpreted as an array index, `arr[np.array(seq)]`, which will result either in an error or a different result.\n",
      "  filter_interactions = feature_maps[position_pairs].transpose([1, 2, 0])\n",
      "/home/koolab/Documents/GLIFAC/Code/glifac.py:28: RuntimeWarning: invalid value encountered in float_scalars\n",
      "  return top/bottom\n",
      "/home/koolab/Documents/GLIFAC/Code/glifac.py:46: FutureWarning: Using a non-tuple sequence for multidimensional indexing is deprecated; use `arr[tuple(seq)]` instead of `arr[seq]`. In the future this will be interpreted as an array index, `arr[np.array(seq)]`, which will result either in an error or a different result.\n",
      "  filter_interactions_values = correlation_matrix[ind.transpose().tolist()]\n"
     ]
    },
    {
     "name": "stdout",
     "output_type": "stream",
     "text": [
      "0.8  | AUROC: 0.05551234405248254  | AUPR: 0.5233614232209738  | SNR: 0.06296890499982456\n"
     ]
    },
    {
     "name": "stderr",
     "output_type": "stream",
     "text": [
      "/home/koolab/Documents/GLIFAC/Code/glifac.py:108: FutureWarning: Using a non-tuple sequence for multidimensional indexing is deprecated; use `arr[tuple(seq)]` instead of `arr[seq]`. In the future this will be interpreted as an array index, `arr[np.array(seq)]`, which will result either in an error or a different result.\n",
      "  filter_interactions = feature_maps[position_pairs].transpose([1, 2, 0])\n",
      "/home/koolab/Documents/GLIFAC/Code/glifac.py:28: RuntimeWarning: invalid value encountered in float_scalars\n",
      "  return top/bottom\n",
      "/home/koolab/Documents/GLIFAC/Code/glifac.py:46: FutureWarning: Using a non-tuple sequence for multidimensional indexing is deprecated; use `arr[tuple(seq)]` instead of `arr[seq]`. In the future this will be interpreted as an array index, `arr[np.array(seq)]`, which will result either in an error or a different result.\n",
      "  filter_interactions_values = correlation_matrix[ind.transpose().tolist()]\n"
     ]
    },
    {
     "name": "stdout",
     "output_type": "stream",
     "text": [
      "0.9  | AUROC: 0.028478839023134216  | AUPR: 0.4932584269662922  | SNR: -0.0026127632495132054\n",
      "finished correlation interpretability\n",
      "saved statistics\n",
      "saved filters\n"
     ]
    },
    {
     "name": "stderr",
     "output_type": "stream",
     "text": [
      "/home/koolab/Documents/GLIFAC/Code/glifac_pipeline.py:297: MatplotlibDeprecationWarning: savefig() got unexpected keyword argument \"box_inches\" which is no longer supported as of 3.3 and will become an error two minor releases later\n",
      "  fig.savefig(glifac_dir, format='pdf', dpi=300, box_inches='tight')\n"
     ]
    },
    {
     "name": "stdout",
     "output_type": "stream",
     "text": [
      "saved glifac\n",
      "Epoch 1/100\n",
      "350/350 - 5s - loss: 0.3103 - auroc: 0.8173 - aupr: 0.5110 - val_loss: 0.2822 - val_auroc: 0.9490 - val_aupr: 0.8163\n",
      "Epoch 2/100\n",
      "350/350 - 5s - loss: 0.1404 - auroc: 0.9657 - aupr: 0.8770 - val_loss: 0.1248 - val_auroc: 0.9778 - val_aupr: 0.9190\n",
      "Epoch 3/100\n",
      "350/350 - 5s - loss: 0.1142 - auroc: 0.9765 - aupr: 0.9140 - val_loss: 0.0891 - val_auroc: 0.9861 - val_aupr: 0.9456\n",
      "Epoch 4/100\n",
      "350/350 - 5s - loss: 0.1050 - auroc: 0.9799 - aupr: 0.9256 - val_loss: 0.1036 - val_auroc: 0.9806 - val_aupr: 0.9278\n",
      "Epoch 5/100\n",
      "350/350 - 5s - loss: 0.1007 - auroc: 0.9815 - aupr: 0.9303 - val_loss: 0.0907 - val_auroc: 0.9866 - val_aupr: 0.9436\n",
      "Epoch 6/100\n",
      "350/350 - 5s - loss: 0.0988 - auroc: 0.9819 - aupr: 0.9328 - val_loss: 0.0876 - val_auroc: 0.9861 - val_aupr: 0.9482\n",
      "Epoch 7/100\n",
      "350/350 - 5s - loss: 0.0978 - auroc: 0.9822 - aupr: 0.9341 - val_loss: 0.0853 - val_auroc: 0.9858 - val_aupr: 0.9495\n",
      "Epoch 8/100\n",
      "350/350 - 5s - loss: 0.0967 - auroc: 0.9826 - aupr: 0.9350 - val_loss: 0.0814 - val_auroc: 0.9902 - val_aupr: 0.9544\n",
      "Epoch 9/100\n",
      "350/350 - 5s - loss: 0.0960 - auroc: 0.9828 - aupr: 0.9358 - val_loss: 0.0819 - val_auroc: 0.9894 - val_aupr: 0.9524\n",
      "Epoch 10/100\n",
      "350/350 - 5s - loss: 0.0952 - auroc: 0.9831 - aupr: 0.9372 - val_loss: 0.0759 - val_auroc: 0.9896 - val_aupr: 0.9581\n",
      "Epoch 11/100\n",
      "350/350 - 5s - loss: 0.0946 - auroc: 0.9832 - aupr: 0.9375 - val_loss: 0.0755 - val_auroc: 0.9902 - val_aupr: 0.9580\n",
      "Epoch 12/100\n",
      "350/350 - 5s - loss: 0.0937 - auroc: 0.9837 - aupr: 0.9386 - val_loss: 0.0818 - val_auroc: 0.9889 - val_aupr: 0.9527\n",
      "Epoch 13/100\n",
      "350/350 - 5s - loss: 0.0930 - auroc: 0.9838 - aupr: 0.9391 - val_loss: 0.0751 - val_auroc: 0.9911 - val_aupr: 0.9599\n",
      "Epoch 14/100\n",
      "350/350 - 5s - loss: 0.0938 - auroc: 0.9834 - aupr: 0.9387 - val_loss: 0.0736 - val_auroc: 0.9902 - val_aupr: 0.9609\n",
      "Epoch 15/100\n",
      "350/350 - 5s - loss: 0.0931 - auroc: 0.9836 - aupr: 0.9392 - val_loss: 0.0733 - val_auroc: 0.9914 - val_aupr: 0.9614\n",
      "Epoch 16/100\n",
      "350/350 - 5s - loss: 0.0925 - auroc: 0.9841 - aupr: 0.9395 - val_loss: 0.0761 - val_auroc: 0.9896 - val_aupr: 0.9580\n",
      "Epoch 17/100\n",
      "350/350 - 5s - loss: 0.0923 - auroc: 0.9839 - aupr: 0.9400 - val_loss: 0.0729 - val_auroc: 0.9911 - val_aupr: 0.9611\n",
      "Epoch 18/100\n",
      "350/350 - 5s - loss: 0.0920 - auroc: 0.9841 - aupr: 0.9405 - val_loss: 0.0725 - val_auroc: 0.9910 - val_aupr: 0.9614\n",
      "Epoch 19/100\n",
      "350/350 - 5s - loss: 0.0917 - auroc: 0.9841 - aupr: 0.9408 - val_loss: 0.0729 - val_auroc: 0.9917 - val_aupr: 0.9626\n",
      "Epoch 20/100\n",
      "350/350 - 5s - loss: 0.0915 - auroc: 0.9842 - aupr: 0.9406 - val_loss: 0.0710 - val_auroc: 0.9914 - val_aupr: 0.9630\n",
      "Epoch 21/100\n",
      "350/350 - 5s - loss: 0.0904 - auroc: 0.9845 - aupr: 0.9422 - val_loss: 0.0743 - val_auroc: 0.9914 - val_aupr: 0.9611\n",
      "Epoch 22/100\n",
      "350/350 - 5s - loss: 0.0899 - auroc: 0.9847 - aupr: 0.9428 - val_loss: 0.0723 - val_auroc: 0.9910 - val_aupr: 0.9607\n",
      "Epoch 23/100\n",
      "350/350 - 5s - loss: 0.0898 - auroc: 0.9846 - aupr: 0.9428 - val_loss: 0.0730 - val_auroc: 0.9901 - val_aupr: 0.9615\n",
      "Epoch 24/100\n",
      "350/350 - 5s - loss: 0.0893 - auroc: 0.9849 - aupr: 0.9434 - val_loss: 0.0710 - val_auroc: 0.9912 - val_aupr: 0.9627\n",
      "Epoch 25/100\n",
      "350/350 - 5s - loss: 0.0886 - auroc: 0.9851 - aupr: 0.9441 - val_loss: 0.0705 - val_auroc: 0.9916 - val_aupr: 0.9632\n",
      "Epoch 26/100\n",
      "350/350 - 5s - loss: 0.0889 - auroc: 0.9851 - aupr: 0.9439 - val_loss: 0.0731 - val_auroc: 0.9909 - val_aupr: 0.9598\n",
      "Epoch 27/100\n",
      "350/350 - 5s - loss: 0.0881 - auroc: 0.9852 - aupr: 0.9450 - val_loss: 0.0712 - val_auroc: 0.9915 - val_aupr: 0.9629\n",
      "Epoch 28/100\n",
      "350/350 - 5s - loss: 0.0880 - auroc: 0.9853 - aupr: 0.9452 - val_loss: 0.0707 - val_auroc: 0.9915 - val_aupr: 0.9634\n",
      "Epoch 29/100\n",
      "350/350 - 5s - loss: 0.0869 - auroc: 0.9856 - aupr: 0.9466 - val_loss: 0.0714 - val_auroc: 0.9908 - val_aupr: 0.9625\n",
      "Epoch 30/100\n",
      "350/350 - 5s - loss: 0.0867 - auroc: 0.9858 - aupr: 0.9467 - val_loss: 0.0716 - val_auroc: 0.9912 - val_aupr: 0.9610\n",
      "Epoch 31/100\n",
      "350/350 - 5s - loss: 0.0852 - auroc: 0.9861 - aupr: 0.9482 - val_loss: 0.0699 - val_auroc: 0.9915 - val_aupr: 0.9638\n",
      "Epoch 32/100\n",
      "350/350 - 5s - loss: 0.0853 - auroc: 0.9859 - aupr: 0.9482 - val_loss: 0.0710 - val_auroc: 0.9915 - val_aupr: 0.9636\n",
      "Epoch 33/100\n",
      "350/350 - 5s - loss: 0.0849 - auroc: 0.9860 - aupr: 0.9490 - val_loss: 0.0697 - val_auroc: 0.9917 - val_aupr: 0.9646\n",
      "Epoch 34/100\n",
      "350/350 - 5s - loss: 0.0839 - auroc: 0.9863 - aupr: 0.9500 - val_loss: 0.0685 - val_auroc: 0.9919 - val_aupr: 0.9653\n",
      "Epoch 35/100\n",
      "350/350 - 5s - loss: 0.0831 - auroc: 0.9868 - aupr: 0.9505 - val_loss: 0.0700 - val_auroc: 0.9916 - val_aupr: 0.9641\n",
      "Epoch 36/100\n",
      "350/350 - 5s - loss: 0.0829 - auroc: 0.9865 - aupr: 0.9506 - val_loss: 0.0691 - val_auroc: 0.9918 - val_aupr: 0.9649\n",
      "Epoch 37/100\n",
      "350/350 - 5s - loss: 0.0824 - auroc: 0.9869 - aupr: 0.9514 - val_loss: 0.0689 - val_auroc: 0.9917 - val_aupr: 0.9647\n",
      "Epoch 38/100\n",
      "350/350 - 5s - loss: 0.0817 - auroc: 0.9869 - aupr: 0.9522 - val_loss: 0.0706 - val_auroc: 0.9918 - val_aupr: 0.9633\n",
      "Epoch 39/100\n",
      "350/350 - 5s - loss: 0.0807 - auroc: 0.9872 - aupr: 0.9531 - val_loss: 0.0686 - val_auroc: 0.9915 - val_aupr: 0.9653\n",
      "Epoch 40/100\n",
      "350/350 - 5s - loss: 0.0802 - auroc: 0.9874 - aupr: 0.9536 - val_loss: 0.0688 - val_auroc: 0.9922 - val_aupr: 0.9651\n",
      "Epoch 41/100\n",
      "350/350 - 5s - loss: 0.0799 - auroc: 0.9875 - aupr: 0.9541 - val_loss: 0.0691 - val_auroc: 0.9917 - val_aupr: 0.9644\n",
      "Epoch 42/100\n",
      "350/350 - 5s - loss: 0.0791 - auroc: 0.9876 - aupr: 0.9551 - val_loss: 0.0695 - val_auroc: 0.9912 - val_aupr: 0.9640\n",
      "Epoch 43/100\n",
      "350/350 - 5s - loss: 0.0786 - auroc: 0.9877 - aupr: 0.9555 - val_loss: 0.0688 - val_auroc: 0.9914 - val_aupr: 0.9646\n",
      "Epoch 44/100\n",
      "\n",
      "Epoch 00044: ReduceLROnPlateau reducing learning rate to 0.00020000000949949026.\n",
      "350/350 - 5s - loss: 0.0786 - auroc: 0.9877 - aupr: 0.9553 - val_loss: 0.0695 - val_auroc: 0.9914 - val_aupr: 0.9645\n",
      "Epoch 45/100\n",
      "350/350 - 5s - loss: 0.0758 - auroc: 0.9885 - aupr: 0.9586 - val_loss: 0.0675 - val_auroc: 0.9919 - val_aupr: 0.9663\n",
      "Epoch 46/100\n",
      "350/350 - 5s - loss: 0.0748 - auroc: 0.9887 - aupr: 0.9595 - val_loss: 0.0672 - val_auroc: 0.9919 - val_aupr: 0.9664\n",
      "Epoch 47/100\n",
      "350/350 - 5s - loss: 0.0740 - auroc: 0.9891 - aupr: 0.9602 - val_loss: 0.0672 - val_auroc: 0.9919 - val_aupr: 0.9662\n",
      "Epoch 48/100\n",
      "350/350 - 5s - loss: 0.0740 - auroc: 0.9891 - aupr: 0.9603 - val_loss: 0.0673 - val_auroc: 0.9918 - val_aupr: 0.9662\n",
      "Epoch 49/100\n",
      "350/350 - 5s - loss: 0.0734 - auroc: 0.9893 - aupr: 0.9609 - val_loss: 0.0674 - val_auroc: 0.9918 - val_aupr: 0.9660\n",
      "Epoch 50/100\n",
      "350/350 - 5s - loss: 0.0737 - auroc: 0.9891 - aupr: 0.9606 - val_loss: 0.0676 - val_auroc: 0.9918 - val_aupr: 0.9658\n",
      "Epoch 51/100\n",
      "350/350 - 5s - loss: 0.0736 - auroc: 0.9891 - aupr: 0.9607 - val_loss: 0.0677 - val_auroc: 0.9919 - val_aupr: 0.9657\n",
      "Epoch 52/100\n",
      "350/350 - 5s - loss: 0.0733 - auroc: 0.9891 - aupr: 0.9609 - val_loss: 0.0674 - val_auroc: 0.9917 - val_aupr: 0.9659\n",
      "Epoch 53/100\n",
      "350/350 - 5s - loss: 0.0734 - auroc: 0.9891 - aupr: 0.9609 - val_loss: 0.0675 - val_auroc: 0.9918 - val_aupr: 0.9659\n",
      "Epoch 54/100\n",
      "350/350 - 5s - loss: 0.0729 - auroc: 0.9894 - aupr: 0.9612 - val_loss: 0.0678 - val_auroc: 0.9916 - val_aupr: 0.9658\n",
      "Epoch 55/100\n",
      "350/350 - 5s - loss: 0.0723 - auroc: 0.9895 - aupr: 0.9617 - val_loss: 0.0675 - val_auroc: 0.9918 - val_aupr: 0.9659\n",
      "Epoch 56/100\n",
      "\n",
      "Epoch 00056: ReduceLROnPlateau reducing learning rate to 4.0000001899898055e-05.\n",
      "350/350 - 5s - loss: 0.0723 - auroc: 0.9896 - aupr: 0.9619 - val_loss: 0.0676 - val_auroc: 0.9917 - val_aupr: 0.9656\n",
      "Epoch 57/100\n",
      "350/350 - 5s - loss: 0.0717 - auroc: 0.9896 - aupr: 0.9626 - val_loss: 0.0674 - val_auroc: 0.9918 - val_aupr: 0.9661\n",
      "Epoch 58/100\n",
      "350/350 - 5s - loss: 0.0722 - auroc: 0.9895 - aupr: 0.9621 - val_loss: 0.0674 - val_auroc: 0.9917 - val_aupr: 0.9661\n",
      "Epoch 59/100\n",
      "350/350 - 5s - loss: 0.0718 - auroc: 0.9896 - aupr: 0.9623 - val_loss: 0.0674 - val_auroc: 0.9917 - val_aupr: 0.9661\n",
      "Epoch 60/100\n",
      "350/350 - 5s - loss: 0.0713 - auroc: 0.9898 - aupr: 0.9629 - val_loss: 0.0673 - val_auroc: 0.9919 - val_aupr: 0.9662\n",
      "Epoch 61/100\n",
      "Restoring model weights from the end of the best epoch.\n",
      "350/350 - 5s - loss: 0.0714 - auroc: 0.9896 - aupr: 0.9628 - val_loss: 0.0674 - val_auroc: 0.9918 - val_aupr: 0.9661\n",
      "Epoch 00061: early stopping\n"
     ]
    },
    {
     "name": "stdout",
     "output_type": "stream",
     "text": [
      "625/625 [==============================] - 1s 2ms/step - loss: 0.0688 - auroc: 0.9911 - aupr: 0.9641\n",
      "generated PPMs\n",
      "TomTom TPR:  0.90625\n",
      "TomTom FPR:  0.0\n",
      "Motif coverage:  1.0\n",
      "completed TomTom analysis\n",
      "completed clustering\n"
     ]
    },
    {
     "name": "stderr",
     "output_type": "stream",
     "text": [
      "/home/koolab/Documents/GLIFAC/Code/glifac.py:108: FutureWarning: Using a non-tuple sequence for multidimensional indexing is deprecated; use `arr[tuple(seq)]` instead of `arr[seq]`. In the future this will be interpreted as an array index, `arr[np.array(seq)]`, which will result either in an error or a different result.\n",
      "  filter_interactions = feature_maps[position_pairs].transpose([1, 2, 0])\n",
      "/home/koolab/Documents/GLIFAC/Code/glifac.py:46: FutureWarning: Using a non-tuple sequence for multidimensional indexing is deprecated; use `arr[tuple(seq)]` instead of `arr[seq]`. In the future this will be interpreted as an array index, `arr[np.array(seq)]`, which will result either in an error or a different result.\n",
      "  filter_interactions_values = correlation_matrix[ind.transpose().tolist()]\n"
     ]
    },
    {
     "name": "stdout",
     "output_type": "stream",
     "text": [
      "0.0  | AUROC: 0.9660088033332888  | AUPR: 0.9976629213483146  | SNR: 2.8587307962684565\n"
     ]
    },
    {
     "name": "stderr",
     "output_type": "stream",
     "text": [
      "/home/koolab/Documents/GLIFAC/Code/glifac.py:108: FutureWarning: Using a non-tuple sequence for multidimensional indexing is deprecated; use `arr[tuple(seq)]` instead of `arr[seq]`. In the future this will be interpreted as an array index, `arr[np.array(seq)]`, which will result either in an error or a different result.\n",
      "  filter_interactions = feature_maps[position_pairs].transpose([1, 2, 0])\n",
      "/home/koolab/Documents/GLIFAC/Code/glifac.py:46: FutureWarning: Using a non-tuple sequence for multidimensional indexing is deprecated; use `arr[tuple(seq)]` instead of `arr[seq]`. In the future this will be interpreted as an array index, `arr[np.array(seq)]`, which will result either in an error or a different result.\n",
      "  filter_interactions_values = correlation_matrix[ind.transpose().tolist()]\n"
     ]
    },
    {
     "name": "stdout",
     "output_type": "stream",
     "text": [
      "0.1  | AUROC: 0.09640659533768799  | AUPR: 0.5371685393258426  | SNR: 0.457940761264136\n"
     ]
    },
    {
     "name": "stderr",
     "output_type": "stream",
     "text": [
      "/home/koolab/Documents/GLIFAC/Code/glifac.py:108: FutureWarning: Using a non-tuple sequence for multidimensional indexing is deprecated; use `arr[tuple(seq)]` instead of `arr[seq]`. In the future this will be interpreted as an array index, `arr[np.array(seq)]`, which will result either in an error or a different result.\n",
      "  filter_interactions = feature_maps[position_pairs].transpose([1, 2, 0])\n",
      "/home/koolab/Documents/GLIFAC/Code/glifac.py:46: FutureWarning: Using a non-tuple sequence for multidimensional indexing is deprecated; use `arr[tuple(seq)]` instead of `arr[seq]`. In the future this will be interpreted as an array index, `arr[np.array(seq)]`, which will result either in an error or a different result.\n",
      "  filter_interactions_values = correlation_matrix[ind.transpose().tolist()]\n"
     ]
    },
    {
     "name": "stdout",
     "output_type": "stream",
     "text": [
      "0.2  | AUROC: 0.06146394239761784  | AUPR: 0.3763595505617977  | SNR: 0.20520557069773762\n"
     ]
    },
    {
     "name": "stderr",
     "output_type": "stream",
     "text": [
      "/home/koolab/Documents/GLIFAC/Code/glifac.py:108: FutureWarning: Using a non-tuple sequence for multidimensional indexing is deprecated; use `arr[tuple(seq)]` instead of `arr[seq]`. In the future this will be interpreted as an array index, `arr[np.array(seq)]`, which will result either in an error or a different result.\n",
      "  filter_interactions = feature_maps[position_pairs].transpose([1, 2, 0])\n",
      "/home/koolab/Documents/GLIFAC/Code/glifac.py:46: FutureWarning: Using a non-tuple sequence for multidimensional indexing is deprecated; use `arr[tuple(seq)]` instead of `arr[seq]`. In the future this will be interpreted as an array index, `arr[np.array(seq)]`, which will result either in an error or a different result.\n",
      "  filter_interactions_values = correlation_matrix[ind.transpose().tolist()]\n"
     ]
    },
    {
     "name": "stdout",
     "output_type": "stream",
     "text": [
      "0.3  | AUROC: 0.052248061347950486  | AUPR: 0.3220674157303371  | SNR: 0.0838073182906213\n"
     ]
    },
    {
     "name": "stderr",
     "output_type": "stream",
     "text": [
      "/home/koolab/Documents/GLIFAC/Code/glifac.py:108: FutureWarning: Using a non-tuple sequence for multidimensional indexing is deprecated; use `arr[tuple(seq)]` instead of `arr[seq]`. In the future this will be interpreted as an array index, `arr[np.array(seq)]`, which will result either in an error or a different result.\n",
      "  filter_interactions = feature_maps[position_pairs].transpose([1, 2, 0])\n",
      "/home/koolab/Documents/GLIFAC/Code/glifac.py:46: FutureWarning: Using a non-tuple sequence for multidimensional indexing is deprecated; use `arr[tuple(seq)]` instead of `arr[seq]`. In the future this will be interpreted as an array index, `arr[np.array(seq)]`, which will result either in an error or a different result.\n",
      "  filter_interactions_values = correlation_matrix[ind.transpose().tolist()]\n"
     ]
    },
    {
     "name": "stdout",
     "output_type": "stream",
     "text": [
      "0.4  | AUROC: 0.04864174713916258  | AUPR: 0.31802247191011235  | SNR: 0.04205281359447613\n"
     ]
    },
    {
     "name": "stderr",
     "output_type": "stream",
     "text": [
      "/home/koolab/Documents/GLIFAC/Code/glifac.py:108: FutureWarning: Using a non-tuple sequence for multidimensional indexing is deprecated; use `arr[tuple(seq)]` instead of `arr[seq]`. In the future this will be interpreted as an array index, `arr[np.array(seq)]`, which will result either in an error or a different result.\n",
      "  filter_interactions = feature_maps[position_pairs].transpose([1, 2, 0])\n",
      "/home/koolab/Documents/GLIFAC/Code/glifac.py:46: FutureWarning: Using a non-tuple sequence for multidimensional indexing is deprecated; use `arr[tuple(seq)]` instead of `arr[seq]`. In the future this will be interpreted as an array index, `arr[np.array(seq)]`, which will result either in an error or a different result.\n",
      "  filter_interactions_values = correlation_matrix[ind.transpose().tolist()]\n"
     ]
    },
    {
     "name": "stdout",
     "output_type": "stream",
     "text": [
      "0.5  | AUROC: 0.04094104572207656  | AUPR: 0.3021123595505618  | SNR: -0.022002623351075376\n"
     ]
    },
    {
     "name": "stderr",
     "output_type": "stream",
     "text": [
      "/home/koolab/Documents/GLIFAC/Code/glifac.py:108: FutureWarning: Using a non-tuple sequence for multidimensional indexing is deprecated; use `arr[tuple(seq)]` instead of `arr[seq]`. In the future this will be interpreted as an array index, `arr[np.array(seq)]`, which will result either in an error or a different result.\n",
      "  filter_interactions = feature_maps[position_pairs].transpose([1, 2, 0])\n",
      "/home/koolab/Documents/GLIFAC/Code/glifac.py:46: FutureWarning: Using a non-tuple sequence for multidimensional indexing is deprecated; use `arr[tuple(seq)]` instead of `arr[seq]`. In the future this will be interpreted as an array index, `arr[np.array(seq)]`, which will result either in an error or a different result.\n",
      "  filter_interactions_values = correlation_matrix[ind.transpose().tolist()]\n"
     ]
    },
    {
     "name": "stdout",
     "output_type": "stream",
     "text": [
      "0.6  | AUROC: 0.036062567127878406  | AUPR: 0.26139325842696626  | SNR: -0.05030449065030679\n"
     ]
    },
    {
     "name": "stderr",
     "output_type": "stream",
     "text": [
      "/home/koolab/Documents/GLIFAC/Code/glifac.py:108: FutureWarning: Using a non-tuple sequence for multidimensional indexing is deprecated; use `arr[tuple(seq)]` instead of `arr[seq]`. In the future this will be interpreted as an array index, `arr[np.array(seq)]`, which will result either in an error or a different result.\n",
      "  filter_interactions = feature_maps[position_pairs].transpose([1, 2, 0])\n",
      "/home/koolab/Documents/GLIFAC/Code/glifac.py:46: FutureWarning: Using a non-tuple sequence for multidimensional indexing is deprecated; use `arr[tuple(seq)]` instead of `arr[seq]`. In the future this will be interpreted as an array index, `arr[np.array(seq)]`, which will result either in an error or a different result.\n",
      "  filter_interactions_values = correlation_matrix[ind.transpose().tolist()]\n"
     ]
    },
    {
     "name": "stdout",
     "output_type": "stream",
     "text": [
      "0.7  | AUROC: 0.03473362594990069  | AUPR: 0.2247191011235955  | SNR: -0.060036712472265726\n"
     ]
    },
    {
     "name": "stderr",
     "output_type": "stream",
     "text": [
      "/home/koolab/Documents/GLIFAC/Code/glifac.py:108: FutureWarning: Using a non-tuple sequence for multidimensional indexing is deprecated; use `arr[tuple(seq)]` instead of `arr[seq]`. In the future this will be interpreted as an array index, `arr[np.array(seq)]`, which will result either in an error or a different result.\n",
      "  filter_interactions = feature_maps[position_pairs].transpose([1, 2, 0])\n",
      "/home/koolab/Documents/GLIFAC/Code/glifac.py:46: FutureWarning: Using a non-tuple sequence for multidimensional indexing is deprecated; use `arr[tuple(seq)]` instead of `arr[seq]`. In the future this will be interpreted as an array index, `arr[np.array(seq)]`, which will result either in an error or a different result.\n",
      "  filter_interactions_values = correlation_matrix[ind.transpose().tolist()]\n"
     ]
    },
    {
     "name": "stdout",
     "output_type": "stream",
     "text": [
      "0.8  | AUROC: 0.03564333550397418  | AUPR: 0.2555505617977528  | SNR: -0.030944633884534542\n"
     ]
    },
    {
     "name": "stderr",
     "output_type": "stream",
     "text": [
      "/home/koolab/Documents/GLIFAC/Code/glifac.py:108: FutureWarning: Using a non-tuple sequence for multidimensional indexing is deprecated; use `arr[tuple(seq)]` instead of `arr[seq]`. In the future this will be interpreted as an array index, `arr[np.array(seq)]`, which will result either in an error or a different result.\n",
      "  filter_interactions = feature_maps[position_pairs].transpose([1, 2, 0])\n",
      "/home/koolab/Documents/GLIFAC/Code/glifac.py:46: FutureWarning: Using a non-tuple sequence for multidimensional indexing is deprecated; use `arr[tuple(seq)]` instead of `arr[seq]`. In the future this will be interpreted as an array index, `arr[np.array(seq)]`, which will result either in an error or a different result.\n",
      "  filter_interactions_values = correlation_matrix[ind.transpose().tolist()]\n"
     ]
    },
    {
     "name": "stdout",
     "output_type": "stream",
     "text": [
      "0.9  | AUROC: 0.03437222722100324  | AUPR: 0.2671460674157304  | SNR: -0.04555986254229826\n",
      "finished correlation interpretability\n",
      "saved statistics\n",
      "saved filters\n"
     ]
    },
    {
     "name": "stderr",
     "output_type": "stream",
     "text": [
      "/home/koolab/Documents/GLIFAC/Code/glifac_pipeline.py:297: MatplotlibDeprecationWarning: savefig() got unexpected keyword argument \"box_inches\" which is no longer supported as of 3.3 and will become an error two minor releases later\n",
      "  fig.savefig(glifac_dir, format='pdf', dpi=300, box_inches='tight')\n"
     ]
    },
    {
     "name": "stdout",
     "output_type": "stream",
     "text": [
      "saved glifac\n",
      "Epoch 1/100\n",
      "350/350 - 5s - loss: 0.2881 - auroc: 0.8474 - aupr: 0.5654 - val_loss: 0.2436 - val_auroc: 0.9542 - val_aupr: 0.8229\n",
      "Epoch 2/100\n",
      "350/350 - 5s - loss: 0.1283 - auroc: 0.9723 - aupr: 0.8950 - val_loss: 0.1233 - val_auroc: 0.9820 - val_aupr: 0.9295\n",
      "Epoch 3/100\n",
      "350/350 - 5s - loss: 0.1103 - auroc: 0.9786 - aupr: 0.9191 - val_loss: 0.0838 - val_auroc: 0.9872 - val_aupr: 0.9519\n",
      "Epoch 4/100\n",
      "350/350 - 5s - loss: 0.1059 - auroc: 0.9801 - aupr: 0.9246 - val_loss: 0.1027 - val_auroc: 0.9834 - val_aupr: 0.9338\n",
      "Epoch 5/100\n",
      "350/350 - 5s - loss: 0.1039 - auroc: 0.9808 - aupr: 0.9271 - val_loss: 0.0939 - val_auroc: 0.9882 - val_aupr: 0.9486\n",
      "Epoch 6/100\n",
      "350/350 - 5s - loss: 0.0997 - auroc: 0.9821 - aupr: 0.9320 - val_loss: 0.0804 - val_auroc: 0.9901 - val_aupr: 0.9541\n",
      "Epoch 7/100\n",
      "350/350 - 5s - loss: 0.0974 - auroc: 0.9828 - aupr: 0.9346 - val_loss: 0.0787 - val_auroc: 0.9891 - val_aupr: 0.9547\n",
      "Epoch 8/100\n",
      "350/350 - 5s - loss: 0.0966 - auroc: 0.9830 - aupr: 0.9355 - val_loss: 0.0780 - val_auroc: 0.9901 - val_aupr: 0.9553\n",
      "Epoch 9/100\n",
      "350/350 - 5s - loss: 0.0946 - auroc: 0.9837 - aupr: 0.9379 - val_loss: 0.0758 - val_auroc: 0.9898 - val_aupr: 0.9579\n",
      "Epoch 10/100\n",
      "350/350 - 5s - loss: 0.0948 - auroc: 0.9836 - aupr: 0.9375 - val_loss: 0.0759 - val_auroc: 0.9896 - val_aupr: 0.9578\n",
      "Epoch 11/100\n",
      "350/350 - 5s - loss: 0.0938 - auroc: 0.9839 - aupr: 0.9386 - val_loss: 0.0755 - val_auroc: 0.9905 - val_aupr: 0.9588\n",
      "Epoch 12/100\n",
      "350/350 - 5s - loss: 0.0930 - auroc: 0.9842 - aupr: 0.9398 - val_loss: 0.0755 - val_auroc: 0.9907 - val_aupr: 0.9569\n",
      "Epoch 13/100\n",
      "350/350 - 5s - loss: 0.0932 - auroc: 0.9841 - aupr: 0.9394 - val_loss: 0.0758 - val_auroc: 0.9903 - val_aupr: 0.9586\n",
      "Epoch 14/100\n",
      "350/350 - 5s - loss: 0.0929 - auroc: 0.9843 - aupr: 0.9396 - val_loss: 0.0759 - val_auroc: 0.9893 - val_aupr: 0.9572\n",
      "Epoch 15/100\n",
      "350/350 - 5s - loss: 0.0918 - auroc: 0.9845 - aupr: 0.9411 - val_loss: 0.0746 - val_auroc: 0.9912 - val_aupr: 0.9587\n",
      "Epoch 16/100\n",
      "350/350 - 5s - loss: 0.0916 - auroc: 0.9847 - aupr: 0.9413 - val_loss: 0.0744 - val_auroc: 0.9904 - val_aupr: 0.9584\n",
      "Epoch 17/100\n",
      "350/350 - 5s - loss: 0.0915 - auroc: 0.9847 - aupr: 0.9417 - val_loss: 0.0733 - val_auroc: 0.9909 - val_aupr: 0.9598\n",
      "Epoch 18/100\n",
      "350/350 - 5s - loss: 0.0910 - auroc: 0.9850 - aupr: 0.9420 - val_loss: 0.0727 - val_auroc: 0.9907 - val_aupr: 0.9608\n",
      "Epoch 19/100\n",
      "350/350 - 5s - loss: 0.0908 - auroc: 0.9848 - aupr: 0.9421 - val_loss: 0.0761 - val_auroc: 0.9914 - val_aupr: 0.9591\n",
      "Epoch 20/100\n",
      "350/350 - 5s - loss: 0.0900 - auroc: 0.9852 - aupr: 0.9431 - val_loss: 0.0728 - val_auroc: 0.9912 - val_aupr: 0.9605\n",
      "Epoch 21/100\n",
      "350/350 - 5s - loss: 0.0899 - auroc: 0.9850 - aupr: 0.9432 - val_loss: 0.0733 - val_auroc: 0.9911 - val_aupr: 0.9593\n",
      "Epoch 22/100\n",
      "350/350 - 5s - loss: 0.0892 - auroc: 0.9853 - aupr: 0.9440 - val_loss: 0.0736 - val_auroc: 0.9911 - val_aupr: 0.9609\n",
      "Epoch 23/100\n",
      "350/350 - 5s - loss: 0.0888 - auroc: 0.9854 - aupr: 0.9444 - val_loss: 0.0753 - val_auroc: 0.9892 - val_aupr: 0.9591\n",
      "Epoch 24/100\n",
      "350/350 - 5s - loss: 0.0883 - auroc: 0.9856 - aupr: 0.9452 - val_loss: 0.0716 - val_auroc: 0.9907 - val_aupr: 0.9621\n",
      "Epoch 25/100\n",
      "350/350 - 5s - loss: 0.0879 - auroc: 0.9857 - aupr: 0.9459 - val_loss: 0.0719 - val_auroc: 0.9908 - val_aupr: 0.9613\n",
      "Epoch 26/100\n",
      "350/350 - 5s - loss: 0.0877 - auroc: 0.9857 - aupr: 0.9460 - val_loss: 0.0709 - val_auroc: 0.9917 - val_aupr: 0.9629\n",
      "Epoch 27/100\n",
      "350/350 - 5s - loss: 0.0864 - auroc: 0.9863 - aupr: 0.9473 - val_loss: 0.0748 - val_auroc: 0.9908 - val_aupr: 0.9595\n",
      "Epoch 28/100\n",
      "350/350 - 5s - loss: 0.0860 - auroc: 0.9863 - aupr: 0.9480 - val_loss: 0.0712 - val_auroc: 0.9915 - val_aupr: 0.9618\n",
      "Epoch 29/100\n",
      "350/350 - 5s - loss: 0.0853 - auroc: 0.9864 - aupr: 0.9487 - val_loss: 0.0702 - val_auroc: 0.9916 - val_aupr: 0.9631\n",
      "Epoch 30/100\n",
      "350/350 - 5s - loss: 0.0852 - auroc: 0.9865 - aupr: 0.9485 - val_loss: 0.0706 - val_auroc: 0.9913 - val_aupr: 0.9629\n",
      "Epoch 31/100\n",
      "350/350 - 5s - loss: 0.0850 - auroc: 0.9865 - aupr: 0.9491 - val_loss: 0.0712 - val_auroc: 0.9915 - val_aupr: 0.9626\n",
      "Epoch 32/100\n",
      "350/350 - 5s - loss: 0.0841 - auroc: 0.9868 - aupr: 0.9499 - val_loss: 0.0710 - val_auroc: 0.9914 - val_aupr: 0.9626\n",
      "Epoch 33/100\n",
      "350/350 - 5s - loss: 0.0835 - auroc: 0.9869 - aupr: 0.9505 - val_loss: 0.0717 - val_auroc: 0.9910 - val_aupr: 0.9618\n",
      "Epoch 34/100\n",
      "350/350 - 5s - loss: 0.0825 - auroc: 0.9875 - aupr: 0.9516 - val_loss: 0.0712 - val_auroc: 0.9912 - val_aupr: 0.9623\n",
      "Epoch 35/100\n",
      "350/350 - 5s - loss: 0.0813 - auroc: 0.9880 - aupr: 0.9528 - val_loss: 0.0701 - val_auroc: 0.9909 - val_aupr: 0.9627\n",
      "Epoch 36/100\n",
      "350/350 - 5s - loss: 0.0800 - auroc: 0.9882 - aupr: 0.9538 - val_loss: 0.0708 - val_auroc: 0.9915 - val_aupr: 0.9619\n",
      "Epoch 37/100\n",
      "350/350 - 5s - loss: 0.0795 - auroc: 0.9884 - aupr: 0.9545 - val_loss: 0.0727 - val_auroc: 0.9904 - val_aupr: 0.9598\n",
      "Epoch 38/100\n",
      "350/350 - 5s - loss: 0.0787 - auroc: 0.9885 - aupr: 0.9553 - val_loss: 0.0703 - val_auroc: 0.9912 - val_aupr: 0.9627\n",
      "Epoch 39/100\n",
      "\n",
      "Epoch 00039: ReduceLROnPlateau reducing learning rate to 0.00020000000949949026.\n",
      "350/350 - 5s - loss: 0.0781 - auroc: 0.9887 - aupr: 0.9561 - val_loss: 0.0714 - val_auroc: 0.9909 - val_aupr: 0.9605\n",
      "Epoch 40/100\n",
      "350/350 - 5s - loss: 0.0748 - auroc: 0.9896 - aupr: 0.9593 - val_loss: 0.0685 - val_auroc: 0.9921 - val_aupr: 0.9643\n",
      "Epoch 41/100\n",
      "350/350 - 5s - loss: 0.0742 - auroc: 0.9898 - aupr: 0.9599 - val_loss: 0.0686 - val_auroc: 0.9920 - val_aupr: 0.9643\n",
      "Epoch 42/100\n",
      "350/350 - 5s - loss: 0.0736 - auroc: 0.9899 - aupr: 0.9605 - val_loss: 0.0685 - val_auroc: 0.9919 - val_aupr: 0.9643\n",
      "Epoch 43/100\n",
      "350/350 - 5s - loss: 0.0738 - auroc: 0.9898 - aupr: 0.9603 - val_loss: 0.0687 - val_auroc: 0.9920 - val_aupr: 0.9640\n",
      "Epoch 44/100\n",
      "350/350 - 5s - loss: 0.0735 - auroc: 0.9899 - aupr: 0.9605 - val_loss: 0.0691 - val_auroc: 0.9917 - val_aupr: 0.9634\n",
      "Epoch 45/100\n",
      "350/350 - 5s - loss: 0.0732 - auroc: 0.9900 - aupr: 0.9609 - val_loss: 0.0688 - val_auroc: 0.9919 - val_aupr: 0.9637\n",
      "Epoch 46/100\n",
      "350/350 - 5s - loss: 0.0728 - auroc: 0.9902 - aupr: 0.9614 - val_loss: 0.0690 - val_auroc: 0.9917 - val_aupr: 0.9636\n",
      "Epoch 47/100\n",
      "350/350 - 5s - loss: 0.0729 - auroc: 0.9902 - aupr: 0.9612 - val_loss: 0.0692 - val_auroc: 0.9914 - val_aupr: 0.9636\n",
      "Epoch 48/100\n",
      "350/350 - 5s - loss: 0.0727 - auroc: 0.9903 - aupr: 0.9615 - val_loss: 0.0689 - val_auroc: 0.9918 - val_aupr: 0.9638\n",
      "Epoch 49/100\n",
      "350/350 - 5s - loss: 0.0726 - auroc: 0.9900 - aupr: 0.9618 - val_loss: 0.0689 - val_auroc: 0.9915 - val_aupr: 0.9637\n",
      "Epoch 50/100\n",
      "\n",
      "Epoch 00050: ReduceLROnPlateau reducing learning rate to 4.0000001899898055e-05.\n",
      "350/350 - 5s - loss: 0.0730 - auroc: 0.9900 - aupr: 0.9610 - val_loss: 0.0695 - val_auroc: 0.9912 - val_aupr: 0.9628\n",
      "Epoch 51/100\n",
      "350/350 - 5s - loss: 0.0716 - auroc: 0.9903 - aupr: 0.9625 - val_loss: 0.0689 - val_auroc: 0.9917 - val_aupr: 0.9637\n",
      "Epoch 52/100\n",
      "350/350 - 5s - loss: 0.0712 - auroc: 0.9904 - aupr: 0.9630 - val_loss: 0.0689 - val_auroc: 0.9914 - val_aupr: 0.9637\n",
      "Epoch 53/100\n",
      "350/350 - 5s - loss: 0.0713 - auroc: 0.9905 - aupr: 0.9629 - val_loss: 0.0689 - val_auroc: 0.9915 - val_aupr: 0.9636\n",
      "Epoch 54/100\n",
      "350/350 - 5s - loss: 0.0715 - auroc: 0.9903 - aupr: 0.9627 - val_loss: 0.0689 - val_auroc: 0.9915 - val_aupr: 0.9635\n",
      "Epoch 55/100\n",
      "350/350 - 5s - loss: 0.0717 - auroc: 0.9904 - aupr: 0.9623 - val_loss: 0.0689 - val_auroc: 0.9914 - val_aupr: 0.9637\n",
      "Epoch 56/100\n",
      "350/350 - 5s - loss: 0.0715 - auroc: 0.9904 - aupr: 0.9626 - val_loss: 0.0689 - val_auroc: 0.9914 - val_aupr: 0.9636\n",
      "Epoch 57/100\n",
      "Restoring model weights from the end of the best epoch.\n",
      "350/350 - 5s - loss: 0.0713 - auroc: 0.9905 - aupr: 0.9628 - val_loss: 0.0690 - val_auroc: 0.9915 - val_aupr: 0.9636\n",
      "Epoch 00057: early stopping\n",
      "625/625 [==============================] - 2s 2ms/step - loss: 0.0686 - auroc: 0.9917 - aupr: 0.9643\n",
      "generated PPMs\n",
      "TomTom TPR:  0.96875\n",
      "TomTom FPR:  0.0\n",
      "Motif coverage:  1.0\n",
      "completed TomTom analysis\n",
      "completed clustering\n"
     ]
    },
    {
     "name": "stderr",
     "output_type": "stream",
     "text": [
      "/home/koolab/Documents/GLIFAC/Code/glifac.py:108: FutureWarning: Using a non-tuple sequence for multidimensional indexing is deprecated; use `arr[tuple(seq)]` instead of `arr[seq]`. In the future this will be interpreted as an array index, `arr[np.array(seq)]`, which will result either in an error or a different result.\n",
      "  filter_interactions = feature_maps[position_pairs].transpose([1, 2, 0])\n",
      "/home/koolab/Documents/GLIFAC/Code/glifac.py:46: FutureWarning: Using a non-tuple sequence for multidimensional indexing is deprecated; use `arr[tuple(seq)]` instead of `arr[seq]`. In the future this will be interpreted as an array index, `arr[np.array(seq)]`, which will result either in an error or a different result.\n",
      "  filter_interactions_values = correlation_matrix[ind.transpose().tolist()]\n"
     ]
    },
    {
     "name": "stdout",
     "output_type": "stream",
     "text": [
      "0.0  | AUROC: 0.9895330055277655  | AUPR: 0.9992389649923896  | SNR: 2.6595143890455426\n"
     ]
    },
    {
     "name": "stderr",
     "output_type": "stream",
     "text": [
      "/home/koolab/Documents/GLIFAC/Code/glifac.py:108: FutureWarning: Using a non-tuple sequence for multidimensional indexing is deprecated; use `arr[tuple(seq)]` instead of `arr[seq]`. In the future this will be interpreted as an array index, `arr[np.array(seq)]`, which will result either in an error or a different result.\n",
      "  filter_interactions = feature_maps[position_pairs].transpose([1, 2, 0])\n",
      "/home/koolab/Documents/GLIFAC/Code/glifac.py:28: RuntimeWarning: invalid value encountered in float_scalars\n",
      "  return top/bottom\n",
      "/home/koolab/Documents/GLIFAC/Code/glifac.py:46: FutureWarning: Using a non-tuple sequence for multidimensional indexing is deprecated; use `arr[tuple(seq)]` instead of `arr[seq]`. In the future this will be interpreted as an array index, `arr[np.array(seq)]`, which will result either in an error or a different result.\n",
      "  filter_interactions_values = correlation_matrix[ind.transpose().tolist()]\n"
     ]
    },
    {
     "name": "stdout",
     "output_type": "stream",
     "text": [
      "0.1  | AUROC: 0.4015112801487312  | AUPR: 0.6894216133942161  | SNR: 2.0125478851998677\n"
     ]
    },
    {
     "name": "stderr",
     "output_type": "stream",
     "text": [
      "/home/koolab/Documents/GLIFAC/Code/glifac.py:108: FutureWarning: Using a non-tuple sequence for multidimensional indexing is deprecated; use `arr[tuple(seq)]` instead of `arr[seq]`. In the future this will be interpreted as an array index, `arr[np.array(seq)]`, which will result either in an error or a different result.\n",
      "  filter_interactions = feature_maps[position_pairs].transpose([1, 2, 0])\n",
      "/home/koolab/Documents/GLIFAC/Code/glifac.py:28: RuntimeWarning: invalid value encountered in float_scalars\n",
      "  return top/bottom\n",
      "/home/koolab/Documents/GLIFAC/Code/glifac.py:46: FutureWarning: Using a non-tuple sequence for multidimensional indexing is deprecated; use `arr[tuple(seq)]` instead of `arr[seq]`. In the future this will be interpreted as an array index, `arr[np.array(seq)]`, which will result either in an error or a different result.\n",
      "  filter_interactions_values = correlation_matrix[ind.transpose().tolist()]\n"
     ]
    },
    {
     "name": "stdout",
     "output_type": "stream",
     "text": [
      "0.2  | AUROC: 0.3255642305980352  | AUPR: 0.5895738203957382  | SNR: 1.4688934840765604\n"
     ]
    },
    {
     "name": "stderr",
     "output_type": "stream",
     "text": [
      "/home/koolab/Documents/GLIFAC/Code/glifac.py:108: FutureWarning: Using a non-tuple sequence for multidimensional indexing is deprecated; use `arr[tuple(seq)]` instead of `arr[seq]`. In the future this will be interpreted as an array index, `arr[np.array(seq)]`, which will result either in an error or a different result.\n",
      "  filter_interactions = feature_maps[position_pairs].transpose([1, 2, 0])\n",
      "/home/koolab/Documents/GLIFAC/Code/glifac.py:28: RuntimeWarning: invalid value encountered in float_scalars\n",
      "  return top/bottom\n",
      "/home/koolab/Documents/GLIFAC/Code/glifac.py:46: FutureWarning: Using a non-tuple sequence for multidimensional indexing is deprecated; use `arr[tuple(seq)]` instead of `arr[seq]`. In the future this will be interpreted as an array index, `arr[np.array(seq)]`, which will result either in an error or a different result.\n",
      "  filter_interactions_values = correlation_matrix[ind.transpose().tolist()]\n"
     ]
    },
    {
     "name": "stdout",
     "output_type": "stream",
     "text": [
      "0.3  | AUROC: 0.227955056283851  | AUPR: 0.5442161339421613  | SNR: 0.955764131580403\n"
     ]
    },
    {
     "name": "stderr",
     "output_type": "stream",
     "text": [
      "/home/koolab/Documents/GLIFAC/Code/glifac.py:108: FutureWarning: Using a non-tuple sequence for multidimensional indexing is deprecated; use `arr[tuple(seq)]` instead of `arr[seq]`. In the future this will be interpreted as an array index, `arr[np.array(seq)]`, which will result either in an error or a different result.\n",
      "  filter_interactions = feature_maps[position_pairs].transpose([1, 2, 0])\n",
      "/home/koolab/Documents/GLIFAC/Code/glifac.py:28: RuntimeWarning: invalid value encountered in float_scalars\n",
      "  return top/bottom\n",
      "/home/koolab/Documents/GLIFAC/Code/glifac.py:46: FutureWarning: Using a non-tuple sequence for multidimensional indexing is deprecated; use `arr[tuple(seq)]` instead of `arr[seq]`. In the future this will be interpreted as an array index, `arr[np.array(seq)]`, which will result either in an error or a different result.\n",
      "  filter_interactions_values = correlation_matrix[ind.transpose().tolist()]\n"
     ]
    },
    {
     "name": "stdout",
     "output_type": "stream",
     "text": [
      "0.4  | AUROC: 0.1572356785343284  | AUPR: 0.5458523592085236  | SNR: 0.7554555519297173\n"
     ]
    },
    {
     "name": "stderr",
     "output_type": "stream",
     "text": [
      "/home/koolab/Documents/GLIFAC/Code/glifac.py:108: FutureWarning: Using a non-tuple sequence for multidimensional indexing is deprecated; use `arr[tuple(seq)]` instead of `arr[seq]`. In the future this will be interpreted as an array index, `arr[np.array(seq)]`, which will result either in an error or a different result.\n",
      "  filter_interactions = feature_maps[position_pairs].transpose([1, 2, 0])\n",
      "/home/koolab/Documents/GLIFAC/Code/glifac.py:28: RuntimeWarning: invalid value encountered in float_scalars\n",
      "  return top/bottom\n",
      "/home/koolab/Documents/GLIFAC/Code/glifac.py:46: FutureWarning: Using a non-tuple sequence for multidimensional indexing is deprecated; use `arr[tuple(seq)]` instead of `arr[seq]`. In the future this will be interpreted as an array index, `arr[np.array(seq)]`, which will result either in an error or a different result.\n",
      "  filter_interactions_values = correlation_matrix[ind.transpose().tolist()]\n"
     ]
    },
    {
     "name": "stdout",
     "output_type": "stream",
     "text": [
      "0.5  | AUROC: 0.1396664638297185  | AUPR: 0.5256849315068493  | SNR: 0.6346915762063957\n"
     ]
    },
    {
     "name": "stderr",
     "output_type": "stream",
     "text": [
      "/home/koolab/Documents/GLIFAC/Code/glifac.py:108: FutureWarning: Using a non-tuple sequence for multidimensional indexing is deprecated; use `arr[tuple(seq)]` instead of `arr[seq]`. In the future this will be interpreted as an array index, `arr[np.array(seq)]`, which will result either in an error or a different result.\n",
      "  filter_interactions = feature_maps[position_pairs].transpose([1, 2, 0])\n",
      "/home/koolab/Documents/GLIFAC/Code/glifac.py:28: RuntimeWarning: invalid value encountered in float_scalars\n",
      "  return top/bottom\n",
      "/home/koolab/Documents/GLIFAC/Code/glifac.py:46: FutureWarning: Using a non-tuple sequence for multidimensional indexing is deprecated; use `arr[tuple(seq)]` instead of `arr[seq]`. In the future this will be interpreted as an array index, `arr[np.array(seq)]`, which will result either in an error or a different result.\n",
      "  filter_interactions_values = correlation_matrix[ind.transpose().tolist()]\n"
     ]
    },
    {
     "name": "stdout",
     "output_type": "stream",
     "text": [
      "0.6  | AUROC: 0.1438596142833218  | AUPR: 0.596841704718417  | SNR: 0.815992354817002\n"
     ]
    },
    {
     "name": "stderr",
     "output_type": "stream",
     "text": [
      "/home/koolab/Documents/GLIFAC/Code/glifac.py:108: FutureWarning: Using a non-tuple sequence for multidimensional indexing is deprecated; use `arr[tuple(seq)]` instead of `arr[seq]`. In the future this will be interpreted as an array index, `arr[np.array(seq)]`, which will result either in an error or a different result.\n",
      "  filter_interactions = feature_maps[position_pairs].transpose([1, 2, 0])\n",
      "/home/koolab/Documents/GLIFAC/Code/glifac.py:28: RuntimeWarning: invalid value encountered in float_scalars\n",
      "  return top/bottom\n",
      "/home/koolab/Documents/GLIFAC/Code/glifac.py:46: FutureWarning: Using a non-tuple sequence for multidimensional indexing is deprecated; use `arr[tuple(seq)]` instead of `arr[seq]`. In the future this will be interpreted as an array index, `arr[np.array(seq)]`, which will result either in an error or a different result.\n",
      "  filter_interactions_values = correlation_matrix[ind.transpose().tolist()]\n"
     ]
    },
    {
     "name": "stdout",
     "output_type": "stream",
     "text": [
      "0.7  | AUROC: 0.14935906227063253  | AUPR: 0.6106164383561643  | SNR: 0.8530394153961203\n"
     ]
    },
    {
     "name": "stderr",
     "output_type": "stream",
     "text": [
      "/home/koolab/Documents/GLIFAC/Code/glifac.py:108: FutureWarning: Using a non-tuple sequence for multidimensional indexing is deprecated; use `arr[tuple(seq)]` instead of `arr[seq]`. In the future this will be interpreted as an array index, `arr[np.array(seq)]`, which will result either in an error or a different result.\n",
      "  filter_interactions = feature_maps[position_pairs].transpose([1, 2, 0])\n",
      "/home/koolab/Documents/GLIFAC/Code/glifac.py:28: RuntimeWarning: invalid value encountered in float_scalars\n",
      "  return top/bottom\n",
      "/home/koolab/Documents/GLIFAC/Code/glifac.py:46: FutureWarning: Using a non-tuple sequence for multidimensional indexing is deprecated; use `arr[tuple(seq)]` instead of `arr[seq]`. In the future this will be interpreted as an array index, `arr[np.array(seq)]`, which will result either in an error or a different result.\n",
      "  filter_interactions_values = correlation_matrix[ind.transpose().tolist()]\n"
     ]
    },
    {
     "name": "stdout",
     "output_type": "stream",
     "text": [
      "0.8  | AUROC: 0.15228252533355843  | AUPR: 0.6175038051750381  | SNR: 0.8251253544274142\n"
     ]
    },
    {
     "name": "stderr",
     "output_type": "stream",
     "text": [
      "/home/koolab/Documents/GLIFAC/Code/glifac.py:108: FutureWarning: Using a non-tuple sequence for multidimensional indexing is deprecated; use `arr[tuple(seq)]` instead of `arr[seq]`. In the future this will be interpreted as an array index, `arr[np.array(seq)]`, which will result either in an error or a different result.\n",
      "  filter_interactions = feature_maps[position_pairs].transpose([1, 2, 0])\n",
      "/home/koolab/Documents/GLIFAC/Code/glifac.py:28: RuntimeWarning: invalid value encountered in float_scalars\n",
      "  return top/bottom\n",
      "/home/koolab/Documents/GLIFAC/Code/glifac.py:46: FutureWarning: Using a non-tuple sequence for multidimensional indexing is deprecated; use `arr[tuple(seq)]` instead of `arr[seq]`. In the future this will be interpreted as an array index, `arr[np.array(seq)]`, which will result either in an error or a different result.\n",
      "  filter_interactions_values = correlation_matrix[ind.transpose().tolist()]\n"
     ]
    },
    {
     "name": "stdout",
     "output_type": "stream",
     "text": [
      "0.9  | AUROC: 0.11743370186239138  | AUPR: 0.5726027397260275  | SNR: 0.525181142429235\n",
      "finished correlation interpretability\n",
      "saved statistics\n",
      "saved filters\n"
     ]
    },
    {
     "name": "stderr",
     "output_type": "stream",
     "text": [
      "/home/koolab/Documents/GLIFAC/Code/glifac_pipeline.py:297: MatplotlibDeprecationWarning: savefig() got unexpected keyword argument \"box_inches\" which is no longer supported as of 3.3 and will become an error two minor releases later\n",
      "  fig.savefig(glifac_dir, format='pdf', dpi=300, box_inches='tight')\n"
     ]
    },
    {
     "name": "stdout",
     "output_type": "stream",
     "text": [
      "saved glifac\n",
      "Epoch 1/100\n",
      "350/350 - 5s - loss: 0.3036 - auroc: 0.8260 - aupr: 0.5237 - val_loss: 0.2818 - val_auroc: 0.9563 - val_aupr: 0.8208\n",
      "Epoch 2/100\n",
      "350/350 - 5s - loss: 0.1323 - auroc: 0.9706 - aupr: 0.8884 - val_loss: 0.1103 - val_auroc: 0.9797 - val_aupr: 0.9212\n",
      "Epoch 3/100\n",
      "350/350 - 5s - loss: 0.1131 - auroc: 0.9778 - aupr: 0.9139 - val_loss: 0.0945 - val_auroc: 0.9855 - val_aupr: 0.9388\n",
      "Epoch 4/100\n",
      "350/350 - 5s - loss: 0.1051 - auroc: 0.9805 - aupr: 0.9241 - val_loss: 0.0925 - val_auroc: 0.9867 - val_aupr: 0.9367\n",
      "Epoch 5/100\n",
      "350/350 - 5s - loss: 0.1001 - auroc: 0.9817 - aupr: 0.9308 - val_loss: 0.0893 - val_auroc: 0.9854 - val_aupr: 0.9439\n",
      "Epoch 6/100\n",
      "350/350 - 5s - loss: 0.0983 - auroc: 0.9822 - aupr: 0.9327 - val_loss: 0.0894 - val_auroc: 0.9849 - val_aupr: 0.9482\n",
      "Epoch 7/100\n",
      "350/350 - 5s - loss: 0.0958 - auroc: 0.9831 - aupr: 0.9354 - val_loss: 0.0784 - val_auroc: 0.9896 - val_aupr: 0.9560\n",
      "Epoch 8/100\n",
      "350/350 - 5s - loss: 0.0945 - auroc: 0.9835 - aupr: 0.9367 - val_loss: 0.0796 - val_auroc: 0.9895 - val_aupr: 0.9534\n",
      "Epoch 9/100\n",
      "350/350 - 5s - loss: 0.0937 - auroc: 0.9838 - aupr: 0.9379 - val_loss: 0.0769 - val_auroc: 0.9901 - val_aupr: 0.9571\n",
      "Epoch 10/100\n",
      "350/350 - 5s - loss: 0.0923 - auroc: 0.9841 - aupr: 0.9393 - val_loss: 0.0770 - val_auroc: 0.9890 - val_aupr: 0.9572\n",
      "Epoch 11/100\n",
      "350/350 - 5s - loss: 0.0919 - auroc: 0.9844 - aupr: 0.9400 - val_loss: 0.0754 - val_auroc: 0.9901 - val_aupr: 0.9568\n",
      "Epoch 12/100\n",
      "350/350 - 5s - loss: 0.0915 - auroc: 0.9843 - aupr: 0.9398 - val_loss: 0.0750 - val_auroc: 0.9908 - val_aupr: 0.9582\n",
      "Epoch 13/100\n",
      "350/350 - 5s - loss: 0.0916 - auroc: 0.9842 - aupr: 0.9397 - val_loss: 0.0736 - val_auroc: 0.9901 - val_aupr: 0.9599\n",
      "Epoch 14/100\n",
      "350/350 - 5s - loss: 0.0908 - auroc: 0.9846 - aupr: 0.9407 - val_loss: 0.0778 - val_auroc: 0.9892 - val_aupr: 0.9553\n",
      "Epoch 15/100\n",
      "350/350 - 5s - loss: 0.0906 - auroc: 0.9846 - aupr: 0.9411 - val_loss: 0.0751 - val_auroc: 0.9907 - val_aupr: 0.9586\n",
      "Epoch 16/100\n",
      "350/350 - 5s - loss: 0.0901 - auroc: 0.9846 - aupr: 0.9410 - val_loss: 0.0752 - val_auroc: 0.9902 - val_aupr: 0.9573\n",
      "Epoch 17/100\n",
      "350/350 - 5s - loss: 0.0899 - auroc: 0.9848 - aupr: 0.9417 - val_loss: 0.0737 - val_auroc: 0.9907 - val_aupr: 0.9595\n",
      "Epoch 18/100\n",
      "350/350 - 5s - loss: 0.0905 - auroc: 0.9847 - aupr: 0.9409 - val_loss: 0.0739 - val_auroc: 0.9908 - val_aupr: 0.9598\n",
      "Epoch 19/100\n",
      "350/350 - 5s - loss: 0.0896 - auroc: 0.9849 - aupr: 0.9418 - val_loss: 0.0738 - val_auroc: 0.9910 - val_aupr: 0.9586\n",
      "Epoch 20/100\n",
      "350/350 - 5s - loss: 0.0890 - auroc: 0.9852 - aupr: 0.9426 - val_loss: 0.0763 - val_auroc: 0.9903 - val_aupr: 0.9587\n",
      "Epoch 21/100\n",
      "350/350 - 5s - loss: 0.0883 - auroc: 0.9852 - aupr: 0.9435 - val_loss: 0.0739 - val_auroc: 0.9901 - val_aupr: 0.9593\n",
      "Epoch 22/100\n",
      "350/350 - 5s - loss: 0.0897 - auroc: 0.9848 - aupr: 0.9415 - val_loss: 0.0738 - val_auroc: 0.9910 - val_aupr: 0.9603\n",
      "Epoch 23/100\n",
      "350/350 - 5s - loss: 0.0884 - auroc: 0.9851 - aupr: 0.9434 - val_loss: 0.0721 - val_auroc: 0.9911 - val_aupr: 0.9596\n",
      "Epoch 24/100\n",
      "350/350 - 5s - loss: 0.0878 - auroc: 0.9855 - aupr: 0.9436 - val_loss: 0.0738 - val_auroc: 0.9904 - val_aupr: 0.9594\n",
      "Epoch 25/100\n",
      "350/350 - 5s - loss: 0.0874 - auroc: 0.9856 - aupr: 0.9444 - val_loss: 0.0733 - val_auroc: 0.9907 - val_aupr: 0.9601\n",
      "Epoch 26/100\n",
      "350/350 - 5s - loss: 0.0873 - auroc: 0.9856 - aupr: 0.9443 - val_loss: 0.0720 - val_auroc: 0.9915 - val_aupr: 0.9607\n",
      "Epoch 27/100\n",
      "350/350 - 5s - loss: 0.0874 - auroc: 0.9855 - aupr: 0.9448 - val_loss: 0.0714 - val_auroc: 0.9913 - val_aupr: 0.9617\n",
      "Epoch 28/100\n",
      "350/350 - 5s - loss: 0.0859 - auroc: 0.9861 - aupr: 0.9464 - val_loss: 0.0738 - val_auroc: 0.9909 - val_aupr: 0.9588\n",
      "Epoch 29/100\n",
      "350/350 - 5s - loss: 0.0855 - auroc: 0.9861 - aupr: 0.9464 - val_loss: 0.0715 - val_auroc: 0.9917 - val_aupr: 0.9628\n",
      "Epoch 30/100\n",
      "350/350 - 5s - loss: 0.0855 - auroc: 0.9860 - aupr: 0.9473 - val_loss: 0.0709 - val_auroc: 0.9914 - val_aupr: 0.9630\n",
      "Epoch 31/100\n",
      "350/350 - 5s - loss: 0.0846 - auroc: 0.9864 - aupr: 0.9481 - val_loss: 0.0705 - val_auroc: 0.9918 - val_aupr: 0.9635\n",
      "Epoch 32/100\n",
      "350/350 - 5s - loss: 0.0849 - auroc: 0.9863 - aupr: 0.9479 - val_loss: 0.0708 - val_auroc: 0.9916 - val_aupr: 0.9633\n",
      "Epoch 33/100\n",
      "350/350 - 5s - loss: 0.0841 - auroc: 0.9864 - aupr: 0.9489 - val_loss: 0.0707 - val_auroc: 0.9919 - val_aupr: 0.9634\n",
      "Epoch 34/100\n",
      "350/350 - 5s - loss: 0.0831 - auroc: 0.9868 - aupr: 0.9499 - val_loss: 0.0704 - val_auroc: 0.9917 - val_aupr: 0.9636\n",
      "Epoch 35/100\n",
      "350/350 - 5s - loss: 0.0830 - auroc: 0.9867 - aupr: 0.9501 - val_loss: 0.0711 - val_auroc: 0.9919 - val_aupr: 0.9617\n",
      "Epoch 36/100\n",
      "350/350 - 5s - loss: 0.0819 - auroc: 0.9869 - aupr: 0.9514 - val_loss: 0.0705 - val_auroc: 0.9918 - val_aupr: 0.9638\n",
      "Epoch 37/100\n",
      "350/350 - 5s - loss: 0.0817 - auroc: 0.9872 - aupr: 0.9514 - val_loss: 0.0694 - val_auroc: 0.9918 - val_aupr: 0.9640\n",
      "Epoch 38/100\n",
      "350/350 - 5s - loss: 0.0804 - auroc: 0.9875 - aupr: 0.9527 - val_loss: 0.0697 - val_auroc: 0.9917 - val_aupr: 0.9642\n",
      "Epoch 39/100\n",
      "350/350 - 5s - loss: 0.0806 - auroc: 0.9875 - aupr: 0.9526 - val_loss: 0.0706 - val_auroc: 0.9917 - val_aupr: 0.9628\n",
      "Epoch 40/100\n",
      "350/350 - 5s - loss: 0.0797 - auroc: 0.9878 - aupr: 0.9535 - val_loss: 0.0711 - val_auroc: 0.9911 - val_aupr: 0.9616\n",
      "Epoch 41/100\n",
      "350/350 - 5s - loss: 0.0790 - auroc: 0.9879 - aupr: 0.9545 - val_loss: 0.0705 - val_auroc: 0.9912 - val_aupr: 0.9632\n",
      "Epoch 42/100\n",
      "350/350 - 5s - loss: 0.0783 - auroc: 0.9881 - aupr: 0.9550 - val_loss: 0.0709 - val_auroc: 0.9910 - val_aupr: 0.9624\n",
      "Epoch 43/100\n",
      "350/350 - 5s - loss: 0.0788 - auroc: 0.9878 - aupr: 0.9547 - val_loss: 0.0697 - val_auroc: 0.9917 - val_aupr: 0.9634\n",
      "Epoch 44/100\n",
      "350/350 - 5s - loss: 0.0778 - auroc: 0.9881 - aupr: 0.9558 - val_loss: 0.0699 - val_auroc: 0.9917 - val_aupr: 0.9631\n",
      "Epoch 45/100\n",
      "350/350 - 5s - loss: 0.0774 - auroc: 0.9883 - aupr: 0.9559 - val_loss: 0.0700 - val_auroc: 0.9914 - val_aupr: 0.9625\n",
      "Epoch 46/100\n",
      "350/350 - 5s - loss: 0.0768 - auroc: 0.9883 - aupr: 0.9565 - val_loss: 0.0704 - val_auroc: 0.9914 - val_aupr: 0.9626\n",
      "Epoch 47/100\n",
      "\n",
      "Epoch 00047: ReduceLROnPlateau reducing learning rate to 0.00020000000949949026.\n",
      "350/350 - 5s - loss: 0.0766 - auroc: 0.9884 - aupr: 0.9569 - val_loss: 0.0707 - val_auroc: 0.9909 - val_aupr: 0.9625\n",
      "Epoch 48/100\n",
      "350/350 - 5s - loss: 0.0733 - auroc: 0.9894 - aupr: 0.9600 - val_loss: 0.0687 - val_auroc: 0.9917 - val_aupr: 0.9638\n",
      "Epoch 49/100\n",
      "350/350 - 5s - loss: 0.0725 - auroc: 0.9896 - aupr: 0.9610 - val_loss: 0.0689 - val_auroc: 0.9917 - val_aupr: 0.9639\n",
      "Epoch 50/100\n",
      "350/350 - 5s - loss: 0.0723 - auroc: 0.9897 - aupr: 0.9611 - val_loss: 0.0690 - val_auroc: 0.9917 - val_aupr: 0.9638\n",
      "Epoch 51/100\n",
      "350/350 - 5s - loss: 0.0716 - auroc: 0.9898 - aupr: 0.9618 - val_loss: 0.0689 - val_auroc: 0.9918 - val_aupr: 0.9639\n",
      "Epoch 52/100\n",
      "350/350 - 5s - loss: 0.0714 - auroc: 0.9898 - aupr: 0.9621 - val_loss: 0.0690 - val_auroc: 0.9918 - val_aupr: 0.9636\n",
      "Epoch 53/100\n",
      "350/350 - 5s - loss: 0.0719 - auroc: 0.9898 - aupr: 0.9618 - val_loss: 0.0689 - val_auroc: 0.9917 - val_aupr: 0.9638\n",
      "Epoch 54/100\n",
      "350/350 - 5s - loss: 0.0715 - auroc: 0.9898 - aupr: 0.9620 - val_loss: 0.0690 - val_auroc: 0.9917 - val_aupr: 0.9637\n",
      "Epoch 55/100\n",
      "350/350 - 5s - loss: 0.0713 - auroc: 0.9898 - aupr: 0.9623 - val_loss: 0.0691 - val_auroc: 0.9918 - val_aupr: 0.9634\n",
      "Epoch 56/100\n",
      "350/350 - 5s - loss: 0.0712 - auroc: 0.9900 - aupr: 0.9622 - val_loss: 0.0691 - val_auroc: 0.9916 - val_aupr: 0.9636\n",
      "Epoch 57/100\n",
      "350/350 - 5s - loss: 0.0705 - auroc: 0.9901 - aupr: 0.9628 - val_loss: 0.0691 - val_auroc: 0.9914 - val_aupr: 0.9634\n",
      "Epoch 58/100\n",
      "\n",
      "Epoch 00058: ReduceLROnPlateau reducing learning rate to 4.0000001899898055e-05.\n",
      "350/350 - 5s - loss: 0.0708 - auroc: 0.9900 - aupr: 0.9624 - val_loss: 0.0694 - val_auroc: 0.9912 - val_aupr: 0.9632\n",
      "Epoch 59/100\n",
      "350/350 - 5s - loss: 0.0700 - auroc: 0.9902 - aupr: 0.9636 - val_loss: 0.0690 - val_auroc: 0.9915 - val_aupr: 0.9637\n",
      "Epoch 60/100\n",
      "350/350 - 5s - loss: 0.0697 - auroc: 0.9903 - aupr: 0.9637 - val_loss: 0.0691 - val_auroc: 0.9915 - val_aupr: 0.9634\n",
      "Epoch 61/100\n",
      "350/350 - 5s - loss: 0.0703 - auroc: 0.9900 - aupr: 0.9631 - val_loss: 0.0690 - val_auroc: 0.9916 - val_aupr: 0.9636\n",
      "Epoch 62/100\n",
      "350/350 - 5s - loss: 0.0697 - auroc: 0.9903 - aupr: 0.9639 - val_loss: 0.0691 - val_auroc: 0.9915 - val_aupr: 0.9635\n"
     ]
    },
    {
     "name": "stdout",
     "output_type": "stream",
     "text": [
      "Epoch 63/100\n",
      "Restoring model weights from the end of the best epoch.\n",
      "350/350 - 5s - loss: 0.0700 - auroc: 0.9903 - aupr: 0.9637 - val_loss: 0.0692 - val_auroc: 0.9914 - val_aupr: 0.9634\n",
      "Epoch 00063: early stopping\n",
      "625/625 [==============================] - 1s 2ms/step - loss: 0.0683 - auroc: 0.9913 - aupr: 0.9640\n",
      "generated PPMs\n",
      "TomTom TPR:  0.90625\n",
      "TomTom FPR:  0.03125\n",
      "Motif coverage:  1.0\n",
      "completed TomTom analysis\n",
      "completed clustering\n"
     ]
    },
    {
     "name": "stderr",
     "output_type": "stream",
     "text": [
      "/home/koolab/Documents/GLIFAC/Code/glifac.py:108: FutureWarning: Using a non-tuple sequence for multidimensional indexing is deprecated; use `arr[tuple(seq)]` instead of `arr[seq]`. In the future this will be interpreted as an array index, `arr[np.array(seq)]`, which will result either in an error or a different result.\n",
      "  filter_interactions = feature_maps[position_pairs].transpose([1, 2, 0])\n",
      "/home/koolab/Documents/GLIFAC/Code/glifac.py:46: FutureWarning: Using a non-tuple sequence for multidimensional indexing is deprecated; use `arr[tuple(seq)]` instead of `arr[seq]`. In the future this will be interpreted as an array index, `arr[np.array(seq)]`, which will result either in an error or a different result.\n",
      "  filter_interactions_values = correlation_matrix[ind.transpose().tolist()]\n"
     ]
    },
    {
     "name": "stdout",
     "output_type": "stream",
     "text": [
      "0.0  | AUROC: 0.9166429578858323  | AUPR: 0.9947478991596639  | SNR: 2.603985416623747\n"
     ]
    },
    {
     "name": "stderr",
     "output_type": "stream",
     "text": [
      "/home/koolab/Documents/GLIFAC/Code/glifac.py:108: FutureWarning: Using a non-tuple sequence for multidimensional indexing is deprecated; use `arr[tuple(seq)]` instead of `arr[seq]`. In the future this will be interpreted as an array index, `arr[np.array(seq)]`, which will result either in an error or a different result.\n",
      "  filter_interactions = feature_maps[position_pairs].transpose([1, 2, 0])\n",
      "/home/koolab/Documents/GLIFAC/Code/glifac.py:46: FutureWarning: Using a non-tuple sequence for multidimensional indexing is deprecated; use `arr[tuple(seq)]` instead of `arr[seq]`. In the future this will be interpreted as an array index, `arr[np.array(seq)]`, which will result either in an error or a different result.\n",
      "  filter_interactions_values = correlation_matrix[ind.transpose().tolist()]\n"
     ]
    },
    {
     "name": "stdout",
     "output_type": "stream",
     "text": [
      "0.1  | AUROC: 0.18290610746507788  | AUPR: 0.6599870717517776  | SNR: 0.8729741309244429\n"
     ]
    },
    {
     "name": "stderr",
     "output_type": "stream",
     "text": [
      "/home/koolab/Documents/GLIFAC/Code/glifac.py:108: FutureWarning: Using a non-tuple sequence for multidimensional indexing is deprecated; use `arr[tuple(seq)]` instead of `arr[seq]`. In the future this will be interpreted as an array index, `arr[np.array(seq)]`, which will result either in an error or a different result.\n",
      "  filter_interactions = feature_maps[position_pairs].transpose([1, 2, 0])\n",
      "/home/koolab/Documents/GLIFAC/Code/glifac.py:28: RuntimeWarning: invalid value encountered in float_scalars\n",
      "  return top/bottom\n",
      "/home/koolab/Documents/GLIFAC/Code/glifac.py:46: FutureWarning: Using a non-tuple sequence for multidimensional indexing is deprecated; use `arr[tuple(seq)]` instead of `arr[seq]`. In the future this will be interpreted as an array index, `arr[np.array(seq)]`, which will result either in an error or a different result.\n",
      "  filter_interactions_values = correlation_matrix[ind.transpose().tolist()]\n"
     ]
    },
    {
     "name": "stdout",
     "output_type": "stream",
     "text": [
      "0.2  | AUROC: 0.16744005706065984  | AUPR: 0.6815610859728507  | SNR: 0.8063301250458949\n"
     ]
    },
    {
     "name": "stderr",
     "output_type": "stream",
     "text": [
      "/home/koolab/Documents/GLIFAC/Code/glifac.py:108: FutureWarning: Using a non-tuple sequence for multidimensional indexing is deprecated; use `arr[tuple(seq)]` instead of `arr[seq]`. In the future this will be interpreted as an array index, `arr[np.array(seq)]`, which will result either in an error or a different result.\n",
      "  filter_interactions = feature_maps[position_pairs].transpose([1, 2, 0])\n",
      "/home/koolab/Documents/GLIFAC/Code/glifac.py:28: RuntimeWarning: invalid value encountered in float_scalars\n",
      "  return top/bottom\n",
      "/home/koolab/Documents/GLIFAC/Code/glifac.py:46: FutureWarning: Using a non-tuple sequence for multidimensional indexing is deprecated; use `arr[tuple(seq)]` instead of `arr[seq]`. In the future this will be interpreted as an array index, `arr[np.array(seq)]`, which will result either in an error or a different result.\n",
      "  filter_interactions_values = correlation_matrix[ind.transpose().tolist()]\n"
     ]
    },
    {
     "name": "stdout",
     "output_type": "stream",
     "text": [
      "0.3  | AUROC: 0.16461188100098198  | AUPR: 0.6881060116354234  | SNR: 0.8120398761839723\n"
     ]
    },
    {
     "name": "stderr",
     "output_type": "stream",
     "text": [
      "/home/koolab/Documents/GLIFAC/Code/glifac.py:108: FutureWarning: Using a non-tuple sequence for multidimensional indexing is deprecated; use `arr[tuple(seq)]` instead of `arr[seq]`. In the future this will be interpreted as an array index, `arr[np.array(seq)]`, which will result either in an error or a different result.\n",
      "  filter_interactions = feature_maps[position_pairs].transpose([1, 2, 0])\n",
      "/home/koolab/Documents/GLIFAC/Code/glifac.py:28: RuntimeWarning: invalid value encountered in float_scalars\n",
      "  return top/bottom\n",
      "/home/koolab/Documents/GLIFAC/Code/glifac.py:46: FutureWarning: Using a non-tuple sequence for multidimensional indexing is deprecated; use `arr[tuple(seq)]` instead of `arr[seq]`. In the future this will be interpreted as an array index, `arr[np.array(seq)]`, which will result either in an error or a different result.\n",
      "  filter_interactions_values = correlation_matrix[ind.transpose().tolist()]\n"
     ]
    },
    {
     "name": "stdout",
     "output_type": "stream",
     "text": [
      "0.4  | AUROC: 0.11254725168863383  | AUPR: 0.6451599870717518  | SNR: 0.49806234892164736\n"
     ]
    },
    {
     "name": "stderr",
     "output_type": "stream",
     "text": [
      "/home/koolab/Documents/GLIFAC/Code/glifac.py:108: FutureWarning: Using a non-tuple sequence for multidimensional indexing is deprecated; use `arr[tuple(seq)]` instead of `arr[seq]`. In the future this will be interpreted as an array index, `arr[np.array(seq)]`, which will result either in an error or a different result.\n",
      "  filter_interactions = feature_maps[position_pairs].transpose([1, 2, 0])\n",
      "/home/koolab/Documents/GLIFAC/Code/glifac.py:28: RuntimeWarning: invalid value encountered in float_scalars\n",
      "  return top/bottom\n",
      "/home/koolab/Documents/GLIFAC/Code/glifac.py:46: FutureWarning: Using a non-tuple sequence for multidimensional indexing is deprecated; use `arr[tuple(seq)]` instead of `arr[seq]`. In the future this will be interpreted as an array index, `arr[np.array(seq)]`, which will result either in an error or a different result.\n",
      "  filter_interactions_values = correlation_matrix[ind.transpose().tolist()]\n"
     ]
    },
    {
     "name": "stdout",
     "output_type": "stream",
     "text": [
      "0.5  | AUROC: 0.1101011011971368  | AUPR: 0.6306157078215902  | SNR: 0.49592221517599683\n"
     ]
    },
    {
     "name": "stderr",
     "output_type": "stream",
     "text": [
      "/home/koolab/Documents/GLIFAC/Code/glifac.py:108: FutureWarning: Using a non-tuple sequence for multidimensional indexing is deprecated; use `arr[tuple(seq)]` instead of `arr[seq]`. In the future this will be interpreted as an array index, `arr[np.array(seq)]`, which will result either in an error or a different result.\n",
      "  filter_interactions = feature_maps[position_pairs].transpose([1, 2, 0])\n",
      "/home/koolab/Documents/GLIFAC/Code/glifac.py:28: RuntimeWarning: invalid value encountered in float_scalars\n",
      "  return top/bottom\n",
      "/home/koolab/Documents/GLIFAC/Code/glifac.py:46: FutureWarning: Using a non-tuple sequence for multidimensional indexing is deprecated; use `arr[tuple(seq)]` instead of `arr[seq]`. In the future this will be interpreted as an array index, `arr[np.array(seq)]`, which will result either in an error or a different result.\n",
      "  filter_interactions_values = correlation_matrix[ind.transpose().tolist()]\n"
     ]
    },
    {
     "name": "stdout",
     "output_type": "stream",
     "text": [
      "0.6  | AUROC: 0.10316057323809252  | AUPR: 0.575751454427925  | SNR: 0.4789189103847034\n"
     ]
    },
    {
     "name": "stderr",
     "output_type": "stream",
     "text": [
      "/home/koolab/Documents/GLIFAC/Code/glifac.py:108: FutureWarning: Using a non-tuple sequence for multidimensional indexing is deprecated; use `arr[tuple(seq)]` instead of `arr[seq]`. In the future this will be interpreted as an array index, `arr[np.array(seq)]`, which will result either in an error or a different result.\n",
      "  filter_interactions = feature_maps[position_pairs].transpose([1, 2, 0])\n",
      "/home/koolab/Documents/GLIFAC/Code/glifac.py:28: RuntimeWarning: invalid value encountered in float_scalars\n",
      "  return top/bottom\n",
      "/home/koolab/Documents/GLIFAC/Code/glifac.py:46: FutureWarning: Using a non-tuple sequence for multidimensional indexing is deprecated; use `arr[tuple(seq)]` instead of `arr[seq]`. In the future this will be interpreted as an array index, `arr[np.array(seq)]`, which will result either in an error or a different result.\n",
      "  filter_interactions_values = correlation_matrix[ind.transpose().tolist()]\n"
     ]
    },
    {
     "name": "stdout",
     "output_type": "stream",
     "text": [
      "0.7  | AUROC: 0.10559231966330278  | AUPR: 0.5678329023917259  | SNR: 0.48165378495465416\n"
     ]
    },
    {
     "name": "stderr",
     "output_type": "stream",
     "text": [
      "/home/koolab/Documents/GLIFAC/Code/glifac.py:108: FutureWarning: Using a non-tuple sequence for multidimensional indexing is deprecated; use `arr[tuple(seq)]` instead of `arr[seq]`. In the future this will be interpreted as an array index, `arr[np.array(seq)]`, which will result either in an error or a different result.\n",
      "  filter_interactions = feature_maps[position_pairs].transpose([1, 2, 0])\n",
      "/home/koolab/Documents/GLIFAC/Code/glifac.py:28: RuntimeWarning: invalid value encountered in float_scalars\n",
      "  return top/bottom\n",
      "/home/koolab/Documents/GLIFAC/Code/glifac.py:46: FutureWarning: Using a non-tuple sequence for multidimensional indexing is deprecated; use `arr[tuple(seq)]` instead of `arr[seq]`. In the future this will be interpreted as an array index, `arr[np.array(seq)]`, which will result either in an error or a different result.\n",
      "  filter_interactions_values = correlation_matrix[ind.transpose().tolist()]\n"
     ]
    },
    {
     "name": "stdout",
     "output_type": "stream",
     "text": [
      "0.8  | AUROC: 0.09750385508955375  | AUPR: 0.5638736263736264  | SNR: 0.4200143773203179\n"
     ]
    },
    {
     "name": "stderr",
     "output_type": "stream",
     "text": [
      "/home/koolab/Documents/GLIFAC/Code/glifac.py:108: FutureWarning: Using a non-tuple sequence for multidimensional indexing is deprecated; use `arr[tuple(seq)]` instead of `arr[seq]`. In the future this will be interpreted as an array index, `arr[np.array(seq)]`, which will result either in an error or a different result.\n",
      "  filter_interactions = feature_maps[position_pairs].transpose([1, 2, 0])\n",
      "/home/koolab/Documents/GLIFAC/Code/glifac.py:28: RuntimeWarning: invalid value encountered in float_scalars\n",
      "  return top/bottom\n",
      "/home/koolab/Documents/GLIFAC/Code/glifac.py:46: FutureWarning: Using a non-tuple sequence for multidimensional indexing is deprecated; use `arr[tuple(seq)]` instead of `arr[seq]`. In the future this will be interpreted as an array index, `arr[np.array(seq)]`, which will result either in an error or a different result.\n",
      "  filter_interactions_values = correlation_matrix[ind.transpose().tolist()]\n"
     ]
    },
    {
     "name": "stdout",
     "output_type": "stream",
     "text": [
      "0.9  | AUROC: 0.08884276390570482  | AUPR: 0.559833548804137  | SNR: 0.34491645483794725\n",
      "finished correlation interpretability\n",
      "saved statistics\n",
      "saved filters\n"
     ]
    },
    {
     "name": "stderr",
     "output_type": "stream",
     "text": [
      "/home/koolab/Documents/GLIFAC/Code/glifac_pipeline.py:297: MatplotlibDeprecationWarning: savefig() got unexpected keyword argument \"box_inches\" which is no longer supported as of 3.3 and will become an error two minor releases later\n",
      "  fig.savefig(glifac_dir, format='pdf', dpi=300, box_inches='tight')\n"
     ]
    },
    {
     "name": "stdout",
     "output_type": "stream",
     "text": [
      "saved glifac\n",
      "Epoch 1/100\n",
      "350/350 - 5s - loss: 0.3001 - auroc: 0.8324 - aupr: 0.5347 - val_loss: 0.2600 - val_auroc: 0.9652 - val_aupr: 0.8505\n",
      "Epoch 2/100\n",
      "350/350 - 5s - loss: 0.1354 - auroc: 0.9698 - aupr: 0.8833 - val_loss: 0.1815 - val_auroc: 0.9576 - val_aupr: 0.8156\n",
      "Epoch 3/100\n",
      "350/350 - 5s - loss: 0.1101 - auroc: 0.9789 - aupr: 0.9181 - val_loss: 0.1085 - val_auroc: 0.9802 - val_aupr: 0.9251\n",
      "Epoch 4/100\n",
      "350/350 - 5s - loss: 0.1017 - auroc: 0.9817 - aupr: 0.9284 - val_loss: 0.0902 - val_auroc: 0.9847 - val_aupr: 0.9405\n",
      "Epoch 5/100\n",
      "350/350 - 5s - loss: 0.0994 - auroc: 0.9823 - aupr: 0.9308 - val_loss: 0.0904 - val_auroc: 0.9871 - val_aupr: 0.9434\n",
      "Epoch 6/100\n",
      "350/350 - 5s - loss: 0.0973 - auroc: 0.9828 - aupr: 0.9333 - val_loss: 0.0838 - val_auroc: 0.9868 - val_aupr: 0.9518\n",
      "Epoch 7/100\n",
      "350/350 - 5s - loss: 0.0960 - auroc: 0.9832 - aupr: 0.9349 - val_loss: 0.0817 - val_auroc: 0.9893 - val_aupr: 0.9538\n",
      "Epoch 8/100\n",
      "350/350 - 5s - loss: 0.0956 - auroc: 0.9833 - aupr: 0.9353 - val_loss: 0.0812 - val_auroc: 0.9882 - val_aupr: 0.9536\n",
      "Epoch 9/100\n",
      "350/350 - 5s - loss: 0.0944 - auroc: 0.9833 - aupr: 0.9364 - val_loss: 0.0813 - val_auroc: 0.9892 - val_aupr: 0.9525\n",
      "Epoch 10/100\n",
      "350/350 - 5s - loss: 0.0938 - auroc: 0.9838 - aupr: 0.9369 - val_loss: 0.0824 - val_auroc: 0.9879 - val_aupr: 0.9495\n",
      "Epoch 11/100\n",
      "350/350 - 5s - loss: 0.0938 - auroc: 0.9839 - aupr: 0.9372 - val_loss: 0.0821 - val_auroc: 0.9883 - val_aupr: 0.9524\n",
      "Epoch 12/100\n",
      "350/350 - 5s - loss: 0.0930 - auroc: 0.9840 - aupr: 0.9384 - val_loss: 0.0751 - val_auroc: 0.9901 - val_aupr: 0.9585\n",
      "Epoch 13/100\n",
      "350/350 - 5s - loss: 0.0914 - auroc: 0.9846 - aupr: 0.9404 - val_loss: 0.0783 - val_auroc: 0.9896 - val_aupr: 0.9553\n",
      "Epoch 14/100\n",
      "350/350 - 5s - loss: 0.0908 - auroc: 0.9847 - aupr: 0.9411 - val_loss: 0.0746 - val_auroc: 0.9909 - val_aupr: 0.9587\n",
      "Epoch 15/100\n",
      "350/350 - 5s - loss: 0.0904 - auroc: 0.9849 - aupr: 0.9416 - val_loss: 0.0752 - val_auroc: 0.9904 - val_aupr: 0.9588\n",
      "Epoch 16/100\n",
      "350/350 - 5s - loss: 0.0897 - auroc: 0.9852 - aupr: 0.9420 - val_loss: 0.0748 - val_auroc: 0.9910 - val_aupr: 0.9590\n",
      "Epoch 17/100\n",
      "350/350 - 5s - loss: 0.0906 - auroc: 0.9847 - aupr: 0.9409 - val_loss: 0.0734 - val_auroc: 0.9911 - val_aupr: 0.9607\n",
      "Epoch 18/100\n",
      "350/350 - 5s - loss: 0.0901 - auroc: 0.9851 - aupr: 0.9418 - val_loss: 0.0737 - val_auroc: 0.9910 - val_aupr: 0.9590\n",
      "Epoch 19/100\n",
      "350/350 - 5s - loss: 0.0887 - auroc: 0.9856 - aupr: 0.9431 - val_loss: 0.0728 - val_auroc: 0.9912 - val_aupr: 0.9602\n",
      "Epoch 20/100\n",
      "350/350 - 5s - loss: 0.0896 - auroc: 0.9851 - aupr: 0.9425 - val_loss: 0.0730 - val_auroc: 0.9904 - val_aupr: 0.9604\n",
      "Epoch 21/100\n",
      "350/350 - 5s - loss: 0.0883 - auroc: 0.9857 - aupr: 0.9439 - val_loss: 0.0730 - val_auroc: 0.9917 - val_aupr: 0.9616\n",
      "Epoch 22/100\n",
      "350/350 - 5s - loss: 0.0878 - auroc: 0.9858 - aupr: 0.9445 - val_loss: 0.0731 - val_auroc: 0.9906 - val_aupr: 0.9606\n",
      "Epoch 23/100\n",
      "350/350 - 5s - loss: 0.0874 - auroc: 0.9857 - aupr: 0.9444 - val_loss: 0.0718 - val_auroc: 0.9911 - val_aupr: 0.9620\n",
      "Epoch 24/100\n",
      "350/350 - 5s - loss: 0.0873 - auroc: 0.9857 - aupr: 0.9448 - val_loss: 0.0724 - val_auroc: 0.9909 - val_aupr: 0.9615\n",
      "Epoch 25/100\n",
      "350/350 - 5s - loss: 0.0863 - auroc: 0.9863 - aupr: 0.9463 - val_loss: 0.0721 - val_auroc: 0.9919 - val_aupr: 0.9619\n",
      "Epoch 26/100\n",
      "350/350 - 5s - loss: 0.0862 - auroc: 0.9865 - aupr: 0.9462 - val_loss: 0.0716 - val_auroc: 0.9911 - val_aupr: 0.9619\n",
      "Epoch 27/100\n",
      "350/350 - 5s - loss: 0.0858 - auroc: 0.9862 - aupr: 0.9467 - val_loss: 0.0725 - val_auroc: 0.9915 - val_aupr: 0.9617\n",
      "Epoch 28/100\n",
      "350/350 - 5s - loss: 0.0854 - auroc: 0.9866 - aupr: 0.9470 - val_loss: 0.0730 - val_auroc: 0.9905 - val_aupr: 0.9594\n",
      "Epoch 29/100\n",
      "350/350 - 5s - loss: 0.0847 - auroc: 0.9868 - aupr: 0.9478 - val_loss: 0.0721 - val_auroc: 0.9912 - val_aupr: 0.9622\n",
      "Epoch 30/100\n",
      "350/350 - 5s - loss: 0.0842 - auroc: 0.9867 - aupr: 0.9484 - val_loss: 0.0716 - val_auroc: 0.9910 - val_aupr: 0.9618\n",
      "Epoch 31/100\n",
      "350/350 - 5s - loss: 0.0845 - auroc: 0.9868 - aupr: 0.9479 - val_loss: 0.0708 - val_auroc: 0.9914 - val_aupr: 0.9628\n",
      "Epoch 32/100\n",
      "350/350 - 5s - loss: 0.0840 - auroc: 0.9871 - aupr: 0.9486 - val_loss: 0.0711 - val_auroc: 0.9911 - val_aupr: 0.9622\n",
      "Epoch 33/100\n",
      "350/350 - 5s - loss: 0.0839 - auroc: 0.9869 - aupr: 0.9488 - val_loss: 0.0712 - val_auroc: 0.9914 - val_aupr: 0.9623\n",
      "Epoch 34/100\n",
      "350/350 - 5s - loss: 0.0829 - auroc: 0.9873 - aupr: 0.9499 - val_loss: 0.0711 - val_auroc: 0.9910 - val_aupr: 0.9621\n",
      "Epoch 35/100\n",
      "350/350 - 5s - loss: 0.0833 - auroc: 0.9870 - aupr: 0.9496 - val_loss: 0.0700 - val_auroc: 0.9915 - val_aupr: 0.9636\n",
      "Epoch 36/100\n",
      "350/350 - 5s - loss: 0.0828 - auroc: 0.9873 - aupr: 0.9499 - val_loss: 0.0706 - val_auroc: 0.9918 - val_aupr: 0.9625\n",
      "Epoch 37/100\n",
      "350/350 - 5s - loss: 0.0824 - auroc: 0.9874 - aupr: 0.9506 - val_loss: 0.0705 - val_auroc: 0.9915 - val_aupr: 0.9633\n",
      "Epoch 38/100\n",
      "350/350 - 5s - loss: 0.0821 - auroc: 0.9874 - aupr: 0.9509 - val_loss: 0.0707 - val_auroc: 0.9911 - val_aupr: 0.9630\n",
      "Epoch 39/100\n",
      "350/350 - 5s - loss: 0.0814 - auroc: 0.9876 - aupr: 0.9519 - val_loss: 0.0717 - val_auroc: 0.9901 - val_aupr: 0.9617\n",
      "Epoch 40/100\n",
      "350/350 - 5s - loss: 0.0816 - auroc: 0.9875 - aupr: 0.9516 - val_loss: 0.0716 - val_auroc: 0.9909 - val_aupr: 0.9626\n",
      "Epoch 41/100\n",
      "350/350 - 5s - loss: 0.0809 - auroc: 0.9877 - aupr: 0.9526 - val_loss: 0.0694 - val_auroc: 0.9916 - val_aupr: 0.9641\n",
      "Epoch 42/100\n",
      "350/350 - 5s - loss: 0.0803 - auroc: 0.9881 - aupr: 0.9528 - val_loss: 0.0699 - val_auroc: 0.9912 - val_aupr: 0.9639\n",
      "Epoch 43/100\n",
      "350/350 - 5s - loss: 0.0800 - auroc: 0.9880 - aupr: 0.9531 - val_loss: 0.0698 - val_auroc: 0.9913 - val_aupr: 0.9634\n",
      "Epoch 44/100\n",
      "350/350 - 5s - loss: 0.0797 - auroc: 0.9881 - aupr: 0.9534 - val_loss: 0.0701 - val_auroc: 0.9910 - val_aupr: 0.9634\n",
      "Epoch 45/100\n",
      "350/350 - 5s - loss: 0.0799 - auroc: 0.9879 - aupr: 0.9535 - val_loss: 0.0709 - val_auroc: 0.9911 - val_aupr: 0.9624\n",
      "Epoch 46/100\n",
      "350/350 - 5s - loss: 0.0792 - auroc: 0.9881 - aupr: 0.9543 - val_loss: 0.0702 - val_auroc: 0.9914 - val_aupr: 0.9633\n",
      "Epoch 47/100\n",
      "350/350 - 5s - loss: 0.0783 - auroc: 0.9883 - aupr: 0.9553 - val_loss: 0.0695 - val_auroc: 0.9917 - val_aupr: 0.9639\n",
      "Epoch 48/100\n",
      "350/350 - 5s - loss: 0.0780 - auroc: 0.9886 - aupr: 0.9558 - val_loss: 0.0705 - val_auroc: 0.9907 - val_aupr: 0.9623\n",
      "Epoch 49/100\n",
      "350/350 - 5s - loss: 0.0780 - auroc: 0.9883 - aupr: 0.9554 - val_loss: 0.0704 - val_auroc: 0.9912 - val_aupr: 0.9630\n",
      "Epoch 50/100\n",
      "350/350 - 5s - loss: 0.0770 - auroc: 0.9887 - aupr: 0.9564 - val_loss: 0.0699 - val_auroc: 0.9912 - val_aupr: 0.9635\n",
      "Epoch 51/100\n",
      "\n",
      "Epoch 00051: ReduceLROnPlateau reducing learning rate to 0.00020000000949949026.\n",
      "350/350 - 5s - loss: 0.0768 - auroc: 0.9887 - aupr: 0.9569 - val_loss: 0.0702 - val_auroc: 0.9909 - val_aupr: 0.9631\n",
      "Epoch 52/100\n",
      "350/350 - 5s - loss: 0.0736 - auroc: 0.9897 - aupr: 0.9602 - val_loss: 0.0683 - val_auroc: 0.9916 - val_aupr: 0.9648\n",
      "Epoch 53/100\n",
      "350/350 - 5s - loss: 0.0732 - auroc: 0.9896 - aupr: 0.9605 - val_loss: 0.0682 - val_auroc: 0.9913 - val_aupr: 0.9650\n",
      "Epoch 54/100\n",
      "350/350 - 5s - loss: 0.0732 - auroc: 0.9896 - aupr: 0.9604 - val_loss: 0.0685 - val_auroc: 0.9915 - val_aupr: 0.9647\n",
      "Epoch 55/100\n",
      "350/350 - 5s - loss: 0.0725 - auroc: 0.9900 - aupr: 0.9611 - val_loss: 0.0687 - val_auroc: 0.9914 - val_aupr: 0.9648\n",
      "Epoch 56/100\n",
      "350/350 - 5s - loss: 0.0727 - auroc: 0.9899 - aupr: 0.9610 - val_loss: 0.0687 - val_auroc: 0.9913 - val_aupr: 0.9648\n",
      "Epoch 57/100\n",
      "350/350 - 5s - loss: 0.0722 - auroc: 0.9901 - aupr: 0.9612 - val_loss: 0.0688 - val_auroc: 0.9912 - val_aupr: 0.9647\n",
      "Epoch 58/100\n",
      "350/350 - 5s - loss: 0.0716 - auroc: 0.9901 - aupr: 0.9618 - val_loss: 0.0688 - val_auroc: 0.9912 - val_aupr: 0.9644\n",
      "Epoch 59/100\n",
      "350/350 - 5s - loss: 0.0720 - auroc: 0.9900 - aupr: 0.9619 - val_loss: 0.0690 - val_auroc: 0.9914 - val_aupr: 0.9642\n",
      "Epoch 60/100\n",
      "350/350 - 5s - loss: 0.0719 - auroc: 0.9900 - aupr: 0.9616 - val_loss: 0.0688 - val_auroc: 0.9909 - val_aupr: 0.9643\n",
      "Epoch 61/100\n",
      "350/350 - 5s - loss: 0.0717 - auroc: 0.9900 - aupr: 0.9624 - val_loss: 0.0689 - val_auroc: 0.9913 - val_aupr: 0.9642\n",
      "Epoch 62/100\n",
      "\n",
      "Epoch 00062: ReduceLROnPlateau reducing learning rate to 4.0000001899898055e-05.\n",
      "350/350 - 5s - loss: 0.0713 - auroc: 0.9903 - aupr: 0.9622 - val_loss: 0.0688 - val_auroc: 0.9911 - val_aupr: 0.9646\n"
     ]
    },
    {
     "name": "stdout",
     "output_type": "stream",
     "text": [
      "Epoch 63/100\n",
      "350/350 - 5s - loss: 0.0712 - auroc: 0.9903 - aupr: 0.9624 - val_loss: 0.0686 - val_auroc: 0.9911 - val_aupr: 0.9647\n",
      "Epoch 64/100\n",
      "350/350 - 5s - loss: 0.0705 - auroc: 0.9905 - aupr: 0.9632 - val_loss: 0.0686 - val_auroc: 0.9911 - val_aupr: 0.9648\n",
      "Epoch 65/100\n",
      "350/350 - 5s - loss: 0.0709 - auroc: 0.9903 - aupr: 0.9626 - val_loss: 0.0687 - val_auroc: 0.9911 - val_aupr: 0.9647\n",
      "Epoch 66/100\n",
      "350/350 - 5s - loss: 0.0700 - auroc: 0.9906 - aupr: 0.9634 - val_loss: 0.0687 - val_auroc: 0.9910 - val_aupr: 0.9647\n",
      "Epoch 67/100\n",
      "350/350 - 5s - loss: 0.0700 - auroc: 0.9906 - aupr: 0.9637 - val_loss: 0.0687 - val_auroc: 0.9911 - val_aupr: 0.9648\n",
      "Epoch 68/100\n",
      "Restoring model weights from the end of the best epoch.\n",
      "350/350 - 5s - loss: 0.0709 - auroc: 0.9901 - aupr: 0.9627 - val_loss: 0.0687 - val_auroc: 0.9910 - val_aupr: 0.9646\n",
      "Epoch 00068: early stopping\n",
      "625/625 [==============================] - 1s 2ms/step - loss: 0.0684 - auroc: 0.9911 - aupr: 0.9643\n",
      "generated PPMs\n",
      "TomTom TPR:  0.90625\n",
      "TomTom FPR:  0.03125\n",
      "Motif coverage:  1.0\n",
      "completed TomTom analysis\n",
      "completed clustering\n"
     ]
    },
    {
     "name": "stderr",
     "output_type": "stream",
     "text": [
      "/home/koolab/Documents/GLIFAC/Code/glifac.py:108: FutureWarning: Using a non-tuple sequence for multidimensional indexing is deprecated; use `arr[tuple(seq)]` instead of `arr[seq]`. In the future this will be interpreted as an array index, `arr[np.array(seq)]`, which will result either in an error or a different result.\n",
      "  filter_interactions = feature_maps[position_pairs].transpose([1, 2, 0])\n",
      "/home/koolab/Documents/GLIFAC/Code/glifac.py:46: FutureWarning: Using a non-tuple sequence for multidimensional indexing is deprecated; use `arr[tuple(seq)]` instead of `arr[seq]`. In the future this will be interpreted as an array index, `arr[np.array(seq)]`, which will result either in an error or a different result.\n",
      "  filter_interactions_values = correlation_matrix[ind.transpose().tolist()]\n"
     ]
    },
    {
     "name": "stdout",
     "output_type": "stream",
     "text": [
      "0.0  | AUROC: 0.9855028845413459  | AUPR: 0.9988738738738739  | SNR: 3.6613177008464803\n"
     ]
    },
    {
     "name": "stderr",
     "output_type": "stream",
     "text": [
      "/home/koolab/Documents/GLIFAC/Code/glifac.py:108: FutureWarning: Using a non-tuple sequence for multidimensional indexing is deprecated; use `arr[tuple(seq)]` instead of `arr[seq]`. In the future this will be interpreted as an array index, `arr[np.array(seq)]`, which will result either in an error or a different result.\n",
      "  filter_interactions = feature_maps[position_pairs].transpose([1, 2, 0])\n",
      "/home/koolab/Documents/GLIFAC/Code/glifac.py:46: FutureWarning: Using a non-tuple sequence for multidimensional indexing is deprecated; use `arr[tuple(seq)]` instead of `arr[seq]`. In the future this will be interpreted as an array index, `arr[np.array(seq)]`, which will result either in an error or a different result.\n",
      "  filter_interactions_values = correlation_matrix[ind.transpose().tolist()]\n"
     ]
    },
    {
     "name": "stdout",
     "output_type": "stream",
     "text": [
      "0.1  | AUROC: 0.2726310176904215  | AUPR: 0.783957033957034  | SNR: 1.1999423008341723\n"
     ]
    },
    {
     "name": "stderr",
     "output_type": "stream",
     "text": [
      "/home/koolab/Documents/GLIFAC/Code/glifac.py:108: FutureWarning: Using a non-tuple sequence for multidimensional indexing is deprecated; use `arr[tuple(seq)]` instead of `arr[seq]`. In the future this will be interpreted as an array index, `arr[np.array(seq)]`, which will result either in an error or a different result.\n",
      "  filter_interactions = feature_maps[position_pairs].transpose([1, 2, 0])\n",
      "/home/koolab/Documents/GLIFAC/Code/glifac.py:46: FutureWarning: Using a non-tuple sequence for multidimensional indexing is deprecated; use `arr[tuple(seq)]` instead of `arr[seq]`. In the future this will be interpreted as an array index, `arr[np.array(seq)]`, which will result either in an error or a different result.\n",
      "  filter_interactions_values = correlation_matrix[ind.transpose().tolist()]\n"
     ]
    },
    {
     "name": "stdout",
     "output_type": "stream",
     "text": [
      "0.2  | AUROC: 0.1736094446695189  | AUPR: 0.6992376992376993  | SNR: 0.9056017198128562\n"
     ]
    },
    {
     "name": "stderr",
     "output_type": "stream",
     "text": [
      "/home/koolab/Documents/GLIFAC/Code/glifac.py:108: FutureWarning: Using a non-tuple sequence for multidimensional indexing is deprecated; use `arr[tuple(seq)]` instead of `arr[seq]`. In the future this will be interpreted as an array index, `arr[np.array(seq)]`, which will result either in an error or a different result.\n",
      "  filter_interactions = feature_maps[position_pairs].transpose([1, 2, 0])\n",
      "/home/koolab/Documents/GLIFAC/Code/glifac.py:46: FutureWarning: Using a non-tuple sequence for multidimensional indexing is deprecated; use `arr[tuple(seq)]` instead of `arr[seq]`. In the future this will be interpreted as an array index, `arr[np.array(seq)]`, which will result either in an error or a different result.\n",
      "  filter_interactions_values = correlation_matrix[ind.transpose().tolist()]\n"
     ]
    },
    {
     "name": "stdout",
     "output_type": "stream",
     "text": [
      "0.3  | AUROC: 0.1577554562702309  | AUPR: 0.7418572418572419  | SNR: 0.8182805710917155\n"
     ]
    },
    {
     "name": "stderr",
     "output_type": "stream",
     "text": [
      "/home/koolab/Documents/GLIFAC/Code/glifac.py:108: FutureWarning: Using a non-tuple sequence for multidimensional indexing is deprecated; use `arr[tuple(seq)]` instead of `arr[seq]`. In the future this will be interpreted as an array index, `arr[np.array(seq)]`, which will result either in an error or a different result.\n",
      "  filter_interactions = feature_maps[position_pairs].transpose([1, 2, 0])\n",
      "/home/koolab/Documents/GLIFAC/Code/glifac.py:28: RuntimeWarning: invalid value encountered in float_scalars\n",
      "  return top/bottom\n",
      "/home/koolab/Documents/GLIFAC/Code/glifac.py:46: FutureWarning: Using a non-tuple sequence for multidimensional indexing is deprecated; use `arr[tuple(seq)]` instead of `arr[seq]`. In the future this will be interpreted as an array index, `arr[np.array(seq)]`, which will result either in an error or a different result.\n",
      "  filter_interactions_values = correlation_matrix[ind.transpose().tolist()]\n"
     ]
    },
    {
     "name": "stdout",
     "output_type": "stream",
     "text": [
      "0.4  | AUROC: 0.15947859514949544  | AUPR: 0.7702702702702703  | SNR: 0.8021517135891039\n"
     ]
    },
    {
     "name": "stderr",
     "output_type": "stream",
     "text": [
      "/home/koolab/Documents/GLIFAC/Code/glifac.py:108: FutureWarning: Using a non-tuple sequence for multidimensional indexing is deprecated; use `arr[tuple(seq)]` instead of `arr[seq]`. In the future this will be interpreted as an array index, `arr[np.array(seq)]`, which will result either in an error or a different result.\n",
      "  filter_interactions = feature_maps[position_pairs].transpose([1, 2, 0])\n",
      "/home/koolab/Documents/GLIFAC/Code/glifac.py:28: RuntimeWarning: invalid value encountered in float_scalars\n",
      "  return top/bottom\n",
      "/home/koolab/Documents/GLIFAC/Code/glifac.py:46: FutureWarning: Using a non-tuple sequence for multidimensional indexing is deprecated; use `arr[tuple(seq)]` instead of `arr[seq]`. In the future this will be interpreted as an array index, `arr[np.array(seq)]`, which will result either in an error or a different result.\n",
      "  filter_interactions_values = correlation_matrix[ind.transpose().tolist()]\n"
     ]
    },
    {
     "name": "stdout",
     "output_type": "stream",
     "text": [
      "0.5  | AUROC: 0.1539585871608681  | AUPR: 0.76498613998614  | SNR: 0.7538937567968993\n"
     ]
    },
    {
     "name": "stderr",
     "output_type": "stream",
     "text": [
      "/home/koolab/Documents/GLIFAC/Code/glifac.py:108: FutureWarning: Using a non-tuple sequence for multidimensional indexing is deprecated; use `arr[tuple(seq)]` instead of `arr[seq]`. In the future this will be interpreted as an array index, `arr[np.array(seq)]`, which will result either in an error or a different result.\n",
      "  filter_interactions = feature_maps[position_pairs].transpose([1, 2, 0])\n",
      "/home/koolab/Documents/GLIFAC/Code/glifac.py:28: RuntimeWarning: invalid value encountered in float_scalars\n",
      "  return top/bottom\n",
      "/home/koolab/Documents/GLIFAC/Code/glifac.py:46: FutureWarning: Using a non-tuple sequence for multidimensional indexing is deprecated; use `arr[tuple(seq)]` instead of `arr[seq]`. In the future this will be interpreted as an array index, `arr[np.array(seq)]`, which will result either in an error or a different result.\n",
      "  filter_interactions_values = correlation_matrix[ind.transpose().tolist()]\n"
     ]
    },
    {
     "name": "stdout",
     "output_type": "stream",
     "text": [
      "0.6  | AUROC: 0.10096368116333983  | AUPR: 0.674419611919612  | SNR: 0.3647375542550357\n"
     ]
    },
    {
     "name": "stderr",
     "output_type": "stream",
     "text": [
      "/home/koolab/Documents/GLIFAC/Code/glifac.py:108: FutureWarning: Using a non-tuple sequence for multidimensional indexing is deprecated; use `arr[tuple(seq)]` instead of `arr[seq]`. In the future this will be interpreted as an array index, `arr[np.array(seq)]`, which will result either in an error or a different result.\n",
      "  filter_interactions = feature_maps[position_pairs].transpose([1, 2, 0])\n",
      "/home/koolab/Documents/GLIFAC/Code/glifac.py:28: RuntimeWarning: invalid value encountered in float_scalars\n",
      "  return top/bottom\n",
      "/home/koolab/Documents/GLIFAC/Code/glifac.py:46: FutureWarning: Using a non-tuple sequence for multidimensional indexing is deprecated; use `arr[tuple(seq)]` instead of `arr[seq]`. In the future this will be interpreted as an array index, `arr[np.array(seq)]`, which will result either in an error or a different result.\n",
      "  filter_interactions_values = correlation_matrix[ind.transpose().tolist()]\n"
     ]
    },
    {
     "name": "stdout",
     "output_type": "stream",
     "text": [
      "0.7  | AUROC: 0.11124494534395474  | AUPR: 0.6926541926541926  | SNR: 0.4221875880502763\n"
     ]
    },
    {
     "name": "stderr",
     "output_type": "stream",
     "text": [
      "/home/koolab/Documents/GLIFAC/Code/glifac.py:108: FutureWarning: Using a non-tuple sequence for multidimensional indexing is deprecated; use `arr[tuple(seq)]` instead of `arr[seq]`. In the future this will be interpreted as an array index, `arr[np.array(seq)]`, which will result either in an error or a different result.\n",
      "  filter_interactions = feature_maps[position_pairs].transpose([1, 2, 0])\n",
      "/home/koolab/Documents/GLIFAC/Code/glifac.py:28: RuntimeWarning: invalid value encountered in float_scalars\n",
      "  return top/bottom\n",
      "/home/koolab/Documents/GLIFAC/Code/glifac.py:46: FutureWarning: Using a non-tuple sequence for multidimensional indexing is deprecated; use `arr[tuple(seq)]` instead of `arr[seq]`. In the future this will be interpreted as an array index, `arr[np.array(seq)]`, which will result either in an error or a different result.\n",
      "  filter_interactions_values = correlation_matrix[ind.transpose().tolist()]\n"
     ]
    },
    {
     "name": "stdout",
     "output_type": "stream",
     "text": [
      "0.8  | AUROC: 0.15183048817696526  | AUPR: 0.7770703395703397  | SNR: 0.5004141822595652\n"
     ]
    },
    {
     "name": "stderr",
     "output_type": "stream",
     "text": [
      "/home/koolab/Documents/GLIFAC/Code/glifac.py:108: FutureWarning: Using a non-tuple sequence for multidimensional indexing is deprecated; use `arr[tuple(seq)]` instead of `arr[seq]`. In the future this will be interpreted as an array index, `arr[np.array(seq)]`, which will result either in an error or a different result.\n",
      "  filter_interactions = feature_maps[position_pairs].transpose([1, 2, 0])\n",
      "/home/koolab/Documents/GLIFAC/Code/glifac.py:28: RuntimeWarning: invalid value encountered in float_scalars\n",
      "  return top/bottom\n",
      "/home/koolab/Documents/GLIFAC/Code/glifac.py:46: FutureWarning: Using a non-tuple sequence for multidimensional indexing is deprecated; use `arr[tuple(seq)]` instead of `arr[seq]`. In the future this will be interpreted as an array index, `arr[np.array(seq)]`, which will result either in an error or a different result.\n",
      "  filter_interactions_values = correlation_matrix[ind.transpose().tolist()]\n"
     ]
    },
    {
     "name": "stdout",
     "output_type": "stream",
     "text": [
      "0.9  | AUROC: 0.16794389334387344  | AUPR: 0.7575363825363827  | SNR: 0.5101245694981811\n",
      "finished correlation interpretability\n",
      "saved statistics\n",
      "saved filters\n"
     ]
    },
    {
     "name": "stderr",
     "output_type": "stream",
     "text": [
      "/home/koolab/Documents/GLIFAC/Code/glifac_pipeline.py:297: MatplotlibDeprecationWarning: savefig() got unexpected keyword argument \"box_inches\" which is no longer supported as of 3.3 and will become an error two minor releases later\n",
      "  fig.savefig(glifac_dir, format='pdf', dpi=300, box_inches='tight')\n"
     ]
    },
    {
     "name": "stdout",
     "output_type": "stream",
     "text": [
      "saved glifac\n",
      "Epoch 1/100\n",
      "350/350 - 5s - loss: 0.3000 - auroc: 0.8327 - aupr: 0.5346 - val_loss: 0.2340 - val_auroc: 0.9616 - val_aupr: 0.8372\n",
      "Epoch 2/100\n",
      "350/350 - 5s - loss: 0.1377 - auroc: 0.9690 - aupr: 0.8793 - val_loss: 0.1122 - val_auroc: 0.9849 - val_aupr: 0.9339\n",
      "Epoch 3/100\n",
      "350/350 - 5s - loss: 0.1102 - auroc: 0.9793 - aupr: 0.9185 - val_loss: 0.1131 - val_auroc: 0.9799 - val_aupr: 0.9220\n",
      "Epoch 4/100\n",
      "350/350 - 5s - loss: 0.1033 - auroc: 0.9817 - aupr: 0.9264 - val_loss: 0.1119 - val_auroc: 0.9810 - val_aupr: 0.9280\n",
      "Epoch 5/100\n",
      "350/350 - 5s - loss: 0.0992 - auroc: 0.9829 - aupr: 0.9318 - val_loss: 0.0872 - val_auroc: 0.9854 - val_aupr: 0.9475\n",
      "Epoch 6/100\n",
      "350/350 - 5s - loss: 0.0970 - auroc: 0.9834 - aupr: 0.9345 - val_loss: 0.0850 - val_auroc: 0.9876 - val_aupr: 0.9475\n",
      "Epoch 7/100\n",
      "350/350 - 5s - loss: 0.0957 - auroc: 0.9838 - aupr: 0.9362 - val_loss: 0.0785 - val_auroc: 0.9889 - val_aupr: 0.9566\n",
      "Epoch 8/100\n",
      "350/350 - 5s - loss: 0.0948 - auroc: 0.9841 - aupr: 0.9369 - val_loss: 0.0820 - val_auroc: 0.9876 - val_aupr: 0.9507\n",
      "Epoch 9/100\n",
      "350/350 - 5s - loss: 0.0924 - auroc: 0.9848 - aupr: 0.9395 - val_loss: 0.0791 - val_auroc: 0.9909 - val_aupr: 0.9587\n",
      "Epoch 10/100\n",
      "350/350 - 5s - loss: 0.0912 - auroc: 0.9852 - aupr: 0.9411 - val_loss: 0.0753 - val_auroc: 0.9907 - val_aupr: 0.9581\n",
      "Epoch 11/100\n",
      "350/350 - 5s - loss: 0.0905 - auroc: 0.9852 - aupr: 0.9413 - val_loss: 0.0761 - val_auroc: 0.9898 - val_aupr: 0.9560\n",
      "Epoch 12/100\n",
      "350/350 - 5s - loss: 0.0899 - auroc: 0.9854 - aupr: 0.9419 - val_loss: 0.0748 - val_auroc: 0.9909 - val_aupr: 0.9586\n",
      "Epoch 13/100\n",
      "350/350 - 5s - loss: 0.0898 - auroc: 0.9852 - aupr: 0.9425 - val_loss: 0.0771 - val_auroc: 0.9901 - val_aupr: 0.9554\n",
      "Epoch 14/100\n",
      "350/350 - 5s - loss: 0.0888 - auroc: 0.9859 - aupr: 0.9435 - val_loss: 0.0772 - val_auroc: 0.9881 - val_aupr: 0.9559\n",
      "Epoch 15/100\n",
      "350/350 - 5s - loss: 0.0888 - auroc: 0.9858 - aupr: 0.9433 - val_loss: 0.0764 - val_auroc: 0.9906 - val_aupr: 0.9572\n",
      "Epoch 16/100\n",
      "350/350 - 5s - loss: 0.0888 - auroc: 0.9856 - aupr: 0.9435 - val_loss: 0.0735 - val_auroc: 0.9908 - val_aupr: 0.9603\n",
      "Epoch 17/100\n",
      "350/350 - 5s - loss: 0.0880 - auroc: 0.9859 - aupr: 0.9439 - val_loss: 0.0751 - val_auroc: 0.9902 - val_aupr: 0.9586\n",
      "Epoch 18/100\n",
      "350/350 - 5s - loss: 0.0884 - auroc: 0.9858 - aupr: 0.9436 - val_loss: 0.0720 - val_auroc: 0.9908 - val_aupr: 0.9611\n",
      "Epoch 19/100\n",
      "350/350 - 5s - loss: 0.0880 - auroc: 0.9858 - aupr: 0.9442 - val_loss: 0.0737 - val_auroc: 0.9910 - val_aupr: 0.9580\n",
      "Epoch 20/100\n",
      "350/350 - 5s - loss: 0.0878 - auroc: 0.9859 - aupr: 0.9448 - val_loss: 0.0748 - val_auroc: 0.9915 - val_aupr: 0.9596\n",
      "Epoch 21/100\n",
      "350/350 - 5s - loss: 0.0867 - auroc: 0.9863 - aupr: 0.9457 - val_loss: 0.0718 - val_auroc: 0.9914 - val_aupr: 0.9616\n",
      "Epoch 22/100\n",
      "350/350 - 5s - loss: 0.0875 - auroc: 0.9861 - aupr: 0.9445 - val_loss: 0.0713 - val_auroc: 0.9912 - val_aupr: 0.9617\n",
      "Epoch 23/100\n",
      "350/350 - 5s - loss: 0.0864 - auroc: 0.9861 - aupr: 0.9459 - val_loss: 0.0748 - val_auroc: 0.9899 - val_aupr: 0.9590\n",
      "Epoch 24/100\n",
      "350/350 - 5s - loss: 0.0862 - auroc: 0.9864 - aupr: 0.9464 - val_loss: 0.0727 - val_auroc: 0.9912 - val_aupr: 0.9615\n",
      "Epoch 25/100\n",
      "350/350 - 5s - loss: 0.0856 - auroc: 0.9866 - aupr: 0.9469 - val_loss: 0.0761 - val_auroc: 0.9897 - val_aupr: 0.9582\n",
      "Epoch 26/100\n",
      "350/350 - 5s - loss: 0.0860 - auroc: 0.9864 - aupr: 0.9466 - val_loss: 0.0715 - val_auroc: 0.9912 - val_aupr: 0.9616\n",
      "Epoch 27/100\n",
      "350/350 - 5s - loss: 0.0850 - auroc: 0.9869 - aupr: 0.9477 - val_loss: 0.0719 - val_auroc: 0.9912 - val_aupr: 0.9610\n",
      "Epoch 28/100\n",
      "350/350 - 5s - loss: 0.0845 - auroc: 0.9868 - aupr: 0.9486 - val_loss: 0.0725 - val_auroc: 0.9905 - val_aupr: 0.9604\n",
      "Epoch 29/100\n",
      "350/350 - 5s - loss: 0.0846 - auroc: 0.9868 - aupr: 0.9485 - val_loss: 0.0707 - val_auroc: 0.9913 - val_aupr: 0.9627\n",
      "Epoch 30/100\n",
      "350/350 - 5s - loss: 0.0842 - auroc: 0.9870 - aupr: 0.9488 - val_loss: 0.0712 - val_auroc: 0.9910 - val_aupr: 0.9621\n",
      "Epoch 31/100\n",
      "350/350 - 5s - loss: 0.0833 - auroc: 0.9871 - aupr: 0.9501 - val_loss: 0.0717 - val_auroc: 0.9914 - val_aupr: 0.9626\n",
      "Epoch 32/100\n",
      "350/350 - 5s - loss: 0.0828 - auroc: 0.9873 - aupr: 0.9505 - val_loss: 0.0712 - val_auroc: 0.9914 - val_aupr: 0.9620\n",
      "Epoch 33/100\n",
      "350/350 - 5s - loss: 0.0822 - auroc: 0.9876 - aupr: 0.9512 - val_loss: 0.0714 - val_auroc: 0.9919 - val_aupr: 0.9630\n",
      "Epoch 34/100\n",
      "350/350 - 5s - loss: 0.0818 - auroc: 0.9876 - aupr: 0.9515 - val_loss: 0.0716 - val_auroc: 0.9909 - val_aupr: 0.9623\n",
      "Epoch 35/100\n",
      "350/350 - 5s - loss: 0.0811 - auroc: 0.9878 - aupr: 0.9527 - val_loss: 0.0718 - val_auroc: 0.9915 - val_aupr: 0.9625\n",
      "Epoch 36/100\n",
      "350/350 - 5s - loss: 0.0800 - auroc: 0.9882 - aupr: 0.9533 - val_loss: 0.0715 - val_auroc: 0.9908 - val_aupr: 0.9617\n",
      "Epoch 37/100\n",
      "350/350 - 5s - loss: 0.0808 - auroc: 0.9878 - aupr: 0.9524 - val_loss: 0.0698 - val_auroc: 0.9914 - val_aupr: 0.9637\n",
      "Epoch 38/100\n",
      "350/350 - 5s - loss: 0.0802 - auroc: 0.9878 - aupr: 0.9534 - val_loss: 0.0707 - val_auroc: 0.9912 - val_aupr: 0.9629\n",
      "Epoch 39/100\n",
      "350/350 - 5s - loss: 0.0798 - auroc: 0.9881 - aupr: 0.9539 - val_loss: 0.0714 - val_auroc: 0.9912 - val_aupr: 0.9624\n",
      "Epoch 40/100\n",
      "350/350 - 5s - loss: 0.0797 - auroc: 0.9880 - aupr: 0.9538 - val_loss: 0.0709 - val_auroc: 0.9915 - val_aupr: 0.9630\n",
      "Epoch 41/100\n",
      "350/350 - 5s - loss: 0.0784 - auroc: 0.9885 - aupr: 0.9550 - val_loss: 0.0705 - val_auroc: 0.9911 - val_aupr: 0.9627\n",
      "Epoch 42/100\n",
      "350/350 - 5s - loss: 0.0780 - auroc: 0.9887 - aupr: 0.9556 - val_loss: 0.0697 - val_auroc: 0.9912 - val_aupr: 0.9640\n",
      "Epoch 43/100\n",
      "350/350 - 5s - loss: 0.0780 - auroc: 0.9886 - aupr: 0.9558 - val_loss: 0.0698 - val_auroc: 0.9917 - val_aupr: 0.9646\n",
      "Epoch 44/100\n",
      "350/350 - 5s - loss: 0.0776 - auroc: 0.9887 - aupr: 0.9562 - val_loss: 0.0705 - val_auroc: 0.9907 - val_aupr: 0.9629\n",
      "Epoch 45/100\n",
      "350/350 - 5s - loss: 0.0773 - auroc: 0.9886 - aupr: 0.9564 - val_loss: 0.0701 - val_auroc: 0.9917 - val_aupr: 0.9635\n",
      "Epoch 46/100\n",
      "350/350 - 5s - loss: 0.0766 - auroc: 0.9890 - aupr: 0.9568 - val_loss: 0.0705 - val_auroc: 0.9912 - val_aupr: 0.9631\n",
      "Epoch 47/100\n",
      "\n",
      "Epoch 00047: ReduceLROnPlateau reducing learning rate to 0.00020000000949949026.\n",
      "350/350 - 5s - loss: 0.0765 - auroc: 0.9888 - aupr: 0.9574 - val_loss: 0.0704 - val_auroc: 0.9914 - val_aupr: 0.9636\n",
      "Epoch 48/100\n",
      "350/350 - 5s - loss: 0.0735 - auroc: 0.9899 - aupr: 0.9607 - val_loss: 0.0686 - val_auroc: 0.9917 - val_aupr: 0.9652\n",
      "Epoch 49/100\n",
      "350/350 - 5s - loss: 0.0726 - auroc: 0.9902 - aupr: 0.9614 - val_loss: 0.0687 - val_auroc: 0.9917 - val_aupr: 0.9653\n",
      "Epoch 50/100\n",
      "350/350 - 5s - loss: 0.0724 - auroc: 0.9901 - aupr: 0.9617 - val_loss: 0.0686 - val_auroc: 0.9917 - val_aupr: 0.9653\n",
      "Epoch 51/100\n",
      "350/350 - 5s - loss: 0.0721 - auroc: 0.9901 - aupr: 0.9617 - val_loss: 0.0685 - val_auroc: 0.9918 - val_aupr: 0.9653\n",
      "Epoch 52/100\n",
      "350/350 - 5s - loss: 0.0720 - auroc: 0.9901 - aupr: 0.9619 - val_loss: 0.0685 - val_auroc: 0.9918 - val_aupr: 0.9654\n",
      "Epoch 53/100\n",
      "350/350 - 5s - loss: 0.0720 - auroc: 0.9902 - aupr: 0.9621 - val_loss: 0.0684 - val_auroc: 0.9920 - val_aupr: 0.9653\n",
      "Epoch 54/100\n",
      "350/350 - 5s - loss: 0.0717 - auroc: 0.9902 - aupr: 0.9623 - val_loss: 0.0684 - val_auroc: 0.9918 - val_aupr: 0.9654\n",
      "Epoch 55/100\n",
      "350/350 - 5s - loss: 0.0709 - auroc: 0.9904 - aupr: 0.9630 - val_loss: 0.0685 - val_auroc: 0.9917 - val_aupr: 0.9653\n",
      "Epoch 56/100\n",
      "350/350 - 5s - loss: 0.0709 - auroc: 0.9904 - aupr: 0.9630 - val_loss: 0.0685 - val_auroc: 0.9918 - val_aupr: 0.9653\n",
      "Epoch 57/100\n",
      "350/350 - 5s - loss: 0.0716 - auroc: 0.9903 - aupr: 0.9624 - val_loss: 0.0686 - val_auroc: 0.9917 - val_aupr: 0.9650\n",
      "Epoch 58/100\n",
      "350/350 - 5s - loss: 0.0703 - auroc: 0.9906 - aupr: 0.9637 - val_loss: 0.0685 - val_auroc: 0.9917 - val_aupr: 0.9652\n",
      "Epoch 59/100\n",
      "350/350 - 5s - loss: 0.0703 - auroc: 0.9905 - aupr: 0.9634 - val_loss: 0.0688 - val_auroc: 0.9915 - val_aupr: 0.9647\n",
      "Epoch 60/100\n",
      "350/350 - 5s - loss: 0.0704 - auroc: 0.9905 - aupr: 0.9634 - val_loss: 0.0690 - val_auroc: 0.9916 - val_aupr: 0.9646\n",
      "Epoch 61/100\n",
      "350/350 - 5s - loss: 0.0705 - auroc: 0.9906 - aupr: 0.9634 - val_loss: 0.0689 - val_auroc: 0.9913 - val_aupr: 0.9646\n",
      "Epoch 62/100\n",
      "\n",
      "Epoch 00062: ReduceLROnPlateau reducing learning rate to 4.0000001899898055e-05.\n",
      "350/350 - 5s - loss: 0.0700 - auroc: 0.9906 - aupr: 0.9639 - val_loss: 0.0689 - val_auroc: 0.9914 - val_aupr: 0.9646\n"
     ]
    },
    {
     "name": "stdout",
     "output_type": "stream",
     "text": [
      "Epoch 63/100\n",
      "350/350 - 5s - loss: 0.0695 - auroc: 0.9907 - aupr: 0.9644 - val_loss: 0.0687 - val_auroc: 0.9914 - val_aupr: 0.9648\n",
      "Epoch 64/100\n",
      "350/350 - 5s - loss: 0.0697 - auroc: 0.9908 - aupr: 0.9640 - val_loss: 0.0686 - val_auroc: 0.9915 - val_aupr: 0.9651\n",
      "Epoch 65/100\n",
      "350/350 - 5s - loss: 0.0693 - auroc: 0.9908 - aupr: 0.9646 - val_loss: 0.0686 - val_auroc: 0.9915 - val_aupr: 0.9650\n",
      "Epoch 66/100\n",
      "350/350 - 5s - loss: 0.0695 - auroc: 0.9906 - aupr: 0.9643 - val_loss: 0.0686 - val_auroc: 0.9914 - val_aupr: 0.9650\n",
      "Epoch 67/100\n",
      "350/350 - 5s - loss: 0.0687 - auroc: 0.9909 - aupr: 0.9650 - val_loss: 0.0686 - val_auroc: 0.9914 - val_aupr: 0.9649\n",
      "Epoch 68/100\n",
      "350/350 - 5s - loss: 0.0691 - auroc: 0.9907 - aupr: 0.9647 - val_loss: 0.0686 - val_auroc: 0.9915 - val_aupr: 0.9649\n",
      "Epoch 69/100\n",
      "Restoring model weights from the end of the best epoch.\n",
      "350/350 - 5s - loss: 0.0691 - auroc: 0.9909 - aupr: 0.9647 - val_loss: 0.0685 - val_auroc: 0.9915 - val_aupr: 0.9651\n",
      "Epoch 00069: early stopping\n",
      "625/625 [==============================] - 2s 2ms/step - loss: 0.0685 - auroc: 0.9915 - aupr: 0.9643\n",
      "generated PPMs\n",
      "TomTom TPR:  0.90625\n",
      "TomTom FPR:  0.0\n",
      "Motif coverage:  1.0\n",
      "completed TomTom analysis\n",
      "completed clustering\n"
     ]
    },
    {
     "name": "stderr",
     "output_type": "stream",
     "text": [
      "/home/koolab/Documents/GLIFAC/Code/glifac.py:108: FutureWarning: Using a non-tuple sequence for multidimensional indexing is deprecated; use `arr[tuple(seq)]` instead of `arr[seq]`. In the future this will be interpreted as an array index, `arr[np.array(seq)]`, which will result either in an error or a different result.\n",
      "  filter_interactions = feature_maps[position_pairs].transpose([1, 2, 0])\n",
      "/home/koolab/Documents/GLIFAC/Code/glifac.py:46: FutureWarning: Using a non-tuple sequence for multidimensional indexing is deprecated; use `arr[tuple(seq)]` instead of `arr[seq]`. In the future this will be interpreted as an array index, `arr[np.array(seq)]`, which will result either in an error or a different result.\n",
      "  filter_interactions_values = correlation_matrix[ind.transpose().tolist()]\n"
     ]
    },
    {
     "name": "stdout",
     "output_type": "stream",
     "text": [
      "0.0  | AUROC: 0.9862540171492187  | AUPR: 0.9993925895930351  | SNR: 5.154178399624387\n"
     ]
    },
    {
     "name": "stderr",
     "output_type": "stream",
     "text": [
      "/home/koolab/Documents/GLIFAC/Code/glifac.py:108: FutureWarning: Using a non-tuple sequence for multidimensional indexing is deprecated; use `arr[tuple(seq)]` instead of `arr[seq]`. In the future this will be interpreted as an array index, `arr[np.array(seq)]`, which will result either in an error or a different result.\n",
      "  filter_interactions = feature_maps[position_pairs].transpose([1, 2, 0])\n",
      "/home/koolab/Documents/GLIFAC/Code/glifac.py:28: RuntimeWarning: invalid value encountered in float_scalars\n",
      "  return top/bottom\n",
      "/home/koolab/Documents/GLIFAC/Code/glifac.py:46: FutureWarning: Using a non-tuple sequence for multidimensional indexing is deprecated; use `arr[tuple(seq)]` instead of `arr[seq]`. In the future this will be interpreted as an array index, `arr[np.array(seq)]`, which will result either in an error or a different result.\n",
      "  filter_interactions_values = correlation_matrix[ind.transpose().tolist()]\n"
     ]
    },
    {
     "name": "stdout",
     "output_type": "stream",
     "text": [
      "0.1  | AUROC: 0.2740315619342172  | AUPR: 0.8588783154484714  | SNR: 1.9889114342871486\n"
     ]
    },
    {
     "name": "stderr",
     "output_type": "stream",
     "text": [
      "/home/koolab/Documents/GLIFAC/Code/glifac.py:108: FutureWarning: Using a non-tuple sequence for multidimensional indexing is deprecated; use `arr[tuple(seq)]` instead of `arr[seq]`. In the future this will be interpreted as an array index, `arr[np.array(seq)]`, which will result either in an error or a different result.\n",
      "  filter_interactions = feature_maps[position_pairs].transpose([1, 2, 0])\n",
      "/home/koolab/Documents/GLIFAC/Code/glifac.py:28: RuntimeWarning: invalid value encountered in float_scalars\n",
      "  return top/bottom\n",
      "/home/koolab/Documents/GLIFAC/Code/glifac.py:46: FutureWarning: Using a non-tuple sequence for multidimensional indexing is deprecated; use `arr[tuple(seq)]` instead of `arr[seq]`. In the future this will be interpreted as an array index, `arr[np.array(seq)]`, which will result either in an error or a different result.\n",
      "  filter_interactions_values = correlation_matrix[ind.transpose().tolist()]\n"
     ]
    },
    {
     "name": "stdout",
     "output_type": "stream",
     "text": [
      "0.2  | AUROC: 0.2168560783597908  | AUPR: 0.7758655598299251  | SNR: 1.5523180179124705\n"
     ]
    },
    {
     "name": "stderr",
     "output_type": "stream",
     "text": [
      "/home/koolab/Documents/GLIFAC/Code/glifac.py:108: FutureWarning: Using a non-tuple sequence for multidimensional indexing is deprecated; use `arr[tuple(seq)]` instead of `arr[seq]`. In the future this will be interpreted as an array index, `arr[np.array(seq)]`, which will result either in an error or a different result.\n",
      "  filter_interactions = feature_maps[position_pairs].transpose([1, 2, 0])\n",
      "/home/koolab/Documents/GLIFAC/Code/glifac.py:28: RuntimeWarning: invalid value encountered in float_scalars\n",
      "  return top/bottom\n",
      "/home/koolab/Documents/GLIFAC/Code/glifac.py:46: FutureWarning: Using a non-tuple sequence for multidimensional indexing is deprecated; use `arr[tuple(seq)]` instead of `arr[seq]`. In the future this will be interpreted as an array index, `arr[np.array(seq)]`, which will result either in an error or a different result.\n",
      "  filter_interactions_values = correlation_matrix[ind.transpose().tolist()]\n"
     ]
    },
    {
     "name": "stdout",
     "output_type": "stream",
     "text": [
      "0.3  | AUROC: 0.14137089484985907  | AUPR: 0.6682526827292974  | SNR: 1.0551643413838558\n"
     ]
    },
    {
     "name": "stderr",
     "output_type": "stream",
     "text": [
      "/home/koolab/Documents/GLIFAC/Code/glifac.py:108: FutureWarning: Using a non-tuple sequence for multidimensional indexing is deprecated; use `arr[tuple(seq)]` instead of `arr[seq]`. In the future this will be interpreted as an array index, `arr[np.array(seq)]`, which will result either in an error or a different result.\n",
      "  filter_interactions = feature_maps[position_pairs].transpose([1, 2, 0])\n",
      "/home/koolab/Documents/GLIFAC/Code/glifac.py:28: RuntimeWarning: invalid value encountered in float_scalars\n",
      "  return top/bottom\n",
      "/home/koolab/Documents/GLIFAC/Code/glifac.py:46: FutureWarning: Using a non-tuple sequence for multidimensional indexing is deprecated; use `arr[tuple(seq)]` instead of `arr[seq]`. In the future this will be interpreted as an array index, `arr[np.array(seq)]`, which will result either in an error or a different result.\n",
      "  filter_interactions_values = correlation_matrix[ind.transpose().tolist()]\n"
     ]
    },
    {
     "name": "stdout",
     "output_type": "stream",
     "text": [
      "0.4  | AUROC: 0.11946057603575591  | AUPR: 0.6315043531079165  | SNR: 0.6842721854510273\n"
     ]
    },
    {
     "name": "stderr",
     "output_type": "stream",
     "text": [
      "/home/koolab/Documents/GLIFAC/Code/glifac.py:108: FutureWarning: Using a non-tuple sequence for multidimensional indexing is deprecated; use `arr[tuple(seq)]` instead of `arr[seq]`. In the future this will be interpreted as an array index, `arr[np.array(seq)]`, which will result either in an error or a different result.\n",
      "  filter_interactions = feature_maps[position_pairs].transpose([1, 2, 0])\n",
      "/home/koolab/Documents/GLIFAC/Code/glifac.py:28: RuntimeWarning: invalid value encountered in float_scalars\n",
      "  return top/bottom\n",
      "/home/koolab/Documents/GLIFAC/Code/glifac.py:46: FutureWarning: Using a non-tuple sequence for multidimensional indexing is deprecated; use `arr[tuple(seq)]` instead of `arr[seq]`. In the future this will be interpreted as an array index, `arr[np.array(seq)]`, which will result either in an error or a different result.\n",
      "  filter_interactions_values = correlation_matrix[ind.transpose().tolist()]\n"
     ]
    },
    {
     "name": "stdout",
     "output_type": "stream",
     "text": [
      "0.5  | AUROC: 0.08816970608428623  | AUPR: 0.6011338327596679  | SNR: 0.4101917673378454\n"
     ]
    },
    {
     "name": "stderr",
     "output_type": "stream",
     "text": [
      "/home/koolab/Documents/GLIFAC/Code/glifac.py:108: FutureWarning: Using a non-tuple sequence for multidimensional indexing is deprecated; use `arr[tuple(seq)]` instead of `arr[seq]`. In the future this will be interpreted as an array index, `arr[np.array(seq)]`, which will result either in an error or a different result.\n",
      "  filter_interactions = feature_maps[position_pairs].transpose([1, 2, 0])\n",
      "/home/koolab/Documents/GLIFAC/Code/glifac.py:28: RuntimeWarning: invalid value encountered in float_scalars\n",
      "  return top/bottom\n",
      "/home/koolab/Documents/GLIFAC/Code/glifac.py:46: FutureWarning: Using a non-tuple sequence for multidimensional indexing is deprecated; use `arr[tuple(seq)]` instead of `arr[seq]`. In the future this will be interpreted as an array index, `arr[np.array(seq)]`, which will result either in an error or a different result.\n",
      "  filter_interactions_values = correlation_matrix[ind.transpose().tolist()]\n"
     ]
    },
    {
     "name": "stdout",
     "output_type": "stream",
     "text": [
      "0.6  | AUROC: 0.07219588414193143  | AUPR: 0.5130593237497469  | SNR: 0.1518263853730633\n"
     ]
    },
    {
     "name": "stderr",
     "output_type": "stream",
     "text": [
      "/home/koolab/Documents/GLIFAC/Code/glifac.py:108: FutureWarning: Using a non-tuple sequence for multidimensional indexing is deprecated; use `arr[tuple(seq)]` instead of `arr[seq]`. In the future this will be interpreted as an array index, `arr[np.array(seq)]`, which will result either in an error or a different result.\n",
      "  filter_interactions = feature_maps[position_pairs].transpose([1, 2, 0])\n",
      "/home/koolab/Documents/GLIFAC/Code/glifac.py:28: RuntimeWarning: invalid value encountered in float_scalars\n",
      "  return top/bottom\n",
      "/home/koolab/Documents/GLIFAC/Code/glifac.py:46: FutureWarning: Using a non-tuple sequence for multidimensional indexing is deprecated; use `arr[tuple(seq)]` instead of `arr[seq]`. In the future this will be interpreted as an array index, `arr[np.array(seq)]`, which will result either in an error or a different result.\n",
      "  filter_interactions_values = correlation_matrix[ind.transpose().tolist()]\n"
     ]
    },
    {
     "name": "stdout",
     "output_type": "stream",
     "text": [
      "0.7  | AUROC: 0.0541773322878827  | AUPR: 0.46952824458392384  | SNR: 0.0037929854683983136\n"
     ]
    },
    {
     "name": "stderr",
     "output_type": "stream",
     "text": [
      "/home/koolab/Documents/GLIFAC/Code/glifac.py:108: FutureWarning: Using a non-tuple sequence for multidimensional indexing is deprecated; use `arr[tuple(seq)]` instead of `arr[seq]`. In the future this will be interpreted as an array index, `arr[np.array(seq)]`, which will result either in an error or a different result.\n",
      "  filter_interactions = feature_maps[position_pairs].transpose([1, 2, 0])\n",
      "/home/koolab/Documents/GLIFAC/Code/glifac.py:28: RuntimeWarning: invalid value encountered in float_scalars\n",
      "  return top/bottom\n",
      "/home/koolab/Documents/GLIFAC/Code/glifac.py:46: FutureWarning: Using a non-tuple sequence for multidimensional indexing is deprecated; use `arr[tuple(seq)]` instead of `arr[seq]`. In the future this will be interpreted as an array index, `arr[np.array(seq)]`, which will result either in an error or a different result.\n",
      "  filter_interactions_values = correlation_matrix[ind.transpose().tolist()]\n"
     ]
    },
    {
     "name": "stdout",
     "output_type": "stream",
     "text": [
      "0.8  | AUROC: 0.055775304733650444  | AUPR: 0.49777282850779514  | SNR: 0.04838844910520239\n"
     ]
    },
    {
     "name": "stderr",
     "output_type": "stream",
     "text": [
      "/home/koolab/Documents/GLIFAC/Code/glifac.py:108: FutureWarning: Using a non-tuple sequence for multidimensional indexing is deprecated; use `arr[tuple(seq)]` instead of `arr[seq]`. In the future this will be interpreted as an array index, `arr[np.array(seq)]`, which will result either in an error or a different result.\n",
      "  filter_interactions = feature_maps[position_pairs].transpose([1, 2, 0])\n",
      "/home/koolab/Documents/GLIFAC/Code/glifac.py:28: RuntimeWarning: invalid value encountered in float_scalars\n",
      "  return top/bottom\n",
      "/home/koolab/Documents/GLIFAC/Code/glifac.py:46: FutureWarning: Using a non-tuple sequence for multidimensional indexing is deprecated; use `arr[tuple(seq)]` instead of `arr[seq]`. In the future this will be interpreted as an array index, `arr[np.array(seq)]`, which will result either in an error or a different result.\n",
      "  filter_interactions_values = correlation_matrix[ind.transpose().tolist()]\n"
     ]
    },
    {
     "name": "stdout",
     "output_type": "stream",
     "text": [
      "0.9  | AUROC: 0.06253645557519716  | AUPR: 0.5331038671795909  | SNR: 0.03545153019298398\n",
      "finished correlation interpretability\n",
      "saved statistics\n"
     ]
    },
    {
     "name": "stderr",
     "output_type": "stream",
     "text": [
      "/home/koolab/Documents/GLIFAC/Code/glifac_pipeline.py:288: RuntimeWarning: More than 20 figures have been opened. Figures created through the pyplot interface (`matplotlib.pyplot.figure`) are retained until explicitly closed and may consume too much memory. (To control this warning, see the rcParam `figure.max_open_warning`).\n",
      "  fig = plt.figure(figsize=(25,4))\n"
     ]
    },
    {
     "name": "stdout",
     "output_type": "stream",
     "text": [
      "saved filters\n"
     ]
    },
    {
     "name": "stderr",
     "output_type": "stream",
     "text": [
      "/home/koolab/Documents/GLIFAC/Code/glifac_pipeline.py:297: MatplotlibDeprecationWarning: savefig() got unexpected keyword argument \"box_inches\" which is no longer supported as of 3.3 and will become an error two minor releases later\n",
      "  fig.savefig(glifac_dir, format='pdf', dpi=300, box_inches='tight')\n"
     ]
    },
    {
     "name": "stdout",
     "output_type": "stream",
     "text": [
      "saved glifac\n",
      "Epoch 1/100\n",
      "350/350 - 5s - loss: 0.2985 - auroc: 0.8355 - aupr: 0.5351 - val_loss: 0.3284 - val_auroc: 0.9471 - val_aupr: 0.8062\n",
      "Epoch 2/100\n",
      "350/350 - 5s - loss: 0.1493 - auroc: 0.9626 - aupr: 0.8602 - val_loss: 0.1321 - val_auroc: 0.9780 - val_aupr: 0.9043\n",
      "Epoch 3/100\n",
      "350/350 - 5s - loss: 0.1184 - auroc: 0.9750 - aupr: 0.9085 - val_loss: 0.0815 - val_auroc: 0.9898 - val_aupr: 0.9539\n",
      "Epoch 4/100\n",
      "350/350 - 5s - loss: 0.1068 - auroc: 0.9789 - aupr: 0.9230 - val_loss: 0.0923 - val_auroc: 0.9826 - val_aupr: 0.9432\n",
      "Epoch 5/100\n",
      "350/350 - 5s - loss: 0.1032 - auroc: 0.9802 - aupr: 0.9272 - val_loss: 0.0869 - val_auroc: 0.9884 - val_aupr: 0.9489\n",
      "Epoch 6/100\n",
      "350/350 - 5s - loss: 0.1008 - auroc: 0.9807 - aupr: 0.9300 - val_loss: 0.0866 - val_auroc: 0.9864 - val_aupr: 0.9466\n",
      "Epoch 7/100\n",
      "350/350 - 5s - loss: 0.0996 - auroc: 0.9814 - aupr: 0.9312 - val_loss: 0.0845 - val_auroc: 0.9870 - val_aupr: 0.9506\n",
      "Epoch 8/100\n",
      "350/350 - 5s - loss: 0.0985 - auroc: 0.9816 - aupr: 0.9323 - val_loss: 0.0756 - val_auroc: 0.9896 - val_aupr: 0.9585\n",
      "Epoch 9/100\n",
      "350/350 - 5s - loss: 0.0984 - auroc: 0.9816 - aupr: 0.9329 - val_loss: 0.0796 - val_auroc: 0.9895 - val_aupr: 0.9555\n",
      "Epoch 10/100\n",
      "350/350 - 5s - loss: 0.0958 - auroc: 0.9832 - aupr: 0.9354 - val_loss: 0.0775 - val_auroc: 0.9891 - val_aupr: 0.9557\n",
      "Epoch 11/100\n",
      "350/350 - 5s - loss: 0.0946 - auroc: 0.9836 - aupr: 0.9373 - val_loss: 0.0764 - val_auroc: 0.9889 - val_aupr: 0.9570\n",
      "Epoch 12/100\n",
      "350/350 - 5s - loss: 0.0945 - auroc: 0.9837 - aupr: 0.9366 - val_loss: 0.0750 - val_auroc: 0.9902 - val_aupr: 0.9589\n",
      "Epoch 13/100\n",
      "350/350 - 5s - loss: 0.0942 - auroc: 0.9839 - aupr: 0.9376 - val_loss: 0.0788 - val_auroc: 0.9900 - val_aupr: 0.9554\n",
      "Epoch 14/100\n",
      "350/350 - 5s - loss: 0.0939 - auroc: 0.9838 - aupr: 0.9378 - val_loss: 0.0754 - val_auroc: 0.9902 - val_aupr: 0.9589\n",
      "Epoch 15/100\n",
      "350/350 - 5s - loss: 0.0929 - auroc: 0.9841 - aupr: 0.9391 - val_loss: 0.0793 - val_auroc: 0.9902 - val_aupr: 0.9559\n",
      "Epoch 16/100\n",
      "350/350 - 5s - loss: 0.0926 - auroc: 0.9843 - aupr: 0.9393 - val_loss: 0.0756 - val_auroc: 0.9894 - val_aupr: 0.9570\n",
      "Epoch 17/100\n",
      "350/350 - 5s - loss: 0.0923 - auroc: 0.9844 - aupr: 0.9394 - val_loss: 0.0776 - val_auroc: 0.9901 - val_aupr: 0.9573\n",
      "Epoch 18/100\n",
      "350/350 - 5s - loss: 0.0915 - auroc: 0.9847 - aupr: 0.9405 - val_loss: 0.0741 - val_auroc: 0.9896 - val_aupr: 0.9599\n",
      "Epoch 19/100\n",
      "350/350 - 5s - loss: 0.0914 - auroc: 0.9847 - aupr: 0.9408 - val_loss: 0.0762 - val_auroc: 0.9906 - val_aupr: 0.9581\n",
      "Epoch 20/100\n",
      "350/350 - 5s - loss: 0.0913 - auroc: 0.9847 - aupr: 0.9404 - val_loss: 0.0753 - val_auroc: 0.9900 - val_aupr: 0.9580\n",
      "Epoch 21/100\n",
      "350/350 - 5s - loss: 0.0910 - auroc: 0.9847 - aupr: 0.9412 - val_loss: 0.0745 - val_auroc: 0.9896 - val_aupr: 0.9596\n",
      "Epoch 22/100\n",
      "350/350 - 5s - loss: 0.0908 - auroc: 0.9847 - aupr: 0.9412 - val_loss: 0.0762 - val_auroc: 0.9907 - val_aupr: 0.9577\n",
      "Epoch 23/100\n",
      "350/350 - 5s - loss: 0.0908 - auroc: 0.9848 - aupr: 0.9414 - val_loss: 0.0713 - val_auroc: 0.9914 - val_aupr: 0.9615\n",
      "Epoch 24/100\n",
      "350/350 - 5s - loss: 0.0900 - auroc: 0.9853 - aupr: 0.9424 - val_loss: 0.0753 - val_auroc: 0.9913 - val_aupr: 0.9600\n",
      "Epoch 25/100\n",
      "350/350 - 5s - loss: 0.0896 - auroc: 0.9854 - aupr: 0.9427 - val_loss: 0.0737 - val_auroc: 0.9908 - val_aupr: 0.9593\n",
      "Epoch 26/100\n",
      "350/350 - 5s - loss: 0.0898 - auroc: 0.9852 - aupr: 0.9428 - val_loss: 0.0725 - val_auroc: 0.9911 - val_aupr: 0.9612\n",
      "Epoch 27/100\n",
      "350/350 - 5s - loss: 0.0888 - auroc: 0.9857 - aupr: 0.9435 - val_loss: 0.0741 - val_auroc: 0.9906 - val_aupr: 0.9591\n",
      "Epoch 28/100\n",
      "350/350 - 5s - loss: 0.0884 - auroc: 0.9858 - aupr: 0.9439 - val_loss: 0.0729 - val_auroc: 0.9911 - val_aupr: 0.9605\n",
      "Epoch 29/100\n",
      "350/350 - 5s - loss: 0.0877 - auroc: 0.9859 - aupr: 0.9449 - val_loss: 0.0733 - val_auroc: 0.9900 - val_aupr: 0.9609\n",
      "Epoch 30/100\n",
      "350/350 - 5s - loss: 0.0881 - auroc: 0.9859 - aupr: 0.9445 - val_loss: 0.0709 - val_auroc: 0.9917 - val_aupr: 0.9625\n",
      "Epoch 31/100\n",
      "350/350 - 5s - loss: 0.0875 - auroc: 0.9861 - aupr: 0.9453 - val_loss: 0.0714 - val_auroc: 0.9916 - val_aupr: 0.9622\n",
      "Epoch 32/100\n",
      "350/350 - 5s - loss: 0.0872 - auroc: 0.9861 - aupr: 0.9457 - val_loss: 0.0705 - val_auroc: 0.9918 - val_aupr: 0.9628\n",
      "Epoch 33/100\n",
      "350/350 - 5s - loss: 0.0862 - auroc: 0.9864 - aupr: 0.9470 - val_loss: 0.0707 - val_auroc: 0.9914 - val_aupr: 0.9632\n",
      "Epoch 34/100\n",
      "350/350 - 5s - loss: 0.0857 - auroc: 0.9865 - aupr: 0.9474 - val_loss: 0.0708 - val_auroc: 0.9916 - val_aupr: 0.9623\n",
      "Epoch 35/100\n",
      "350/350 - 5s - loss: 0.0855 - auroc: 0.9867 - aupr: 0.9480 - val_loss: 0.0707 - val_auroc: 0.9916 - val_aupr: 0.9627\n",
      "Epoch 36/100\n",
      "350/350 - 5s - loss: 0.0849 - auroc: 0.9867 - aupr: 0.9485 - val_loss: 0.0701 - val_auroc: 0.9913 - val_aupr: 0.9634\n",
      "Epoch 37/100\n",
      "350/350 - 5s - loss: 0.0845 - auroc: 0.9869 - aupr: 0.9492 - val_loss: 0.0707 - val_auroc: 0.9912 - val_aupr: 0.9627\n",
      "Epoch 38/100\n",
      "350/350 - 5s - loss: 0.0837 - auroc: 0.9871 - aupr: 0.9497 - val_loss: 0.0699 - val_auroc: 0.9910 - val_aupr: 0.9634\n",
      "Epoch 39/100\n",
      "350/350 - 5s - loss: 0.0833 - auroc: 0.9872 - aupr: 0.9506 - val_loss: 0.0704 - val_auroc: 0.9916 - val_aupr: 0.9632\n",
      "Epoch 40/100\n",
      "350/350 - 5s - loss: 0.0834 - auroc: 0.9872 - aupr: 0.9503 - val_loss: 0.0713 - val_auroc: 0.9913 - val_aupr: 0.9626\n",
      "Epoch 41/100\n",
      "350/350 - 5s - loss: 0.0825 - auroc: 0.9874 - aupr: 0.9510 - val_loss: 0.0714 - val_auroc: 0.9907 - val_aupr: 0.9622\n",
      "Epoch 42/100\n",
      "350/350 - 5s - loss: 0.0816 - auroc: 0.9875 - aupr: 0.9520 - val_loss: 0.0717 - val_auroc: 0.9911 - val_aupr: 0.9619\n",
      "Epoch 43/100\n",
      "350/350 - 5s - loss: 0.0812 - auroc: 0.9878 - aupr: 0.9527 - val_loss: 0.0697 - val_auroc: 0.9911 - val_aupr: 0.9641\n",
      "Epoch 44/100\n",
      "350/350 - 5s - loss: 0.0806 - auroc: 0.9878 - aupr: 0.9532 - val_loss: 0.0715 - val_auroc: 0.9916 - val_aupr: 0.9619\n",
      "Epoch 45/100\n",
      "350/350 - 5s - loss: 0.0807 - auroc: 0.9879 - aupr: 0.9531 - val_loss: 0.0703 - val_auroc: 0.9911 - val_aupr: 0.9627\n",
      "Epoch 46/100\n",
      "350/350 - 5s - loss: 0.0801 - auroc: 0.9880 - aupr: 0.9537 - val_loss: 0.0708 - val_auroc: 0.9910 - val_aupr: 0.9621\n",
      "Epoch 47/100\n",
      "350/350 - 5s - loss: 0.0799 - auroc: 0.9880 - aupr: 0.9542 - val_loss: 0.0708 - val_auroc: 0.9911 - val_aupr: 0.9626\n",
      "Epoch 48/100\n",
      "350/350 - 5s - loss: 0.0785 - auroc: 0.9886 - aupr: 0.9555 - val_loss: 0.0696 - val_auroc: 0.9912 - val_aupr: 0.9635\n",
      "Epoch 49/100\n",
      "350/350 - 5s - loss: 0.0785 - auroc: 0.9884 - aupr: 0.9556 - val_loss: 0.0711 - val_auroc: 0.9908 - val_aupr: 0.9619\n",
      "Epoch 50/100\n",
      "350/350 - 5s - loss: 0.0782 - auroc: 0.9885 - aupr: 0.9562 - val_loss: 0.0723 - val_auroc: 0.9906 - val_aupr: 0.9604\n",
      "Epoch 51/100\n",
      "350/350 - 5s - loss: 0.0778 - auroc: 0.9886 - aupr: 0.9565 - val_loss: 0.0703 - val_auroc: 0.9910 - val_aupr: 0.9626\n",
      "Epoch 52/100\n",
      "350/350 - 5s - loss: 0.0770 - auroc: 0.9887 - aupr: 0.9572 - val_loss: 0.0708 - val_auroc: 0.9905 - val_aupr: 0.9623\n",
      "Epoch 53/100\n",
      "\n",
      "Epoch 00053: ReduceLROnPlateau reducing learning rate to 0.00020000000949949026.\n",
      "350/350 - 5s - loss: 0.0762 - auroc: 0.9891 - aupr: 0.9579 - val_loss: 0.0706 - val_auroc: 0.9907 - val_aupr: 0.9626\n",
      "Epoch 54/100\n",
      "350/350 - 5s - loss: 0.0736 - auroc: 0.9897 - aupr: 0.9607 - val_loss: 0.0695 - val_auroc: 0.9910 - val_aupr: 0.9637\n",
      "Epoch 55/100\n",
      "350/350 - 5s - loss: 0.0729 - auroc: 0.9899 - aupr: 0.9614 - val_loss: 0.0691 - val_auroc: 0.9912 - val_aupr: 0.9638\n",
      "Epoch 56/100\n",
      "350/350 - 5s - loss: 0.0722 - auroc: 0.9900 - aupr: 0.9620 - val_loss: 0.0696 - val_auroc: 0.9913 - val_aupr: 0.9637\n",
      "Epoch 57/100\n",
      "350/350 - 5s - loss: 0.0717 - auroc: 0.9902 - aupr: 0.9626 - val_loss: 0.0699 - val_auroc: 0.9908 - val_aupr: 0.9632\n",
      "Epoch 58/100\n",
      "350/350 - 5s - loss: 0.0719 - auroc: 0.9900 - aupr: 0.9623 - val_loss: 0.0696 - val_auroc: 0.9910 - val_aupr: 0.9633\n",
      "Epoch 59/100\n",
      "350/350 - 5s - loss: 0.0708 - auroc: 0.9903 - aupr: 0.9632 - val_loss: 0.0695 - val_auroc: 0.9910 - val_aupr: 0.9633\n",
      "Epoch 60/100\n",
      "350/350 - 5s - loss: 0.0709 - auroc: 0.9904 - aupr: 0.9633 - val_loss: 0.0699 - val_auroc: 0.9910 - val_aupr: 0.9631\n",
      "Epoch 61/100\n",
      "350/350 - 5s - loss: 0.0711 - auroc: 0.9903 - aupr: 0.9633 - val_loss: 0.0702 - val_auroc: 0.9908 - val_aupr: 0.9628\n",
      "Epoch 62/100\n",
      "350/350 - 5s - loss: 0.0704 - auroc: 0.9904 - aupr: 0.9639 - val_loss: 0.0701 - val_auroc: 0.9909 - val_aupr: 0.9628\n",
      "Epoch 63/100\n",
      "350/350 - 5s - loss: 0.0714 - auroc: 0.9899 - aupr: 0.9630 - val_loss: 0.0700 - val_auroc: 0.9908 - val_aupr: 0.9629\n"
     ]
    },
    {
     "name": "stdout",
     "output_type": "stream",
     "text": [
      "Epoch 64/100\n",
      "350/350 - 5s - loss: 0.0703 - auroc: 0.9904 - aupr: 0.9641 - val_loss: 0.0699 - val_auroc: 0.9909 - val_aupr: 0.9629\n",
      "Epoch 65/100\n",
      "\n",
      "Epoch 00065: ReduceLROnPlateau reducing learning rate to 4.0000001899898055e-05.\n",
      "350/350 - 5s - loss: 0.0705 - auroc: 0.9904 - aupr: 0.9637 - val_loss: 0.0701 - val_auroc: 0.9909 - val_aupr: 0.9625\n",
      "Epoch 66/100\n",
      "350/350 - 5s - loss: 0.0693 - auroc: 0.9907 - aupr: 0.9649 - val_loss: 0.0700 - val_auroc: 0.9909 - val_aupr: 0.9628\n",
      "Epoch 67/100\n",
      "350/350 - 5s - loss: 0.0692 - auroc: 0.9907 - aupr: 0.9649 - val_loss: 0.0700 - val_auroc: 0.9909 - val_aupr: 0.9628\n",
      "Epoch 68/100\n",
      "350/350 - 5s - loss: 0.0697 - auroc: 0.9906 - aupr: 0.9646 - val_loss: 0.0699 - val_auroc: 0.9909 - val_aupr: 0.9628\n",
      "Epoch 69/100\n",
      "350/350 - 5s - loss: 0.0696 - auroc: 0.9907 - aupr: 0.9646 - val_loss: 0.0700 - val_auroc: 0.9909 - val_aupr: 0.9627\n",
      "Epoch 70/100\n",
      "Restoring model weights from the end of the best epoch.\n",
      "350/350 - 5s - loss: 0.0695 - auroc: 0.9904 - aupr: 0.9647 - val_loss: 0.0700 - val_auroc: 0.9907 - val_aupr: 0.9628\n",
      "Epoch 00070: early stopping\n",
      "625/625 [==============================] - 1s 2ms/step - loss: 0.0698 - auroc: 0.9909 - aupr: 0.9629\n",
      "generated PPMs\n",
      "TomTom TPR:  0.875\n",
      "TomTom FPR:  0.0\n",
      "Motif coverage:  1.0\n",
      "completed TomTom analysis\n",
      "completed clustering\n"
     ]
    },
    {
     "name": "stderr",
     "output_type": "stream",
     "text": [
      "/home/koolab/Documents/GLIFAC/Code/glifac.py:108: FutureWarning: Using a non-tuple sequence for multidimensional indexing is deprecated; use `arr[tuple(seq)]` instead of `arr[seq]`. In the future this will be interpreted as an array index, `arr[np.array(seq)]`, which will result either in an error or a different result.\n",
      "  filter_interactions = feature_maps[position_pairs].transpose([1, 2, 0])\n",
      "/home/koolab/Documents/GLIFAC/Code/glifac.py:46: FutureWarning: Using a non-tuple sequence for multidimensional indexing is deprecated; use `arr[tuple(seq)]` instead of `arr[seq]`. In the future this will be interpreted as an array index, `arr[np.array(seq)]`, which will result either in an error or a different result.\n",
      "  filter_interactions_values = correlation_matrix[ind.transpose().tolist()]\n"
     ]
    },
    {
     "name": "stdout",
     "output_type": "stream",
     "text": [
      "0.0  | AUROC: 1.0000000000000002  | AUPR: 1.0  | SNR: 4.109792428188792\n"
     ]
    },
    {
     "name": "stderr",
     "output_type": "stream",
     "text": [
      "/home/koolab/Documents/GLIFAC/Code/glifac.py:108: FutureWarning: Using a non-tuple sequence for multidimensional indexing is deprecated; use `arr[tuple(seq)]` instead of `arr[seq]`. In the future this will be interpreted as an array index, `arr[np.array(seq)]`, which will result either in an error or a different result.\n",
      "  filter_interactions = feature_maps[position_pairs].transpose([1, 2, 0])\n",
      "/home/koolab/Documents/GLIFAC/Code/glifac.py:46: FutureWarning: Using a non-tuple sequence for multidimensional indexing is deprecated; use `arr[tuple(seq)]` instead of `arr[seq]`. In the future this will be interpreted as an array index, `arr[np.array(seq)]`, which will result either in an error or a different result.\n",
      "  filter_interactions_values = correlation_matrix[ind.transpose().tolist()]\n"
     ]
    },
    {
     "name": "stdout",
     "output_type": "stream",
     "text": [
      "0.1  | AUROC: 0.26427320936329096  | AUPR: 0.6440263605442177  | SNR: 2.1619830392999035\n"
     ]
    },
    {
     "name": "stderr",
     "output_type": "stream",
     "text": [
      "/home/koolab/Documents/GLIFAC/Code/glifac.py:108: FutureWarning: Using a non-tuple sequence for multidimensional indexing is deprecated; use `arr[tuple(seq)]` instead of `arr[seq]`. In the future this will be interpreted as an array index, `arr[np.array(seq)]`, which will result either in an error or a different result.\n",
      "  filter_interactions = feature_maps[position_pairs].transpose([1, 2, 0])\n",
      "/home/koolab/Documents/GLIFAC/Code/glifac.py:46: FutureWarning: Using a non-tuple sequence for multidimensional indexing is deprecated; use `arr[tuple(seq)]` instead of `arr[seq]`. In the future this will be interpreted as an array index, `arr[np.array(seq)]`, which will result either in an error or a different result.\n",
      "  filter_interactions_values = correlation_matrix[ind.transpose().tolist()]\n"
     ]
    },
    {
     "name": "stdout",
     "output_type": "stream",
     "text": [
      "0.2  | AUROC: 0.18269679397092636  | AUPR: 0.5938562925170068  | SNR: 1.3294068904927556\n"
     ]
    },
    {
     "name": "stderr",
     "output_type": "stream",
     "text": [
      "/home/koolab/Documents/GLIFAC/Code/glifac.py:108: FutureWarning: Using a non-tuple sequence for multidimensional indexing is deprecated; use `arr[tuple(seq)]` instead of `arr[seq]`. In the future this will be interpreted as an array index, `arr[np.array(seq)]`, which will result either in an error or a different result.\n",
      "  filter_interactions = feature_maps[position_pairs].transpose([1, 2, 0])\n",
      "/home/koolab/Documents/GLIFAC/Code/glifac.py:46: FutureWarning: Using a non-tuple sequence for multidimensional indexing is deprecated; use `arr[tuple(seq)]` instead of `arr[seq]`. In the future this will be interpreted as an array index, `arr[np.array(seq)]`, which will result either in an error or a different result.\n",
      "  filter_interactions_values = correlation_matrix[ind.transpose().tolist()]\n"
     ]
    },
    {
     "name": "stdout",
     "output_type": "stream",
     "text": [
      "0.3  | AUROC: 0.1573081965686819  | AUPR: 0.5577168367346939  | SNR: 1.170529059221739\n"
     ]
    },
    {
     "name": "stderr",
     "output_type": "stream",
     "text": [
      "/home/koolab/Documents/GLIFAC/Code/glifac.py:108: FutureWarning: Using a non-tuple sequence for multidimensional indexing is deprecated; use `arr[tuple(seq)]` instead of `arr[seq]`. In the future this will be interpreted as an array index, `arr[np.array(seq)]`, which will result either in an error or a different result.\n",
      "  filter_interactions = feature_maps[position_pairs].transpose([1, 2, 0])\n",
      "/home/koolab/Documents/GLIFAC/Code/glifac.py:46: FutureWarning: Using a non-tuple sequence for multidimensional indexing is deprecated; use `arr[tuple(seq)]` instead of `arr[seq]`. In the future this will be interpreted as an array index, `arr[np.array(seq)]`, which will result either in an error or a different result.\n",
      "  filter_interactions_values = correlation_matrix[ind.transpose().tolist()]\n"
     ]
    },
    {
     "name": "stdout",
     "output_type": "stream",
     "text": [
      "0.4  | AUROC: 0.15719668018159702  | AUPR: 0.5366709183673469  | SNR: 1.1842959107009163\n"
     ]
    },
    {
     "name": "stderr",
     "output_type": "stream",
     "text": [
      "/home/koolab/Documents/GLIFAC/Code/glifac.py:108: FutureWarning: Using a non-tuple sequence for multidimensional indexing is deprecated; use `arr[tuple(seq)]` instead of `arr[seq]`. In the future this will be interpreted as an array index, `arr[np.array(seq)]`, which will result either in an error or a different result.\n",
      "  filter_interactions = feature_maps[position_pairs].transpose([1, 2, 0])\n",
      "/home/koolab/Documents/GLIFAC/Code/glifac.py:46: FutureWarning: Using a non-tuple sequence for multidimensional indexing is deprecated; use `arr[tuple(seq)]` instead of `arr[seq]`. In the future this will be interpreted as an array index, `arr[np.array(seq)]`, which will result either in an error or a different result.\n",
      "  filter_interactions_values = correlation_matrix[ind.transpose().tolist()]\n"
     ]
    },
    {
     "name": "stdout",
     "output_type": "stream",
     "text": [
      "0.5  | AUROC: 0.15698989760183701  | AUPR: 0.5225340136054422  | SNR: 1.1729879049688563\n"
     ]
    },
    {
     "name": "stderr",
     "output_type": "stream",
     "text": [
      "/home/koolab/Documents/GLIFAC/Code/glifac.py:108: FutureWarning: Using a non-tuple sequence for multidimensional indexing is deprecated; use `arr[tuple(seq)]` instead of `arr[seq]`. In the future this will be interpreted as an array index, `arr[np.array(seq)]`, which will result either in an error or a different result.\n",
      "  filter_interactions = feature_maps[position_pairs].transpose([1, 2, 0])\n",
      "/home/koolab/Documents/GLIFAC/Code/glifac.py:46: FutureWarning: Using a non-tuple sequence for multidimensional indexing is deprecated; use `arr[tuple(seq)]` instead of `arr[seq]`. In the future this will be interpreted as an array index, `arr[np.array(seq)]`, which will result either in an error or a different result.\n",
      "  filter_interactions_values = correlation_matrix[ind.transpose().tolist()]\n"
     ]
    },
    {
     "name": "stdout",
     "output_type": "stream",
     "text": [
      "0.6  | AUROC: 0.15637442604869953  | AUPR: 0.5146683673469388  | SNR: 1.137875963078094\n"
     ]
    },
    {
     "name": "stderr",
     "output_type": "stream",
     "text": [
      "/home/koolab/Documents/GLIFAC/Code/glifac.py:108: FutureWarning: Using a non-tuple sequence for multidimensional indexing is deprecated; use `arr[tuple(seq)]` instead of `arr[seq]`. In the future this will be interpreted as an array index, `arr[np.array(seq)]`, which will result either in an error or a different result.\n",
      "  filter_interactions = feature_maps[position_pairs].transpose([1, 2, 0])\n",
      "/home/koolab/Documents/GLIFAC/Code/glifac.py:46: FutureWarning: Using a non-tuple sequence for multidimensional indexing is deprecated; use `arr[tuple(seq)]` instead of `arr[seq]`. In the future this will be interpreted as an array index, `arr[np.array(seq)]`, which will result either in an error or a different result.\n",
      "  filter_interactions_values = correlation_matrix[ind.transpose().tolist()]\n"
     ]
    },
    {
     "name": "stdout",
     "output_type": "stream",
     "text": [
      "0.7  | AUROC: 0.15041020554623166  | AUPR: 0.5020195578231292  | SNR: 1.0760785259007053\n"
     ]
    },
    {
     "name": "stderr",
     "output_type": "stream",
     "text": [
      "/home/koolab/Documents/GLIFAC/Code/glifac.py:108: FutureWarning: Using a non-tuple sequence for multidimensional indexing is deprecated; use `arr[tuple(seq)]` instead of `arr[seq]`. In the future this will be interpreted as an array index, `arr[np.array(seq)]`, which will result either in an error or a different result.\n",
      "  filter_interactions = feature_maps[position_pairs].transpose([1, 2, 0])\n",
      "/home/koolab/Documents/GLIFAC/Code/glifac.py:46: FutureWarning: Using a non-tuple sequence for multidimensional indexing is deprecated; use `arr[tuple(seq)]` instead of `arr[seq]`. In the future this will be interpreted as an array index, `arr[np.array(seq)]`, which will result either in an error or a different result.\n",
      "  filter_interactions_values = correlation_matrix[ind.transpose().tolist()]\n"
     ]
    },
    {
     "name": "stdout",
     "output_type": "stream",
     "text": [
      "0.8  | AUROC: 0.1491612974994463  | AUPR: 0.5160501700680272  | SNR: 0.9336774440115098\n"
     ]
    },
    {
     "name": "stderr",
     "output_type": "stream",
     "text": [
      "/home/koolab/Documents/GLIFAC/Code/glifac.py:108: FutureWarning: Using a non-tuple sequence for multidimensional indexing is deprecated; use `arr[tuple(seq)]` instead of `arr[seq]`. In the future this will be interpreted as an array index, `arr[np.array(seq)]`, which will result either in an error or a different result.\n",
      "  filter_interactions = feature_maps[position_pairs].transpose([1, 2, 0])\n",
      "/home/koolab/Documents/GLIFAC/Code/glifac.py:28: RuntimeWarning: invalid value encountered in float_scalars\n",
      "  return top/bottom\n",
      "/home/koolab/Documents/GLIFAC/Code/glifac.py:46: FutureWarning: Using a non-tuple sequence for multidimensional indexing is deprecated; use `arr[tuple(seq)]` instead of `arr[seq]`. In the future this will be interpreted as an array index, `arr[np.array(seq)]`, which will result either in an error or a different result.\n",
      "  filter_interactions_values = correlation_matrix[ind.transpose().tolist()]\n"
     ]
    },
    {
     "name": "stdout",
     "output_type": "stream",
     "text": [
      "0.9  | AUROC: 0.1534546772127594  | AUPR: 0.5749362244897959  | SNR: 0.8519479082894059\n",
      "finished correlation interpretability\n",
      "saved statistics\n",
      "saved filters\n"
     ]
    },
    {
     "name": "stderr",
     "output_type": "stream",
     "text": [
      "/home/koolab/Documents/GLIFAC/Code/glifac_pipeline.py:297: MatplotlibDeprecationWarning: savefig() got unexpected keyword argument \"box_inches\" which is no longer supported as of 3.3 and will become an error two minor releases later\n",
      "  fig.savefig(glifac_dir, format='pdf', dpi=300, box_inches='tight')\n"
     ]
    },
    {
     "name": "stdout",
     "output_type": "stream",
     "text": [
      "saved glifac\n",
      "Epoch 1/100\n",
      "350/350 - 5s - loss: 0.2876 - auroc: 0.8479 - aupr: 0.5691 - val_loss: 0.2242 - val_auroc: 0.9689 - val_aupr: 0.8723\n",
      "Epoch 2/100\n",
      "350/350 - 5s - loss: 0.1280 - auroc: 0.9709 - aupr: 0.8960 - val_loss: 0.1034 - val_auroc: 0.9829 - val_aupr: 0.9328\n",
      "Epoch 3/100\n",
      "350/350 - 5s - loss: 0.1101 - auroc: 0.9772 - aupr: 0.9192 - val_loss: 0.0943 - val_auroc: 0.9864 - val_aupr: 0.9419\n",
      "Epoch 4/100\n",
      "350/350 - 5s - loss: 0.1045 - auroc: 0.9791 - aupr: 0.9260 - val_loss: 0.0988 - val_auroc: 0.9813 - val_aupr: 0.9389\n",
      "Epoch 5/100\n",
      "350/350 - 5s - loss: 0.1023 - auroc: 0.9799 - aupr: 0.9284 - val_loss: 0.0863 - val_auroc: 0.9877 - val_aupr: 0.9491\n",
      "Epoch 6/100\n",
      "350/350 - 5s - loss: 0.1003 - auroc: 0.9807 - aupr: 0.9305 - val_loss: 0.0837 - val_auroc: 0.9887 - val_aupr: 0.9506\n",
      "Epoch 7/100\n",
      "350/350 - 5s - loss: 0.0994 - auroc: 0.9808 - aupr: 0.9317 - val_loss: 0.0915 - val_auroc: 0.9842 - val_aupr: 0.9445\n",
      "Epoch 8/100\n",
      "350/350 - 5s - loss: 0.0979 - auroc: 0.9814 - aupr: 0.9334 - val_loss: 0.0788 - val_auroc: 0.9894 - val_aupr: 0.9553\n",
      "Epoch 9/100\n",
      "350/350 - 5s - loss: 0.0982 - auroc: 0.9813 - aupr: 0.9332 - val_loss: 0.0791 - val_auroc: 0.9880 - val_aupr: 0.9566\n",
      "Epoch 10/100\n",
      "350/350 - 5s - loss: 0.0967 - auroc: 0.9816 - aupr: 0.9349 - val_loss: 0.0758 - val_auroc: 0.9904 - val_aupr: 0.9579\n",
      "Epoch 11/100\n",
      "350/350 - 5s - loss: 0.0967 - auroc: 0.9817 - aupr: 0.9349 - val_loss: 0.0867 - val_auroc: 0.9862 - val_aupr: 0.9520\n",
      "Epoch 12/100\n",
      "350/350 - 5s - loss: 0.0957 - auroc: 0.9823 - aupr: 0.9359 - val_loss: 0.0756 - val_auroc: 0.9910 - val_aupr: 0.9589\n",
      "Epoch 13/100\n",
      "350/350 - 5s - loss: 0.0955 - auroc: 0.9821 - aupr: 0.9362 - val_loss: 0.0753 - val_auroc: 0.9899 - val_aupr: 0.9588\n",
      "Epoch 14/100\n",
      "350/350 - 5s - loss: 0.0951 - auroc: 0.9822 - aupr: 0.9368 - val_loss: 0.0769 - val_auroc: 0.9898 - val_aupr: 0.9578\n",
      "Epoch 15/100\n",
      "350/350 - 4s - loss: 0.0947 - auroc: 0.9825 - aupr: 0.9368 - val_loss: 0.0775 - val_auroc: 0.9895 - val_aupr: 0.9557\n",
      "Epoch 16/100\n",
      "350/350 - 5s - loss: 0.0946 - auroc: 0.9826 - aupr: 0.9372 - val_loss: 0.0737 - val_auroc: 0.9906 - val_aupr: 0.9587\n",
      "Epoch 17/100\n",
      "350/350 - 5s - loss: 0.0939 - auroc: 0.9826 - aupr: 0.9382 - val_loss: 0.0760 - val_auroc: 0.9897 - val_aupr: 0.9560\n",
      "Epoch 18/100\n",
      "350/350 - 5s - loss: 0.0945 - auroc: 0.9826 - aupr: 0.9375 - val_loss: 0.0743 - val_auroc: 0.9897 - val_aupr: 0.9592\n",
      "Epoch 19/100\n",
      "350/350 - 5s - loss: 0.0937 - auroc: 0.9828 - aupr: 0.9381 - val_loss: 0.0768 - val_auroc: 0.9897 - val_aupr: 0.9573\n",
      "Epoch 20/100\n",
      "350/350 - 5s - loss: 0.0931 - auroc: 0.9831 - aupr: 0.9389 - val_loss: 0.0747 - val_auroc: 0.9903 - val_aupr: 0.9594\n",
      "Epoch 21/100\n",
      "350/350 - 5s - loss: 0.0930 - auroc: 0.9830 - aupr: 0.9393 - val_loss: 0.0733 - val_auroc: 0.9908 - val_aupr: 0.9598\n",
      "Epoch 22/100\n",
      "350/350 - 5s - loss: 0.0925 - auroc: 0.9834 - aupr: 0.9394 - val_loss: 0.0728 - val_auroc: 0.9903 - val_aupr: 0.9600\n",
      "Epoch 23/100\n",
      "350/350 - 5s - loss: 0.0926 - auroc: 0.9830 - aupr: 0.9396 - val_loss: 0.0760 - val_auroc: 0.9890 - val_aupr: 0.9564\n",
      "Epoch 24/100\n",
      "350/350 - 5s - loss: 0.0923 - auroc: 0.9832 - aupr: 0.9398 - val_loss: 0.0746 - val_auroc: 0.9890 - val_aupr: 0.9590\n",
      "Epoch 25/100\n",
      "350/350 - 5s - loss: 0.0915 - auroc: 0.9835 - aupr: 0.9409 - val_loss: 0.0735 - val_auroc: 0.9898 - val_aupr: 0.9600\n",
      "Epoch 26/100\n",
      "350/350 - 5s - loss: 0.0915 - auroc: 0.9835 - aupr: 0.9409 - val_loss: 0.0726 - val_auroc: 0.9908 - val_aupr: 0.9609\n",
      "Epoch 27/100\n",
      "350/350 - 5s - loss: 0.0906 - auroc: 0.9837 - aupr: 0.9422 - val_loss: 0.0751 - val_auroc: 0.9908 - val_aupr: 0.9600\n",
      "Epoch 28/100\n",
      "350/350 - 5s - loss: 0.0897 - auroc: 0.9840 - aupr: 0.9429 - val_loss: 0.0732 - val_auroc: 0.9902 - val_aupr: 0.9604\n",
      "Epoch 29/100\n",
      "350/350 - 4s - loss: 0.0897 - auroc: 0.9839 - aupr: 0.9432 - val_loss: 0.0725 - val_auroc: 0.9908 - val_aupr: 0.9624\n",
      "Epoch 30/100\n",
      "350/350 - 4s - loss: 0.0887 - auroc: 0.9844 - aupr: 0.9439 - val_loss: 0.0728 - val_auroc: 0.9914 - val_aupr: 0.9610\n",
      "Epoch 31/100\n",
      "350/350 - 5s - loss: 0.0889 - auroc: 0.9843 - aupr: 0.9438 - val_loss: 0.0715 - val_auroc: 0.9907 - val_aupr: 0.9627\n",
      "Epoch 32/100\n",
      "350/350 - 5s - loss: 0.0882 - auroc: 0.9846 - aupr: 0.9448 - val_loss: 0.0703 - val_auroc: 0.9913 - val_aupr: 0.9636\n",
      "Epoch 33/100\n",
      "350/350 - 5s - loss: 0.0881 - auroc: 0.9845 - aupr: 0.9449 - val_loss: 0.0726 - val_auroc: 0.9911 - val_aupr: 0.9618\n",
      "Epoch 34/100\n",
      "350/350 - 5s - loss: 0.0872 - auroc: 0.9846 - aupr: 0.9459 - val_loss: 0.0713 - val_auroc: 0.9906 - val_aupr: 0.9627\n",
      "Epoch 35/100\n",
      "350/350 - 5s - loss: 0.0865 - auroc: 0.9851 - aupr: 0.9467 - val_loss: 0.0716 - val_auroc: 0.9908 - val_aupr: 0.9619\n",
      "Epoch 36/100\n",
      "350/350 - 5s - loss: 0.0858 - auroc: 0.9855 - aupr: 0.9474 - val_loss: 0.0722 - val_auroc: 0.9901 - val_aupr: 0.9612\n",
      "Epoch 37/100\n",
      "350/350 - 5s - loss: 0.0863 - auroc: 0.9851 - aupr: 0.9472 - val_loss: 0.0721 - val_auroc: 0.9912 - val_aupr: 0.9617\n",
      "Epoch 38/100\n",
      "350/350 - 5s - loss: 0.0853 - auroc: 0.9855 - aupr: 0.9481 - val_loss: 0.0724 - val_auroc: 0.9904 - val_aupr: 0.9619\n",
      "Epoch 39/100\n",
      "350/350 - 5s - loss: 0.0850 - auroc: 0.9854 - aupr: 0.9483 - val_loss: 0.0719 - val_auroc: 0.9904 - val_aupr: 0.9619\n",
      "Epoch 40/100\n",
      "350/350 - 5s - loss: 0.0841 - auroc: 0.9858 - aupr: 0.9493 - val_loss: 0.0721 - val_auroc: 0.9900 - val_aupr: 0.9610\n",
      "Epoch 41/100\n",
      "350/350 - 5s - loss: 0.0849 - auroc: 0.9853 - aupr: 0.9488 - val_loss: 0.0710 - val_auroc: 0.9910 - val_aupr: 0.9624\n",
      "Epoch 42/100\n",
      "\n",
      "Epoch 00042: ReduceLROnPlateau reducing learning rate to 0.00020000000949949026.\n",
      "350/350 - 5s - loss: 0.0835 - auroc: 0.9857 - aupr: 0.9503 - val_loss: 0.0718 - val_auroc: 0.9905 - val_aupr: 0.9617\n",
      "Epoch 43/100\n",
      "350/350 - 5s - loss: 0.0802 - auroc: 0.9870 - aupr: 0.9536 - val_loss: 0.0697 - val_auroc: 0.9913 - val_aupr: 0.9640\n",
      "Epoch 44/100\n",
      "350/350 - 5s - loss: 0.0796 - auroc: 0.9872 - aupr: 0.9539 - val_loss: 0.0703 - val_auroc: 0.9911 - val_aupr: 0.9636\n",
      "Epoch 45/100\n",
      "350/350 - 5s - loss: 0.0793 - auroc: 0.9872 - aupr: 0.9546 - val_loss: 0.0699 - val_auroc: 0.9910 - val_aupr: 0.9636\n",
      "Epoch 46/100\n",
      "350/350 - 5s - loss: 0.0789 - auroc: 0.9874 - aupr: 0.9549 - val_loss: 0.0702 - val_auroc: 0.9910 - val_aupr: 0.9632\n",
      "Epoch 47/100\n",
      "350/350 - 5s - loss: 0.0788 - auroc: 0.9873 - aupr: 0.9551 - val_loss: 0.0703 - val_auroc: 0.9910 - val_aupr: 0.9633\n",
      "Epoch 48/100\n",
      "350/350 - 5s - loss: 0.0786 - auroc: 0.9873 - aupr: 0.9552 - val_loss: 0.0702 - val_auroc: 0.9911 - val_aupr: 0.9631\n",
      "Epoch 49/100\n",
      "350/350 - 5s - loss: 0.0782 - auroc: 0.9874 - aupr: 0.9557 - val_loss: 0.0705 - val_auroc: 0.9911 - val_aupr: 0.9630\n",
      "Epoch 50/100\n",
      "350/350 - 5s - loss: 0.0776 - auroc: 0.9877 - aupr: 0.9563 - val_loss: 0.0705 - val_auroc: 0.9908 - val_aupr: 0.9628\n",
      "Epoch 51/100\n",
      "350/350 - 5s - loss: 0.0776 - auroc: 0.9878 - aupr: 0.9564 - val_loss: 0.0704 - val_auroc: 0.9909 - val_aupr: 0.9631\n",
      "Epoch 52/100\n",
      "350/350 - 5s - loss: 0.0782 - auroc: 0.9875 - aupr: 0.9556 - val_loss: 0.0706 - val_auroc: 0.9904 - val_aupr: 0.9627\n",
      "Epoch 53/100\n",
      "\n",
      "Epoch 00053: ReduceLROnPlateau reducing learning rate to 4.0000001899898055e-05.\n",
      "350/350 - 5s - loss: 0.0777 - auroc: 0.9876 - aupr: 0.9563 - val_loss: 0.0707 - val_auroc: 0.9905 - val_aupr: 0.9624\n",
      "Epoch 54/100\n",
      "350/350 - 5s - loss: 0.0768 - auroc: 0.9878 - aupr: 0.9572 - val_loss: 0.0702 - val_auroc: 0.9907 - val_aupr: 0.9629\n",
      "Epoch 55/100\n",
      "350/350 - 5s - loss: 0.0769 - auroc: 0.9878 - aupr: 0.9572 - val_loss: 0.0703 - val_auroc: 0.9907 - val_aupr: 0.9629\n",
      "Epoch 56/100\n",
      "350/350 - 5s - loss: 0.0768 - auroc: 0.9879 - aupr: 0.9571 - val_loss: 0.0703 - val_auroc: 0.9907 - val_aupr: 0.9629\n",
      "Epoch 57/100\n",
      "350/350 - 5s - loss: 0.0771 - auroc: 0.9878 - aupr: 0.9572 - val_loss: 0.0703 - val_auroc: 0.9907 - val_aupr: 0.9629\n",
      "Epoch 58/100\n",
      "Restoring model weights from the end of the best epoch.\n",
      "350/350 - 5s - loss: 0.0767 - auroc: 0.9881 - aupr: 0.9570 - val_loss: 0.0704 - val_auroc: 0.9908 - val_aupr: 0.9628\n",
      "Epoch 00058: early stopping\n",
      "625/625 [==============================] - 2s 3ms/step - loss: 0.0701 - auroc: 0.9910 - aupr: 0.9630\n",
      "generated PPMs\n",
      "TomTom TPR:  0.875\n",
      "TomTom FPR:  0.03125\n",
      "Motif coverage:  1.0\n",
      "completed TomTom analysis\n",
      "completed clustering\n"
     ]
    },
    {
     "name": "stderr",
     "output_type": "stream",
     "text": [
      "/home/koolab/Documents/GLIFAC/Code/glifac.py:108: FutureWarning: Using a non-tuple sequence for multidimensional indexing is deprecated; use `arr[tuple(seq)]` instead of `arr[seq]`. In the future this will be interpreted as an array index, `arr[np.array(seq)]`, which will result either in an error or a different result.\n",
      "  filter_interactions = feature_maps[position_pairs].transpose([1, 2, 0])\n",
      "/home/koolab/Documents/GLIFAC/Code/glifac.py:46: FutureWarning: Using a non-tuple sequence for multidimensional indexing is deprecated; use `arr[tuple(seq)]` instead of `arr[seq]`. In the future this will be interpreted as an array index, `arr[np.array(seq)]`, which will result either in an error or a different result.\n",
      "  filter_interactions_values = correlation_matrix[ind.transpose().tolist()]\n"
     ]
    },
    {
     "name": "stdout",
     "output_type": "stream",
     "text": [
      "0.0  | AUROC: 0.9601769449599492  | AUPR: 0.9970347113204255  | SNR: 4.010181294020739\n"
     ]
    },
    {
     "name": "stderr",
     "output_type": "stream",
     "text": [
      "/home/koolab/Documents/GLIFAC/Code/glifac.py:108: FutureWarning: Using a non-tuple sequence for multidimensional indexing is deprecated; use `arr[tuple(seq)]` instead of `arr[seq]`. In the future this will be interpreted as an array index, `arr[np.array(seq)]`, which will result either in an error or a different result.\n",
      "  filter_interactions = feature_maps[position_pairs].transpose([1, 2, 0])\n",
      "/home/koolab/Documents/GLIFAC/Code/glifac.py:28: RuntimeWarning: invalid value encountered in float_scalars\n",
      "  return top/bottom\n",
      "/home/koolab/Documents/GLIFAC/Code/glifac.py:46: FutureWarning: Using a non-tuple sequence for multidimensional indexing is deprecated; use `arr[tuple(seq)]` instead of `arr[seq]`. In the future this will be interpreted as an array index, `arr[np.array(seq)]`, which will result either in an error or a different result.\n",
      "  filter_interactions_values = correlation_matrix[ind.transpose().tolist()]\n"
     ]
    },
    {
     "name": "stdout",
     "output_type": "stream",
     "text": [
      "0.1  | AUROC: 0.29937062362735656  | AUPR: 0.7365253793825222  | SNR: 1.7798907515651174\n"
     ]
    },
    {
     "name": "stderr",
     "output_type": "stream",
     "text": [
      "/home/koolab/Documents/GLIFAC/Code/glifac.py:108: FutureWarning: Using a non-tuple sequence for multidimensional indexing is deprecated; use `arr[tuple(seq)]` instead of `arr[seq]`. In the future this will be interpreted as an array index, `arr[np.array(seq)]`, which will result either in an error or a different result.\n",
      "  filter_interactions = feature_maps[position_pairs].transpose([1, 2, 0])\n",
      "/home/koolab/Documents/GLIFAC/Code/glifac.py:28: RuntimeWarning: invalid value encountered in float_scalars\n",
      "  return top/bottom\n",
      "/home/koolab/Documents/GLIFAC/Code/glifac.py:46: FutureWarning: Using a non-tuple sequence for multidimensional indexing is deprecated; use `arr[tuple(seq)]` instead of `arr[seq]`. In the future this will be interpreted as an array index, `arr[np.array(seq)]`, which will result either in an error or a different result.\n",
      "  filter_interactions_values = correlation_matrix[ind.transpose().tolist()]\n"
     ]
    },
    {
     "name": "stdout",
     "output_type": "stream",
     "text": [
      "0.2  | AUROC: 0.2611025863972931  | AUPR: 0.6997209140066283  | SNR: 1.6768338586280864\n"
     ]
    },
    {
     "name": "stderr",
     "output_type": "stream",
     "text": [
      "/home/koolab/Documents/GLIFAC/Code/glifac.py:108: FutureWarning: Using a non-tuple sequence for multidimensional indexing is deprecated; use `arr[tuple(seq)]` instead of `arr[seq]`. In the future this will be interpreted as an array index, `arr[np.array(seq)]`, which will result either in an error or a different result.\n",
      "  filter_interactions = feature_maps[position_pairs].transpose([1, 2, 0])\n",
      "/home/koolab/Documents/GLIFAC/Code/glifac.py:28: RuntimeWarning: invalid value encountered in float_scalars\n",
      "  return top/bottom\n",
      "/home/koolab/Documents/GLIFAC/Code/glifac.py:46: FutureWarning: Using a non-tuple sequence for multidimensional indexing is deprecated; use `arr[tuple(seq)]` instead of `arr[seq]`. In the future this will be interpreted as an array index, `arr[np.array(seq)]`, which will result either in an error or a different result.\n",
      "  filter_interactions_values = correlation_matrix[ind.transpose().tolist()]\n"
     ]
    },
    {
     "name": "stdout",
     "output_type": "stream",
     "text": [
      "0.3  | AUROC: 0.2334370377312758  | AUPR: 0.6983254840397697  | SNR: 1.3408153642045235\n"
     ]
    },
    {
     "name": "stderr",
     "output_type": "stream",
     "text": [
      "/home/koolab/Documents/GLIFAC/Code/glifac.py:108: FutureWarning: Using a non-tuple sequence for multidimensional indexing is deprecated; use `arr[tuple(seq)]` instead of `arr[seq]`. In the future this will be interpreted as an array index, `arr[np.array(seq)]`, which will result either in an error or a different result.\n",
      "  filter_interactions = feature_maps[position_pairs].transpose([1, 2, 0])\n",
      "/home/koolab/Documents/GLIFAC/Code/glifac.py:28: RuntimeWarning: invalid value encountered in float_scalars\n",
      "  return top/bottom\n",
      "/home/koolab/Documents/GLIFAC/Code/glifac.py:46: FutureWarning: Using a non-tuple sequence for multidimensional indexing is deprecated; use `arr[tuple(seq)]` instead of `arr[seq]`. In the future this will be interpreted as an array index, `arr[np.array(seq)]`, which will result either in an error or a different result.\n",
      "  filter_interactions_values = correlation_matrix[ind.transpose().tolist()]\n"
     ]
    },
    {
     "name": "stdout",
     "output_type": "stream",
     "text": [
      "0.4  | AUROC: 0.1126290704216408  | AUPR: 0.6178266178266177  | SNR: 0.47191801866918637\n"
     ]
    },
    {
     "name": "stderr",
     "output_type": "stream",
     "text": [
      "/home/koolab/Documents/GLIFAC/Code/glifac.py:108: FutureWarning: Using a non-tuple sequence for multidimensional indexing is deprecated; use `arr[tuple(seq)]` instead of `arr[seq]`. In the future this will be interpreted as an array index, `arr[np.array(seq)]`, which will result either in an error or a different result.\n",
      "  filter_interactions = feature_maps[position_pairs].transpose([1, 2, 0])\n",
      "/home/koolab/Documents/GLIFAC/Code/glifac.py:28: RuntimeWarning: invalid value encountered in float_scalars\n",
      "  return top/bottom\n",
      "/home/koolab/Documents/GLIFAC/Code/glifac.py:46: FutureWarning: Using a non-tuple sequence for multidimensional indexing is deprecated; use `arr[tuple(seq)]` instead of `arr[seq]`. In the future this will be interpreted as an array index, `arr[np.array(seq)]`, which will result either in an error or a different result.\n",
      "  filter_interactions_values = correlation_matrix[ind.transpose().tolist()]\n"
     ]
    },
    {
     "name": "stdout",
     "output_type": "stream",
     "text": [
      "0.5  | AUROC: 0.08779488646178028  | AUPR: 0.5837257980115123  | SNR: 0.211911396078295\n"
     ]
    },
    {
     "name": "stderr",
     "output_type": "stream",
     "text": [
      "/home/koolab/Documents/GLIFAC/Code/glifac.py:108: FutureWarning: Using a non-tuple sequence for multidimensional indexing is deprecated; use `arr[tuple(seq)]` instead of `arr[seq]`. In the future this will be interpreted as an array index, `arr[np.array(seq)]`, which will result either in an error or a different result.\n",
      "  filter_interactions = feature_maps[position_pairs].transpose([1, 2, 0])\n",
      "/home/koolab/Documents/GLIFAC/Code/glifac.py:28: RuntimeWarning: invalid value encountered in float_scalars\n",
      "  return top/bottom\n",
      "/home/koolab/Documents/GLIFAC/Code/glifac.py:46: FutureWarning: Using a non-tuple sequence for multidimensional indexing is deprecated; use `arr[tuple(seq)]` instead of `arr[seq]`. In the future this will be interpreted as an array index, `arr[np.array(seq)]`, which will result either in an error or a different result.\n",
      "  filter_interactions_values = correlation_matrix[ind.transpose().tolist()]\n"
     ]
    },
    {
     "name": "stdout",
     "output_type": "stream",
     "text": [
      "0.6  | AUROC: 0.08716438797005523  | AUPR: 0.5879993022850165  | SNR: 0.15441322531161863\n"
     ]
    },
    {
     "name": "stderr",
     "output_type": "stream",
     "text": [
      "/home/koolab/Documents/GLIFAC/Code/glifac.py:108: FutureWarning: Using a non-tuple sequence for multidimensional indexing is deprecated; use `arr[tuple(seq)]` instead of `arr[seq]`. In the future this will be interpreted as an array index, `arr[np.array(seq)]`, which will result either in an error or a different result.\n",
      "  filter_interactions = feature_maps[position_pairs].transpose([1, 2, 0])\n",
      "/home/koolab/Documents/GLIFAC/Code/glifac.py:28: RuntimeWarning: invalid value encountered in float_scalars\n",
      "  return top/bottom\n",
      "/home/koolab/Documents/GLIFAC/Code/glifac.py:46: FutureWarning: Using a non-tuple sequence for multidimensional indexing is deprecated; use `arr[tuple(seq)]` instead of `arr[seq]`. In the future this will be interpreted as an array index, `arr[np.array(seq)]`, which will result either in an error or a different result.\n",
      "  filter_interactions_values = correlation_matrix[ind.transpose().tolist()]\n"
     ]
    },
    {
     "name": "stdout",
     "output_type": "stream",
     "text": [
      "0.7  | AUROC: 0.0763924868289427  | AUPR: 0.5452642595499738  | SNR: 0.12370007730338303\n"
     ]
    },
    {
     "name": "stderr",
     "output_type": "stream",
     "text": [
      "/home/koolab/Documents/GLIFAC/Code/glifac.py:108: FutureWarning: Using a non-tuple sequence for multidimensional indexing is deprecated; use `arr[tuple(seq)]` instead of `arr[seq]`. In the future this will be interpreted as an array index, `arr[np.array(seq)]`, which will result either in an error or a different result.\n",
      "  filter_interactions = feature_maps[position_pairs].transpose([1, 2, 0])\n",
      "/home/koolab/Documents/GLIFAC/Code/glifac.py:28: RuntimeWarning: invalid value encountered in float_scalars\n",
      "  return top/bottom\n",
      "/home/koolab/Documents/GLIFAC/Code/glifac.py:46: FutureWarning: Using a non-tuple sequence for multidimensional indexing is deprecated; use `arr[tuple(seq)]` instead of `arr[seq]`. In the future this will be interpreted as an array index, `arr[np.array(seq)]`, which will result either in an error or a different result.\n",
      "  filter_interactions_values = correlation_matrix[ind.transpose().tolist()]\n"
     ]
    },
    {
     "name": "stdout",
     "output_type": "stream",
     "text": [
      "0.8  | AUROC: 0.0714077447908002  | AUPR: 0.5188383045525903  | SNR: 0.0908495370253207\n"
     ]
    },
    {
     "name": "stderr",
     "output_type": "stream",
     "text": [
      "/home/koolab/Documents/GLIFAC/Code/glifac.py:108: FutureWarning: Using a non-tuple sequence for multidimensional indexing is deprecated; use `arr[tuple(seq)]` instead of `arr[seq]`. In the future this will be interpreted as an array index, `arr[np.array(seq)]`, which will result either in an error or a different result.\n",
      "  filter_interactions = feature_maps[position_pairs].transpose([1, 2, 0])\n",
      "/home/koolab/Documents/GLIFAC/Code/glifac.py:28: RuntimeWarning: invalid value encountered in float_scalars\n",
      "  return top/bottom\n",
      "/home/koolab/Documents/GLIFAC/Code/glifac.py:46: FutureWarning: Using a non-tuple sequence for multidimensional indexing is deprecated; use `arr[tuple(seq)]` instead of `arr[seq]`. In the future this will be interpreted as an array index, `arr[np.array(seq)]`, which will result either in an error or a different result.\n",
      "  filter_interactions_values = correlation_matrix[ind.transpose().tolist()]\n"
     ]
    },
    {
     "name": "stdout",
     "output_type": "stream",
     "text": [
      "0.9  | AUROC: 0.05873778658182237  | AUPR: 0.46044828187685327  | SNR: -0.1251740612690094\n",
      "finished correlation interpretability\n",
      "saved statistics\n",
      "saved filters\n"
     ]
    },
    {
     "name": "stderr",
     "output_type": "stream",
     "text": [
      "/home/koolab/Documents/GLIFAC/Code/glifac_pipeline.py:297: MatplotlibDeprecationWarning: savefig() got unexpected keyword argument \"box_inches\" which is no longer supported as of 3.3 and will become an error two minor releases later\n",
      "  fig.savefig(glifac_dir, format='pdf', dpi=300, box_inches='tight')\n"
     ]
    },
    {
     "name": "stdout",
     "output_type": "stream",
     "text": [
      "saved glifac\n",
      "Epoch 1/100\n",
      "350/350 - 5s - loss: 0.3068 - auroc: 0.8242 - aupr: 0.5159 - val_loss: 0.2927 - val_auroc: 0.9571 - val_aupr: 0.8056\n",
      "Epoch 2/100\n",
      "350/350 - 5s - loss: 0.1377 - auroc: 0.9672 - aupr: 0.8818 - val_loss: 0.1312 - val_auroc: 0.9709 - val_aupr: 0.8945\n",
      "Epoch 3/100\n",
      "350/350 - 5s - loss: 0.1162 - auroc: 0.9750 - aupr: 0.9127 - val_loss: 0.0950 - val_auroc: 0.9854 - val_aupr: 0.9411\n",
      "Epoch 4/100\n",
      "350/350 - 5s - loss: 0.1075 - auroc: 0.9785 - aupr: 0.9227 - val_loss: 0.0946 - val_auroc: 0.9847 - val_aupr: 0.9387\n",
      "Epoch 5/100\n",
      "350/350 - 5s - loss: 0.1030 - auroc: 0.9797 - aupr: 0.9279 - val_loss: 0.1023 - val_auroc: 0.9846 - val_aupr: 0.9365\n",
      "Epoch 6/100\n",
      "350/350 - 5s - loss: 0.1005 - auroc: 0.9808 - aupr: 0.9311 - val_loss: 0.0848 - val_auroc: 0.9872 - val_aupr: 0.9488\n",
      "Epoch 7/100\n",
      "350/350 - 5s - loss: 0.0988 - auroc: 0.9812 - aupr: 0.9325 - val_loss: 0.0778 - val_auroc: 0.9904 - val_aupr: 0.9583\n",
      "Epoch 8/100\n",
      "350/350 - 5s - loss: 0.0973 - auroc: 0.9819 - aupr: 0.9346 - val_loss: 0.0870 - val_auroc: 0.9878 - val_aupr: 0.9502\n",
      "Epoch 9/100\n",
      "350/350 - 5s - loss: 0.0972 - auroc: 0.9817 - aupr: 0.9346 - val_loss: 0.0803 - val_auroc: 0.9893 - val_aupr: 0.9535\n",
      "Epoch 10/100\n",
      "350/350 - 5s - loss: 0.0954 - auroc: 0.9827 - aupr: 0.9365 - val_loss: 0.0745 - val_auroc: 0.9903 - val_aupr: 0.9596\n",
      "Epoch 11/100\n",
      "350/350 - 5s - loss: 0.0925 - auroc: 0.9841 - aupr: 0.9393 - val_loss: 0.0760 - val_auroc: 0.9905 - val_aupr: 0.9574\n",
      "Epoch 12/100\n",
      "350/350 - 5s - loss: 0.0914 - auroc: 0.9845 - aupr: 0.9410 - val_loss: 0.0767 - val_auroc: 0.9909 - val_aupr: 0.9598\n",
      "Epoch 13/100\n",
      "350/350 - 5s - loss: 0.0910 - auroc: 0.9845 - aupr: 0.9413 - val_loss: 0.0728 - val_auroc: 0.9911 - val_aupr: 0.9610\n",
      "Epoch 14/100\n",
      "350/350 - 5s - loss: 0.0910 - auroc: 0.9846 - aupr: 0.9412 - val_loss: 0.0749 - val_auroc: 0.9911 - val_aupr: 0.9592\n",
      "Epoch 15/100\n",
      "350/350 - 5s - loss: 0.0900 - auroc: 0.9850 - aupr: 0.9421 - val_loss: 0.0769 - val_auroc: 0.9904 - val_aupr: 0.9573\n",
      "Epoch 16/100\n",
      "350/350 - 5s - loss: 0.0902 - auroc: 0.9847 - aupr: 0.9421 - val_loss: 0.0725 - val_auroc: 0.9912 - val_aupr: 0.9593\n",
      "Epoch 17/100\n",
      "350/350 - 5s - loss: 0.0899 - auroc: 0.9849 - aupr: 0.9421 - val_loss: 0.0744 - val_auroc: 0.9911 - val_aupr: 0.9598\n",
      "Epoch 18/100\n",
      "350/350 - 5s - loss: 0.0892 - auroc: 0.9853 - aupr: 0.9432 - val_loss: 0.0735 - val_auroc: 0.9905 - val_aupr: 0.9597\n",
      "Epoch 19/100\n",
      "350/350 - 5s - loss: 0.0888 - auroc: 0.9853 - aupr: 0.9433 - val_loss: 0.0741 - val_auroc: 0.9910 - val_aupr: 0.9591\n",
      "Epoch 20/100\n",
      "350/350 - 5s - loss: 0.0893 - auroc: 0.9853 - aupr: 0.9429 - val_loss: 0.0723 - val_auroc: 0.9913 - val_aupr: 0.9614\n",
      "Epoch 21/100\n",
      "350/350 - 5s - loss: 0.0888 - auroc: 0.9852 - aupr: 0.9435 - val_loss: 0.0736 - val_auroc: 0.9906 - val_aupr: 0.9603\n",
      "Epoch 22/100\n",
      "350/350 - 5s - loss: 0.0881 - auroc: 0.9854 - aupr: 0.9445 - val_loss: 0.0733 - val_auroc: 0.9909 - val_aupr: 0.9606\n",
      "Epoch 23/100\n",
      "350/350 - 5s - loss: 0.0876 - auroc: 0.9857 - aupr: 0.9451 - val_loss: 0.0730 - val_auroc: 0.9910 - val_aupr: 0.9610\n",
      "Epoch 24/100\n",
      "350/350 - 5s - loss: 0.0872 - auroc: 0.9857 - aupr: 0.9455 - val_loss: 0.0718 - val_auroc: 0.9914 - val_aupr: 0.9614\n",
      "Epoch 25/100\n",
      "350/350 - 5s - loss: 0.0872 - auroc: 0.9857 - aupr: 0.9460 - val_loss: 0.0737 - val_auroc: 0.9906 - val_aupr: 0.9586\n",
      "Epoch 26/100\n",
      "350/350 - 5s - loss: 0.0866 - auroc: 0.9859 - aupr: 0.9466 - val_loss: 0.0729 - val_auroc: 0.9911 - val_aupr: 0.9609\n",
      "Epoch 27/100\n",
      "350/350 - 5s - loss: 0.0857 - auroc: 0.9861 - aupr: 0.9476 - val_loss: 0.0708 - val_auroc: 0.9920 - val_aupr: 0.9628\n",
      "Epoch 28/100\n",
      "350/350 - 5s - loss: 0.0853 - auroc: 0.9863 - aupr: 0.9479 - val_loss: 0.0714 - val_auroc: 0.9912 - val_aupr: 0.9620\n",
      "Epoch 29/100\n",
      "350/350 - 5s - loss: 0.0844 - auroc: 0.9866 - aupr: 0.9488 - val_loss: 0.0735 - val_auroc: 0.9903 - val_aupr: 0.9604\n",
      "Epoch 30/100\n",
      "350/350 - 5s - loss: 0.0845 - auroc: 0.9865 - aupr: 0.9487 - val_loss: 0.0722 - val_auroc: 0.9903 - val_aupr: 0.9617\n",
      "Epoch 31/100\n",
      "350/350 - 5s - loss: 0.0838 - auroc: 0.9866 - aupr: 0.9494 - val_loss: 0.0704 - val_auroc: 0.9913 - val_aupr: 0.9632\n",
      "Epoch 32/100\n",
      "350/350 - 5s - loss: 0.0829 - auroc: 0.9870 - aupr: 0.9507 - val_loss: 0.0718 - val_auroc: 0.9907 - val_aupr: 0.9622\n",
      "Epoch 33/100\n",
      "350/350 - 5s - loss: 0.0822 - auroc: 0.9871 - aupr: 0.9511 - val_loss: 0.0706 - val_auroc: 0.9914 - val_aupr: 0.9632\n",
      "Epoch 34/100\n",
      "350/350 - 5s - loss: 0.0815 - auroc: 0.9873 - aupr: 0.9520 - val_loss: 0.0717 - val_auroc: 0.9912 - val_aupr: 0.9623\n",
      "Epoch 35/100\n",
      "350/350 - 5s - loss: 0.0812 - auroc: 0.9873 - aupr: 0.9525 - val_loss: 0.0701 - val_auroc: 0.9916 - val_aupr: 0.9632\n",
      "Epoch 36/100\n",
      "350/350 - 5s - loss: 0.0812 - auroc: 0.9873 - aupr: 0.9524 - val_loss: 0.0724 - val_auroc: 0.9906 - val_aupr: 0.9611\n",
      "Epoch 37/100\n",
      "350/350 - 5s - loss: 0.0813 - auroc: 0.9873 - aupr: 0.9524 - val_loss: 0.0713 - val_auroc: 0.9911 - val_aupr: 0.9625\n",
      "Epoch 38/100\n",
      "350/350 - 5s - loss: 0.0803 - auroc: 0.9876 - aupr: 0.9533 - val_loss: 0.0694 - val_auroc: 0.9917 - val_aupr: 0.9639\n",
      "Epoch 39/100\n",
      "350/350 - 5s - loss: 0.0799 - auroc: 0.9877 - aupr: 0.9538 - val_loss: 0.0702 - val_auroc: 0.9911 - val_aupr: 0.9632\n",
      "Epoch 40/100\n",
      "350/350 - 5s - loss: 0.0793 - auroc: 0.9879 - aupr: 0.9546 - val_loss: 0.0709 - val_auroc: 0.9911 - val_aupr: 0.9627\n",
      "Epoch 41/100\n",
      "350/350 - 5s - loss: 0.0796 - auroc: 0.9879 - aupr: 0.9541 - val_loss: 0.0699 - val_auroc: 0.9915 - val_aupr: 0.9635\n",
      "Epoch 42/100\n",
      "350/350 - 5s - loss: 0.0784 - auroc: 0.9882 - aupr: 0.9555 - val_loss: 0.0703 - val_auroc: 0.9911 - val_aupr: 0.9630\n",
      "Epoch 43/100\n",
      "350/350 - 5s - loss: 0.0782 - auroc: 0.9881 - aupr: 0.9556 - val_loss: 0.0704 - val_auroc: 0.9908 - val_aupr: 0.9632\n",
      "Epoch 44/100\n",
      "350/350 - 5s - loss: 0.0779 - auroc: 0.9883 - aupr: 0.9559 - val_loss: 0.0699 - val_auroc: 0.9910 - val_aupr: 0.9636\n",
      "Epoch 45/100\n",
      "350/350 - 5s - loss: 0.0770 - auroc: 0.9884 - aupr: 0.9569 - val_loss: 0.0697 - val_auroc: 0.9912 - val_aupr: 0.9639\n",
      "Epoch 46/100\n",
      "350/350 - 5s - loss: 0.0774 - auroc: 0.9882 - aupr: 0.9567 - val_loss: 0.0711 - val_auroc: 0.9903 - val_aupr: 0.9621\n",
      "Epoch 47/100\n",
      "350/350 - 5s - loss: 0.0770 - auroc: 0.9884 - aupr: 0.9570 - val_loss: 0.0701 - val_auroc: 0.9907 - val_aupr: 0.9634\n",
      "Epoch 48/100\n",
      "\n",
      "Epoch 00048: ReduceLROnPlateau reducing learning rate to 0.00020000000949949026.\n",
      "350/350 - 5s - loss: 0.0764 - auroc: 0.9886 - aupr: 0.9577 - val_loss: 0.0704 - val_auroc: 0.9910 - val_aupr: 0.9629\n",
      "Epoch 49/100\n",
      "350/350 - 5s - loss: 0.0733 - auroc: 0.9895 - aupr: 0.9609 - val_loss: 0.0685 - val_auroc: 0.9916 - val_aupr: 0.9650\n",
      "Epoch 50/100\n",
      "350/350 - 5s - loss: 0.0725 - auroc: 0.9896 - aupr: 0.9614 - val_loss: 0.0687 - val_auroc: 0.9918 - val_aupr: 0.9647\n",
      "Epoch 51/100\n",
      "350/350 - 5s - loss: 0.0721 - auroc: 0.9897 - aupr: 0.9619 - val_loss: 0.0684 - val_auroc: 0.9917 - val_aupr: 0.9650\n",
      "Epoch 52/100\n",
      "350/350 - 5s - loss: 0.0718 - auroc: 0.9899 - aupr: 0.9621 - val_loss: 0.0688 - val_auroc: 0.9916 - val_aupr: 0.9644\n",
      "Epoch 53/100\n",
      "350/350 - 5s - loss: 0.0717 - auroc: 0.9898 - aupr: 0.9625 - val_loss: 0.0687 - val_auroc: 0.9916 - val_aupr: 0.9646\n",
      "Epoch 54/100\n",
      "350/350 - 5s - loss: 0.0713 - auroc: 0.9901 - aupr: 0.9628 - val_loss: 0.0687 - val_auroc: 0.9917 - val_aupr: 0.9646\n",
      "Epoch 55/100\n",
      "350/350 - 5s - loss: 0.0709 - auroc: 0.9900 - aupr: 0.9630 - val_loss: 0.0688 - val_auroc: 0.9915 - val_aupr: 0.9644\n",
      "Epoch 56/100\n",
      "350/350 - 5s - loss: 0.0703 - auroc: 0.9902 - aupr: 0.9638 - val_loss: 0.0688 - val_auroc: 0.9913 - val_aupr: 0.9646\n",
      "Epoch 57/100\n",
      "350/350 - 5s - loss: 0.0713 - auroc: 0.9899 - aupr: 0.9627 - val_loss: 0.0690 - val_auroc: 0.9915 - val_aupr: 0.9641\n",
      "Epoch 58/100\n",
      "350/350 - 5s - loss: 0.0706 - auroc: 0.9900 - aupr: 0.9634 - val_loss: 0.0687 - val_auroc: 0.9913 - val_aupr: 0.9644\n",
      "Epoch 59/100\n",
      "\n",
      "Epoch 00059: ReduceLROnPlateau reducing learning rate to 4.0000001899898055e-05.\n",
      "350/350 - 5s - loss: 0.0706 - auroc: 0.9899 - aupr: 0.9634 - val_loss: 0.0690 - val_auroc: 0.9911 - val_aupr: 0.9642\n",
      "Epoch 60/100\n",
      "350/350 - 5s - loss: 0.0700 - auroc: 0.9901 - aupr: 0.9641 - val_loss: 0.0688 - val_auroc: 0.9914 - val_aupr: 0.9645\n",
      "Epoch 61/100\n",
      "350/350 - 5s - loss: 0.0701 - auroc: 0.9902 - aupr: 0.9639 - val_loss: 0.0687 - val_auroc: 0.9915 - val_aupr: 0.9645\n",
      "Epoch 62/100\n",
      "350/350 - 5s - loss: 0.0695 - auroc: 0.9905 - aupr: 0.9645 - val_loss: 0.0688 - val_auroc: 0.9914 - val_aupr: 0.9645\n"
     ]
    },
    {
     "name": "stdout",
     "output_type": "stream",
     "text": [
      "Epoch 63/100\n",
      "350/350 - 5s - loss: 0.0694 - auroc: 0.9904 - aupr: 0.9646 - val_loss: 0.0688 - val_auroc: 0.9915 - val_aupr: 0.9645\n",
      "Epoch 64/100\n",
      "350/350 - 5s - loss: 0.0695 - auroc: 0.9904 - aupr: 0.9645 - val_loss: 0.0688 - val_auroc: 0.9915 - val_aupr: 0.9644\n",
      "Epoch 65/100\n",
      "350/350 - 5s - loss: 0.0702 - auroc: 0.9900 - aupr: 0.9638 - val_loss: 0.0688 - val_auroc: 0.9914 - val_aupr: 0.9644\n",
      "Epoch 66/100\n",
      "Restoring model weights from the end of the best epoch.\n",
      "350/350 - 5s - loss: 0.0692 - auroc: 0.9905 - aupr: 0.9647 - val_loss: 0.0687 - val_auroc: 0.9914 - val_aupr: 0.9645\n",
      "Epoch 00066: early stopping\n",
      "625/625 [==============================] - 1s 2ms/step - loss: 0.0686 - auroc: 0.9911 - aupr: 0.9643\n",
      "generated PPMs\n",
      "TomTom TPR:  0.9375\n",
      "TomTom FPR:  0.0\n",
      "Motif coverage:  1.0\n",
      "completed TomTom analysis\n",
      "completed clustering\n"
     ]
    },
    {
     "name": "stderr",
     "output_type": "stream",
     "text": [
      "/home/koolab/Documents/GLIFAC/Code/glifac.py:108: FutureWarning: Using a non-tuple sequence for multidimensional indexing is deprecated; use `arr[tuple(seq)]` instead of `arr[seq]`. In the future this will be interpreted as an array index, `arr[np.array(seq)]`, which will result either in an error or a different result.\n",
      "  filter_interactions = feature_maps[position_pairs].transpose([1, 2, 0])\n",
      "/home/koolab/Documents/GLIFAC/Code/glifac.py:46: FutureWarning: Using a non-tuple sequence for multidimensional indexing is deprecated; use `arr[tuple(seq)]` instead of `arr[seq]`. In the future this will be interpreted as an array index, `arr[np.array(seq)]`, which will result either in an error or a different result.\n",
      "  filter_interactions_values = correlation_matrix[ind.transpose().tolist()]\n"
     ]
    },
    {
     "name": "stdout",
     "output_type": "stream",
     "text": [
      "0.0  | AUROC: 0.9986527532823828  | AUPR: 0.9999162057985588  | SNR: 4.726062429091313\n"
     ]
    },
    {
     "name": "stderr",
     "output_type": "stream",
     "text": [
      "/home/koolab/Documents/GLIFAC/Code/glifac.py:108: FutureWarning: Using a non-tuple sequence for multidimensional indexing is deprecated; use `arr[tuple(seq)]` instead of `arr[seq]`. In the future this will be interpreted as an array index, `arr[np.array(seq)]`, which will result either in an error or a different result.\n",
      "  filter_interactions = feature_maps[position_pairs].transpose([1, 2, 0])\n",
      "/home/koolab/Documents/GLIFAC/Code/glifac.py:46: FutureWarning: Using a non-tuple sequence for multidimensional indexing is deprecated; use `arr[tuple(seq)]` instead of `arr[seq]`. In the future this will be interpreted as an array index, `arr[np.array(seq)]`, which will result either in an error or a different result.\n",
      "  filter_interactions_values = correlation_matrix[ind.transpose().tolist()]\n"
     ]
    },
    {
     "name": "stdout",
     "output_type": "stream",
     "text": [
      "0.1  | AUROC: 0.40990319143775705  | AUPR: 0.8214345567286744  | SNR: 2.514450423334385\n"
     ]
    },
    {
     "name": "stderr",
     "output_type": "stream",
     "text": [
      "/home/koolab/Documents/GLIFAC/Code/glifac.py:108: FutureWarning: Using a non-tuple sequence for multidimensional indexing is deprecated; use `arr[tuple(seq)]` instead of `arr[seq]`. In the future this will be interpreted as an array index, `arr[np.array(seq)]`, which will result either in an error or a different result.\n",
      "  filter_interactions = feature_maps[position_pairs].transpose([1, 2, 0])\n",
      "/home/koolab/Documents/GLIFAC/Code/glifac.py:28: RuntimeWarning: invalid value encountered in float_scalars\n",
      "  return top/bottom\n",
      "/home/koolab/Documents/GLIFAC/Code/glifac.py:46: FutureWarning: Using a non-tuple sequence for multidimensional indexing is deprecated; use `arr[tuple(seq)]` instead of `arr[seq]`. In the future this will be interpreted as an array index, `arr[np.array(seq)]`, which will result either in an error or a different result.\n",
      "  filter_interactions_values = correlation_matrix[ind.transpose().tolist()]\n"
     ]
    },
    {
     "name": "stdout",
     "output_type": "stream",
     "text": [
      "0.2  | AUROC: 0.2856708781309723  | AUPR: 0.7470253058488352  | SNR: 1.8738861298921186\n"
     ]
    },
    {
     "name": "stderr",
     "output_type": "stream",
     "text": [
      "/home/koolab/Documents/GLIFAC/Code/glifac.py:108: FutureWarning: Using a non-tuple sequence for multidimensional indexing is deprecated; use `arr[tuple(seq)]` instead of `arr[seq]`. In the future this will be interpreted as an array index, `arr[np.array(seq)]`, which will result either in an error or a different result.\n",
      "  filter_interactions = feature_maps[position_pairs].transpose([1, 2, 0])\n",
      "/home/koolab/Documents/GLIFAC/Code/glifac.py:28: RuntimeWarning: invalid value encountered in float_scalars\n",
      "  return top/bottom\n",
      "/home/koolab/Documents/GLIFAC/Code/glifac.py:46: FutureWarning: Using a non-tuple sequence for multidimensional indexing is deprecated; use `arr[tuple(seq)]` instead of `arr[seq]`. In the future this will be interpreted as an array index, `arr[np.array(seq)]`, which will result either in an error or a different result.\n",
      "  filter_interactions_values = correlation_matrix[ind.transpose().tolist()]\n"
     ]
    },
    {
     "name": "stdout",
     "output_type": "stream",
     "text": [
      "0.3  | AUROC: 0.174317108206336  | AUPR: 0.6446287916876152  | SNR: 0.926590117136759\n"
     ]
    },
    {
     "name": "stderr",
     "output_type": "stream",
     "text": [
      "/home/koolab/Documents/GLIFAC/Code/glifac.py:108: FutureWarning: Using a non-tuple sequence for multidimensional indexing is deprecated; use `arr[tuple(seq)]` instead of `arr[seq]`. In the future this will be interpreted as an array index, `arr[np.array(seq)]`, which will result either in an error or a different result.\n",
      "  filter_interactions = feature_maps[position_pairs].transpose([1, 2, 0])\n",
      "/home/koolab/Documents/GLIFAC/Code/glifac.py:28: RuntimeWarning: invalid value encountered in float_scalars\n",
      "  return top/bottom\n",
      "/home/koolab/Documents/GLIFAC/Code/glifac.py:46: FutureWarning: Using a non-tuple sequence for multidimensional indexing is deprecated; use `arr[tuple(seq)]` instead of `arr[seq]`. In the future this will be interpreted as an array index, `arr[np.array(seq)]`, which will result either in an error or a different result.\n",
      "  filter_interactions_values = correlation_matrix[ind.transpose().tolist()]\n"
     ]
    },
    {
     "name": "stdout",
     "output_type": "stream",
     "text": [
      "0.4  | AUROC: 0.13960356210418565  | AUPR: 0.6346572817161051  | SNR: 0.6492429348277128\n"
     ]
    },
    {
     "name": "stderr",
     "output_type": "stream",
     "text": [
      "/home/koolab/Documents/GLIFAC/Code/glifac.py:108: FutureWarning: Using a non-tuple sequence for multidimensional indexing is deprecated; use `arr[tuple(seq)]` instead of `arr[seq]`. In the future this will be interpreted as an array index, `arr[np.array(seq)]`, which will result either in an error or a different result.\n",
      "  filter_interactions = feature_maps[position_pairs].transpose([1, 2, 0])\n",
      "/home/koolab/Documents/GLIFAC/Code/glifac.py:28: RuntimeWarning: invalid value encountered in float_scalars\n",
      "  return top/bottom\n",
      "/home/koolab/Documents/GLIFAC/Code/glifac.py:46: FutureWarning: Using a non-tuple sequence for multidimensional indexing is deprecated; use `arr[tuple(seq)]` instead of `arr[seq]`. In the future this will be interpreted as an array index, `arr[np.array(seq)]`, which will result either in an error or a different result.\n",
      "  filter_interactions_values = correlation_matrix[ind.transpose().tolist()]\n"
     ]
    },
    {
     "name": "stdout",
     "output_type": "stream",
     "text": [
      "0.5  | AUROC: 0.12032346976439731  | AUPR: 0.6602983073571309  | SNR: 0.5045771326610784\n"
     ]
    },
    {
     "name": "stderr",
     "output_type": "stream",
     "text": [
      "/home/koolab/Documents/GLIFAC/Code/glifac.py:108: FutureWarning: Using a non-tuple sequence for multidimensional indexing is deprecated; use `arr[tuple(seq)]` instead of `arr[seq]`. In the future this will be interpreted as an array index, `arr[np.array(seq)]`, which will result either in an error or a different result.\n",
      "  filter_interactions = feature_maps[position_pairs].transpose([1, 2, 0])\n",
      "/home/koolab/Documents/GLIFAC/Code/glifac.py:28: RuntimeWarning: invalid value encountered in float_scalars\n",
      "  return top/bottom\n",
      "/home/koolab/Documents/GLIFAC/Code/glifac.py:46: FutureWarning: Using a non-tuple sequence for multidimensional indexing is deprecated; use `arr[tuple(seq)]` instead of `arr[seq]`. In the future this will be interpreted as an array index, `arr[np.array(seq)]`, which will result either in an error or a different result.\n",
      "  filter_interactions_values = correlation_matrix[ind.transpose().tolist()]\n"
     ]
    },
    {
     "name": "stdout",
     "output_type": "stream",
     "text": [
      "0.6  | AUROC: 0.07093732834246388  | AUPR: 0.5065359477124183  | SNR: 0.14578370889844544\n"
     ]
    },
    {
     "name": "stderr",
     "output_type": "stream",
     "text": [
      "/home/koolab/Documents/GLIFAC/Code/glifac.py:108: FutureWarning: Using a non-tuple sequence for multidimensional indexing is deprecated; use `arr[tuple(seq)]` instead of `arr[seq]`. In the future this will be interpreted as an array index, `arr[np.array(seq)]`, which will result either in an error or a different result.\n",
      "  filter_interactions = feature_maps[position_pairs].transpose([1, 2, 0])\n",
      "/home/koolab/Documents/GLIFAC/Code/glifac.py:28: RuntimeWarning: invalid value encountered in float_scalars\n",
      "  return top/bottom\n",
      "/home/koolab/Documents/GLIFAC/Code/glifac.py:46: FutureWarning: Using a non-tuple sequence for multidimensional indexing is deprecated; use `arr[tuple(seq)]` instead of `arr[seq]`. In the future this will be interpreted as an array index, `arr[np.array(seq)]`, which will result either in an error or a different result.\n",
      "  filter_interactions_values = correlation_matrix[ind.transpose().tolist()]\n"
     ]
    },
    {
     "name": "stdout",
     "output_type": "stream",
     "text": [
      "0.7  | AUROC: 0.07151528680822967  | AUPR: 0.49480475951064196  | SNR: 0.1418898118194859\n"
     ]
    },
    {
     "name": "stderr",
     "output_type": "stream",
     "text": [
      "/home/koolab/Documents/GLIFAC/Code/glifac.py:108: FutureWarning: Using a non-tuple sequence for multidimensional indexing is deprecated; use `arr[tuple(seq)]` instead of `arr[seq]`. In the future this will be interpreted as an array index, `arr[np.array(seq)]`, which will result either in an error or a different result.\n",
      "  filter_interactions = feature_maps[position_pairs].transpose([1, 2, 0])\n",
      "/home/koolab/Documents/GLIFAC/Code/glifac.py:28: RuntimeWarning: invalid value encountered in float_scalars\n",
      "  return top/bottom\n",
      "/home/koolab/Documents/GLIFAC/Code/glifac.py:46: FutureWarning: Using a non-tuple sequence for multidimensional indexing is deprecated; use `arr[tuple(seq)]` instead of `arr[seq]`. In the future this will be interpreted as an array index, `arr[np.array(seq)]`, which will result either in an error or a different result.\n",
      "  filter_interactions_values = correlation_matrix[ind.transpose().tolist()]\n"
     ]
    },
    {
     "name": "stdout",
     "output_type": "stream",
     "text": [
      "0.8  | AUROC: 0.0710487014128365  | AUPR: 0.4697502932797051  | SNR: 0.20747549182298536\n"
     ]
    },
    {
     "name": "stderr",
     "output_type": "stream",
     "text": [
      "/home/koolab/Documents/GLIFAC/Code/glifac.py:108: FutureWarning: Using a non-tuple sequence for multidimensional indexing is deprecated; use `arr[tuple(seq)]` instead of `arr[seq]`. In the future this will be interpreted as an array index, `arr[np.array(seq)]`, which will result either in an error or a different result.\n",
      "  filter_interactions = feature_maps[position_pairs].transpose([1, 2, 0])\n",
      "/home/koolab/Documents/GLIFAC/Code/glifac.py:28: RuntimeWarning: invalid value encountered in float_scalars\n",
      "  return top/bottom\n",
      "/home/koolab/Documents/GLIFAC/Code/glifac.py:46: FutureWarning: Using a non-tuple sequence for multidimensional indexing is deprecated; use `arr[tuple(seq)]` instead of `arr[seq]`. In the future this will be interpreted as an array index, `arr[np.array(seq)]`, which will result either in an error or a different result.\n",
      "  filter_interactions_values = correlation_matrix[ind.transpose().tolist()]\n"
     ]
    },
    {
     "name": "stdout",
     "output_type": "stream",
     "text": [
      "0.9  | AUROC: 0.09263446045706761  | AUPR: 0.5651080945198592  | SNR: 0.304278067137332\n",
      "finished correlation interpretability\n",
      "saved statistics\n",
      "saved filters\n"
     ]
    },
    {
     "name": "stderr",
     "output_type": "stream",
     "text": [
      "/home/koolab/Documents/GLIFAC/Code/glifac_pipeline.py:297: MatplotlibDeprecationWarning: savefig() got unexpected keyword argument \"box_inches\" which is no longer supported as of 3.3 and will become an error two minor releases later\n",
      "  fig.savefig(glifac_dir, format='pdf', dpi=300, box_inches='tight')\n"
     ]
    },
    {
     "name": "stdout",
     "output_type": "stream",
     "text": [
      "saved glifac\n",
      "Epoch 1/100\n",
      "350/350 - 5s - loss: 0.3079 - auroc: 0.8198 - aupr: 0.5158 - val_loss: 0.2816 - val_auroc: 0.9478 - val_aupr: 0.7883\n",
      "Epoch 2/100\n",
      "350/350 - 5s - loss: 0.1376 - auroc: 0.9692 - aupr: 0.8808 - val_loss: 0.1089 - val_auroc: 0.9849 - val_aupr: 0.9328\n",
      "Epoch 3/100\n",
      "350/350 - 5s - loss: 0.1090 - auroc: 0.9797 - aupr: 0.9205 - val_loss: 0.0961 - val_auroc: 0.9840 - val_aupr: 0.9379\n",
      "Epoch 4/100\n",
      "350/350 - 5s - loss: 0.1011 - auroc: 0.9822 - aupr: 0.9299 - val_loss: 0.0819 - val_auroc: 0.9885 - val_aupr: 0.9526\n",
      "Epoch 5/100\n",
      "350/350 - 5s - loss: 0.0977 - auroc: 0.9833 - aupr: 0.9336 - val_loss: 0.0815 - val_auroc: 0.9888 - val_aupr: 0.9513\n",
      "Epoch 6/100\n",
      "350/350 - 5s - loss: 0.0956 - auroc: 0.9839 - aupr: 0.9362 - val_loss: 0.0913 - val_auroc: 0.9848 - val_aupr: 0.9411\n",
      "Epoch 7/100\n",
      "350/350 - 5s - loss: 0.0945 - auroc: 0.9842 - aupr: 0.9373 - val_loss: 0.0766 - val_auroc: 0.9893 - val_aupr: 0.9566\n",
      "Epoch 8/100\n",
      "350/350 - 5s - loss: 0.0929 - auroc: 0.9846 - aupr: 0.9390 - val_loss: 0.0812 - val_auroc: 0.9901 - val_aupr: 0.9570\n",
      "Epoch 9/100\n",
      "350/350 - 5s - loss: 0.0924 - auroc: 0.9847 - aupr: 0.9397 - val_loss: 0.0766 - val_auroc: 0.9892 - val_aupr: 0.9568\n",
      "Epoch 10/100\n",
      "350/350 - 5s - loss: 0.0915 - auroc: 0.9850 - aupr: 0.9406 - val_loss: 0.0788 - val_auroc: 0.9897 - val_aupr: 0.9531\n",
      "Epoch 11/100\n",
      "350/350 - 5s - loss: 0.0921 - auroc: 0.9846 - aupr: 0.9400 - val_loss: 0.0813 - val_auroc: 0.9891 - val_aupr: 0.9556\n",
      "Epoch 12/100\n",
      "350/350 - 5s - loss: 0.0908 - auroc: 0.9850 - aupr: 0.9416 - val_loss: 0.0744 - val_auroc: 0.9902 - val_aupr: 0.9596\n",
      "Epoch 13/100\n",
      "350/350 - 5s - loss: 0.0900 - auroc: 0.9852 - aupr: 0.9424 - val_loss: 0.0768 - val_auroc: 0.9898 - val_aupr: 0.9550\n",
      "Epoch 14/100\n",
      "350/350 - 5s - loss: 0.0881 - auroc: 0.9855 - aupr: 0.9440 - val_loss: 0.0753 - val_auroc: 0.9903 - val_aupr: 0.9582\n",
      "Epoch 15/100\n",
      "350/350 - 5s - loss: 0.0874 - auroc: 0.9859 - aupr: 0.9449 - val_loss: 0.0734 - val_auroc: 0.9897 - val_aupr: 0.9589\n",
      "Epoch 16/100\n",
      "350/350 - 5s - loss: 0.0873 - auroc: 0.9858 - aupr: 0.9451 - val_loss: 0.0731 - val_auroc: 0.9905 - val_aupr: 0.9597\n",
      "Epoch 17/100\n",
      "350/350 - 5s - loss: 0.0861 - auroc: 0.9862 - aupr: 0.9464 - val_loss: 0.0720 - val_auroc: 0.9916 - val_aupr: 0.9611\n",
      "Epoch 18/100\n",
      "350/350 - 5s - loss: 0.0862 - auroc: 0.9864 - aupr: 0.9461 - val_loss: 0.0751 - val_auroc: 0.9901 - val_aupr: 0.9579\n",
      "Epoch 19/100\n",
      "350/350 - 5s - loss: 0.0865 - auroc: 0.9860 - aupr: 0.9459 - val_loss: 0.0717 - val_auroc: 0.9915 - val_aupr: 0.9619\n",
      "Epoch 20/100\n",
      "350/350 - 5s - loss: 0.0863 - auroc: 0.9861 - aupr: 0.9460 - val_loss: 0.0749 - val_auroc: 0.9911 - val_aupr: 0.9600\n",
      "Epoch 21/100\n",
      "350/350 - 5s - loss: 0.0861 - auroc: 0.9862 - aupr: 0.9462 - val_loss: 0.0720 - val_auroc: 0.9910 - val_aupr: 0.9619\n",
      "Epoch 22/100\n",
      "350/350 - 5s - loss: 0.0847 - auroc: 0.9867 - aupr: 0.9478 - val_loss: 0.0721 - val_auroc: 0.9904 - val_aupr: 0.9612\n",
      "Epoch 23/100\n",
      "350/350 - 5s - loss: 0.0846 - auroc: 0.9866 - aupr: 0.9480 - val_loss: 0.0726 - val_auroc: 0.9906 - val_aupr: 0.9602\n",
      "Epoch 24/100\n",
      "350/350 - 5s - loss: 0.0847 - auroc: 0.9866 - aupr: 0.9481 - val_loss: 0.0727 - val_auroc: 0.9910 - val_aupr: 0.9612\n",
      "Epoch 25/100\n",
      "350/350 - 5s - loss: 0.0836 - auroc: 0.9869 - aupr: 0.9493 - val_loss: 0.0713 - val_auroc: 0.9916 - val_aupr: 0.9626\n",
      "Epoch 26/100\n",
      "350/350 - 5s - loss: 0.0834 - auroc: 0.9868 - aupr: 0.9495 - val_loss: 0.0715 - val_auroc: 0.9916 - val_aupr: 0.9629\n",
      "Epoch 27/100\n",
      "350/350 - 5s - loss: 0.0831 - auroc: 0.9870 - aupr: 0.9497 - val_loss: 0.0721 - val_auroc: 0.9908 - val_aupr: 0.9618\n",
      "Epoch 28/100\n",
      "350/350 - 5s - loss: 0.0821 - auroc: 0.9875 - aupr: 0.9512 - val_loss: 0.0711 - val_auroc: 0.9914 - val_aupr: 0.9630\n",
      "Epoch 29/100\n",
      "350/350 - 5s - loss: 0.0819 - auroc: 0.9874 - aupr: 0.9511 - val_loss: 0.0702 - val_auroc: 0.9917 - val_aupr: 0.9623\n",
      "Epoch 30/100\n",
      "350/350 - 5s - loss: 0.0814 - auroc: 0.9877 - aupr: 0.9518 - val_loss: 0.0705 - val_auroc: 0.9916 - val_aupr: 0.9625\n",
      "Epoch 31/100\n",
      "350/350 - 5s - loss: 0.0806 - auroc: 0.9878 - aupr: 0.9525 - val_loss: 0.0699 - val_auroc: 0.9915 - val_aupr: 0.9629\n",
      "Epoch 32/100\n",
      "350/350 - 5s - loss: 0.0802 - auroc: 0.9880 - aupr: 0.9531 - val_loss: 0.0728 - val_auroc: 0.9909 - val_aupr: 0.9602\n",
      "Epoch 33/100\n",
      "350/350 - 5s - loss: 0.0801 - auroc: 0.9879 - aupr: 0.9532 - val_loss: 0.0697 - val_auroc: 0.9919 - val_aupr: 0.9636\n",
      "Epoch 34/100\n",
      "350/350 - 5s - loss: 0.0791 - auroc: 0.9881 - aupr: 0.9542 - val_loss: 0.0700 - val_auroc: 0.9917 - val_aupr: 0.9629\n",
      "Epoch 35/100\n",
      "350/350 - 5s - loss: 0.0787 - auroc: 0.9883 - aupr: 0.9546 - val_loss: 0.0691 - val_auroc: 0.9922 - val_aupr: 0.9647\n",
      "Epoch 36/100\n",
      "350/350 - 5s - loss: 0.0787 - auroc: 0.9883 - aupr: 0.9547 - val_loss: 0.0698 - val_auroc: 0.9917 - val_aupr: 0.9628\n",
      "Epoch 37/100\n",
      "350/350 - 5s - loss: 0.0778 - auroc: 0.9885 - aupr: 0.9555 - val_loss: 0.0693 - val_auroc: 0.9915 - val_aupr: 0.9633\n",
      "Epoch 38/100\n",
      "350/350 - 5s - loss: 0.0781 - auroc: 0.9884 - aupr: 0.9554 - val_loss: 0.0699 - val_auroc: 0.9916 - val_aupr: 0.9627\n",
      "Epoch 39/100\n",
      "350/350 - 5s - loss: 0.0768 - auroc: 0.9887 - aupr: 0.9567 - val_loss: 0.0701 - val_auroc: 0.9913 - val_aupr: 0.9632\n",
      "Epoch 40/100\n",
      "350/350 - 5s - loss: 0.0763 - auroc: 0.9889 - aupr: 0.9573 - val_loss: 0.0693 - val_auroc: 0.9917 - val_aupr: 0.9632\n",
      "Epoch 41/100\n",
      "350/350 - 5s - loss: 0.0758 - auroc: 0.9891 - aupr: 0.9579 - val_loss: 0.0690 - val_auroc: 0.9917 - val_aupr: 0.9636\n",
      "Epoch 42/100\n",
      "350/350 - 5s - loss: 0.0764 - auroc: 0.9888 - aupr: 0.9574 - val_loss: 0.0699 - val_auroc: 0.9917 - val_aupr: 0.9626\n",
      "Epoch 43/100\n",
      "350/350 - 5s - loss: 0.0755 - auroc: 0.9891 - aupr: 0.9582 - val_loss: 0.0694 - val_auroc: 0.9918 - val_aupr: 0.9629\n",
      "Epoch 44/100\n",
      "350/350 - 5s - loss: 0.0746 - auroc: 0.9894 - aupr: 0.9593 - val_loss: 0.0692 - val_auroc: 0.9919 - val_aupr: 0.9634\n",
      "Epoch 45/100\n",
      "350/350 - 5s - loss: 0.0753 - auroc: 0.9890 - aupr: 0.9586 - val_loss: 0.0692 - val_auroc: 0.9919 - val_aupr: 0.9633\n",
      "Epoch 46/100\n",
      "350/350 - 5s - loss: 0.0740 - auroc: 0.9896 - aupr: 0.9598 - val_loss: 0.0703 - val_auroc: 0.9912 - val_aupr: 0.9622\n",
      "Epoch 47/100\n",
      "350/350 - 5s - loss: 0.0739 - auroc: 0.9894 - aupr: 0.9600 - val_loss: 0.0695 - val_auroc: 0.9915 - val_aupr: 0.9629\n",
      "Epoch 48/100\n",
      "350/350 - 5s - loss: 0.0731 - auroc: 0.9898 - aupr: 0.9605 - val_loss: 0.0704 - val_auroc: 0.9907 - val_aupr: 0.9624\n",
      "Epoch 49/100\n",
      "350/350 - 5s - loss: 0.0729 - auroc: 0.9897 - aupr: 0.9608 - val_loss: 0.0693 - val_auroc: 0.9914 - val_aupr: 0.9629\n",
      "Epoch 50/100\n",
      "350/350 - 5s - loss: 0.0723 - auroc: 0.9898 - aupr: 0.9616 - val_loss: 0.0692 - val_auroc: 0.9913 - val_aupr: 0.9628\n",
      "Epoch 51/100\n",
      "\n",
      "Epoch 00051: ReduceLROnPlateau reducing learning rate to 0.00020000000949949026.\n",
      "350/350 - 5s - loss: 0.0724 - auroc: 0.9898 - aupr: 0.9614 - val_loss: 0.0700 - val_auroc: 0.9913 - val_aupr: 0.9625\n",
      "Epoch 52/100\n",
      "350/350 - 5s - loss: 0.0689 - auroc: 0.9908 - aupr: 0.9648 - val_loss: 0.0683 - val_auroc: 0.9915 - val_aupr: 0.9641\n",
      "Epoch 53/100\n",
      "350/350 - 5s - loss: 0.0687 - auroc: 0.9907 - aupr: 0.9650 - val_loss: 0.0681 - val_auroc: 0.9915 - val_aupr: 0.9642\n",
      "Epoch 54/100\n",
      "350/350 - 5s - loss: 0.0680 - auroc: 0.9910 - aupr: 0.9658 - val_loss: 0.0681 - val_auroc: 0.9917 - val_aupr: 0.9642\n",
      "Epoch 55/100\n",
      "350/350 - 5s - loss: 0.0675 - auroc: 0.9911 - aupr: 0.9663 - val_loss: 0.0680 - val_auroc: 0.9919 - val_aupr: 0.9643\n",
      "Epoch 56/100\n",
      "350/350 - 5s - loss: 0.0674 - auroc: 0.9911 - aupr: 0.9662 - val_loss: 0.0684 - val_auroc: 0.9917 - val_aupr: 0.9639\n",
      "Epoch 57/100\n",
      "350/350 - 5s - loss: 0.0676 - auroc: 0.9909 - aupr: 0.9661 - val_loss: 0.0682 - val_auroc: 0.9914 - val_aupr: 0.9640\n",
      "Epoch 58/100\n",
      "350/350 - 5s - loss: 0.0669 - auroc: 0.9912 - aupr: 0.9667 - val_loss: 0.0682 - val_auroc: 0.9914 - val_aupr: 0.9638\n",
      "Epoch 59/100\n",
      "350/350 - 5s - loss: 0.0673 - auroc: 0.9911 - aupr: 0.9662 - val_loss: 0.0685 - val_auroc: 0.9915 - val_aupr: 0.9638\n",
      "Epoch 60/100\n",
      "350/350 - 5s - loss: 0.0668 - auroc: 0.9912 - aupr: 0.9667 - val_loss: 0.0684 - val_auroc: 0.9916 - val_aupr: 0.9640\n",
      "Epoch 61/100\n",
      "350/350 - 5s - loss: 0.0662 - auroc: 0.9914 - aupr: 0.9674 - val_loss: 0.0683 - val_auroc: 0.9917 - val_aupr: 0.9639\n",
      "Epoch 62/100\n",
      "350/350 - 5s - loss: 0.0663 - auroc: 0.9913 - aupr: 0.9674 - val_loss: 0.0687 - val_auroc: 0.9915 - val_aupr: 0.9633\n",
      "Epoch 63/100\n",
      "350/350 - 5s - loss: 0.0660 - auroc: 0.9913 - aupr: 0.9675 - val_loss: 0.0687 - val_auroc: 0.9913 - val_aupr: 0.9638\n"
     ]
    },
    {
     "name": "stdout",
     "output_type": "stream",
     "text": [
      "Epoch 64/100\n",
      "350/350 - 5s - loss: 0.0662 - auroc: 0.9912 - aupr: 0.9672 - val_loss: 0.0686 - val_auroc: 0.9912 - val_aupr: 0.9636\n",
      "Epoch 65/100\n",
      "\n",
      "Epoch 00065: ReduceLROnPlateau reducing learning rate to 4.0000001899898055e-05.\n",
      "350/350 - 5s - loss: 0.0658 - auroc: 0.9915 - aupr: 0.9679 - val_loss: 0.0689 - val_auroc: 0.9914 - val_aupr: 0.9633\n",
      "Epoch 66/100\n",
      "350/350 - 5s - loss: 0.0655 - auroc: 0.9915 - aupr: 0.9681 - val_loss: 0.0686 - val_auroc: 0.9913 - val_aupr: 0.9635\n",
      "Epoch 67/100\n",
      "350/350 - 5s - loss: 0.0657 - auroc: 0.9915 - aupr: 0.9679 - val_loss: 0.0686 - val_auroc: 0.9912 - val_aupr: 0.9634\n",
      "Epoch 68/100\n",
      "350/350 - 5s - loss: 0.0651 - auroc: 0.9916 - aupr: 0.9683 - val_loss: 0.0685 - val_auroc: 0.9912 - val_aupr: 0.9635\n",
      "Epoch 69/100\n",
      "350/350 - 5s - loss: 0.0649 - auroc: 0.9916 - aupr: 0.9686 - val_loss: 0.0685 - val_auroc: 0.9912 - val_aupr: 0.9635\n",
      "Epoch 70/100\n",
      "Restoring model weights from the end of the best epoch.\n",
      "350/350 - 5s - loss: 0.0648 - auroc: 0.9918 - aupr: 0.9685 - val_loss: 0.0686 - val_auroc: 0.9911 - val_aupr: 0.9635\n",
      "Epoch 00070: early stopping\n",
      "625/625 [==============================] - 1s 2ms/step - loss: 0.0684 - auroc: 0.9915 - aupr: 0.9648\n",
      "generated PPMs\n",
      "TomTom TPR:  0.96875\n",
      "TomTom FPR:  0.0\n",
      "Motif coverage:  1.0\n",
      "completed TomTom analysis\n",
      "completed clustering\n"
     ]
    },
    {
     "name": "stderr",
     "output_type": "stream",
     "text": [
      "/home/koolab/Documents/GLIFAC/Code/glifac.py:108: FutureWarning: Using a non-tuple sequence for multidimensional indexing is deprecated; use `arr[tuple(seq)]` instead of `arr[seq]`. In the future this will be interpreted as an array index, `arr[np.array(seq)]`, which will result either in an error or a different result.\n",
      "  filter_interactions = feature_maps[position_pairs].transpose([1, 2, 0])\n",
      "/home/koolab/Documents/GLIFAC/Code/glifac.py:46: FutureWarning: Using a non-tuple sequence for multidimensional indexing is deprecated; use `arr[tuple(seq)]` instead of `arr[seq]`. In the future this will be interpreted as an array index, `arr[np.array(seq)]`, which will result either in an error or a different result.\n",
      "  filter_interactions_values = correlation_matrix[ind.transpose().tolist()]\n"
     ]
    },
    {
     "name": "stdout",
     "output_type": "stream",
     "text": [
      "0.0  | AUROC: 0.9864858032282566  | AUPR: 0.99916476841306  | SNR: 4.612835446234915\n"
     ]
    },
    {
     "name": "stderr",
     "output_type": "stream",
     "text": [
      "/home/koolab/Documents/GLIFAC/Code/glifac.py:108: FutureWarning: Using a non-tuple sequence for multidimensional indexing is deprecated; use `arr[tuple(seq)]` instead of `arr[seq]`. In the future this will be interpreted as an array index, `arr[np.array(seq)]`, which will result either in an error or a different result.\n",
      "  filter_interactions = feature_maps[position_pairs].transpose([1, 2, 0])\n",
      "/home/koolab/Documents/GLIFAC/Code/glifac.py:46: FutureWarning: Using a non-tuple sequence for multidimensional indexing is deprecated; use `arr[tuple(seq)]` instead of `arr[seq]`. In the future this will be interpreted as an array index, `arr[np.array(seq)]`, which will result either in an error or a different result.\n",
      "  filter_interactions_values = correlation_matrix[ind.transpose().tolist()]\n"
     ]
    },
    {
     "name": "stdout",
     "output_type": "stream",
     "text": [
      "0.1  | AUROC: 0.20974491779695206  | AUPR: 0.7495064540622627  | SNR: 0.8622731691804639\n"
     ]
    },
    {
     "name": "stderr",
     "output_type": "stream",
     "text": [
      "/home/koolab/Documents/GLIFAC/Code/glifac.py:108: FutureWarning: Using a non-tuple sequence for multidimensional indexing is deprecated; use `arr[tuple(seq)]` instead of `arr[seq]`. In the future this will be interpreted as an array index, `arr[np.array(seq)]`, which will result either in an error or a different result.\n",
      "  filter_interactions = feature_maps[position_pairs].transpose([1, 2, 0])\n",
      "/home/koolab/Documents/GLIFAC/Code/glifac.py:46: FutureWarning: Using a non-tuple sequence for multidimensional indexing is deprecated; use `arr[tuple(seq)]` instead of `arr[seq]`. In the future this will be interpreted as an array index, `arr[np.array(seq)]`, which will result either in an error or a different result.\n",
      "  filter_interactions_values = correlation_matrix[ind.transpose().tolist()]\n"
     ]
    },
    {
     "name": "stdout",
     "output_type": "stream",
     "text": [
      "0.2  | AUROC: 0.2134459728812915  | AUPR: 0.7536066818526955  | SNR: 0.9929917829498448\n"
     ]
    },
    {
     "name": "stderr",
     "output_type": "stream",
     "text": [
      "/home/koolab/Documents/GLIFAC/Code/glifac.py:108: FutureWarning: Using a non-tuple sequence for multidimensional indexing is deprecated; use `arr[tuple(seq)]` instead of `arr[seq]`. In the future this will be interpreted as an array index, `arr[np.array(seq)]`, which will result either in an error or a different result.\n",
      "  filter_interactions = feature_maps[position_pairs].transpose([1, 2, 0])\n",
      "/home/koolab/Documents/GLIFAC/Code/glifac.py:46: FutureWarning: Using a non-tuple sequence for multidimensional indexing is deprecated; use `arr[tuple(seq)]` instead of `arr[seq]`. In the future this will be interpreted as an array index, `arr[np.array(seq)]`, which will result either in an error or a different result.\n",
      "  filter_interactions_values = correlation_matrix[ind.transpose().tolist()]\n"
     ]
    },
    {
     "name": "stdout",
     "output_type": "stream",
     "text": [
      "0.3  | AUROC: 0.1999427889597283  | AUPR: 0.7354593773728171  | SNR: 0.922637526913088\n"
     ]
    },
    {
     "name": "stderr",
     "output_type": "stream",
     "text": [
      "/home/koolab/Documents/GLIFAC/Code/glifac.py:108: FutureWarning: Using a non-tuple sequence for multidimensional indexing is deprecated; use `arr[tuple(seq)]` instead of `arr[seq]`. In the future this will be interpreted as an array index, `arr[np.array(seq)]`, which will result either in an error or a different result.\n",
      "  filter_interactions = feature_maps[position_pairs].transpose([1, 2, 0])\n",
      "/home/koolab/Documents/GLIFAC/Code/glifac.py:28: RuntimeWarning: invalid value encountered in float_scalars\n",
      "  return top/bottom\n",
      "/home/koolab/Documents/GLIFAC/Code/glifac.py:46: FutureWarning: Using a non-tuple sequence for multidimensional indexing is deprecated; use `arr[tuple(seq)]` instead of `arr[seq]`. In the future this will be interpreted as an array index, `arr[np.array(seq)]`, which will result either in an error or a different result.\n",
      "  filter_interactions_values = correlation_matrix[ind.transpose().tolist()]\n"
     ]
    },
    {
     "name": "stdout",
     "output_type": "stream",
     "text": [
      "0.4  | AUROC: 0.22597802093848246  | AUPR: 0.7409643128321944  | SNR: 1.0185853066804875\n"
     ]
    },
    {
     "name": "stderr",
     "output_type": "stream",
     "text": [
      "/home/koolab/Documents/GLIFAC/Code/glifac.py:108: FutureWarning: Using a non-tuple sequence for multidimensional indexing is deprecated; use `arr[tuple(seq)]` instead of `arr[seq]`. In the future this will be interpreted as an array index, `arr[np.array(seq)]`, which will result either in an error or a different result.\n",
      "  filter_interactions = feature_maps[position_pairs].transpose([1, 2, 0])\n",
      "/home/koolab/Documents/GLIFAC/Code/glifac.py:28: RuntimeWarning: invalid value encountered in float_scalars\n",
      "  return top/bottom\n",
      "/home/koolab/Documents/GLIFAC/Code/glifac.py:46: FutureWarning: Using a non-tuple sequence for multidimensional indexing is deprecated; use `arr[tuple(seq)]` instead of `arr[seq]`. In the future this will be interpreted as an array index, `arr[np.array(seq)]`, which will result either in an error or a different result.\n",
      "  filter_interactions_values = correlation_matrix[ind.transpose().tolist()]\n"
     ]
    },
    {
     "name": "stdout",
     "output_type": "stream",
     "text": [
      "0.5  | AUROC: 0.20799447364000154  | AUPR: 0.7252467729688687  | SNR: 0.9356463106658865\n"
     ]
    },
    {
     "name": "stderr",
     "output_type": "stream",
     "text": [
      "/home/koolab/Documents/GLIFAC/Code/glifac.py:108: FutureWarning: Using a non-tuple sequence for multidimensional indexing is deprecated; use `arr[tuple(seq)]` instead of `arr[seq]`. In the future this will be interpreted as an array index, `arr[np.array(seq)]`, which will result either in an error or a different result.\n",
      "  filter_interactions = feature_maps[position_pairs].transpose([1, 2, 0])\n",
      "/home/koolab/Documents/GLIFAC/Code/glifac.py:28: RuntimeWarning: invalid value encountered in float_scalars\n",
      "  return top/bottom\n",
      "/home/koolab/Documents/GLIFAC/Code/glifac.py:46: FutureWarning: Using a non-tuple sequence for multidimensional indexing is deprecated; use `arr[tuple(seq)]` instead of `arr[seq]`. In the future this will be interpreted as an array index, `arr[np.array(seq)]`, which will result either in an error or a different result.\n",
      "  filter_interactions_values = correlation_matrix[ind.transpose().tolist()]\n"
     ]
    },
    {
     "name": "stdout",
     "output_type": "stream",
     "text": [
      "0.6  | AUROC: 0.2086128260075197  | AUPR: 0.6897114654517843  | SNR: 0.8048357241730674\n"
     ]
    },
    {
     "name": "stderr",
     "output_type": "stream",
     "text": [
      "/home/koolab/Documents/GLIFAC/Code/glifac.py:108: FutureWarning: Using a non-tuple sequence for multidimensional indexing is deprecated; use `arr[tuple(seq)]` instead of `arr[seq]`. In the future this will be interpreted as an array index, `arr[np.array(seq)]`, which will result either in an error or a different result.\n",
      "  filter_interactions = feature_maps[position_pairs].transpose([1, 2, 0])\n",
      "/home/koolab/Documents/GLIFAC/Code/glifac.py:28: RuntimeWarning: invalid value encountered in float_scalars\n",
      "  return top/bottom\n",
      "/home/koolab/Documents/GLIFAC/Code/glifac.py:46: FutureWarning: Using a non-tuple sequence for multidimensional indexing is deprecated; use `arr[tuple(seq)]` instead of `arr[seq]`. In the future this will be interpreted as an array index, `arr[np.array(seq)]`, which will result either in an error or a different result.\n",
      "  filter_interactions_values = correlation_matrix[ind.transpose().tolist()]\n"
     ]
    },
    {
     "name": "stdout",
     "output_type": "stream",
     "text": [
      "0.7  | AUROC: 0.161710322700025  | AUPR: 0.6947987851176918  | SNR: 0.7002362273125454\n"
     ]
    },
    {
     "name": "stderr",
     "output_type": "stream",
     "text": [
      "/home/koolab/Documents/GLIFAC/Code/glifac.py:108: FutureWarning: Using a non-tuple sequence for multidimensional indexing is deprecated; use `arr[tuple(seq)]` instead of `arr[seq]`. In the future this will be interpreted as an array index, `arr[np.array(seq)]`, which will result either in an error or a different result.\n",
      "  filter_interactions = feature_maps[position_pairs].transpose([1, 2, 0])\n",
      "/home/koolab/Documents/GLIFAC/Code/glifac.py:28: RuntimeWarning: invalid value encountered in float_scalars\n",
      "  return top/bottom\n",
      "/home/koolab/Documents/GLIFAC/Code/glifac.py:46: FutureWarning: Using a non-tuple sequence for multidimensional indexing is deprecated; use `arr[tuple(seq)]` instead of `arr[seq]`. In the future this will be interpreted as an array index, `arr[np.array(seq)]`, which will result either in an error or a different result.\n",
      "  filter_interactions_values = correlation_matrix[ind.transpose().tolist()]\n"
     ]
    },
    {
     "name": "stdout",
     "output_type": "stream",
     "text": [
      "0.8  | AUROC: 0.1349813902552428  | AUPR: 0.6857251328777524  | SNR: 0.550145239714547\n"
     ]
    },
    {
     "name": "stderr",
     "output_type": "stream",
     "text": [
      "/home/koolab/Documents/GLIFAC/Code/glifac.py:108: FutureWarning: Using a non-tuple sequence for multidimensional indexing is deprecated; use `arr[tuple(seq)]` instead of `arr[seq]`. In the future this will be interpreted as an array index, `arr[np.array(seq)]`, which will result either in an error or a different result.\n",
      "  filter_interactions = feature_maps[position_pairs].transpose([1, 2, 0])\n",
      "/home/koolab/Documents/GLIFAC/Code/glifac.py:28: RuntimeWarning: invalid value encountered in float_scalars\n",
      "  return top/bottom\n",
      "/home/koolab/Documents/GLIFAC/Code/glifac.py:46: FutureWarning: Using a non-tuple sequence for multidimensional indexing is deprecated; use `arr[tuple(seq)]` instead of `arr[seq]`. In the future this will be interpreted as an array index, `arr[np.array(seq)]`, which will result either in an error or a different result.\n",
      "  filter_interactions_values = correlation_matrix[ind.transpose().tolist()]\n"
     ]
    },
    {
     "name": "stdout",
     "output_type": "stream",
     "text": [
      "0.9  | AUROC: 0.08604296622452956  | AUPR: 0.5360288534548215  | SNR: 0.1372033900781266\n",
      "finished correlation interpretability\n",
      "saved statistics\n",
      "saved filters\n"
     ]
    },
    {
     "name": "stderr",
     "output_type": "stream",
     "text": [
      "/home/koolab/Documents/GLIFAC/Code/glifac_pipeline.py:297: MatplotlibDeprecationWarning: savefig() got unexpected keyword argument \"box_inches\" which is no longer supported as of 3.3 and will become an error two minor releases later\n",
      "  fig.savefig(glifac_dir, format='pdf', dpi=300, box_inches='tight')\n"
     ]
    },
    {
     "name": "stdout",
     "output_type": "stream",
     "text": [
      "saved glifac\n",
      "Epoch 1/100\n",
      "350/350 - 5s - loss: 0.2738 - auroc: 0.8650 - aupr: 0.6033 - val_loss: 0.2516 - val_auroc: 0.9581 - val_aupr: 0.8268\n",
      "Epoch 2/100\n",
      "350/350 - 5s - loss: 0.1392 - auroc: 0.9675 - aupr: 0.8766 - val_loss: 0.1324 - val_auroc: 0.9747 - val_aupr: 0.9059\n",
      "Epoch 3/100\n",
      "350/350 - 5s - loss: 0.1261 - auroc: 0.9737 - aupr: 0.8950 - val_loss: 0.1083 - val_auroc: 0.9806 - val_aupr: 0.9215\n",
      "Epoch 4/100\n",
      "350/350 - 5s - loss: 0.1202 - auroc: 0.9762 - aupr: 0.9029 - val_loss: 0.1027 - val_auroc: 0.9826 - val_aupr: 0.9259\n",
      "Epoch 5/100\n",
      "350/350 - 5s - loss: 0.1157 - auroc: 0.9776 - aupr: 0.9089 - val_loss: 0.1064 - val_auroc: 0.9808 - val_aupr: 0.9236\n",
      "Epoch 6/100\n",
      "350/350 - 5s - loss: 0.1081 - auroc: 0.9800 - aupr: 0.9201 - val_loss: 0.0862 - val_auroc: 0.9882 - val_aupr: 0.9492\n",
      "Epoch 7/100\n",
      "350/350 - 5s - loss: 0.1015 - auroc: 0.9816 - aupr: 0.9289 - val_loss: 0.0810 - val_auroc: 0.9887 - val_aupr: 0.9535\n",
      "Epoch 8/100\n",
      "350/350 - 5s - loss: 0.1001 - auroc: 0.9821 - aupr: 0.9302 - val_loss: 0.0826 - val_auroc: 0.9869 - val_aupr: 0.9529\n",
      "Epoch 9/100\n",
      "350/350 - 5s - loss: 0.0991 - auroc: 0.9825 - aupr: 0.9318 - val_loss: 0.0796 - val_auroc: 0.9880 - val_aupr: 0.9544\n",
      "Epoch 10/100\n",
      "350/350 - 5s - loss: 0.0988 - auroc: 0.9824 - aupr: 0.9323 - val_loss: 0.0807 - val_auroc: 0.9883 - val_aupr: 0.9529\n",
      "Epoch 11/100\n",
      "350/350 - 5s - loss: 0.0978 - auroc: 0.9827 - aupr: 0.9337 - val_loss: 0.0804 - val_auroc: 0.9896 - val_aupr: 0.9536\n",
      "Epoch 12/100\n",
      "350/350 - 5s - loss: 0.0975 - auroc: 0.9827 - aupr: 0.9340 - val_loss: 0.0815 - val_auroc: 0.9897 - val_aupr: 0.9548\n",
      "Epoch 13/100\n",
      "350/350 - 5s - loss: 0.0964 - auroc: 0.9834 - aupr: 0.9348 - val_loss: 0.0774 - val_auroc: 0.9891 - val_aupr: 0.9555\n",
      "Epoch 14/100\n",
      "350/350 - 5s - loss: 0.0963 - auroc: 0.9834 - aupr: 0.9352 - val_loss: 0.0769 - val_auroc: 0.9898 - val_aupr: 0.9561\n",
      "Epoch 15/100\n",
      "350/350 - 5s - loss: 0.0952 - auroc: 0.9837 - aupr: 0.9363 - val_loss: 0.0782 - val_auroc: 0.9890 - val_aupr: 0.9565\n",
      "Epoch 16/100\n",
      "350/350 - 5s - loss: 0.0954 - auroc: 0.9835 - aupr: 0.9363 - val_loss: 0.0770 - val_auroc: 0.9890 - val_aupr: 0.9571\n",
      "Epoch 17/100\n",
      "350/350 - 5s - loss: 0.0948 - auroc: 0.9839 - aupr: 0.9372 - val_loss: 0.0747 - val_auroc: 0.9905 - val_aupr: 0.9592\n",
      "Epoch 18/100\n",
      "350/350 - 5s - loss: 0.0945 - auroc: 0.9840 - aupr: 0.9376 - val_loss: 0.0788 - val_auroc: 0.9891 - val_aupr: 0.9552\n",
      "Epoch 19/100\n",
      "350/350 - 5s - loss: 0.0940 - auroc: 0.9839 - aupr: 0.9380 - val_loss: 0.0747 - val_auroc: 0.9907 - val_aupr: 0.9595\n",
      "Epoch 20/100\n",
      "350/350 - 5s - loss: 0.0938 - auroc: 0.9840 - aupr: 0.9381 - val_loss: 0.0756 - val_auroc: 0.9901 - val_aupr: 0.9587\n",
      "Epoch 21/100\n",
      "350/350 - 5s - loss: 0.0935 - auroc: 0.9842 - aupr: 0.9389 - val_loss: 0.0749 - val_auroc: 0.9904 - val_aupr: 0.9587\n",
      "Epoch 22/100\n",
      "350/350 - 5s - loss: 0.0928 - auroc: 0.9844 - aupr: 0.9396 - val_loss: 0.0747 - val_auroc: 0.9910 - val_aupr: 0.9596\n",
      "Epoch 23/100\n",
      "350/350 - 5s - loss: 0.0926 - auroc: 0.9845 - aupr: 0.9398 - val_loss: 0.0756 - val_auroc: 0.9906 - val_aupr: 0.9585\n",
      "Epoch 24/100\n",
      "350/350 - 5s - loss: 0.0923 - auroc: 0.9844 - aupr: 0.9403 - val_loss: 0.0768 - val_auroc: 0.9906 - val_aupr: 0.9570\n",
      "Epoch 25/100\n",
      "350/350 - 5s - loss: 0.0917 - auroc: 0.9848 - aupr: 0.9409 - val_loss: 0.0754 - val_auroc: 0.9907 - val_aupr: 0.9592\n",
      "Epoch 26/100\n",
      "350/350 - 5s - loss: 0.0906 - auroc: 0.9853 - aupr: 0.9421 - val_loss: 0.0744 - val_auroc: 0.9901 - val_aupr: 0.9589\n",
      "Epoch 27/100\n",
      "350/350 - 5s - loss: 0.0910 - auroc: 0.9848 - aupr: 0.9417 - val_loss: 0.0735 - val_auroc: 0.9904 - val_aupr: 0.9602\n",
      "Epoch 28/100\n",
      "350/350 - 5s - loss: 0.0905 - auroc: 0.9853 - aupr: 0.9423 - val_loss: 0.0755 - val_auroc: 0.9905 - val_aupr: 0.9591\n",
      "Epoch 29/100\n",
      "350/350 - 5s - loss: 0.0896 - auroc: 0.9856 - aupr: 0.9431 - val_loss: 0.0737 - val_auroc: 0.9907 - val_aupr: 0.9606\n",
      "Epoch 30/100\n",
      "350/350 - 5s - loss: 0.0890 - auroc: 0.9857 - aupr: 0.9442 - val_loss: 0.0747 - val_auroc: 0.9904 - val_aupr: 0.9593\n",
      "Epoch 31/100\n",
      "350/350 - 5s - loss: 0.0890 - auroc: 0.9855 - aupr: 0.9443 - val_loss: 0.0734 - val_auroc: 0.9907 - val_aupr: 0.9608\n",
      "Epoch 32/100\n",
      "350/350 - 5s - loss: 0.0883 - auroc: 0.9857 - aupr: 0.9450 - val_loss: 0.0732 - val_auroc: 0.9908 - val_aupr: 0.9608\n",
      "Epoch 33/100\n",
      "350/350 - 5s - loss: 0.0881 - auroc: 0.9859 - aupr: 0.9453 - val_loss: 0.0724 - val_auroc: 0.9910 - val_aupr: 0.9618\n",
      "Epoch 34/100\n",
      "350/350 - 5s - loss: 0.0878 - auroc: 0.9859 - aupr: 0.9454 - val_loss: 0.0735 - val_auroc: 0.9906 - val_aupr: 0.9609\n",
      "Epoch 35/100\n",
      "350/350 - 5s - loss: 0.0870 - auroc: 0.9862 - aupr: 0.9465 - val_loss: 0.0748 - val_auroc: 0.9907 - val_aupr: 0.9601\n",
      "Epoch 36/100\n",
      "350/350 - 5s - loss: 0.0866 - auroc: 0.9861 - aupr: 0.9468 - val_loss: 0.0745 - val_auroc: 0.9905 - val_aupr: 0.9601\n",
      "Epoch 37/100\n",
      "350/350 - 5s - loss: 0.0864 - auroc: 0.9862 - aupr: 0.9473 - val_loss: 0.0737 - val_auroc: 0.9906 - val_aupr: 0.9600\n",
      "Epoch 38/100\n",
      "350/350 - 5s - loss: 0.0860 - auroc: 0.9862 - aupr: 0.9476 - val_loss: 0.0733 - val_auroc: 0.9901 - val_aupr: 0.9603\n",
      "Epoch 39/100\n",
      "350/350 - 5s - loss: 0.0851 - auroc: 0.9867 - aupr: 0.9482 - val_loss: 0.0723 - val_auroc: 0.9909 - val_aupr: 0.9607\n",
      "Epoch 40/100\n",
      "350/350 - 5s - loss: 0.0859 - auroc: 0.9863 - aupr: 0.9480 - val_loss: 0.0726 - val_auroc: 0.9911 - val_aupr: 0.9612\n",
      "Epoch 41/100\n",
      "350/350 - 5s - loss: 0.0851 - auroc: 0.9867 - aupr: 0.9483 - val_loss: 0.0732 - val_auroc: 0.9909 - val_aupr: 0.9609\n",
      "Epoch 42/100\n",
      "350/350 - 5s - loss: 0.0839 - auroc: 0.9870 - aupr: 0.9498 - val_loss: 0.0727 - val_auroc: 0.9907 - val_aupr: 0.9610\n",
      "Epoch 43/100\n",
      "350/350 - 5s - loss: 0.0835 - auroc: 0.9871 - aupr: 0.9503 - val_loss: 0.0734 - val_auroc: 0.9909 - val_aupr: 0.9596\n",
      "Epoch 44/100\n",
      "350/350 - 5s - loss: 0.0821 - auroc: 0.9874 - aupr: 0.9515 - val_loss: 0.0714 - val_auroc: 0.9915 - val_aupr: 0.9619\n",
      "Epoch 45/100\n",
      "350/350 - 5s - loss: 0.0815 - auroc: 0.9876 - aupr: 0.9518 - val_loss: 0.0725 - val_auroc: 0.9910 - val_aupr: 0.9610\n",
      "Epoch 46/100\n",
      "350/350 - 5s - loss: 0.0805 - auroc: 0.9878 - aupr: 0.9530 - val_loss: 0.0724 - val_auroc: 0.9913 - val_aupr: 0.9602\n",
      "Epoch 47/100\n",
      "350/350 - 5s - loss: 0.0799 - auroc: 0.9877 - aupr: 0.9538 - val_loss: 0.0724 - val_auroc: 0.9909 - val_aupr: 0.9610\n",
      "Epoch 48/100\n",
      "350/350 - 5s - loss: 0.0790 - auroc: 0.9881 - aupr: 0.9548 - val_loss: 0.0719 - val_auroc: 0.9910 - val_aupr: 0.9614\n",
      "Epoch 49/100\n",
      "350/350 - 5s - loss: 0.0791 - auroc: 0.9882 - aupr: 0.9548 - val_loss: 0.0725 - val_auroc: 0.9905 - val_aupr: 0.9600\n",
      "Epoch 50/100\n",
      "350/350 - 5s - loss: 0.0781 - auroc: 0.9885 - aupr: 0.9556 - val_loss: 0.0724 - val_auroc: 0.9904 - val_aupr: 0.9605\n",
      "Epoch 51/100\n",
      "350/350 - 5s - loss: 0.0782 - auroc: 0.9883 - aupr: 0.9557 - val_loss: 0.0740 - val_auroc: 0.9902 - val_aupr: 0.9595\n",
      "Epoch 52/100\n",
      "350/350 - 5s - loss: 0.0774 - auroc: 0.9884 - aupr: 0.9563 - val_loss: 0.0727 - val_auroc: 0.9904 - val_aupr: 0.9600\n",
      "Epoch 53/100\n",
      "350/350 - 5s - loss: 0.0771 - auroc: 0.9886 - aupr: 0.9566 - val_loss: 0.0717 - val_auroc: 0.9908 - val_aupr: 0.9618\n",
      "Epoch 54/100\n",
      "\n",
      "Epoch 00054: ReduceLROnPlateau reducing learning rate to 0.00020000000949949026.\n",
      "350/350 - 5s - loss: 0.0771 - auroc: 0.9887 - aupr: 0.9566 - val_loss: 0.0728 - val_auroc: 0.9904 - val_aupr: 0.9601\n",
      "Epoch 55/100\n",
      "350/350 - 5s - loss: 0.0737 - auroc: 0.9893 - aupr: 0.9598 - val_loss: 0.0714 - val_auroc: 0.9905 - val_aupr: 0.9612\n",
      "Epoch 56/100\n",
      "350/350 - 5s - loss: 0.0725 - auroc: 0.9897 - aupr: 0.9610 - val_loss: 0.0711 - val_auroc: 0.9907 - val_aupr: 0.9616\n",
      "Epoch 57/100\n",
      "350/350 - 5s - loss: 0.0723 - auroc: 0.9898 - aupr: 0.9613 - val_loss: 0.0711 - val_auroc: 0.9907 - val_aupr: 0.9615\n",
      "Epoch 58/100\n",
      "350/350 - 5s - loss: 0.0722 - auroc: 0.9899 - aupr: 0.9616 - val_loss: 0.0715 - val_auroc: 0.9905 - val_aupr: 0.9610\n",
      "Epoch 59/100\n",
      "350/350 - 5s - loss: 0.0718 - auroc: 0.9900 - aupr: 0.9620 - val_loss: 0.0714 - val_auroc: 0.9905 - val_aupr: 0.9611\n",
      "Epoch 60/100\n",
      "350/350 - 5s - loss: 0.0717 - auroc: 0.9899 - aupr: 0.9622 - val_loss: 0.0717 - val_auroc: 0.9905 - val_aupr: 0.9609\n",
      "Epoch 61/100\n",
      "350/350 - 5s - loss: 0.0718 - auroc: 0.9900 - aupr: 0.9620 - val_loss: 0.0715 - val_auroc: 0.9905 - val_aupr: 0.9612\n",
      "Epoch 62/100\n",
      "350/350 - 5s - loss: 0.0716 - auroc: 0.9900 - aupr: 0.9623 - val_loss: 0.0717 - val_auroc: 0.9904 - val_aupr: 0.9608\n",
      "Epoch 63/100\n",
      "350/350 - 5s - loss: 0.0713 - auroc: 0.9900 - aupr: 0.9625 - val_loss: 0.0716 - val_auroc: 0.9903 - val_aupr: 0.9608\n"
     ]
    },
    {
     "name": "stdout",
     "output_type": "stream",
     "text": [
      "Epoch 64/100\n",
      "350/350 - 5s - loss: 0.0715 - auroc: 0.9899 - aupr: 0.9624 - val_loss: 0.0722 - val_auroc: 0.9902 - val_aupr: 0.9602\n",
      "Epoch 65/100\n",
      "350/350 - 5s - loss: 0.0708 - auroc: 0.9900 - aupr: 0.9630 - val_loss: 0.0720 - val_auroc: 0.9905 - val_aupr: 0.9602\n",
      "Epoch 66/100\n",
      "\n",
      "Epoch 00066: ReduceLROnPlateau reducing learning rate to 4.0000001899898055e-05.\n",
      "350/350 - 5s - loss: 0.0706 - auroc: 0.9903 - aupr: 0.9634 - val_loss: 0.0723 - val_auroc: 0.9902 - val_aupr: 0.9602\n",
      "Epoch 67/100\n",
      "350/350 - 5s - loss: 0.0703 - auroc: 0.9904 - aupr: 0.9635 - val_loss: 0.0720 - val_auroc: 0.9903 - val_aupr: 0.9606\n",
      "Epoch 68/100\n",
      "350/350 - 5s - loss: 0.0704 - auroc: 0.9903 - aupr: 0.9635 - val_loss: 0.0719 - val_auroc: 0.9903 - val_aupr: 0.9606\n",
      "Epoch 69/100\n",
      "350/350 - 5s - loss: 0.0695 - auroc: 0.9906 - aupr: 0.9644 - val_loss: 0.0721 - val_auroc: 0.9902 - val_aupr: 0.9603\n",
      "Epoch 70/100\n",
      "350/350 - 5s - loss: 0.0697 - auroc: 0.9904 - aupr: 0.9640 - val_loss: 0.0720 - val_auroc: 0.9902 - val_aupr: 0.9605\n",
      "Epoch 71/100\n",
      "Restoring model weights from the end of the best epoch.\n",
      "350/350 - 5s - loss: 0.0697 - auroc: 0.9904 - aupr: 0.9642 - val_loss: 0.0720 - val_auroc: 0.9904 - val_aupr: 0.9607\n",
      "Epoch 00071: early stopping\n",
      "625/625 [==============================] - 1s 2ms/step - loss: 0.0704 - auroc: 0.9905 - aupr: 0.9626\n",
      "generated PPMs\n",
      "TomTom TPR:  0.9375\n",
      "TomTom FPR:  0.0\n",
      "Motif coverage:  1.0\n",
      "completed TomTom analysis\n",
      "completed clustering\n"
     ]
    },
    {
     "name": "stderr",
     "output_type": "stream",
     "text": [
      "/home/koolab/Documents/GLIFAC/Code/glifac.py:108: FutureWarning: Using a non-tuple sequence for multidimensional indexing is deprecated; use `arr[tuple(seq)]` instead of `arr[seq]`. In the future this will be interpreted as an array index, `arr[np.array(seq)]`, which will result either in an error or a different result.\n",
      "  filter_interactions = feature_maps[position_pairs].transpose([1, 2, 0])\n",
      "/home/koolab/Documents/GLIFAC/Code/glifac.py:46: FutureWarning: Using a non-tuple sequence for multidimensional indexing is deprecated; use `arr[tuple(seq)]` instead of `arr[seq]`. In the future this will be interpreted as an array index, `arr[np.array(seq)]`, which will result either in an error or a different result.\n",
      "  filter_interactions_values = correlation_matrix[ind.transpose().tolist()]\n"
     ]
    },
    {
     "name": "stdout",
     "output_type": "stream",
     "text": [
      "0.0  | AUROC: 0.9903894178943586  | AUPR: 0.9994904198940073  | SNR: 4.5627801818582086\n"
     ]
    },
    {
     "name": "stderr",
     "output_type": "stream",
     "text": [
      "/home/koolab/Documents/GLIFAC/Code/glifac.py:108: FutureWarning: Using a non-tuple sequence for multidimensional indexing is deprecated; use `arr[tuple(seq)]` instead of `arr[seq]`. In the future this will be interpreted as an array index, `arr[np.array(seq)]`, which will result either in an error or a different result.\n",
      "  filter_interactions = feature_maps[position_pairs].transpose([1, 2, 0])\n",
      "/home/koolab/Documents/GLIFAC/Code/glifac.py:46: FutureWarning: Using a non-tuple sequence for multidimensional indexing is deprecated; use `arr[tuple(seq)]` instead of `arr[seq]`. In the future this will be interpreted as an array index, `arr[np.array(seq)]`, which will result either in an error or a different result.\n",
      "  filter_interactions_values = correlation_matrix[ind.transpose().tolist()]\n"
     ]
    },
    {
     "name": "stdout",
     "output_type": "stream",
     "text": [
      "0.1  | AUROC: 0.5533130265463789  | AUPR: 0.7981043620057073  | SNR: 3.2952801623575234\n"
     ]
    },
    {
     "name": "stderr",
     "output_type": "stream",
     "text": [
      "/home/koolab/Documents/GLIFAC/Code/glifac.py:108: FutureWarning: Using a non-tuple sequence for multidimensional indexing is deprecated; use `arr[tuple(seq)]` instead of `arr[seq]`. In the future this will be interpreted as an array index, `arr[np.array(seq)]`, which will result either in an error or a different result.\n",
      "  filter_interactions = feature_maps[position_pairs].transpose([1, 2, 0])\n",
      "/home/koolab/Documents/GLIFAC/Code/glifac.py:46: FutureWarning: Using a non-tuple sequence for multidimensional indexing is deprecated; use `arr[tuple(seq)]` instead of `arr[seq]`. In the future this will be interpreted as an array index, `arr[np.array(seq)]`, which will result either in an error or a different result.\n",
      "  filter_interactions_values = correlation_matrix[ind.transpose().tolist()]\n"
     ]
    },
    {
     "name": "stdout",
     "output_type": "stream",
     "text": [
      "0.2  | AUROC: 0.45541227340625706  | AUPR: 0.8010599266204648  | SNR: 3.074421988897237\n"
     ]
    },
    {
     "name": "stderr",
     "output_type": "stream",
     "text": [
      "/home/koolab/Documents/GLIFAC/Code/glifac.py:108: FutureWarning: Using a non-tuple sequence for multidimensional indexing is deprecated; use `arr[tuple(seq)]` instead of `arr[seq]`. In the future this will be interpreted as an array index, `arr[np.array(seq)]`, which will result either in an error or a different result.\n",
      "  filter_interactions = feature_maps[position_pairs].transpose([1, 2, 0])\n",
      "/home/koolab/Documents/GLIFAC/Code/glifac.py:46: FutureWarning: Using a non-tuple sequence for multidimensional indexing is deprecated; use `arr[tuple(seq)]` instead of `arr[seq]`. In the future this will be interpreted as an array index, `arr[np.array(seq)]`, which will result either in an error or a different result.\n",
      "  filter_interactions_values = correlation_matrix[ind.transpose().tolist()]\n"
     ]
    },
    {
     "name": "stdout",
     "output_type": "stream",
     "text": [
      "0.3  | AUROC: 0.35793963648446275  | AUPR: 0.8059518956379943  | SNR: 2.597240934057324\n"
     ]
    },
    {
     "name": "stderr",
     "output_type": "stream",
     "text": [
      "/home/koolab/Documents/GLIFAC/Code/glifac.py:108: FutureWarning: Using a non-tuple sequence for multidimensional indexing is deprecated; use `arr[tuple(seq)]` instead of `arr[seq]`. In the future this will be interpreted as an array index, `arr[np.array(seq)]`, which will result either in an error or a different result.\n",
      "  filter_interactions = feature_maps[position_pairs].transpose([1, 2, 0])\n",
      "/home/koolab/Documents/GLIFAC/Code/glifac.py:46: FutureWarning: Using a non-tuple sequence for multidimensional indexing is deprecated; use `arr[tuple(seq)]` instead of `arr[seq]`. In the future this will be interpreted as an array index, `arr[np.array(seq)]`, which will result either in an error or a different result.\n",
      "  filter_interactions_values = correlation_matrix[ind.transpose().tolist()]\n"
     ]
    },
    {
     "name": "stdout",
     "output_type": "stream",
     "text": [
      "0.4  | AUROC: 0.33559961783855763  | AUPR: 0.795352629433347  | SNR: 2.2787733704973765\n"
     ]
    },
    {
     "name": "stderr",
     "output_type": "stream",
     "text": [
      "/home/koolab/Documents/GLIFAC/Code/glifac.py:108: FutureWarning: Using a non-tuple sequence for multidimensional indexing is deprecated; use `arr[tuple(seq)]` instead of `arr[seq]`. In the future this will be interpreted as an array index, `arr[np.array(seq)]`, which will result either in an error or a different result.\n",
      "  filter_interactions = feature_maps[position_pairs].transpose([1, 2, 0])\n",
      "/home/koolab/Documents/GLIFAC/Code/glifac.py:46: FutureWarning: Using a non-tuple sequence for multidimensional indexing is deprecated; use `arr[tuple(seq)]` instead of `arr[seq]`. In the future this will be interpreted as an array index, `arr[np.array(seq)]`, which will result either in an error or a different result.\n",
      "  filter_interactions_values = correlation_matrix[ind.transpose().tolist()]\n"
     ]
    },
    {
     "name": "stdout",
     "output_type": "stream",
     "text": [
      "0.5  | AUROC: 0.32225730070175246  | AUPR: 0.7899510803098246  | SNR: 2.001125017901618\n"
     ]
    },
    {
     "name": "stderr",
     "output_type": "stream",
     "text": [
      "/home/koolab/Documents/GLIFAC/Code/glifac.py:108: FutureWarning: Using a non-tuple sequence for multidimensional indexing is deprecated; use `arr[tuple(seq)]` instead of `arr[seq]`. In the future this will be interpreted as an array index, `arr[np.array(seq)]`, which will result either in an error or a different result.\n",
      "  filter_interactions = feature_maps[position_pairs].transpose([1, 2, 0])\n",
      "/home/koolab/Documents/GLIFAC/Code/glifac.py:28: RuntimeWarning: invalid value encountered in float_scalars\n",
      "  return top/bottom\n",
      "/home/koolab/Documents/GLIFAC/Code/glifac.py:46: FutureWarning: Using a non-tuple sequence for multidimensional indexing is deprecated; use `arr[tuple(seq)]` instead of `arr[seq]`. In the future this will be interpreted as an array index, `arr[np.array(seq)]`, which will result either in an error or a different result.\n",
      "  filter_interactions_values = correlation_matrix[ind.transpose().tolist()]\n"
     ]
    },
    {
     "name": "stdout",
     "output_type": "stream",
     "text": [
      "0.6  | AUROC: 0.27368595249778527  | AUPR: 0.7849571952710966  | SNR: 1.6297377405546583\n"
     ]
    },
    {
     "name": "stderr",
     "output_type": "stream",
     "text": [
      "/home/koolab/Documents/GLIFAC/Code/glifac.py:108: FutureWarning: Using a non-tuple sequence for multidimensional indexing is deprecated; use `arr[tuple(seq)]` instead of `arr[seq]`. In the future this will be interpreted as an array index, `arr[np.array(seq)]`, which will result either in an error or a different result.\n",
      "  filter_interactions = feature_maps[position_pairs].transpose([1, 2, 0])\n",
      "/home/koolab/Documents/GLIFAC/Code/glifac.py:28: RuntimeWarning: invalid value encountered in float_scalars\n",
      "  return top/bottom\n",
      "/home/koolab/Documents/GLIFAC/Code/glifac.py:46: FutureWarning: Using a non-tuple sequence for multidimensional indexing is deprecated; use `arr[tuple(seq)]` instead of `arr[seq]`. In the future this will be interpreted as an array index, `arr[np.array(seq)]`, which will result either in an error or a different result.\n",
      "  filter_interactions_values = correlation_matrix[ind.transpose().tolist()]\n"
     ]
    },
    {
     "name": "stdout",
     "output_type": "stream",
     "text": [
      "0.7  | AUROC: 0.2134933459087058  | AUPR: 0.7359355890746025  | SNR: 1.2472562202232835\n"
     ]
    },
    {
     "name": "stderr",
     "output_type": "stream",
     "text": [
      "/home/koolab/Documents/GLIFAC/Code/glifac.py:108: FutureWarning: Using a non-tuple sequence for multidimensional indexing is deprecated; use `arr[tuple(seq)]` instead of `arr[seq]`. In the future this will be interpreted as an array index, `arr[np.array(seq)]`, which will result either in an error or a different result.\n",
      "  filter_interactions = feature_maps[position_pairs].transpose([1, 2, 0])\n",
      "/home/koolab/Documents/GLIFAC/Code/glifac.py:28: RuntimeWarning: invalid value encountered in float_scalars\n",
      "  return top/bottom\n",
      "/home/koolab/Documents/GLIFAC/Code/glifac.py:46: FutureWarning: Using a non-tuple sequence for multidimensional indexing is deprecated; use `arr[tuple(seq)]` instead of `arr[seq]`. In the future this will be interpreted as an array index, `arr[np.array(seq)]`, which will result either in an error or a different result.\n",
      "  filter_interactions_values = correlation_matrix[ind.transpose().tolist()]\n"
     ]
    },
    {
     "name": "stdout",
     "output_type": "stream",
     "text": [
      "0.8  | AUROC: 0.13366624891812706  | AUPR: 0.695067264573991  | SNR: 0.81123692766814\n"
     ]
    },
    {
     "name": "stderr",
     "output_type": "stream",
     "text": [
      "/home/koolab/Documents/GLIFAC/Code/glifac.py:108: FutureWarning: Using a non-tuple sequence for multidimensional indexing is deprecated; use `arr[tuple(seq)]` instead of `arr[seq]`. In the future this will be interpreted as an array index, `arr[np.array(seq)]`, which will result either in an error or a different result.\n",
      "  filter_interactions = feature_maps[position_pairs].transpose([1, 2, 0])\n",
      "/home/koolab/Documents/GLIFAC/Code/glifac.py:28: RuntimeWarning: invalid value encountered in float_scalars\n",
      "  return top/bottom\n",
      "/home/koolab/Documents/GLIFAC/Code/glifac.py:46: FutureWarning: Using a non-tuple sequence for multidimensional indexing is deprecated; use `arr[tuple(seq)]` instead of `arr[seq]`. In the future this will be interpreted as an array index, `arr[np.array(seq)]`, which will result either in an error or a different result.\n",
      "  filter_interactions_values = correlation_matrix[ind.transpose().tolist()]\n"
     ]
    },
    {
     "name": "stdout",
     "output_type": "stream",
     "text": [
      "0.9  | AUROC: 0.09821558740968585  | AUPR: 0.6300448430493274  | SNR: 0.5315903202696071\n",
      "finished correlation interpretability\n",
      "saved statistics\n",
      "saved filters\n"
     ]
    },
    {
     "name": "stderr",
     "output_type": "stream",
     "text": [
      "/home/koolab/Documents/GLIFAC/Code/glifac_pipeline.py:297: MatplotlibDeprecationWarning: savefig() got unexpected keyword argument \"box_inches\" which is no longer supported as of 3.3 and will become an error two minor releases later\n",
      "  fig.savefig(glifac_dir, format='pdf', dpi=300, box_inches='tight')\n"
     ]
    },
    {
     "name": "stdout",
     "output_type": "stream",
     "text": [
      "saved glifac\n",
      "Epoch 1/100\n",
      "350/350 - 5s - loss: 0.2870 - auroc: 0.8476 - aupr: 0.5718 - val_loss: 0.2443 - val_auroc: 0.9711 - val_aupr: 0.8815\n",
      "Epoch 2/100\n",
      "350/350 - 5s - loss: 0.1245 - auroc: 0.9741 - aupr: 0.9001 - val_loss: 0.0967 - val_auroc: 0.9845 - val_aupr: 0.9367\n",
      "Epoch 3/100\n",
      "350/350 - 5s - loss: 0.1072 - auroc: 0.9801 - aupr: 0.9222 - val_loss: 0.0982 - val_auroc: 0.9830 - val_aupr: 0.9306\n",
      "Epoch 4/100\n",
      "350/350 - 5s - loss: 0.1008 - auroc: 0.9820 - aupr: 0.9299 - val_loss: 0.0852 - val_auroc: 0.9878 - val_aupr: 0.9487\n",
      "Epoch 5/100\n",
      "350/350 - 5s - loss: 0.0978 - auroc: 0.9830 - aupr: 0.9333 - val_loss: 0.0818 - val_auroc: 0.9891 - val_aupr: 0.9520\n",
      "Epoch 6/100\n",
      "350/350 - 5s - loss: 0.0966 - auroc: 0.9832 - aupr: 0.9346 - val_loss: 0.0897 - val_auroc: 0.9882 - val_aupr: 0.9483\n",
      "Epoch 7/100\n",
      "350/350 - 5s - loss: 0.0952 - auroc: 0.9836 - aupr: 0.9366 - val_loss: 0.0857 - val_auroc: 0.9868 - val_aupr: 0.9486\n",
      "Epoch 8/100\n",
      "350/350 - 5s - loss: 0.0943 - auroc: 0.9838 - aupr: 0.9373 - val_loss: 0.0775 - val_auroc: 0.9891 - val_aupr: 0.9547\n",
      "Epoch 9/100\n",
      "350/350 - 5s - loss: 0.0935 - auroc: 0.9840 - aupr: 0.9383 - val_loss: 0.0820 - val_auroc: 0.9881 - val_aupr: 0.9503\n",
      "Epoch 10/100\n",
      "350/350 - 5s - loss: 0.0935 - auroc: 0.9839 - aupr: 0.9386 - val_loss: 0.0783 - val_auroc: 0.9893 - val_aupr: 0.9548\n",
      "Epoch 11/100\n",
      "350/350 - 5s - loss: 0.0919 - auroc: 0.9846 - aupr: 0.9405 - val_loss: 0.0758 - val_auroc: 0.9902 - val_aupr: 0.9574\n",
      "Epoch 12/100\n",
      "350/350 - 5s - loss: 0.0918 - auroc: 0.9847 - aupr: 0.9404 - val_loss: 0.0757 - val_auroc: 0.9897 - val_aupr: 0.9575\n",
      "Epoch 13/100\n",
      "350/350 - 5s - loss: 0.0915 - auroc: 0.9847 - aupr: 0.9407 - val_loss: 0.0755 - val_auroc: 0.9907 - val_aupr: 0.9585\n",
      "Epoch 14/100\n",
      "350/350 - 5s - loss: 0.0907 - auroc: 0.9848 - aupr: 0.9419 - val_loss: 0.0790 - val_auroc: 0.9893 - val_aupr: 0.9555\n",
      "Epoch 15/100\n",
      "350/350 - 5s - loss: 0.0904 - auroc: 0.9850 - aupr: 0.9422 - val_loss: 0.0754 - val_auroc: 0.9903 - val_aupr: 0.9585\n",
      "Epoch 16/100\n",
      "350/350 - 5s - loss: 0.0905 - auroc: 0.9849 - aupr: 0.9420 - val_loss: 0.0762 - val_auroc: 0.9897 - val_aupr: 0.9574\n",
      "Epoch 17/100\n",
      "350/350 - 5s - loss: 0.0901 - auroc: 0.9850 - aupr: 0.9424 - val_loss: 0.0745 - val_auroc: 0.9902 - val_aupr: 0.9589\n",
      "Epoch 18/100\n",
      "350/350 - 5s - loss: 0.0899 - auroc: 0.9853 - aupr: 0.9427 - val_loss: 0.0784 - val_auroc: 0.9889 - val_aupr: 0.9555\n",
      "Epoch 19/100\n",
      "350/350 - 5s - loss: 0.0899 - auroc: 0.9851 - aupr: 0.9423 - val_loss: 0.0743 - val_auroc: 0.9903 - val_aupr: 0.9594\n",
      "Epoch 20/100\n",
      "350/350 - 5s - loss: 0.0895 - auroc: 0.9851 - aupr: 0.9430 - val_loss: 0.0757 - val_auroc: 0.9909 - val_aupr: 0.9581\n",
      "Epoch 21/100\n",
      "350/350 - 5s - loss: 0.0887 - auroc: 0.9857 - aupr: 0.9440 - val_loss: 0.0740 - val_auroc: 0.9903 - val_aupr: 0.9600\n",
      "Epoch 22/100\n",
      "350/350 - 5s - loss: 0.0885 - auroc: 0.9855 - aupr: 0.9442 - val_loss: 0.0752 - val_auroc: 0.9906 - val_aupr: 0.9585\n",
      "Epoch 23/100\n",
      "350/350 - 5s - loss: 0.0881 - auroc: 0.9855 - aupr: 0.9444 - val_loss: 0.0772 - val_auroc: 0.9904 - val_aupr: 0.9574\n",
      "Epoch 24/100\n",
      "350/350 - 5s - loss: 0.0880 - auroc: 0.9856 - aupr: 0.9450 - val_loss: 0.0762 - val_auroc: 0.9907 - val_aupr: 0.9582\n",
      "Epoch 25/100\n",
      "350/350 - 5s - loss: 0.0875 - auroc: 0.9859 - aupr: 0.9454 - val_loss: 0.0740 - val_auroc: 0.9908 - val_aupr: 0.9602\n",
      "Epoch 26/100\n",
      "350/350 - 5s - loss: 0.0866 - auroc: 0.9862 - aupr: 0.9466 - val_loss: 0.0735 - val_auroc: 0.9913 - val_aupr: 0.9605\n",
      "Epoch 27/100\n",
      "350/350 - 5s - loss: 0.0868 - auroc: 0.9860 - aupr: 0.9461 - val_loss: 0.0749 - val_auroc: 0.9907 - val_aupr: 0.9588\n",
      "Epoch 28/100\n",
      "350/350 - 5s - loss: 0.0854 - auroc: 0.9865 - aupr: 0.9478 - val_loss: 0.0732 - val_auroc: 0.9912 - val_aupr: 0.9611\n",
      "Epoch 29/100\n",
      "350/350 - 5s - loss: 0.0851 - auroc: 0.9867 - aupr: 0.9483 - val_loss: 0.0735 - val_auroc: 0.9907 - val_aupr: 0.9595\n",
      "Epoch 30/100\n",
      "350/350 - 5s - loss: 0.0844 - auroc: 0.9867 - aupr: 0.9488 - val_loss: 0.0728 - val_auroc: 0.9912 - val_aupr: 0.9621\n",
      "Epoch 31/100\n",
      "350/350 - 5s - loss: 0.0833 - auroc: 0.9873 - aupr: 0.9502 - val_loss: 0.0718 - val_auroc: 0.9909 - val_aupr: 0.9619\n",
      "Epoch 32/100\n",
      "350/350 - 5s - loss: 0.0836 - auroc: 0.9870 - aupr: 0.9502 - val_loss: 0.0718 - val_auroc: 0.9915 - val_aupr: 0.9625\n",
      "Epoch 33/100\n",
      "350/350 - 5s - loss: 0.0823 - auroc: 0.9873 - aupr: 0.9518 - val_loss: 0.0721 - val_auroc: 0.9911 - val_aupr: 0.9616\n",
      "Epoch 34/100\n",
      "350/350 - 5s - loss: 0.0816 - auroc: 0.9876 - aupr: 0.9524 - val_loss: 0.0746 - val_auroc: 0.9898 - val_aupr: 0.9606\n",
      "Epoch 35/100\n",
      "350/350 - 5s - loss: 0.0818 - auroc: 0.9872 - aupr: 0.9521 - val_loss: 0.0721 - val_auroc: 0.9907 - val_aupr: 0.9616\n",
      "Epoch 36/100\n",
      "350/350 - 5s - loss: 0.0807 - auroc: 0.9878 - aupr: 0.9534 - val_loss: 0.0709 - val_auroc: 0.9916 - val_aupr: 0.9632\n",
      "Epoch 37/100\n",
      "350/350 - 5s - loss: 0.0803 - auroc: 0.9876 - aupr: 0.9538 - val_loss: 0.0721 - val_auroc: 0.9909 - val_aupr: 0.9620\n",
      "Epoch 38/100\n",
      "350/350 - 5s - loss: 0.0798 - auroc: 0.9878 - aupr: 0.9543 - val_loss: 0.0709 - val_auroc: 0.9914 - val_aupr: 0.9628\n",
      "Epoch 39/100\n",
      "350/350 - 5s - loss: 0.0792 - auroc: 0.9879 - aupr: 0.9549 - val_loss: 0.0708 - val_auroc: 0.9910 - val_aupr: 0.9632\n",
      "Epoch 40/100\n",
      "350/350 - 5s - loss: 0.0784 - auroc: 0.9882 - aupr: 0.9557 - val_loss: 0.0710 - val_auroc: 0.9911 - val_aupr: 0.9629\n",
      "Epoch 41/100\n",
      "350/350 - 5s - loss: 0.0785 - auroc: 0.9883 - aupr: 0.9556 - val_loss: 0.0712 - val_auroc: 0.9912 - val_aupr: 0.9623\n",
      "Epoch 42/100\n",
      "350/350 - 5s - loss: 0.0776 - auroc: 0.9886 - aupr: 0.9566 - val_loss: 0.0709 - val_auroc: 0.9914 - val_aupr: 0.9625\n",
      "Epoch 43/100\n",
      "350/350 - 5s - loss: 0.0771 - auroc: 0.9886 - aupr: 0.9573 - val_loss: 0.0713 - val_auroc: 0.9911 - val_aupr: 0.9627\n",
      "Epoch 44/100\n",
      "350/350 - 5s - loss: 0.0765 - auroc: 0.9886 - aupr: 0.9577 - val_loss: 0.0712 - val_auroc: 0.9915 - val_aupr: 0.9625\n",
      "Epoch 45/100\n",
      "350/350 - 5s - loss: 0.0759 - auroc: 0.9888 - aupr: 0.9584 - val_loss: 0.0709 - val_auroc: 0.9913 - val_aupr: 0.9623\n",
      "Epoch 46/100\n",
      "350/350 - 5s - loss: 0.0759 - auroc: 0.9888 - aupr: 0.9585 - val_loss: 0.0715 - val_auroc: 0.9911 - val_aupr: 0.9620\n",
      "Epoch 47/100\n",
      "350/350 - 5s - loss: 0.0753 - auroc: 0.9891 - aupr: 0.9592 - val_loss: 0.0713 - val_auroc: 0.9913 - val_aupr: 0.9625\n",
      "Epoch 48/100\n",
      "350/350 - 5s - loss: 0.0747 - auroc: 0.9890 - aupr: 0.9599 - val_loss: 0.0724 - val_auroc: 0.9904 - val_aupr: 0.9608\n",
      "Epoch 49/100\n",
      "\n",
      "Epoch 00049: ReduceLROnPlateau reducing learning rate to 0.00020000000949949026.\n",
      "350/350 - 5s - loss: 0.0740 - auroc: 0.9892 - aupr: 0.9603 - val_loss: 0.0716 - val_auroc: 0.9912 - val_aupr: 0.9617\n",
      "Epoch 50/100\n",
      "350/350 - 5s - loss: 0.0714 - auroc: 0.9901 - aupr: 0.9630 - val_loss: 0.0704 - val_auroc: 0.9915 - val_aupr: 0.9632\n",
      "Epoch 51/100\n",
      "350/350 - 5s - loss: 0.0706 - auroc: 0.9900 - aupr: 0.9637 - val_loss: 0.0703 - val_auroc: 0.9915 - val_aupr: 0.9629\n",
      "Epoch 52/100\n",
      "350/350 - 5s - loss: 0.0701 - auroc: 0.9904 - aupr: 0.9641 - val_loss: 0.0703 - val_auroc: 0.9916 - val_aupr: 0.9631\n",
      "Epoch 53/100\n",
      "350/350 - 5s - loss: 0.0701 - auroc: 0.9903 - aupr: 0.9642 - val_loss: 0.0700 - val_auroc: 0.9916 - val_aupr: 0.9631\n",
      "Epoch 54/100\n",
      "350/350 - 5s - loss: 0.0702 - auroc: 0.9901 - aupr: 0.9640 - val_loss: 0.0704 - val_auroc: 0.9914 - val_aupr: 0.9628\n",
      "Epoch 55/100\n",
      "350/350 - 5s - loss: 0.0689 - auroc: 0.9907 - aupr: 0.9652 - val_loss: 0.0703 - val_auroc: 0.9914 - val_aupr: 0.9629\n",
      "Epoch 56/100\n",
      "350/350 - 5s - loss: 0.0691 - auroc: 0.9905 - aupr: 0.9651 - val_loss: 0.0703 - val_auroc: 0.9913 - val_aupr: 0.9628\n",
      "Epoch 57/100\n",
      "350/350 - 5s - loss: 0.0688 - auroc: 0.9907 - aupr: 0.9654 - val_loss: 0.0708 - val_auroc: 0.9910 - val_aupr: 0.9626\n",
      "Epoch 58/100\n",
      "350/350 - 5s - loss: 0.0683 - auroc: 0.9907 - aupr: 0.9658 - val_loss: 0.0704 - val_auroc: 0.9913 - val_aupr: 0.9628\n",
      "Epoch 59/100\n",
      "350/350 - 5s - loss: 0.0684 - auroc: 0.9906 - aupr: 0.9656 - val_loss: 0.0706 - val_auroc: 0.9912 - val_aupr: 0.9626\n",
      "Epoch 60/100\n",
      "350/350 - 5s - loss: 0.0681 - auroc: 0.9907 - aupr: 0.9659 - val_loss: 0.0707 - val_auroc: 0.9910 - val_aupr: 0.9624\n",
      "Epoch 61/100\n",
      "350/350 - 5s - loss: 0.0682 - auroc: 0.9906 - aupr: 0.9658 - val_loss: 0.0707 - val_auroc: 0.9910 - val_aupr: 0.9622\n",
      "Epoch 62/100\n",
      "350/350 - 5s - loss: 0.0681 - auroc: 0.9907 - aupr: 0.9660 - val_loss: 0.0708 - val_auroc: 0.9911 - val_aupr: 0.9623\n",
      "Epoch 63/100\n",
      "\n",
      "Epoch 00063: ReduceLROnPlateau reducing learning rate to 4.0000001899898055e-05.\n",
      "350/350 - 5s - loss: 0.0679 - auroc: 0.9908 - aupr: 0.9664 - val_loss: 0.0710 - val_auroc: 0.9908 - val_aupr: 0.9622\n"
     ]
    },
    {
     "name": "stdout",
     "output_type": "stream",
     "text": [
      "Epoch 64/100\n",
      "350/350 - 5s - loss: 0.0670 - auroc: 0.9909 - aupr: 0.9672 - val_loss: 0.0707 - val_auroc: 0.9912 - val_aupr: 0.9624\n",
      "Epoch 65/100\n",
      "350/350 - 5s - loss: 0.0670 - auroc: 0.9909 - aupr: 0.9670 - val_loss: 0.0707 - val_auroc: 0.9913 - val_aupr: 0.9624\n",
      "Epoch 66/100\n",
      "350/350 - 5s - loss: 0.0667 - auroc: 0.9911 - aupr: 0.9673 - val_loss: 0.0707 - val_auroc: 0.9913 - val_aupr: 0.9626\n",
      "Epoch 67/100\n",
      "350/350 - 5s - loss: 0.0668 - auroc: 0.9911 - aupr: 0.9672 - val_loss: 0.0708 - val_auroc: 0.9912 - val_aupr: 0.9624\n",
      "Epoch 68/100\n",
      "Restoring model weights from the end of the best epoch.\n",
      "350/350 - 5s - loss: 0.0665 - auroc: 0.9912 - aupr: 0.9674 - val_loss: 0.0707 - val_auroc: 0.9913 - val_aupr: 0.9626\n",
      "Epoch 00068: early stopping\n",
      "625/625 [==============================] - 1s 2ms/step - loss: 0.0704 - auroc: 0.9906 - aupr: 0.9622\n",
      "generated PPMs\n",
      "TomTom TPR:  0.96875\n",
      "TomTom FPR:  0.03125\n",
      "Motif coverage:  1.0\n",
      "completed TomTom analysis\n",
      "completed clustering\n"
     ]
    },
    {
     "name": "stderr",
     "output_type": "stream",
     "text": [
      "/home/koolab/Documents/GLIFAC/Code/glifac.py:108: FutureWarning: Using a non-tuple sequence for multidimensional indexing is deprecated; use `arr[tuple(seq)]` instead of `arr[seq]`. In the future this will be interpreted as an array index, `arr[np.array(seq)]`, which will result either in an error or a different result.\n",
      "  filter_interactions = feature_maps[position_pairs].transpose([1, 2, 0])\n",
      "/home/koolab/Documents/GLIFAC/Code/glifac.py:46: FutureWarning: Using a non-tuple sequence for multidimensional indexing is deprecated; use `arr[tuple(seq)]` instead of `arr[seq]`. In the future this will be interpreted as an array index, `arr[np.array(seq)]`, which will result either in an error or a different result.\n",
      "  filter_interactions_values = correlation_matrix[ind.transpose().tolist()]\n"
     ]
    },
    {
     "name": "stdout",
     "output_type": "stream",
     "text": [
      "0.0  | AUROC: 0.99620655624731  | AUPR: 0.9997207093981287  | SNR: 4.913990447047116\n"
     ]
    },
    {
     "name": "stderr",
     "output_type": "stream",
     "text": [
      "/home/koolab/Documents/GLIFAC/Code/glifac.py:108: FutureWarning: Using a non-tuple sequence for multidimensional indexing is deprecated; use `arr[tuple(seq)]` instead of `arr[seq]`. In the future this will be interpreted as an array index, `arr[np.array(seq)]`, which will result either in an error or a different result.\n",
      "  filter_interactions = feature_maps[position_pairs].transpose([1, 2, 0])\n",
      "/home/koolab/Documents/GLIFAC/Code/glifac.py:46: FutureWarning: Using a non-tuple sequence for multidimensional indexing is deprecated; use `arr[tuple(seq)]` instead of `arr[seq]`. In the future this will be interpreted as an array index, `arr[np.array(seq)]`, which will result either in an error or a different result.\n",
      "  filter_interactions_values = correlation_matrix[ind.transpose().tolist()]\n"
     ]
    },
    {
     "name": "stdout",
     "output_type": "stream",
     "text": [
      "0.1  | AUROC: 0.08448107136691876  | AUPR: 0.5253456221198156  | SNR: -0.0588316891820666\n"
     ]
    },
    {
     "name": "stderr",
     "output_type": "stream",
     "text": [
      "/home/koolab/Documents/GLIFAC/Code/glifac.py:108: FutureWarning: Using a non-tuple sequence for multidimensional indexing is deprecated; use `arr[tuple(seq)]` instead of `arr[seq]`. In the future this will be interpreted as an array index, `arr[np.array(seq)]`, which will result either in an error or a different result.\n",
      "  filter_interactions = feature_maps[position_pairs].transpose([1, 2, 0])\n",
      "/home/koolab/Documents/GLIFAC/Code/glifac.py:28: RuntimeWarning: invalid value encountered in float_scalars\n",
      "  return top/bottom\n",
      "/home/koolab/Documents/GLIFAC/Code/glifac.py:46: FutureWarning: Using a non-tuple sequence for multidimensional indexing is deprecated; use `arr[tuple(seq)]` instead of `arr[seq]`. In the future this will be interpreted as an array index, `arr[np.array(seq)]`, which will result either in an error or a different result.\n",
      "  filter_interactions_values = correlation_matrix[ind.transpose().tolist()]\n"
     ]
    },
    {
     "name": "stdout",
     "output_type": "stream",
     "text": [
      "0.2  | AUROC: 0.08332550318279991  | AUPR: 0.4826839826839827  | SNR: -0.05936232156273447\n"
     ]
    },
    {
     "name": "stderr",
     "output_type": "stream",
     "text": [
      "/home/koolab/Documents/GLIFAC/Code/glifac.py:108: FutureWarning: Using a non-tuple sequence for multidimensional indexing is deprecated; use `arr[tuple(seq)]` instead of `arr[seq]`. In the future this will be interpreted as an array index, `arr[np.array(seq)]`, which will result either in an error or a different result.\n",
      "  filter_interactions = feature_maps[position_pairs].transpose([1, 2, 0])\n",
      "/home/koolab/Documents/GLIFAC/Code/glifac.py:28: RuntimeWarning: invalid value encountered in float_scalars\n",
      "  return top/bottom\n",
      "/home/koolab/Documents/GLIFAC/Code/glifac.py:46: FutureWarning: Using a non-tuple sequence for multidimensional indexing is deprecated; use `arr[tuple(seq)]` instead of `arr[seq]`. In the future this will be interpreted as an array index, `arr[np.array(seq)]`, which will result either in an error or a different result.\n",
      "  filter_interactions_values = correlation_matrix[ind.transpose().tolist()]\n"
     ]
    },
    {
     "name": "stdout",
     "output_type": "stream",
     "text": [
      "0.3  | AUROC: 0.07715350255663483  | AUPR: 0.4523111297304846  | SNR: -0.0770094963463864\n"
     ]
    },
    {
     "name": "stderr",
     "output_type": "stream",
     "text": [
      "/home/koolab/Documents/GLIFAC/Code/glifac.py:108: FutureWarning: Using a non-tuple sequence for multidimensional indexing is deprecated; use `arr[tuple(seq)]` instead of `arr[seq]`. In the future this will be interpreted as an array index, `arr[np.array(seq)]`, which will result either in an error or a different result.\n",
      "  filter_interactions = feature_maps[position_pairs].transpose([1, 2, 0])\n",
      "/home/koolab/Documents/GLIFAC/Code/glifac.py:28: RuntimeWarning: invalid value encountered in float_scalars\n",
      "  return top/bottom\n",
      "/home/koolab/Documents/GLIFAC/Code/glifac.py:46: FutureWarning: Using a non-tuple sequence for multidimensional indexing is deprecated; use `arr[tuple(seq)]` instead of `arr[seq]`. In the future this will be interpreted as an array index, `arr[np.array(seq)]`, which will result either in an error or a different result.\n",
      "  filter_interactions_values = correlation_matrix[ind.transpose().tolist()]\n"
     ]
    },
    {
     "name": "stdout",
     "output_type": "stream",
     "text": [
      "0.4  | AUROC: 0.07291936358649659  | AUPR: 0.41879625750593497  | SNR: -0.11505501074891475\n"
     ]
    },
    {
     "name": "stderr",
     "output_type": "stream",
     "text": [
      "/home/koolab/Documents/GLIFAC/Code/glifac.py:108: FutureWarning: Using a non-tuple sequence for multidimensional indexing is deprecated; use `arr[tuple(seq)]` instead of `arr[seq]`. In the future this will be interpreted as an array index, `arr[np.array(seq)]`, which will result either in an error or a different result.\n",
      "  filter_interactions = feature_maps[position_pairs].transpose([1, 2, 0])\n",
      "/home/koolab/Documents/GLIFAC/Code/glifac.py:28: RuntimeWarning: invalid value encountered in float_scalars\n",
      "  return top/bottom\n",
      "/home/koolab/Documents/GLIFAC/Code/glifac.py:46: FutureWarning: Using a non-tuple sequence for multidimensional indexing is deprecated; use `arr[tuple(seq)]` instead of `arr[seq]`. In the future this will be interpreted as an array index, `arr[np.array(seq)]`, which will result either in an error or a different result.\n",
      "  filter_interactions_values = correlation_matrix[ind.transpose().tolist()]\n"
     ]
    },
    {
     "name": "stdout",
     "output_type": "stream",
     "text": [
      "0.5  | AUROC: 0.0714732769214104  | AUPR: 0.394637620444072  | SNR: -0.1266445015223338\n"
     ]
    },
    {
     "name": "stderr",
     "output_type": "stream",
     "text": [
      "/home/koolab/Documents/GLIFAC/Code/glifac.py:108: FutureWarning: Using a non-tuple sequence for multidimensional indexing is deprecated; use `arr[tuple(seq)]` instead of `arr[seq]`. In the future this will be interpreted as an array index, `arr[np.array(seq)]`, which will result either in an error or a different result.\n",
      "  filter_interactions = feature_maps[position_pairs].transpose([1, 2, 0])\n",
      "/home/koolab/Documents/GLIFAC/Code/glifac.py:28: RuntimeWarning: invalid value encountered in float_scalars\n",
      "  return top/bottom\n",
      "/home/koolab/Documents/GLIFAC/Code/glifac.py:46: FutureWarning: Using a non-tuple sequence for multidimensional indexing is deprecated; use `arr[tuple(seq)]` instead of `arr[seq]`. In the future this will be interpreted as an array index, `arr[np.array(seq)]`, which will result either in an error or a different result.\n",
      "  filter_interactions_values = correlation_matrix[ind.transpose().tolist()]\n"
     ]
    },
    {
     "name": "stdout",
     "output_type": "stream",
     "text": [
      "0.6  | AUROC: 0.07059645651662357  | AUPR: 0.38779500069822653  | SNR: -0.14238940845820647\n"
     ]
    },
    {
     "name": "stderr",
     "output_type": "stream",
     "text": [
      "/home/koolab/Documents/GLIFAC/Code/glifac.py:108: FutureWarning: Using a non-tuple sequence for multidimensional indexing is deprecated; use `arr[tuple(seq)]` instead of `arr[seq]`. In the future this will be interpreted as an array index, `arr[np.array(seq)]`, which will result either in an error or a different result.\n",
      "  filter_interactions = feature_maps[position_pairs].transpose([1, 2, 0])\n",
      "/home/koolab/Documents/GLIFAC/Code/glifac.py:28: RuntimeWarning: invalid value encountered in float_scalars\n",
      "  return top/bottom\n",
      "/home/koolab/Documents/GLIFAC/Code/glifac.py:46: FutureWarning: Using a non-tuple sequence for multidimensional indexing is deprecated; use `arr[tuple(seq)]` instead of `arr[seq]`. In the future this will be interpreted as an array index, `arr[np.array(seq)]`, which will result either in an error or a different result.\n",
      "  filter_interactions_values = correlation_matrix[ind.transpose().tolist()]\n"
     ]
    },
    {
     "name": "stdout",
     "output_type": "stream",
     "text": [
      "0.7  | AUROC: 0.05573181842532381  | AUPR: 0.352744030163385  | SNR: -0.261447077370957\n"
     ]
    },
    {
     "name": "stderr",
     "output_type": "stream",
     "text": [
      "/home/koolab/Documents/GLIFAC/Code/glifac.py:108: FutureWarning: Using a non-tuple sequence for multidimensional indexing is deprecated; use `arr[tuple(seq)]` instead of `arr[seq]`. In the future this will be interpreted as an array index, `arr[np.array(seq)]`, which will result either in an error or a different result.\n",
      "  filter_interactions = feature_maps[position_pairs].transpose([1, 2, 0])\n",
      "/home/koolab/Documents/GLIFAC/Code/glifac.py:28: RuntimeWarning: invalid value encountered in float_scalars\n",
      "  return top/bottom\n",
      "/home/koolab/Documents/GLIFAC/Code/glifac.py:46: FutureWarning: Using a non-tuple sequence for multidimensional indexing is deprecated; use `arr[tuple(seq)]` instead of `arr[seq]`. In the future this will be interpreted as an array index, `arr[np.array(seq)]`, which will result either in an error or a different result.\n",
      "  filter_interactions_values = correlation_matrix[ind.transpose().tolist()]\n"
     ]
    },
    {
     "name": "stdout",
     "output_type": "stream",
     "text": [
      "0.8  | AUROC: 0.05431206186576679  | AUPR: 0.3420611646418098  | SNR: -0.2971838690260302\n"
     ]
    },
    {
     "name": "stderr",
     "output_type": "stream",
     "text": [
      "/home/koolab/Documents/GLIFAC/Code/glifac.py:108: FutureWarning: Using a non-tuple sequence for multidimensional indexing is deprecated; use `arr[tuple(seq)]` instead of `arr[seq]`. In the future this will be interpreted as an array index, `arr[np.array(seq)]`, which will result either in an error or a different result.\n",
      "  filter_interactions = feature_maps[position_pairs].transpose([1, 2, 0])\n",
      "/home/koolab/Documents/GLIFAC/Code/glifac.py:28: RuntimeWarning: invalid value encountered in float_scalars\n",
      "  return top/bottom\n",
      "/home/koolab/Documents/GLIFAC/Code/glifac.py:46: FutureWarning: Using a non-tuple sequence for multidimensional indexing is deprecated; use `arr[tuple(seq)]` instead of `arr[seq]`. In the future this will be interpreted as an array index, `arr[np.array(seq)]`, which will result either in an error or a different result.\n",
      "  filter_interactions_values = correlation_matrix[ind.transpose().tolist()]\n"
     ]
    },
    {
     "name": "stdout",
     "output_type": "stream",
     "text": [
      "0.9  | AUROC: 0.04927011266211735  | AUPR: 0.3310990085183634  | SNR: -0.3436279151703\n",
      "finished correlation interpretability\n",
      "saved statistics\n",
      "saved filters\n"
     ]
    },
    {
     "name": "stderr",
     "output_type": "stream",
     "text": [
      "/home/koolab/Documents/GLIFAC/Code/glifac_pipeline.py:297: MatplotlibDeprecationWarning: savefig() got unexpected keyword argument \"box_inches\" which is no longer supported as of 3.3 and will become an error two minor releases later\n",
      "  fig.savefig(glifac_dir, format='pdf', dpi=300, box_inches='tight')\n"
     ]
    },
    {
     "name": "stdout",
     "output_type": "stream",
     "text": [
      "saved glifac\n",
      "Epoch 1/100\n",
      "350/350 - 5s - loss: 0.2821 - auroc: 0.8560 - aupr: 0.5796 - val_loss: 0.2908 - val_auroc: 0.9678 - val_aupr: 0.8629\n",
      "Epoch 2/100\n",
      "350/350 - 5s - loss: 0.1361 - auroc: 0.9694 - aupr: 0.8820 - val_loss: 0.0957 - val_auroc: 0.9852 - val_aupr: 0.9397\n",
      "Epoch 3/100\n",
      "350/350 - 5s - loss: 0.1095 - auroc: 0.9795 - aupr: 0.9189 - val_loss: 0.0940 - val_auroc: 0.9838 - val_aupr: 0.9388\n",
      "Epoch 4/100\n",
      "350/350 - 5s - loss: 0.1022 - auroc: 0.9818 - aupr: 0.9275 - val_loss: 0.0974 - val_auroc: 0.9871 - val_aupr: 0.9404\n",
      "Epoch 5/100\n",
      "350/350 - 5s - loss: 0.0979 - auroc: 0.9830 - aupr: 0.9322 - val_loss: 0.0954 - val_auroc: 0.9843 - val_aupr: 0.9380\n",
      "Epoch 6/100\n",
      "350/350 - 5s - loss: 0.0963 - auroc: 0.9833 - aupr: 0.9341 - val_loss: 0.0855 - val_auroc: 0.9881 - val_aupr: 0.9474\n",
      "Epoch 7/100\n",
      "350/350 - 5s - loss: 0.0944 - auroc: 0.9840 - aupr: 0.9356 - val_loss: 0.0812 - val_auroc: 0.9885 - val_aupr: 0.9544\n",
      "Epoch 8/100\n",
      "350/350 - 5s - loss: 0.0938 - auroc: 0.9841 - aupr: 0.9362 - val_loss: 0.0775 - val_auroc: 0.9903 - val_aupr: 0.9556\n",
      "Epoch 9/100\n",
      "350/350 - 5s - loss: 0.0925 - auroc: 0.9844 - aupr: 0.9377 - val_loss: 0.0799 - val_auroc: 0.9874 - val_aupr: 0.9552\n",
      "Epoch 10/100\n",
      "350/350 - 5s - loss: 0.0926 - auroc: 0.9841 - aupr: 0.9383 - val_loss: 0.0754 - val_auroc: 0.9900 - val_aupr: 0.9574\n",
      "Epoch 11/100\n",
      "350/350 - 5s - loss: 0.0915 - auroc: 0.9848 - aupr: 0.9395 - val_loss: 0.0776 - val_auroc: 0.9893 - val_aupr: 0.9550\n",
      "Epoch 12/100\n",
      "350/350 - 5s - loss: 0.0917 - auroc: 0.9845 - aupr: 0.9387 - val_loss: 0.0759 - val_auroc: 0.9890 - val_aupr: 0.9585\n",
      "Epoch 13/100\n",
      "350/350 - 5s - loss: 0.0911 - auroc: 0.9848 - aupr: 0.9398 - val_loss: 0.0750 - val_auroc: 0.9901 - val_aupr: 0.9584\n",
      "Epoch 14/100\n",
      "350/350 - 5s - loss: 0.0908 - auroc: 0.9850 - aupr: 0.9396 - val_loss: 0.0748 - val_auroc: 0.9908 - val_aupr: 0.9598\n",
      "Epoch 15/100\n",
      "350/350 - 5s - loss: 0.0904 - auroc: 0.9848 - aupr: 0.9405 - val_loss: 0.0762 - val_auroc: 0.9903 - val_aupr: 0.9575\n",
      "Epoch 16/100\n",
      "350/350 - 5s - loss: 0.0901 - auroc: 0.9848 - aupr: 0.9409 - val_loss: 0.0750 - val_auroc: 0.9908 - val_aupr: 0.9591\n",
      "Epoch 17/100\n",
      "350/350 - 5s - loss: 0.0902 - auroc: 0.9847 - aupr: 0.9404 - val_loss: 0.0746 - val_auroc: 0.9902 - val_aupr: 0.9581\n",
      "Epoch 18/100\n",
      "350/350 - 5s - loss: 0.0896 - auroc: 0.9852 - aupr: 0.9410 - val_loss: 0.0729 - val_auroc: 0.9912 - val_aupr: 0.9606\n",
      "Epoch 19/100\n",
      "350/350 - 5s - loss: 0.0891 - auroc: 0.9853 - aupr: 0.9422 - val_loss: 0.0746 - val_auroc: 0.9904 - val_aupr: 0.9581\n",
      "Epoch 20/100\n",
      "350/350 - 5s - loss: 0.0887 - auroc: 0.9855 - aupr: 0.9424 - val_loss: 0.0726 - val_auroc: 0.9909 - val_aupr: 0.9607\n",
      "Epoch 21/100\n",
      "350/350 - 5s - loss: 0.0883 - auroc: 0.9855 - aupr: 0.9426 - val_loss: 0.0734 - val_auroc: 0.9905 - val_aupr: 0.9600\n",
      "Epoch 22/100\n",
      "350/350 - 5s - loss: 0.0882 - auroc: 0.9854 - aupr: 0.9433 - val_loss: 0.0726 - val_auroc: 0.9915 - val_aupr: 0.9597\n",
      "Epoch 23/100\n",
      "350/350 - 5s - loss: 0.0877 - auroc: 0.9856 - aupr: 0.9434 - val_loss: 0.0731 - val_auroc: 0.9912 - val_aupr: 0.9597\n",
      "Epoch 24/100\n",
      "350/350 - 5s - loss: 0.0876 - auroc: 0.9857 - aupr: 0.9435 - val_loss: 0.0730 - val_auroc: 0.9910 - val_aupr: 0.9606\n",
      "Epoch 25/100\n",
      "350/350 - 5s - loss: 0.0874 - auroc: 0.9857 - aupr: 0.9437 - val_loss: 0.0755 - val_auroc: 0.9907 - val_aupr: 0.9583\n",
      "Epoch 26/100\n",
      "350/350 - 5s - loss: 0.0869 - auroc: 0.9860 - aupr: 0.9445 - val_loss: 0.0740 - val_auroc: 0.9906 - val_aupr: 0.9579\n",
      "Epoch 27/100\n",
      "350/350 - 5s - loss: 0.0864 - auroc: 0.9862 - aupr: 0.9451 - val_loss: 0.0725 - val_auroc: 0.9908 - val_aupr: 0.9605\n",
      "Epoch 28/100\n",
      "350/350 - 5s - loss: 0.0859 - auroc: 0.9862 - aupr: 0.9458 - val_loss: 0.0728 - val_auroc: 0.9915 - val_aupr: 0.9605\n",
      "Epoch 29/100\n",
      "350/350 - 5s - loss: 0.0855 - auroc: 0.9861 - aupr: 0.9461 - val_loss: 0.0713 - val_auroc: 0.9908 - val_aupr: 0.9617\n",
      "Epoch 30/100\n",
      "350/350 - 5s - loss: 0.0855 - auroc: 0.9863 - aupr: 0.9462 - val_loss: 0.0724 - val_auroc: 0.9915 - val_aupr: 0.9617\n",
      "Epoch 31/100\n",
      "350/350 - 5s - loss: 0.0853 - auroc: 0.9864 - aupr: 0.9465 - val_loss: 0.0701 - val_auroc: 0.9915 - val_aupr: 0.9632\n",
      "Epoch 32/100\n",
      "350/350 - 5s - loss: 0.0849 - auroc: 0.9866 - aupr: 0.9471 - val_loss: 0.0710 - val_auroc: 0.9906 - val_aupr: 0.9621\n",
      "Epoch 33/100\n",
      "350/350 - 5s - loss: 0.0839 - auroc: 0.9867 - aupr: 0.9482 - val_loss: 0.0709 - val_auroc: 0.9912 - val_aupr: 0.9623\n",
      "Epoch 34/100\n",
      "350/350 - 5s - loss: 0.0841 - auroc: 0.9867 - aupr: 0.9477 - val_loss: 0.0725 - val_auroc: 0.9910 - val_aupr: 0.9613\n",
      "Epoch 35/100\n",
      "350/350 - 5s - loss: 0.0839 - auroc: 0.9867 - aupr: 0.9483 - val_loss: 0.0707 - val_auroc: 0.9913 - val_aupr: 0.9610\n",
      "Epoch 36/100\n",
      "350/350 - 5s - loss: 0.0831 - auroc: 0.9870 - aupr: 0.9493 - val_loss: 0.0705 - val_auroc: 0.9910 - val_aupr: 0.9627\n",
      "Epoch 37/100\n",
      "350/350 - 5s - loss: 0.0829 - auroc: 0.9871 - aupr: 0.9494 - val_loss: 0.0713 - val_auroc: 0.9909 - val_aupr: 0.9622\n",
      "Epoch 38/100\n",
      "350/350 - 5s - loss: 0.0822 - auroc: 0.9874 - aupr: 0.9502 - val_loss: 0.0713 - val_auroc: 0.9911 - val_aupr: 0.9616\n",
      "Epoch 39/100\n",
      "350/350 - 5s - loss: 0.0822 - auroc: 0.9872 - aupr: 0.9505 - val_loss: 0.0715 - val_auroc: 0.9910 - val_aupr: 0.9615\n",
      "Epoch 40/100\n",
      "350/350 - 5s - loss: 0.0809 - auroc: 0.9877 - aupr: 0.9519 - val_loss: 0.0710 - val_auroc: 0.9910 - val_aupr: 0.9620\n",
      "Epoch 41/100\n",
      "\n",
      "Epoch 00041: ReduceLROnPlateau reducing learning rate to 0.00020000000949949026.\n",
      "350/350 - 5s - loss: 0.0805 - auroc: 0.9877 - aupr: 0.9522 - val_loss: 0.0729 - val_auroc: 0.9909 - val_aupr: 0.9601\n",
      "Epoch 42/100\n",
      "350/350 - 5s - loss: 0.0775 - auroc: 0.9888 - aupr: 0.9556 - val_loss: 0.0690 - val_auroc: 0.9918 - val_aupr: 0.9642\n",
      "Epoch 43/100\n",
      "350/350 - 5s - loss: 0.0767 - auroc: 0.9886 - aupr: 0.9562 - val_loss: 0.0689 - val_auroc: 0.9917 - val_aupr: 0.9639\n",
      "Epoch 44/100\n",
      "350/350 - 5s - loss: 0.0766 - auroc: 0.9888 - aupr: 0.9561 - val_loss: 0.0685 - val_auroc: 0.9920 - val_aupr: 0.9644\n",
      "Epoch 45/100\n",
      "350/350 - 5s - loss: 0.0764 - auroc: 0.9889 - aupr: 0.9567 - val_loss: 0.0688 - val_auroc: 0.9918 - val_aupr: 0.9643\n",
      "Epoch 46/100\n",
      "350/350 - 5s - loss: 0.0757 - auroc: 0.9890 - aupr: 0.9574 - val_loss: 0.0688 - val_auroc: 0.9917 - val_aupr: 0.9638\n",
      "Epoch 47/100\n",
      "350/350 - 5s - loss: 0.0758 - auroc: 0.9889 - aupr: 0.9574 - val_loss: 0.0689 - val_auroc: 0.9917 - val_aupr: 0.9638\n",
      "Epoch 48/100\n",
      "350/350 - 5s - loss: 0.0753 - auroc: 0.9892 - aupr: 0.9578 - val_loss: 0.0689 - val_auroc: 0.9918 - val_aupr: 0.9638\n",
      "Epoch 49/100\n",
      "350/350 - 5s - loss: 0.0746 - auroc: 0.9893 - aupr: 0.9586 - val_loss: 0.0688 - val_auroc: 0.9916 - val_aupr: 0.9637\n",
      "Epoch 50/100\n",
      "350/350 - 5s - loss: 0.0751 - auroc: 0.9892 - aupr: 0.9581 - val_loss: 0.0692 - val_auroc: 0.9914 - val_aupr: 0.9632\n",
      "Epoch 51/100\n",
      "350/350 - 5s - loss: 0.0747 - auroc: 0.9892 - aupr: 0.9584 - val_loss: 0.0689 - val_auroc: 0.9916 - val_aupr: 0.9636\n",
      "Epoch 52/100\n",
      "350/350 - 5s - loss: 0.0746 - auroc: 0.9893 - aupr: 0.9583 - val_loss: 0.0692 - val_auroc: 0.9917 - val_aupr: 0.9634\n",
      "Epoch 53/100\n",
      "350/350 - 5s - loss: 0.0745 - auroc: 0.9895 - aupr: 0.9587 - val_loss: 0.0691 - val_auroc: 0.9916 - val_aupr: 0.9635\n",
      "Epoch 54/100\n",
      "\n",
      "Epoch 00054: ReduceLROnPlateau reducing learning rate to 4.0000001899898055e-05.\n",
      "350/350 - 5s - loss: 0.0744 - auroc: 0.9894 - aupr: 0.9584 - val_loss: 0.0688 - val_auroc: 0.9917 - val_aupr: 0.9638\n",
      "Epoch 55/100\n",
      "350/350 - 5s - loss: 0.0734 - auroc: 0.9896 - aupr: 0.9600 - val_loss: 0.0686 - val_auroc: 0.9917 - val_aupr: 0.9641\n",
      "Epoch 56/100\n",
      "350/350 - 5s - loss: 0.0732 - auroc: 0.9898 - aupr: 0.9601 - val_loss: 0.0686 - val_auroc: 0.9917 - val_aupr: 0.9641\n",
      "Epoch 57/100\n",
      "350/350 - 5s - loss: 0.0731 - auroc: 0.9898 - aupr: 0.9600 - val_loss: 0.0687 - val_auroc: 0.9916 - val_aupr: 0.9638\n",
      "Epoch 58/100\n",
      "350/350 - 5s - loss: 0.0734 - auroc: 0.9896 - aupr: 0.9598 - val_loss: 0.0688 - val_auroc: 0.9917 - val_aupr: 0.9638\n",
      "Epoch 59/100\n",
      "Restoring model weights from the end of the best epoch.\n",
      "350/350 - 5s - loss: 0.0733 - auroc: 0.9895 - aupr: 0.9601 - val_loss: 0.0689 - val_auroc: 0.9916 - val_aupr: 0.9637\n",
      "Epoch 00059: early stopping\n",
      "625/625 [==============================] - 1s 2ms/step - loss: 0.0688 - auroc: 0.9919 - aupr: 0.9641\n",
      "generated PPMs\n",
      "TomTom TPR:  0.9375\n",
      "TomTom FPR:  0.0\n",
      "Motif coverage:  1.0\n",
      "completed TomTom analysis\n",
      "completed clustering\n"
     ]
    },
    {
     "name": "stderr",
     "output_type": "stream",
     "text": [
      "/home/koolab/Documents/GLIFAC/Code/glifac.py:108: FutureWarning: Using a non-tuple sequence for multidimensional indexing is deprecated; use `arr[tuple(seq)]` instead of `arr[seq]`. In the future this will be interpreted as an array index, `arr[np.array(seq)]`, which will result either in an error or a different result.\n",
      "  filter_interactions = feature_maps[position_pairs].transpose([1, 2, 0])\n",
      "/home/koolab/Documents/GLIFAC/Code/glifac.py:46: FutureWarning: Using a non-tuple sequence for multidimensional indexing is deprecated; use `arr[tuple(seq)]` instead of `arr[seq]`. In the future this will be interpreted as an array index, `arr[np.array(seq)]`, which will result either in an error or a different result.\n",
      "  filter_interactions_values = correlation_matrix[ind.transpose().tolist()]\n"
     ]
    },
    {
     "name": "stdout",
     "output_type": "stream",
     "text": [
      "0.0  | AUROC: 0.9626560391363023  | AUPR: 0.9967912946428572  | SNR: 3.7594215077132254\n"
     ]
    },
    {
     "name": "stderr",
     "output_type": "stream",
     "text": [
      "/home/koolab/Documents/GLIFAC/Code/glifac.py:108: FutureWarning: Using a non-tuple sequence for multidimensional indexing is deprecated; use `arr[tuple(seq)]` instead of `arr[seq]`. In the future this will be interpreted as an array index, `arr[np.array(seq)]`, which will result either in an error or a different result.\n",
      "  filter_interactions = feature_maps[position_pairs].transpose([1, 2, 0])\n",
      "/home/koolab/Documents/GLIFAC/Code/glifac.py:46: FutureWarning: Using a non-tuple sequence for multidimensional indexing is deprecated; use `arr[tuple(seq)]` instead of `arr[seq]`. In the future this will be interpreted as an array index, `arr[np.array(seq)]`, which will result either in an error or a different result.\n",
      "  filter_interactions_values = correlation_matrix[ind.transpose().tolist()]\n"
     ]
    },
    {
     "name": "stdout",
     "output_type": "stream",
     "text": [
      "0.1  | AUROC: 0.21007437413943852  | AUPR: 0.6160714285714286  | SNR: 1.3123363650523212\n"
     ]
    },
    {
     "name": "stderr",
     "output_type": "stream",
     "text": [
      "/home/koolab/Documents/GLIFAC/Code/glifac.py:108: FutureWarning: Using a non-tuple sequence for multidimensional indexing is deprecated; use `arr[tuple(seq)]` instead of `arr[seq]`. In the future this will be interpreted as an array index, `arr[np.array(seq)]`, which will result either in an error or a different result.\n",
      "  filter_interactions = feature_maps[position_pairs].transpose([1, 2, 0])\n",
      "/home/koolab/Documents/GLIFAC/Code/glifac.py:46: FutureWarning: Using a non-tuple sequence for multidimensional indexing is deprecated; use `arr[tuple(seq)]` instead of `arr[seq]`. In the future this will be interpreted as an array index, `arr[np.array(seq)]`, which will result either in an error or a different result.\n",
      "  filter_interactions_values = correlation_matrix[ind.transpose().tolist()]\n"
     ]
    },
    {
     "name": "stdout",
     "output_type": "stream",
     "text": [
      "0.2  | AUROC: 0.10559728638545654  | AUPR: 0.5920758928571428  | SNR: 0.6615972487820871\n"
     ]
    },
    {
     "name": "stderr",
     "output_type": "stream",
     "text": [
      "/home/koolab/Documents/GLIFAC/Code/glifac.py:108: FutureWarning: Using a non-tuple sequence for multidimensional indexing is deprecated; use `arr[tuple(seq)]` instead of `arr[seq]`. In the future this will be interpreted as an array index, `arr[np.array(seq)]`, which will result either in an error or a different result.\n",
      "  filter_interactions = feature_maps[position_pairs].transpose([1, 2, 0])\n",
      "/home/koolab/Documents/GLIFAC/Code/glifac.py:28: RuntimeWarning: invalid value encountered in float_scalars\n",
      "  return top/bottom\n",
      "/home/koolab/Documents/GLIFAC/Code/glifac.py:46: FutureWarning: Using a non-tuple sequence for multidimensional indexing is deprecated; use `arr[tuple(seq)]` instead of `arr[seq]`. In the future this will be interpreted as an array index, `arr[np.array(seq)]`, which will result either in an error or a different result.\n",
      "  filter_interactions_values = correlation_matrix[ind.transpose().tolist()]\n"
     ]
    },
    {
     "name": "stdout",
     "output_type": "stream",
     "text": [
      "0.3  | AUROC: 0.06262928868091139  | AUPR: 0.6639229910714286  | SNR: 0.305786104295078\n"
     ]
    },
    {
     "name": "stderr",
     "output_type": "stream",
     "text": [
      "/home/koolab/Documents/GLIFAC/Code/glifac.py:108: FutureWarning: Using a non-tuple sequence for multidimensional indexing is deprecated; use `arr[tuple(seq)]` instead of `arr[seq]`. In the future this will be interpreted as an array index, `arr[np.array(seq)]`, which will result either in an error or a different result.\n",
      "  filter_interactions = feature_maps[position_pairs].transpose([1, 2, 0])\n",
      "/home/koolab/Documents/GLIFAC/Code/glifac.py:28: RuntimeWarning: invalid value encountered in float_scalars\n",
      "  return top/bottom\n",
      "/home/koolab/Documents/GLIFAC/Code/glifac.py:46: FutureWarning: Using a non-tuple sequence for multidimensional indexing is deprecated; use `arr[tuple(seq)]` instead of `arr[seq]`. In the future this will be interpreted as an array index, `arr[np.array(seq)]`, which will result either in an error or a different result.\n",
      "  filter_interactions_values = correlation_matrix[ind.transpose().tolist()]\n"
     ]
    },
    {
     "name": "stdout",
     "output_type": "stream",
     "text": [
      "0.4  | AUROC: 0.047584800271532085  | AUPR: 0.6251395089285714  | SNR: 0.12252754857593809\n"
     ]
    },
    {
     "name": "stderr",
     "output_type": "stream",
     "text": [
      "/home/koolab/Documents/GLIFAC/Code/glifac.py:108: FutureWarning: Using a non-tuple sequence for multidimensional indexing is deprecated; use `arr[tuple(seq)]` instead of `arr[seq]`. In the future this will be interpreted as an array index, `arr[np.array(seq)]`, which will result either in an error or a different result.\n",
      "  filter_interactions = feature_maps[position_pairs].transpose([1, 2, 0])\n",
      "/home/koolab/Documents/GLIFAC/Code/glifac.py:28: RuntimeWarning: invalid value encountered in float_scalars\n",
      "  return top/bottom\n",
      "/home/koolab/Documents/GLIFAC/Code/glifac.py:46: FutureWarning: Using a non-tuple sequence for multidimensional indexing is deprecated; use `arr[tuple(seq)]` instead of `arr[seq]`. In the future this will be interpreted as an array index, `arr[np.array(seq)]`, which will result either in an error or a different result.\n",
      "  filter_interactions_values = correlation_matrix[ind.transpose().tolist()]\n"
     ]
    },
    {
     "name": "stdout",
     "output_type": "stream",
     "text": [
      "0.5  | AUROC: 0.03951172841179184  | AUPR: 0.5612444196428571  | SNR: 0.006444927177651654\n"
     ]
    },
    {
     "name": "stderr",
     "output_type": "stream",
     "text": [
      "/home/koolab/Documents/GLIFAC/Code/glifac.py:108: FutureWarning: Using a non-tuple sequence for multidimensional indexing is deprecated; use `arr[tuple(seq)]` instead of `arr[seq]`. In the future this will be interpreted as an array index, `arr[np.array(seq)]`, which will result either in an error or a different result.\n",
      "  filter_interactions = feature_maps[position_pairs].transpose([1, 2, 0])\n",
      "/home/koolab/Documents/GLIFAC/Code/glifac.py:28: RuntimeWarning: invalid value encountered in float_scalars\n",
      "  return top/bottom\n",
      "/home/koolab/Documents/GLIFAC/Code/glifac.py:46: FutureWarning: Using a non-tuple sequence for multidimensional indexing is deprecated; use `arr[tuple(seq)]` instead of `arr[seq]`. In the future this will be interpreted as an array index, `arr[np.array(seq)]`, which will result either in an error or a different result.\n",
      "  filter_interactions_values = correlation_matrix[ind.transpose().tolist()]\n"
     ]
    },
    {
     "name": "stdout",
     "output_type": "stream",
     "text": [
      "0.6  | AUROC: 0.03861705872440606  | AUPR: 0.5313895089285714  | SNR: 0.10018186059718183\n"
     ]
    },
    {
     "name": "stderr",
     "output_type": "stream",
     "text": [
      "/home/koolab/Documents/GLIFAC/Code/glifac.py:108: FutureWarning: Using a non-tuple sequence for multidimensional indexing is deprecated; use `arr[tuple(seq)]` instead of `arr[seq]`. In the future this will be interpreted as an array index, `arr[np.array(seq)]`, which will result either in an error or a different result.\n",
      "  filter_interactions = feature_maps[position_pairs].transpose([1, 2, 0])\n",
      "/home/koolab/Documents/GLIFAC/Code/glifac.py:28: RuntimeWarning: invalid value encountered in float_scalars\n",
      "  return top/bottom\n",
      "/home/koolab/Documents/GLIFAC/Code/glifac.py:46: FutureWarning: Using a non-tuple sequence for multidimensional indexing is deprecated; use `arr[tuple(seq)]` instead of `arr[seq]`. In the future this will be interpreted as an array index, `arr[np.array(seq)]`, which will result either in an error or a different result.\n",
      "  filter_interactions_values = correlation_matrix[ind.transpose().tolist()]\n"
     ]
    },
    {
     "name": "stdout",
     "output_type": "stream",
     "text": [
      "0.7  | AUROC: 0.02877268504033107  | AUPR: 0.4580078125  | SNR: -0.15607407409949867\n"
     ]
    },
    {
     "name": "stderr",
     "output_type": "stream",
     "text": [
      "/home/koolab/Documents/GLIFAC/Code/glifac.py:108: FutureWarning: Using a non-tuple sequence for multidimensional indexing is deprecated; use `arr[tuple(seq)]` instead of `arr[seq]`. In the future this will be interpreted as an array index, `arr[np.array(seq)]`, which will result either in an error or a different result.\n",
      "  filter_interactions = feature_maps[position_pairs].transpose([1, 2, 0])\n",
      "/home/koolab/Documents/GLIFAC/Code/glifac.py:28: RuntimeWarning: invalid value encountered in float_scalars\n",
      "  return top/bottom\n",
      "/home/koolab/Documents/GLIFAC/Code/glifac.py:46: FutureWarning: Using a non-tuple sequence for multidimensional indexing is deprecated; use `arr[tuple(seq)]` instead of `arr[seq]`. In the future this will be interpreted as an array index, `arr[np.array(seq)]`, which will result either in an error or a different result.\n",
      "  filter_interactions_values = correlation_matrix[ind.transpose().tolist()]\n"
     ]
    },
    {
     "name": "stdout",
     "output_type": "stream",
     "text": [
      "0.8  | AUROC: 0.028763194059153546  | AUPR: 0.3920200892857143  | SNR: -0.17845609564957524\n"
     ]
    },
    {
     "name": "stderr",
     "output_type": "stream",
     "text": [
      "/home/koolab/Documents/GLIFAC/Code/glifac.py:108: FutureWarning: Using a non-tuple sequence for multidimensional indexing is deprecated; use `arr[tuple(seq)]` instead of `arr[seq]`. In the future this will be interpreted as an array index, `arr[np.array(seq)]`, which will result either in an error or a different result.\n",
      "  filter_interactions = feature_maps[position_pairs].transpose([1, 2, 0])\n",
      "/home/koolab/Documents/GLIFAC/Code/glifac.py:28: RuntimeWarning: invalid value encountered in float_scalars\n",
      "  return top/bottom\n",
      "/home/koolab/Documents/GLIFAC/Code/glifac.py:46: FutureWarning: Using a non-tuple sequence for multidimensional indexing is deprecated; use `arr[tuple(seq)]` instead of `arr[seq]`. In the future this will be interpreted as an array index, `arr[np.array(seq)]`, which will result either in an error or a different result.\n",
      "  filter_interactions_values = correlation_matrix[ind.transpose().tolist()]\n"
     ]
    },
    {
     "name": "stdout",
     "output_type": "stream",
     "text": [
      "0.9  | AUROC: 0.029052948016590474  | AUPR: 0.3809988839285714  | SNR: -0.09250645843325789\n",
      "finished correlation interpretability\n",
      "saved statistics\n",
      "saved filters\n"
     ]
    },
    {
     "name": "stderr",
     "output_type": "stream",
     "text": [
      "/home/koolab/Documents/GLIFAC/Code/glifac_pipeline.py:297: MatplotlibDeprecationWarning: savefig() got unexpected keyword argument \"box_inches\" which is no longer supported as of 3.3 and will become an error two minor releases later\n",
      "  fig.savefig(glifac_dir, format='pdf', dpi=300, box_inches='tight')\n"
     ]
    },
    {
     "name": "stdout",
     "output_type": "stream",
     "text": [
      "saved glifac\n",
      "Epoch 1/100\n",
      "350/350 - 5s - loss: 0.2947 - auroc: 0.8384 - aupr: 0.5519 - val_loss: 0.2628 - val_auroc: 0.9683 - val_aupr: 0.8710\n",
      "Epoch 2/100\n",
      "350/350 - 5s - loss: 0.1272 - auroc: 0.9730 - aupr: 0.8963 - val_loss: 0.1046 - val_auroc: 0.9819 - val_aupr: 0.9302\n",
      "Epoch 3/100\n",
      "350/350 - 5s - loss: 0.1094 - auroc: 0.9796 - aupr: 0.9197 - val_loss: 0.0866 - val_auroc: 0.9875 - val_aupr: 0.9460\n",
      "Epoch 4/100\n",
      "350/350 - 5s - loss: 0.1041 - auroc: 0.9814 - aupr: 0.9269 - val_loss: 0.0999 - val_auroc: 0.9842 - val_aupr: 0.9308\n",
      "Epoch 5/100\n",
      "350/350 - 5s - loss: 0.1012 - auroc: 0.9823 - aupr: 0.9300 - val_loss: 0.0908 - val_auroc: 0.9860 - val_aupr: 0.9430\n",
      "Epoch 6/100\n",
      "350/350 - 5s - loss: 0.0973 - auroc: 0.9836 - aupr: 0.9340 - val_loss: 0.0907 - val_auroc: 0.9857 - val_aupr: 0.9442\n",
      "Epoch 7/100\n",
      "350/350 - 5s - loss: 0.0955 - auroc: 0.9843 - aupr: 0.9364 - val_loss: 0.0823 - val_auroc: 0.9870 - val_aupr: 0.9519\n",
      "Epoch 8/100\n",
      "350/350 - 5s - loss: 0.0952 - auroc: 0.9843 - aupr: 0.9368 - val_loss: 0.1015 - val_auroc: 0.9840 - val_aupr: 0.9300\n",
      "Epoch 9/100\n",
      "350/350 - 5s - loss: 0.0943 - auroc: 0.9846 - aupr: 0.9378 - val_loss: 0.0811 - val_auroc: 0.9885 - val_aupr: 0.9525\n",
      "Epoch 10/100\n",
      "350/350 - 5s - loss: 0.0929 - auroc: 0.9850 - aupr: 0.9392 - val_loss: 0.0789 - val_auroc: 0.9889 - val_aupr: 0.9541\n",
      "Epoch 11/100\n",
      "350/350 - 5s - loss: 0.0930 - auroc: 0.9848 - aupr: 0.9392 - val_loss: 0.0753 - val_auroc: 0.9901 - val_aupr: 0.9589\n",
      "Epoch 12/100\n",
      "350/350 - 5s - loss: 0.0926 - auroc: 0.9849 - aupr: 0.9397 - val_loss: 0.0766 - val_auroc: 0.9905 - val_aupr: 0.9575\n",
      "Epoch 13/100\n",
      "350/350 - 5s - loss: 0.0918 - auroc: 0.9850 - aupr: 0.9407 - val_loss: 0.0772 - val_auroc: 0.9904 - val_aupr: 0.9579\n",
      "Epoch 14/100\n",
      "350/350 - 5s - loss: 0.0897 - auroc: 0.9855 - aupr: 0.9425 - val_loss: 0.0742 - val_auroc: 0.9908 - val_aupr: 0.9583\n",
      "Epoch 15/100\n",
      "350/350 - 5s - loss: 0.0883 - auroc: 0.9859 - aupr: 0.9440 - val_loss: 0.0748 - val_auroc: 0.9901 - val_aupr: 0.9579\n",
      "Epoch 16/100\n",
      "350/350 - 5s - loss: 0.0875 - auroc: 0.9863 - aupr: 0.9451 - val_loss: 0.0759 - val_auroc: 0.9894 - val_aupr: 0.9571\n",
      "Epoch 17/100\n",
      "350/350 - 5s - loss: 0.0869 - auroc: 0.9865 - aupr: 0.9456 - val_loss: 0.0719 - val_auroc: 0.9911 - val_aupr: 0.9616\n",
      "Epoch 18/100\n",
      "350/350 - 5s - loss: 0.0872 - auroc: 0.9863 - aupr: 0.9452 - val_loss: 0.0745 - val_auroc: 0.9899 - val_aupr: 0.9589\n",
      "Epoch 19/100\n",
      "350/350 - 5s - loss: 0.0869 - auroc: 0.9862 - aupr: 0.9455 - val_loss: 0.0717 - val_auroc: 0.9907 - val_aupr: 0.9614\n",
      "Epoch 20/100\n",
      "350/350 - 5s - loss: 0.0867 - auroc: 0.9865 - aupr: 0.9458 - val_loss: 0.0721 - val_auroc: 0.9905 - val_aupr: 0.9605\n",
      "Epoch 21/100\n",
      "350/350 - 5s - loss: 0.0860 - auroc: 0.9866 - aupr: 0.9466 - val_loss: 0.0720 - val_auroc: 0.9914 - val_aupr: 0.9612\n",
      "Epoch 22/100\n",
      "350/350 - 5s - loss: 0.0853 - auroc: 0.9868 - aupr: 0.9476 - val_loss: 0.0728 - val_auroc: 0.9909 - val_aupr: 0.9611\n",
      "Epoch 23/100\n",
      "350/350 - 5s - loss: 0.0848 - auroc: 0.9869 - aupr: 0.9481 - val_loss: 0.0711 - val_auroc: 0.9916 - val_aupr: 0.9623\n",
      "Epoch 24/100\n",
      "350/350 - 5s - loss: 0.0843 - auroc: 0.9872 - aupr: 0.9485 - val_loss: 0.0720 - val_auroc: 0.9905 - val_aupr: 0.9606\n",
      "Epoch 25/100\n",
      "350/350 - 5s - loss: 0.0842 - auroc: 0.9871 - aupr: 0.9487 - val_loss: 0.0725 - val_auroc: 0.9911 - val_aupr: 0.9596\n",
      "Epoch 26/100\n",
      "350/350 - 5s - loss: 0.0843 - auroc: 0.9870 - aupr: 0.9484 - val_loss: 0.0722 - val_auroc: 0.9911 - val_aupr: 0.9611\n",
      "Epoch 27/100\n",
      "350/350 - 5s - loss: 0.0830 - auroc: 0.9875 - aupr: 0.9502 - val_loss: 0.0725 - val_auroc: 0.9908 - val_aupr: 0.9603\n",
      "Epoch 28/100\n",
      "350/350 - 5s - loss: 0.0827 - auroc: 0.9876 - aupr: 0.9507 - val_loss: 0.0720 - val_auroc: 0.9909 - val_aupr: 0.9611\n",
      "Epoch 29/100\n",
      "350/350 - 5s - loss: 0.0826 - auroc: 0.9877 - aupr: 0.9507 - val_loss: 0.0712 - val_auroc: 0.9910 - val_aupr: 0.9619\n",
      "Epoch 30/100\n",
      "350/350 - 5s - loss: 0.0822 - auroc: 0.9876 - aupr: 0.9509 - val_loss: 0.0713 - val_auroc: 0.9909 - val_aupr: 0.9624\n",
      "Epoch 31/100\n",
      "350/350 - 5s - loss: 0.0814 - auroc: 0.9879 - aupr: 0.9522 - val_loss: 0.0714 - val_auroc: 0.9912 - val_aupr: 0.9608\n",
      "Epoch 32/100\n",
      "350/350 - 5s - loss: 0.0817 - auroc: 0.9878 - aupr: 0.9516 - val_loss: 0.0721 - val_auroc: 0.9904 - val_aupr: 0.9613\n",
      "Epoch 33/100\n",
      "350/350 - 5s - loss: 0.0809 - auroc: 0.9882 - aupr: 0.9526 - val_loss: 0.0704 - val_auroc: 0.9911 - val_aupr: 0.9631\n",
      "Epoch 34/100\n",
      "350/350 - 5s - loss: 0.0809 - auroc: 0.9881 - aupr: 0.9526 - val_loss: 0.0711 - val_auroc: 0.9905 - val_aupr: 0.9617\n",
      "Epoch 35/100\n",
      "350/350 - 5s - loss: 0.0802 - auroc: 0.9883 - aupr: 0.9535 - val_loss: 0.0709 - val_auroc: 0.9910 - val_aupr: 0.9626\n",
      "Epoch 36/100\n",
      "350/350 - 5s - loss: 0.0796 - auroc: 0.9885 - aupr: 0.9538 - val_loss: 0.0719 - val_auroc: 0.9907 - val_aupr: 0.9621\n",
      "Epoch 37/100\n",
      "350/350 - 5s - loss: 0.0798 - auroc: 0.9884 - aupr: 0.9539 - val_loss: 0.0698 - val_auroc: 0.9915 - val_aupr: 0.9633\n",
      "Epoch 38/100\n",
      "350/350 - 5s - loss: 0.0791 - auroc: 0.9886 - aupr: 0.9547 - val_loss: 0.0704 - val_auroc: 0.9911 - val_aupr: 0.9629\n",
      "Epoch 39/100\n",
      "350/350 - 5s - loss: 0.0794 - auroc: 0.9884 - aupr: 0.9545 - val_loss: 0.0705 - val_auroc: 0.9911 - val_aupr: 0.9628\n",
      "Epoch 40/100\n",
      "350/350 - 5s - loss: 0.0785 - auroc: 0.9888 - aupr: 0.9555 - val_loss: 0.0710 - val_auroc: 0.9907 - val_aupr: 0.9615\n",
      "Epoch 41/100\n",
      "350/350 - 5s - loss: 0.0778 - auroc: 0.9889 - aupr: 0.9562 - val_loss: 0.0697 - val_auroc: 0.9908 - val_aupr: 0.9625\n",
      "Epoch 42/100\n",
      "350/350 - 5s - loss: 0.0779 - auroc: 0.9887 - aupr: 0.9560 - val_loss: 0.0720 - val_auroc: 0.9909 - val_aupr: 0.9619\n",
      "Epoch 43/100\n",
      "350/350 - 5s - loss: 0.0771 - auroc: 0.9892 - aupr: 0.9569 - val_loss: 0.0707 - val_auroc: 0.9913 - val_aupr: 0.9632\n",
      "Epoch 44/100\n",
      "350/350 - 5s - loss: 0.0769 - auroc: 0.9890 - aupr: 0.9571 - val_loss: 0.0705 - val_auroc: 0.9908 - val_aupr: 0.9627\n",
      "Epoch 45/100\n",
      "350/350 - 5s - loss: 0.0763 - auroc: 0.9892 - aupr: 0.9578 - val_loss: 0.0710 - val_auroc: 0.9910 - val_aupr: 0.9626\n",
      "Epoch 46/100\n",
      "350/350 - 5s - loss: 0.0761 - auroc: 0.9894 - aupr: 0.9580 - val_loss: 0.0710 - val_auroc: 0.9907 - val_aupr: 0.9613\n",
      "Epoch 47/100\n",
      "350/350 - 5s - loss: 0.0757 - auroc: 0.9895 - aupr: 0.9583 - val_loss: 0.0705 - val_auroc: 0.9906 - val_aupr: 0.9627\n",
      "Epoch 48/100\n",
      "350/350 - 5s - loss: 0.0754 - auroc: 0.9895 - aupr: 0.9587 - val_loss: 0.0710 - val_auroc: 0.9907 - val_aupr: 0.9623\n",
      "Epoch 49/100\n",
      "350/350 - 5s - loss: 0.0746 - auroc: 0.9896 - aupr: 0.9596 - val_loss: 0.0708 - val_auroc: 0.9906 - val_aupr: 0.9624\n",
      "Epoch 50/100\n",
      "350/350 - 5s - loss: 0.0746 - auroc: 0.9896 - aupr: 0.9594 - val_loss: 0.0711 - val_auroc: 0.9904 - val_aupr: 0.9623\n",
      "Epoch 51/100\n",
      "\n",
      "Epoch 00051: ReduceLROnPlateau reducing learning rate to 0.00020000000949949026.\n",
      "350/350 - 5s - loss: 0.0737 - auroc: 0.9900 - aupr: 0.9602 - val_loss: 0.0711 - val_auroc: 0.9902 - val_aupr: 0.9623\n",
      "Epoch 52/100\n",
      "350/350 - 5s - loss: 0.0709 - auroc: 0.9906 - aupr: 0.9631 - val_loss: 0.0687 - val_auroc: 0.9914 - val_aupr: 0.9646\n",
      "Epoch 53/100\n",
      "350/350 - 5s - loss: 0.0696 - auroc: 0.9911 - aupr: 0.9644 - val_loss: 0.0683 - val_auroc: 0.9916 - val_aupr: 0.9648\n",
      "Epoch 54/100\n",
      "350/350 - 5s - loss: 0.0693 - auroc: 0.9911 - aupr: 0.9648 - val_loss: 0.0686 - val_auroc: 0.9912 - val_aupr: 0.9644\n",
      "Epoch 55/100\n",
      "350/350 - 5s - loss: 0.0698 - auroc: 0.9909 - aupr: 0.9644 - val_loss: 0.0686 - val_auroc: 0.9911 - val_aupr: 0.9643\n",
      "Epoch 56/100\n",
      "350/350 - 5s - loss: 0.0687 - auroc: 0.9911 - aupr: 0.9653 - val_loss: 0.0686 - val_auroc: 0.9914 - val_aupr: 0.9645\n",
      "Epoch 57/100\n",
      "350/350 - 5s - loss: 0.0690 - auroc: 0.9910 - aupr: 0.9651 - val_loss: 0.0690 - val_auroc: 0.9912 - val_aupr: 0.9641\n",
      "Epoch 58/100\n",
      "350/350 - 5s - loss: 0.0684 - auroc: 0.9914 - aupr: 0.9655 - val_loss: 0.0689 - val_auroc: 0.9909 - val_aupr: 0.9639\n",
      "Epoch 59/100\n",
      "350/350 - 5s - loss: 0.0687 - auroc: 0.9912 - aupr: 0.9653 - val_loss: 0.0689 - val_auroc: 0.9911 - val_aupr: 0.9641\n",
      "Epoch 60/100\n",
      "350/350 - 5s - loss: 0.0690 - auroc: 0.9909 - aupr: 0.9651 - val_loss: 0.0691 - val_auroc: 0.9910 - val_aupr: 0.9642\n",
      "Epoch 61/100\n",
      "350/350 - 5s - loss: 0.0680 - auroc: 0.9914 - aupr: 0.9660 - val_loss: 0.0691 - val_auroc: 0.9910 - val_aupr: 0.9640\n",
      "Epoch 62/100\n",
      "350/350 - 5s - loss: 0.0683 - auroc: 0.9912 - aupr: 0.9659 - val_loss: 0.0688 - val_auroc: 0.9912 - val_aupr: 0.9642\n",
      "Epoch 63/100\n",
      "\n",
      "Epoch 00063: ReduceLROnPlateau reducing learning rate to 4.0000001899898055e-05.\n",
      "350/350 - 5s - loss: 0.0681 - auroc: 0.9912 - aupr: 0.9659 - val_loss: 0.0691 - val_auroc: 0.9911 - val_aupr: 0.9637\n"
     ]
    },
    {
     "name": "stdout",
     "output_type": "stream",
     "text": [
      "Epoch 64/100\n",
      "350/350 - 5s - loss: 0.0673 - auroc: 0.9915 - aupr: 0.9666 - val_loss: 0.0688 - val_auroc: 0.9912 - val_aupr: 0.9642\n",
      "Epoch 65/100\n",
      "350/350 - 5s - loss: 0.0672 - auroc: 0.9915 - aupr: 0.9667 - val_loss: 0.0688 - val_auroc: 0.9911 - val_aupr: 0.9644\n",
      "Epoch 66/100\n",
      "350/350 - 5s - loss: 0.0674 - auroc: 0.9912 - aupr: 0.9666 - val_loss: 0.0687 - val_auroc: 0.9911 - val_aupr: 0.9643\n",
      "Epoch 67/100\n",
      "350/350 - 5s - loss: 0.0669 - auroc: 0.9916 - aupr: 0.9667 - val_loss: 0.0688 - val_auroc: 0.9911 - val_aupr: 0.9643\n",
      "Epoch 68/100\n",
      "Restoring model weights from the end of the best epoch.\n",
      "350/350 - 5s - loss: 0.0670 - auroc: 0.9915 - aupr: 0.9670 - val_loss: 0.0688 - val_auroc: 0.9910 - val_aupr: 0.9643\n",
      "Epoch 00068: early stopping\n",
      "625/625 [==============================] - 1s 2ms/step - loss: 0.0688 - auroc: 0.9912 - aupr: 0.9638\n",
      "generated PPMs\n",
      "TomTom TPR:  0.90625\n",
      "TomTom FPR:  0.0625\n",
      "Motif coverage:  1.0\n",
      "completed TomTom analysis\n",
      "completed clustering\n"
     ]
    },
    {
     "name": "stderr",
     "output_type": "stream",
     "text": [
      "/home/koolab/Documents/GLIFAC/Code/glifac.py:108: FutureWarning: Using a non-tuple sequence for multidimensional indexing is deprecated; use `arr[tuple(seq)]` instead of `arr[seq]`. In the future this will be interpreted as an array index, `arr[np.array(seq)]`, which will result either in an error or a different result.\n",
      "  filter_interactions = feature_maps[position_pairs].transpose([1, 2, 0])\n",
      "/home/koolab/Documents/GLIFAC/Code/glifac.py:46: FutureWarning: Using a non-tuple sequence for multidimensional indexing is deprecated; use `arr[tuple(seq)]` instead of `arr[seq]`. In the future this will be interpreted as an array index, `arr[np.array(seq)]`, which will result either in an error or a different result.\n",
      "  filter_interactions_values = correlation_matrix[ind.transpose().tolist()]\n"
     ]
    },
    {
     "name": "stdout",
     "output_type": "stream",
     "text": [
      "0.0  | AUROC: 0.9926878078817734  | AUPR: 0.99953288490284  | SNR: 3.427707549410356\n"
     ]
    },
    {
     "name": "stderr",
     "output_type": "stream",
     "text": [
      "/home/koolab/Documents/GLIFAC/Code/glifac.py:108: FutureWarning: Using a non-tuple sequence for multidimensional indexing is deprecated; use `arr[tuple(seq)]` instead of `arr[seq]`. In the future this will be interpreted as an array index, `arr[np.array(seq)]`, which will result either in an error or a different result.\n",
      "  filter_interactions = feature_maps[position_pairs].transpose([1, 2, 0])\n",
      "/home/koolab/Documents/GLIFAC/Code/glifac.py:28: RuntimeWarning: invalid value encountered in float_scalars\n",
      "  return top/bottom\n",
      "/home/koolab/Documents/GLIFAC/Code/glifac.py:46: FutureWarning: Using a non-tuple sequence for multidimensional indexing is deprecated; use `arr[tuple(seq)]` instead of `arr[seq]`. In the future this will be interpreted as an array index, `arr[np.array(seq)]`, which will result either in an error or a different result.\n",
      "  filter_interactions_values = correlation_matrix[ind.transpose().tolist()]\n"
     ]
    },
    {
     "name": "stdout",
     "output_type": "stream",
     "text": [
      "0.1  | AUROC: 0.1718778111708193  | AUPR: 0.6533071748878924  | SNR: 0.6672738655781285\n"
     ]
    },
    {
     "name": "stderr",
     "output_type": "stream",
     "text": [
      "/home/koolab/Documents/GLIFAC/Code/glifac.py:108: FutureWarning: Using a non-tuple sequence for multidimensional indexing is deprecated; use `arr[tuple(seq)]` instead of `arr[seq]`. In the future this will be interpreted as an array index, `arr[np.array(seq)]`, which will result either in an error or a different result.\n",
      "  filter_interactions = feature_maps[position_pairs].transpose([1, 2, 0])\n",
      "/home/koolab/Documents/GLIFAC/Code/glifac.py:28: RuntimeWarning: invalid value encountered in float_scalars\n",
      "  return top/bottom\n",
      "/home/koolab/Documents/GLIFAC/Code/glifac.py:46: FutureWarning: Using a non-tuple sequence for multidimensional indexing is deprecated; use `arr[tuple(seq)]` instead of `arr[seq]`. In the future this will be interpreted as an array index, `arr[np.array(seq)]`, which will result either in an error or a different result.\n",
      "  filter_interactions_values = correlation_matrix[ind.transpose().tolist()]\n"
     ]
    },
    {
     "name": "stdout",
     "output_type": "stream",
     "text": [
      "0.2  | AUROC: 0.12671224191024807  | AUPR: 0.625  | SNR: 0.4949087282848733\n"
     ]
    },
    {
     "name": "stderr",
     "output_type": "stream",
     "text": [
      "/home/koolab/Documents/GLIFAC/Code/glifac.py:108: FutureWarning: Using a non-tuple sequence for multidimensional indexing is deprecated; use `arr[tuple(seq)]` instead of `arr[seq]`. In the future this will be interpreted as an array index, `arr[np.array(seq)]`, which will result either in an error or a different result.\n",
      "  filter_interactions = feature_maps[position_pairs].transpose([1, 2, 0])\n",
      "/home/koolab/Documents/GLIFAC/Code/glifac.py:28: RuntimeWarning: invalid value encountered in float_scalars\n",
      "  return top/bottom\n",
      "/home/koolab/Documents/GLIFAC/Code/glifac.py:46: FutureWarning: Using a non-tuple sequence for multidimensional indexing is deprecated; use `arr[tuple(seq)]` instead of `arr[seq]`. In the future this will be interpreted as an array index, `arr[np.array(seq)]`, which will result either in an error or a different result.\n",
      "  filter_interactions_values = correlation_matrix[ind.transpose().tolist()]\n"
     ]
    },
    {
     "name": "stdout",
     "output_type": "stream",
     "text": [
      "0.3  | AUROC: 0.13345029563804334  | AUPR: 0.6000560538116592  | SNR: 0.7573239745223087\n"
     ]
    },
    {
     "name": "stderr",
     "output_type": "stream",
     "text": [
      "/home/koolab/Documents/GLIFAC/Code/glifac.py:108: FutureWarning: Using a non-tuple sequence for multidimensional indexing is deprecated; use `arr[tuple(seq)]` instead of `arr[seq]`. In the future this will be interpreted as an array index, `arr[np.array(seq)]`, which will result either in an error or a different result.\n",
      "  filter_interactions = feature_maps[position_pairs].transpose([1, 2, 0])\n",
      "/home/koolab/Documents/GLIFAC/Code/glifac.py:28: RuntimeWarning: invalid value encountered in float_scalars\n",
      "  return top/bottom\n",
      "/home/koolab/Documents/GLIFAC/Code/glifac.py:46: FutureWarning: Using a non-tuple sequence for multidimensional indexing is deprecated; use `arr[tuple(seq)]` instead of `arr[seq]`. In the future this will be interpreted as an array index, `arr[np.array(seq)]`, which will result either in an error or a different result.\n",
      "  filter_interactions_values = correlation_matrix[ind.transpose().tolist()]\n"
     ]
    },
    {
     "name": "stdout",
     "output_type": "stream",
     "text": [
      "0.4  | AUROC: 0.14025637837110164  | AUPR: 0.6003363228699552  | SNR: 0.8852935003148299\n"
     ]
    },
    {
     "name": "stderr",
     "output_type": "stream",
     "text": [
      "/home/koolab/Documents/GLIFAC/Code/glifac.py:108: FutureWarning: Using a non-tuple sequence for multidimensional indexing is deprecated; use `arr[tuple(seq)]` instead of `arr[seq]`. In the future this will be interpreted as an array index, `arr[np.array(seq)]`, which will result either in an error or a different result.\n",
      "  filter_interactions = feature_maps[position_pairs].transpose([1, 2, 0])\n",
      "/home/koolab/Documents/GLIFAC/Code/glifac.py:28: RuntimeWarning: invalid value encountered in float_scalars\n",
      "  return top/bottom\n",
      "/home/koolab/Documents/GLIFAC/Code/glifac.py:46: FutureWarning: Using a non-tuple sequence for multidimensional indexing is deprecated; use `arr[tuple(seq)]` instead of `arr[seq]`. In the future this will be interpreted as an array index, `arr[np.array(seq)]`, which will result either in an error or a different result.\n",
      "  filter_interactions_values = correlation_matrix[ind.transpose().tolist()]\n"
     ]
    },
    {
     "name": "stdout",
     "output_type": "stream",
     "text": [
      "0.5  | AUROC: 0.16339871935692468  | AUPR: 0.6136958146487295  | SNR: 1.0676718750083365\n"
     ]
    },
    {
     "name": "stderr",
     "output_type": "stream",
     "text": [
      "/home/koolab/Documents/GLIFAC/Code/glifac.py:108: FutureWarning: Using a non-tuple sequence for multidimensional indexing is deprecated; use `arr[tuple(seq)]` instead of `arr[seq]`. In the future this will be interpreted as an array index, `arr[np.array(seq)]`, which will result either in an error or a different result.\n",
      "  filter_interactions = feature_maps[position_pairs].transpose([1, 2, 0])\n",
      "/home/koolab/Documents/GLIFAC/Code/glifac.py:28: RuntimeWarning: invalid value encountered in float_scalars\n",
      "  return top/bottom\n",
      "/home/koolab/Documents/GLIFAC/Code/glifac.py:46: FutureWarning: Using a non-tuple sequence for multidimensional indexing is deprecated; use `arr[tuple(seq)]` instead of `arr[seq]`. In the future this will be interpreted as an array index, `arr[np.array(seq)]`, which will result either in an error or a different result.\n",
      "  filter_interactions_values = correlation_matrix[ind.transpose().tolist()]\n"
     ]
    },
    {
     "name": "stdout",
     "output_type": "stream",
     "text": [
      "0.6  | AUROC: 0.21454838037403384  | AUPR: 0.6230381165919282  | SNR: 1.2022316972674396\n"
     ]
    },
    {
     "name": "stderr",
     "output_type": "stream",
     "text": [
      "/home/koolab/Documents/GLIFAC/Code/glifac.py:108: FutureWarning: Using a non-tuple sequence for multidimensional indexing is deprecated; use `arr[tuple(seq)]` instead of `arr[seq]`. In the future this will be interpreted as an array index, `arr[np.array(seq)]`, which will result either in an error or a different result.\n",
      "  filter_interactions = feature_maps[position_pairs].transpose([1, 2, 0])\n",
      "/home/koolab/Documents/GLIFAC/Code/glifac.py:28: RuntimeWarning: invalid value encountered in float_scalars\n",
      "  return top/bottom\n",
      "/home/koolab/Documents/GLIFAC/Code/glifac.py:46: FutureWarning: Using a non-tuple sequence for multidimensional indexing is deprecated; use `arr[tuple(seq)]` instead of `arr[seq]`. In the future this will be interpreted as an array index, `arr[np.array(seq)]`, which will result either in an error or a different result.\n",
      "  filter_interactions_values = correlation_matrix[ind.transpose().tolist()]\n"
     ]
    },
    {
     "name": "stdout",
     "output_type": "stream",
     "text": [
      "0.7  | AUROC: 0.25320044283828597  | AUPR: 0.6394805680119582  | SNR: 1.2210888836462601\n"
     ]
    },
    {
     "name": "stderr",
     "output_type": "stream",
     "text": [
      "/home/koolab/Documents/GLIFAC/Code/glifac.py:108: FutureWarning: Using a non-tuple sequence for multidimensional indexing is deprecated; use `arr[tuple(seq)]` instead of `arr[seq]`. In the future this will be interpreted as an array index, `arr[np.array(seq)]`, which will result either in an error or a different result.\n",
      "  filter_interactions = feature_maps[position_pairs].transpose([1, 2, 0])\n",
      "/home/koolab/Documents/GLIFAC/Code/glifac.py:28: RuntimeWarning: invalid value encountered in float_scalars\n",
      "  return top/bottom\n",
      "/home/koolab/Documents/GLIFAC/Code/glifac.py:46: FutureWarning: Using a non-tuple sequence for multidimensional indexing is deprecated; use `arr[tuple(seq)]` instead of `arr[seq]`. In the future this will be interpreted as an array index, `arr[np.array(seq)]`, which will result either in an error or a different result.\n",
      "  filter_interactions_values = correlation_matrix[ind.transpose().tolist()]\n"
     ]
    },
    {
     "name": "stdout",
     "output_type": "stream",
     "text": [
      "0.8  | AUROC: 0.27568839142672674  | AUPR: 0.6746543348281017  | SNR: 1.268195034540275\n"
     ]
    },
    {
     "name": "stderr",
     "output_type": "stream",
     "text": [
      "/home/koolab/Documents/GLIFAC/Code/glifac.py:108: FutureWarning: Using a non-tuple sequence for multidimensional indexing is deprecated; use `arr[tuple(seq)]` instead of `arr[seq]`. In the future this will be interpreted as an array index, `arr[np.array(seq)]`, which will result either in an error or a different result.\n",
      "  filter_interactions = feature_maps[position_pairs].transpose([1, 2, 0])\n",
      "/home/koolab/Documents/GLIFAC/Code/glifac.py:28: RuntimeWarning: invalid value encountered in float_scalars\n",
      "  return top/bottom\n",
      "/home/koolab/Documents/GLIFAC/Code/glifac.py:46: FutureWarning: Using a non-tuple sequence for multidimensional indexing is deprecated; use `arr[tuple(seq)]` instead of `arr[seq]`. In the future this will be interpreted as an array index, `arr[np.array(seq)]`, which will result either in an error or a different result.\n",
      "  filter_interactions_values = correlation_matrix[ind.transpose().tolist()]\n"
     ]
    },
    {
     "name": "stdout",
     "output_type": "stream",
     "text": [
      "0.9  | AUROC: 0.15233373326511515  | AUPR: 0.6934790732436472  | SNR: 0.7955588732837184\n",
      "finished correlation interpretability\n",
      "saved statistics\n",
      "saved filters\n"
     ]
    },
    {
     "name": "stderr",
     "output_type": "stream",
     "text": [
      "/home/koolab/Documents/GLIFAC/Code/glifac_pipeline.py:297: MatplotlibDeprecationWarning: savefig() got unexpected keyword argument \"box_inches\" which is no longer supported as of 3.3 and will become an error two minor releases later\n",
      "  fig.savefig(glifac_dir, format='pdf', dpi=300, box_inches='tight')\n"
     ]
    },
    {
     "name": "stdout",
     "output_type": "stream",
     "text": [
      "saved glifac\n",
      "Epoch 1/100\n",
      "350/350 - 5s - loss: 0.2889 - auroc: 0.8469 - aupr: 0.5646 - val_loss: 0.2350 - val_auroc: 0.9724 - val_aupr: 0.8886\n",
      "Epoch 2/100\n",
      "350/350 - 5s - loss: 0.1270 - auroc: 0.9727 - aupr: 0.8966 - val_loss: 0.1010 - val_auroc: 0.9843 - val_aupr: 0.9371\n",
      "Epoch 3/100\n",
      "350/350 - 5s - loss: 0.1083 - auroc: 0.9794 - aupr: 0.9208 - val_loss: 0.0886 - val_auroc: 0.9864 - val_aupr: 0.9449\n",
      "Epoch 4/100\n",
      "350/350 - 5s - loss: 0.1024 - auroc: 0.9815 - aupr: 0.9276 - val_loss: 0.0830 - val_auroc: 0.9878 - val_aupr: 0.9504\n",
      "Epoch 5/100\n",
      "350/350 - 5s - loss: 0.0995 - auroc: 0.9824 - aupr: 0.9315 - val_loss: 0.0944 - val_auroc: 0.9849 - val_aupr: 0.9345\n",
      "Epoch 6/100\n",
      "350/350 - 5s - loss: 0.0971 - auroc: 0.9832 - aupr: 0.9342 - val_loss: 0.0756 - val_auroc: 0.9904 - val_aupr: 0.9571\n",
      "Epoch 7/100\n",
      "350/350 - 5s - loss: 0.0966 - auroc: 0.9834 - aupr: 0.9352 - val_loss: 0.0813 - val_auroc: 0.9901 - val_aupr: 0.9544\n",
      "Epoch 8/100\n",
      "350/350 - 5s - loss: 0.0953 - auroc: 0.9837 - aupr: 0.9367 - val_loss: 0.0793 - val_auroc: 0.9904 - val_aupr: 0.9558\n",
      "Epoch 9/100\n",
      "350/350 - 5s - loss: 0.0943 - auroc: 0.9840 - aupr: 0.9379 - val_loss: 0.0766 - val_auroc: 0.9894 - val_aupr: 0.9572\n",
      "Epoch 10/100\n",
      "350/350 - 5s - loss: 0.0940 - auroc: 0.9840 - aupr: 0.9382 - val_loss: 0.0765 - val_auroc: 0.9895 - val_aupr: 0.9588\n",
      "Epoch 11/100\n",
      "350/350 - 5s - loss: 0.0930 - auroc: 0.9843 - aupr: 0.9396 - val_loss: 0.0746 - val_auroc: 0.9901 - val_aupr: 0.9593\n",
      "Epoch 12/100\n",
      "350/350 - 5s - loss: 0.0923 - auroc: 0.9846 - aupr: 0.9399 - val_loss: 0.0775 - val_auroc: 0.9906 - val_aupr: 0.9575\n",
      "Epoch 13/100\n",
      "350/350 - 5s - loss: 0.0921 - auroc: 0.9847 - aupr: 0.9400 - val_loss: 0.0751 - val_auroc: 0.9909 - val_aupr: 0.9583\n",
      "Epoch 14/100\n",
      "350/350 - 5s - loss: 0.0918 - auroc: 0.9849 - aupr: 0.9406 - val_loss: 0.0782 - val_auroc: 0.9892 - val_aupr: 0.9567\n",
      "Epoch 15/100\n",
      "350/350 - 5s - loss: 0.0918 - auroc: 0.9849 - aupr: 0.9406 - val_loss: 0.0776 - val_auroc: 0.9892 - val_aupr: 0.9573\n",
      "Epoch 16/100\n",
      "350/350 - 5s - loss: 0.0910 - auroc: 0.9849 - aupr: 0.9414 - val_loss: 0.0739 - val_auroc: 0.9908 - val_aupr: 0.9593\n",
      "Epoch 17/100\n",
      "350/350 - 5s - loss: 0.0902 - auroc: 0.9852 - aupr: 0.9425 - val_loss: 0.0739 - val_auroc: 0.9907 - val_aupr: 0.9597\n",
      "Epoch 18/100\n",
      "350/350 - 5s - loss: 0.0904 - auroc: 0.9851 - aupr: 0.9422 - val_loss: 0.0736 - val_auroc: 0.9904 - val_aupr: 0.9595\n",
      "Epoch 19/100\n",
      "350/350 - 5s - loss: 0.0905 - auroc: 0.9852 - aupr: 0.9421 - val_loss: 0.0727 - val_auroc: 0.9910 - val_aupr: 0.9606\n",
      "Epoch 20/100\n",
      "350/350 - 5s - loss: 0.0900 - auroc: 0.9853 - aupr: 0.9428 - val_loss: 0.0752 - val_auroc: 0.9896 - val_aupr: 0.9586\n",
      "Epoch 21/100\n",
      "350/350 - 5s - loss: 0.0894 - auroc: 0.9856 - aupr: 0.9431 - val_loss: 0.0731 - val_auroc: 0.9915 - val_aupr: 0.9606\n",
      "Epoch 22/100\n",
      "350/350 - 5s - loss: 0.0896 - auroc: 0.9855 - aupr: 0.9433 - val_loss: 0.0735 - val_auroc: 0.9900 - val_aupr: 0.9605\n",
      "Epoch 23/100\n",
      "350/350 - 5s - loss: 0.0884 - auroc: 0.9859 - aupr: 0.9445 - val_loss: 0.0763 - val_auroc: 0.9897 - val_aupr: 0.9569\n",
      "Epoch 24/100\n",
      "350/350 - 5s - loss: 0.0884 - auroc: 0.9859 - aupr: 0.9445 - val_loss: 0.0728 - val_auroc: 0.9911 - val_aupr: 0.9613\n",
      "Epoch 25/100\n",
      "350/350 - 5s - loss: 0.0881 - auroc: 0.9860 - aupr: 0.9447 - val_loss: 0.0721 - val_auroc: 0.9908 - val_aupr: 0.9613\n",
      "Epoch 26/100\n",
      "350/350 - 5s - loss: 0.0873 - auroc: 0.9862 - aupr: 0.9459 - val_loss: 0.0720 - val_auroc: 0.9914 - val_aupr: 0.9620\n",
      "Epoch 27/100\n",
      "350/350 - 5s - loss: 0.0873 - auroc: 0.9863 - aupr: 0.9458 - val_loss: 0.0727 - val_auroc: 0.9911 - val_aupr: 0.9612\n",
      "Epoch 28/100\n",
      "350/350 - 5s - loss: 0.0867 - auroc: 0.9864 - aupr: 0.9466 - val_loss: 0.0727 - val_auroc: 0.9915 - val_aupr: 0.9609\n",
      "Epoch 29/100\n",
      "350/350 - 5s - loss: 0.0866 - auroc: 0.9865 - aupr: 0.9466 - val_loss: 0.0758 - val_auroc: 0.9903 - val_aupr: 0.9587\n",
      "Epoch 30/100\n",
      "350/350 - 5s - loss: 0.0867 - auroc: 0.9863 - aupr: 0.9467 - val_loss: 0.0713 - val_auroc: 0.9913 - val_aupr: 0.9622\n",
      "Epoch 31/100\n",
      "350/350 - 5s - loss: 0.0854 - auroc: 0.9869 - aupr: 0.9479 - val_loss: 0.0721 - val_auroc: 0.9911 - val_aupr: 0.9616\n",
      "Epoch 32/100\n",
      "350/350 - 5s - loss: 0.0852 - auroc: 0.9867 - aupr: 0.9478 - val_loss: 0.0718 - val_auroc: 0.9910 - val_aupr: 0.9619\n",
      "Epoch 33/100\n",
      "350/350 - 5s - loss: 0.0851 - auroc: 0.9869 - aupr: 0.9481 - val_loss: 0.0721 - val_auroc: 0.9908 - val_aupr: 0.9616\n",
      "Epoch 34/100\n",
      "350/350 - 5s - loss: 0.0848 - auroc: 0.9869 - aupr: 0.9489 - val_loss: 0.0711 - val_auroc: 0.9909 - val_aupr: 0.9623\n",
      "Epoch 35/100\n",
      "350/350 - 5s - loss: 0.0852 - auroc: 0.9867 - aupr: 0.9486 - val_loss: 0.0716 - val_auroc: 0.9914 - val_aupr: 0.9620\n",
      "Epoch 36/100\n",
      "350/350 - 5s - loss: 0.0846 - auroc: 0.9869 - aupr: 0.9489 - val_loss: 0.0713 - val_auroc: 0.9909 - val_aupr: 0.9626\n",
      "Epoch 37/100\n",
      "350/350 - 5s - loss: 0.0834 - auroc: 0.9872 - aupr: 0.9501 - val_loss: 0.0707 - val_auroc: 0.9915 - val_aupr: 0.9623\n",
      "Epoch 38/100\n",
      "350/350 - 5s - loss: 0.0839 - auroc: 0.9872 - aupr: 0.9499 - val_loss: 0.0723 - val_auroc: 0.9906 - val_aupr: 0.9614\n",
      "Epoch 39/100\n",
      "350/350 - 5s - loss: 0.0831 - auroc: 0.9874 - aupr: 0.9510 - val_loss: 0.0719 - val_auroc: 0.9908 - val_aupr: 0.9620\n",
      "Epoch 40/100\n",
      "350/350 - 5s - loss: 0.0824 - auroc: 0.9876 - aupr: 0.9515 - val_loss: 0.0707 - val_auroc: 0.9914 - val_aupr: 0.9625\n",
      "Epoch 41/100\n",
      "350/350 - 5s - loss: 0.0824 - auroc: 0.9875 - aupr: 0.9515 - val_loss: 0.0704 - val_auroc: 0.9913 - val_aupr: 0.9633\n",
      "Epoch 42/100\n",
      "350/350 - 5s - loss: 0.0819 - auroc: 0.9877 - aupr: 0.9521 - val_loss: 0.0706 - val_auroc: 0.9916 - val_aupr: 0.9632\n",
      "Epoch 43/100\n",
      "350/350 - 5s - loss: 0.0814 - auroc: 0.9877 - aupr: 0.9526 - val_loss: 0.0712 - val_auroc: 0.9912 - val_aupr: 0.9627\n",
      "Epoch 44/100\n",
      "350/350 - 5s - loss: 0.0816 - auroc: 0.9878 - aupr: 0.9525 - val_loss: 0.0708 - val_auroc: 0.9910 - val_aupr: 0.9632\n",
      "Epoch 45/100\n",
      "350/350 - 5s - loss: 0.0807 - auroc: 0.9880 - aupr: 0.9532 - val_loss: 0.0717 - val_auroc: 0.9909 - val_aupr: 0.9617\n",
      "Epoch 46/100\n",
      "350/350 - 5s - loss: 0.0808 - auroc: 0.9879 - aupr: 0.9532 - val_loss: 0.0703 - val_auroc: 0.9917 - val_aupr: 0.9632\n",
      "Epoch 47/100\n",
      "350/350 - 5s - loss: 0.0795 - auroc: 0.9883 - aupr: 0.9546 - val_loss: 0.0708 - val_auroc: 0.9916 - val_aupr: 0.9631\n",
      "Epoch 48/100\n",
      "350/350 - 5s - loss: 0.0792 - auroc: 0.9882 - aupr: 0.9548 - val_loss: 0.0697 - val_auroc: 0.9914 - val_aupr: 0.9636\n",
      "Epoch 49/100\n",
      "350/350 - 5s - loss: 0.0790 - auroc: 0.9885 - aupr: 0.9548 - val_loss: 0.0705 - val_auroc: 0.9910 - val_aupr: 0.9628\n",
      "Epoch 50/100\n",
      "350/350 - 5s - loss: 0.0792 - auroc: 0.9882 - aupr: 0.9548 - val_loss: 0.0713 - val_auroc: 0.9909 - val_aupr: 0.9621\n",
      "Epoch 51/100\n",
      "350/350 - 5s - loss: 0.0787 - auroc: 0.9883 - aupr: 0.9553 - val_loss: 0.0706 - val_auroc: 0.9910 - val_aupr: 0.9633\n",
      "Epoch 52/100\n",
      "350/350 - 5s - loss: 0.0782 - auroc: 0.9885 - aupr: 0.9561 - val_loss: 0.0703 - val_auroc: 0.9909 - val_aupr: 0.9627\n",
      "Epoch 53/100\n",
      "350/350 - 5s - loss: 0.0775 - auroc: 0.9887 - aupr: 0.9566 - val_loss: 0.0705 - val_auroc: 0.9913 - val_aupr: 0.9624\n",
      "Epoch 54/100\n",
      "350/350 - 5s - loss: 0.0775 - auroc: 0.9889 - aupr: 0.9566 - val_loss: 0.0720 - val_auroc: 0.9908 - val_aupr: 0.9610\n",
      "Epoch 55/100\n",
      "350/350 - 5s - loss: 0.0771 - auroc: 0.9888 - aupr: 0.9572 - val_loss: 0.0711 - val_auroc: 0.9907 - val_aupr: 0.9621\n",
      "Epoch 56/100\n",
      "350/350 - 5s - loss: 0.0775 - auroc: 0.9887 - aupr: 0.9567 - val_loss: 0.0710 - val_auroc: 0.9908 - val_aupr: 0.9626\n",
      "Epoch 57/100\n",
      "350/350 - 5s - loss: 0.0764 - auroc: 0.9889 - aupr: 0.9580 - val_loss: 0.0713 - val_auroc: 0.9905 - val_aupr: 0.9615\n",
      "Epoch 58/100\n",
      "\n",
      "Epoch 00058: ReduceLROnPlateau reducing learning rate to 0.00020000000949949026.\n",
      "350/350 - 5s - loss: 0.0768 - auroc: 0.9889 - aupr: 0.9575 - val_loss: 0.0712 - val_auroc: 0.9908 - val_aupr: 0.9623\n",
      "Epoch 59/100\n",
      "350/350 - 5s - loss: 0.0733 - auroc: 0.9900 - aupr: 0.9612 - val_loss: 0.0697 - val_auroc: 0.9910 - val_aupr: 0.9634\n",
      "Epoch 60/100\n",
      "350/350 - 5s - loss: 0.0734 - auroc: 0.9898 - aupr: 0.9609 - val_loss: 0.0698 - val_auroc: 0.9909 - val_aupr: 0.9632\n",
      "Epoch 61/100\n",
      "350/350 - 5s - loss: 0.0722 - auroc: 0.9902 - aupr: 0.9621 - val_loss: 0.0695 - val_auroc: 0.9910 - val_aupr: 0.9633\n",
      "Epoch 62/100\n",
      "350/350 - 5s - loss: 0.0716 - auroc: 0.9904 - aupr: 0.9626 - val_loss: 0.0703 - val_auroc: 0.9909 - val_aupr: 0.9630\n",
      "Epoch 63/100\n",
      "350/350 - 5s - loss: 0.0724 - auroc: 0.9899 - aupr: 0.9619 - val_loss: 0.0700 - val_auroc: 0.9910 - val_aupr: 0.9631\n"
     ]
    },
    {
     "name": "stdout",
     "output_type": "stream",
     "text": [
      "Epoch 64/100\n",
      "350/350 - 5s - loss: 0.0716 - auroc: 0.9903 - aupr: 0.9628 - val_loss: 0.0701 - val_auroc: 0.9908 - val_aupr: 0.9628\n",
      "Epoch 65/100\n",
      "350/350 - 5s - loss: 0.0720 - auroc: 0.9901 - aupr: 0.9623 - val_loss: 0.0701 - val_auroc: 0.9910 - val_aupr: 0.9630\n",
      "Epoch 66/100\n",
      "350/350 - 5s - loss: 0.0709 - auroc: 0.9905 - aupr: 0.9634 - val_loss: 0.0701 - val_auroc: 0.9907 - val_aupr: 0.9632\n",
      "Epoch 67/100\n",
      "350/350 - 5s - loss: 0.0716 - auroc: 0.9903 - aupr: 0.9628 - val_loss: 0.0701 - val_auroc: 0.9910 - val_aupr: 0.9629\n",
      "Epoch 68/100\n",
      "350/350 - 5s - loss: 0.0712 - auroc: 0.9905 - aupr: 0.9631 - val_loss: 0.0702 - val_auroc: 0.9909 - val_aupr: 0.9628\n",
      "Epoch 69/100\n",
      "350/350 - 5s - loss: 0.0711 - auroc: 0.9902 - aupr: 0.9630 - val_loss: 0.0703 - val_auroc: 0.9905 - val_aupr: 0.9625\n",
      "Epoch 70/100\n",
      "350/350 - 5s - loss: 0.0711 - auroc: 0.9903 - aupr: 0.9630 - val_loss: 0.0704 - val_auroc: 0.9908 - val_aupr: 0.9625\n",
      "Epoch 71/100\n",
      "\n",
      "Epoch 00071: ReduceLROnPlateau reducing learning rate to 4.0000001899898055e-05.\n",
      "350/350 - 5s - loss: 0.0715 - auroc: 0.9902 - aupr: 0.9627 - val_loss: 0.0704 - val_auroc: 0.9908 - val_aupr: 0.9625\n",
      "Epoch 72/100\n",
      "350/350 - 5s - loss: 0.0703 - auroc: 0.9907 - aupr: 0.9640 - val_loss: 0.0702 - val_auroc: 0.9907 - val_aupr: 0.9627\n",
      "Epoch 73/100\n",
      "350/350 - 5s - loss: 0.0697 - auroc: 0.9909 - aupr: 0.9644 - val_loss: 0.0702 - val_auroc: 0.9907 - val_aupr: 0.9627\n",
      "Epoch 74/100\n",
      "350/350 - 5s - loss: 0.0702 - auroc: 0.9905 - aupr: 0.9641 - val_loss: 0.0701 - val_auroc: 0.9908 - val_aupr: 0.9628\n",
      "Epoch 75/100\n",
      "350/350 - 5s - loss: 0.0698 - auroc: 0.9907 - aupr: 0.9643 - val_loss: 0.0702 - val_auroc: 0.9907 - val_aupr: 0.9626\n",
      "Epoch 76/100\n",
      "Restoring model weights from the end of the best epoch.\n",
      "350/350 - 5s - loss: 0.0700 - auroc: 0.9906 - aupr: 0.9642 - val_loss: 0.0703 - val_auroc: 0.9906 - val_aupr: 0.9626\n",
      "Epoch 00076: early stopping\n",
      "625/625 [==============================] - 1s 2ms/step - loss: 0.0698 - auroc: 0.9908 - aupr: 0.9632\n",
      "generated PPMs\n",
      "TomTom TPR:  0.96875\n",
      "TomTom FPR:  0.0\n",
      "Motif coverage:  1.0\n",
      "completed TomTom analysis\n",
      "completed clustering\n"
     ]
    },
    {
     "name": "stderr",
     "output_type": "stream",
     "text": [
      "/home/koolab/Documents/GLIFAC/Code/glifac.py:108: FutureWarning: Using a non-tuple sequence for multidimensional indexing is deprecated; use `arr[tuple(seq)]` instead of `arr[seq]`. In the future this will be interpreted as an array index, `arr[np.array(seq)]`, which will result either in an error or a different result.\n",
      "  filter_interactions = feature_maps[position_pairs].transpose([1, 2, 0])\n",
      "/home/koolab/Documents/GLIFAC/Code/glifac.py:46: FutureWarning: Using a non-tuple sequence for multidimensional indexing is deprecated; use `arr[tuple(seq)]` instead of `arr[seq]`. In the future this will be interpreted as an array index, `arr[np.array(seq)]`, which will result either in an error or a different result.\n",
      "  filter_interactions_values = correlation_matrix[ind.transpose().tolist()]\n"
     ]
    },
    {
     "name": "stdout",
     "output_type": "stream",
     "text": [
      "0.0  | AUROC: 0.9984307692307693  | AUPR: 0.9999095022624435  | SNR: 4.812358790684094\n"
     ]
    },
    {
     "name": "stderr",
     "output_type": "stream",
     "text": [
      "/home/koolab/Documents/GLIFAC/Code/glifac.py:108: FutureWarning: Using a non-tuple sequence for multidimensional indexing is deprecated; use `arr[tuple(seq)]` instead of `arr[seq]`. In the future this will be interpreted as an array index, `arr[np.array(seq)]`, which will result either in an error or a different result.\n",
      "  filter_interactions = feature_maps[position_pairs].transpose([1, 2, 0])\n",
      "/home/koolab/Documents/GLIFAC/Code/glifac.py:46: FutureWarning: Using a non-tuple sequence for multidimensional indexing is deprecated; use `arr[tuple(seq)]` instead of `arr[seq]`. In the future this will be interpreted as an array index, `arr[np.array(seq)]`, which will result either in an error or a different result.\n",
      "  filter_interactions_values = correlation_matrix[ind.transpose().tolist()]\n"
     ]
    },
    {
     "name": "stdout",
     "output_type": "stream",
     "text": [
      "0.1  | AUROC: 0.06041289652548955  | AUPR: 0.5042533936651583  | SNR: -0.18855125574912146\n"
     ]
    },
    {
     "name": "stderr",
     "output_type": "stream",
     "text": [
      "/home/koolab/Documents/GLIFAC/Code/glifac.py:108: FutureWarning: Using a non-tuple sequence for multidimensional indexing is deprecated; use `arr[tuple(seq)]` instead of `arr[seq]`. In the future this will be interpreted as an array index, `arr[np.array(seq)]`, which will result either in an error or a different result.\n",
      "  filter_interactions = feature_maps[position_pairs].transpose([1, 2, 0])\n",
      "/home/koolab/Documents/GLIFAC/Code/glifac.py:46: FutureWarning: Using a non-tuple sequence for multidimensional indexing is deprecated; use `arr[tuple(seq)]` instead of `arr[seq]`. In the future this will be interpreted as an array index, `arr[np.array(seq)]`, which will result either in an error or a different result.\n",
      "  filter_interactions_values = correlation_matrix[ind.transpose().tolist()]\n"
     ]
    },
    {
     "name": "stdout",
     "output_type": "stream",
     "text": [
      "0.2  | AUROC: 0.05743425463407706  | AUPR: 0.491131221719457  | SNR: -0.30152978124333046\n"
     ]
    },
    {
     "name": "stderr",
     "output_type": "stream",
     "text": [
      "/home/koolab/Documents/GLIFAC/Code/glifac.py:108: FutureWarning: Using a non-tuple sequence for multidimensional indexing is deprecated; use `arr[tuple(seq)]` instead of `arr[seq]`. In the future this will be interpreted as an array index, `arr[np.array(seq)]`, which will result either in an error or a different result.\n",
      "  filter_interactions = feature_maps[position_pairs].transpose([1, 2, 0])\n",
      "/home/koolab/Documents/GLIFAC/Code/glifac.py:46: FutureWarning: Using a non-tuple sequence for multidimensional indexing is deprecated; use `arr[tuple(seq)]` instead of `arr[seq]`. In the future this will be interpreted as an array index, `arr[np.array(seq)]`, which will result either in an error or a different result.\n",
      "  filter_interactions_values = correlation_matrix[ind.transpose().tolist()]\n"
     ]
    },
    {
     "name": "stdout",
     "output_type": "stream",
     "text": [
      "0.3  | AUROC: 0.053530349561872664  | AUPR: 0.46624434389140273  | SNR: -0.373465797954931\n"
     ]
    },
    {
     "name": "stderr",
     "output_type": "stream",
     "text": [
      "/home/koolab/Documents/GLIFAC/Code/glifac.py:108: FutureWarning: Using a non-tuple sequence for multidimensional indexing is deprecated; use `arr[tuple(seq)]` instead of `arr[seq]`. In the future this will be interpreted as an array index, `arr[np.array(seq)]`, which will result either in an error or a different result.\n",
      "  filter_interactions = feature_maps[position_pairs].transpose([1, 2, 0])\n",
      "/home/koolab/Documents/GLIFAC/Code/glifac.py:46: FutureWarning: Using a non-tuple sequence for multidimensional indexing is deprecated; use `arr[tuple(seq)]` instead of `arr[seq]`. In the future this will be interpreted as an array index, `arr[np.array(seq)]`, which will result either in an error or a different result.\n",
      "  filter_interactions_values = correlation_matrix[ind.transpose().tolist()]\n"
     ]
    },
    {
     "name": "stdout",
     "output_type": "stream",
     "text": [
      "0.4  | AUROC: 0.05435717784654104  | AUPR: 0.46868778280542983  | SNR: -0.39451014689933195\n"
     ]
    },
    {
     "name": "stderr",
     "output_type": "stream",
     "text": [
      "/home/koolab/Documents/GLIFAC/Code/glifac.py:108: FutureWarning: Using a non-tuple sequence for multidimensional indexing is deprecated; use `arr[tuple(seq)]` instead of `arr[seq]`. In the future this will be interpreted as an array index, `arr[np.array(seq)]`, which will result either in an error or a different result.\n",
      "  filter_interactions = feature_maps[position_pairs].transpose([1, 2, 0])\n",
      "/home/koolab/Documents/GLIFAC/Code/glifac.py:46: FutureWarning: Using a non-tuple sequence for multidimensional indexing is deprecated; use `arr[tuple(seq)]` instead of `arr[seq]`. In the future this will be interpreted as an array index, `arr[np.array(seq)]`, which will result either in an error or a different result.\n",
      "  filter_interactions_values = correlation_matrix[ind.transpose().tolist()]\n"
     ]
    },
    {
     "name": "stdout",
     "output_type": "stream",
     "text": [
      "0.5  | AUROC: 0.05143487054208597  | AUPR: 0.46244343891402717  | SNR: -0.42756443151822005\n"
     ]
    },
    {
     "name": "stderr",
     "output_type": "stream",
     "text": [
      "/home/koolab/Documents/GLIFAC/Code/glifac.py:108: FutureWarning: Using a non-tuple sequence for multidimensional indexing is deprecated; use `arr[tuple(seq)]` instead of `arr[seq]`. In the future this will be interpreted as an array index, `arr[np.array(seq)]`, which will result either in an error or a different result.\n",
      "  filter_interactions = feature_maps[position_pairs].transpose([1, 2, 0])\n",
      "/home/koolab/Documents/GLIFAC/Code/glifac.py:28: RuntimeWarning: invalid value encountered in float_scalars\n",
      "  return top/bottom\n",
      "/home/koolab/Documents/GLIFAC/Code/glifac.py:46: FutureWarning: Using a non-tuple sequence for multidimensional indexing is deprecated; use `arr[tuple(seq)]` instead of `arr[seq]`. In the future this will be interpreted as an array index, `arr[np.array(seq)]`, which will result either in an error or a different result.\n",
      "  filter_interactions_values = correlation_matrix[ind.transpose().tolist()]\n"
     ]
    },
    {
     "name": "stdout",
     "output_type": "stream",
     "text": [
      "0.6  | AUROC: 0.049147666793193476  | AUPR: 0.45176470588235296  | SNR: -0.42605653681453043\n"
     ]
    },
    {
     "name": "stderr",
     "output_type": "stream",
     "text": [
      "/home/koolab/Documents/GLIFAC/Code/glifac.py:108: FutureWarning: Using a non-tuple sequence for multidimensional indexing is deprecated; use `arr[tuple(seq)]` instead of `arr[seq]`. In the future this will be interpreted as an array index, `arr[np.array(seq)]`, which will result either in an error or a different result.\n",
      "  filter_interactions = feature_maps[position_pairs].transpose([1, 2, 0])\n",
      "/home/koolab/Documents/GLIFAC/Code/glifac.py:28: RuntimeWarning: invalid value encountered in float_scalars\n",
      "  return top/bottom\n",
      "/home/koolab/Documents/GLIFAC/Code/glifac.py:46: FutureWarning: Using a non-tuple sequence for multidimensional indexing is deprecated; use `arr[tuple(seq)]` instead of `arr[seq]`. In the future this will be interpreted as an array index, `arr[np.array(seq)]`, which will result either in an error or a different result.\n",
      "  filter_interactions_values = correlation_matrix[ind.transpose().tolist()]\n"
     ]
    },
    {
     "name": "stdout",
     "output_type": "stream",
     "text": [
      "0.7  | AUROC: 0.0489667125678248  | AUPR: 0.44714932126696844  | SNR: -0.3646861410771384\n"
     ]
    },
    {
     "name": "stderr",
     "output_type": "stream",
     "text": [
      "/home/koolab/Documents/GLIFAC/Code/glifac.py:108: FutureWarning: Using a non-tuple sequence for multidimensional indexing is deprecated; use `arr[tuple(seq)]` instead of `arr[seq]`. In the future this will be interpreted as an array index, `arr[np.array(seq)]`, which will result either in an error or a different result.\n",
      "  filter_interactions = feature_maps[position_pairs].transpose([1, 2, 0])\n",
      "/home/koolab/Documents/GLIFAC/Code/glifac.py:28: RuntimeWarning: invalid value encountered in float_scalars\n",
      "  return top/bottom\n",
      "/home/koolab/Documents/GLIFAC/Code/glifac.py:46: FutureWarning: Using a non-tuple sequence for multidimensional indexing is deprecated; use `arr[tuple(seq)]` instead of `arr[seq]`. In the future this will be interpreted as an array index, `arr[np.array(seq)]`, which will result either in an error or a different result.\n",
      "  filter_interactions_values = correlation_matrix[ind.transpose().tolist()]\n"
     ]
    },
    {
     "name": "stdout",
     "output_type": "stream",
     "text": [
      "0.8  | AUROC: 0.044724061526409335  | AUPR: 0.4254298642533937  | SNR: -0.35618782723363557\n"
     ]
    },
    {
     "name": "stderr",
     "output_type": "stream",
     "text": [
      "/home/koolab/Documents/GLIFAC/Code/glifac.py:108: FutureWarning: Using a non-tuple sequence for multidimensional indexing is deprecated; use `arr[tuple(seq)]` instead of `arr[seq]`. In the future this will be interpreted as an array index, `arr[np.array(seq)]`, which will result either in an error or a different result.\n",
      "  filter_interactions = feature_maps[position_pairs].transpose([1, 2, 0])\n",
      "/home/koolab/Documents/GLIFAC/Code/glifac.py:28: RuntimeWarning: invalid value encountered in float_scalars\n",
      "  return top/bottom\n",
      "/home/koolab/Documents/GLIFAC/Code/glifac.py:46: FutureWarning: Using a non-tuple sequence for multidimensional indexing is deprecated; use `arr[tuple(seq)]` instead of `arr[seq]`. In the future this will be interpreted as an array index, `arr[np.array(seq)]`, which will result either in an error or a different result.\n",
      "  filter_interactions_values = correlation_matrix[ind.transpose().tolist()]\n"
     ]
    },
    {
     "name": "stdout",
     "output_type": "stream",
     "text": [
      "0.9  | AUROC: 0.04443390244688064  | AUPR: 0.4566515837104072  | SNR: -0.3110515993188243\n",
      "finished correlation interpretability\n",
      "saved statistics\n",
      "saved filters\n"
     ]
    },
    {
     "name": "stderr",
     "output_type": "stream",
     "text": [
      "/home/koolab/Documents/GLIFAC/Code/glifac_pipeline.py:297: MatplotlibDeprecationWarning: savefig() got unexpected keyword argument \"box_inches\" which is no longer supported as of 3.3 and will become an error two minor releases later\n",
      "  fig.savefig(glifac_dir, format='pdf', dpi=300, box_inches='tight')\n"
     ]
    },
    {
     "name": "stdout",
     "output_type": "stream",
     "text": [
      "saved glifac\n",
      "Epoch 1/100\n",
      "350/350 - 5s - loss: 0.3018 - auroc: 0.8319 - aupr: 0.5270 - val_loss: 0.2376 - val_auroc: 0.9526 - val_aupr: 0.8230\n",
      "Epoch 2/100\n",
      "350/350 - 5s - loss: 0.1336 - auroc: 0.9703 - aupr: 0.8874 - val_loss: 0.1028 - val_auroc: 0.9826 - val_aupr: 0.9290\n",
      "Epoch 3/100\n",
      "350/350 - 5s - loss: 0.1124 - auroc: 0.9779 - aupr: 0.9165 - val_loss: 0.1243 - val_auroc: 0.9820 - val_aupr: 0.9215\n",
      "Epoch 4/100\n",
      "350/350 - 5s - loss: 0.1068 - auroc: 0.9796 - aupr: 0.9233 - val_loss: 0.0953 - val_auroc: 0.9869 - val_aupr: 0.9372\n",
      "Epoch 5/100\n",
      "350/350 - 5s - loss: 0.1032 - auroc: 0.9810 - aupr: 0.9278 - val_loss: 0.0913 - val_auroc: 0.9843 - val_aupr: 0.9423\n",
      "Epoch 6/100\n",
      "350/350 - 5s - loss: 0.1016 - auroc: 0.9816 - aupr: 0.9294 - val_loss: 0.0843 - val_auroc: 0.9890 - val_aupr: 0.9482\n",
      "Epoch 7/100\n",
      "350/350 - 5s - loss: 0.0996 - auroc: 0.9822 - aupr: 0.9322 - val_loss: 0.0810 - val_auroc: 0.9908 - val_aupr: 0.9576\n",
      "Epoch 8/100\n",
      "350/350 - 5s - loss: 0.0993 - auroc: 0.9822 - aupr: 0.9325 - val_loss: 0.0841 - val_auroc: 0.9871 - val_aupr: 0.9498\n",
      "Epoch 9/100\n",
      "350/350 - 5s - loss: 0.0984 - auroc: 0.9825 - aupr: 0.9333 - val_loss: 0.0784 - val_auroc: 0.9888 - val_aupr: 0.9551\n",
      "Epoch 10/100\n",
      "350/350 - 5s - loss: 0.0961 - auroc: 0.9834 - aupr: 0.9357 - val_loss: 0.0807 - val_auroc: 0.9880 - val_aupr: 0.9533\n",
      "Epoch 11/100\n",
      "350/350 - 5s - loss: 0.0927 - auroc: 0.9846 - aupr: 0.9398 - val_loss: 0.0775 - val_auroc: 0.9905 - val_aupr: 0.9576\n",
      "Epoch 12/100\n",
      "350/350 - 5s - loss: 0.0925 - auroc: 0.9847 - aupr: 0.9397 - val_loss: 0.0751 - val_auroc: 0.9905 - val_aupr: 0.9589\n",
      "Epoch 13/100\n",
      "350/350 - 5s - loss: 0.0917 - auroc: 0.9850 - aupr: 0.9403 - val_loss: 0.0760 - val_auroc: 0.9900 - val_aupr: 0.9568\n",
      "Epoch 14/100\n",
      "350/350 - 5s - loss: 0.0915 - auroc: 0.9846 - aupr: 0.9409 - val_loss: 0.0784 - val_auroc: 0.9902 - val_aupr: 0.9564\n",
      "Epoch 15/100\n",
      "350/350 - 5s - loss: 0.0911 - auroc: 0.9849 - aupr: 0.9414 - val_loss: 0.0744 - val_auroc: 0.9909 - val_aupr: 0.9593\n",
      "Epoch 16/100\n",
      "350/350 - 5s - loss: 0.0909 - auroc: 0.9851 - aupr: 0.9413 - val_loss: 0.0745 - val_auroc: 0.9898 - val_aupr: 0.9599\n",
      "Epoch 17/100\n",
      "350/350 - 5s - loss: 0.0902 - auroc: 0.9854 - aupr: 0.9422 - val_loss: 0.0743 - val_auroc: 0.9906 - val_aupr: 0.9600\n",
      "Epoch 18/100\n",
      "350/350 - 5s - loss: 0.0903 - auroc: 0.9853 - aupr: 0.9420 - val_loss: 0.0731 - val_auroc: 0.9904 - val_aupr: 0.9606\n",
      "Epoch 19/100\n",
      "350/350 - 5s - loss: 0.0895 - auroc: 0.9855 - aupr: 0.9430 - val_loss: 0.0723 - val_auroc: 0.9913 - val_aupr: 0.9611\n",
      "Epoch 20/100\n",
      "350/350 - 5s - loss: 0.0893 - auroc: 0.9855 - aupr: 0.9433 - val_loss: 0.0742 - val_auroc: 0.9912 - val_aupr: 0.9615\n",
      "Epoch 21/100\n",
      "350/350 - 5s - loss: 0.0897 - auroc: 0.9852 - aupr: 0.9427 - val_loss: 0.0755 - val_auroc: 0.9901 - val_aupr: 0.9568\n",
      "Epoch 22/100\n",
      "350/350 - 5s - loss: 0.0886 - auroc: 0.9859 - aupr: 0.9440 - val_loss: 0.0731 - val_auroc: 0.9907 - val_aupr: 0.9603\n",
      "Epoch 23/100\n",
      "350/350 - 5s - loss: 0.0878 - auroc: 0.9861 - aupr: 0.9449 - val_loss: 0.0726 - val_auroc: 0.9906 - val_aupr: 0.9605\n",
      "Epoch 24/100\n",
      "350/350 - 5s - loss: 0.0881 - auroc: 0.9860 - aupr: 0.9443 - val_loss: 0.0729 - val_auroc: 0.9907 - val_aupr: 0.9593\n",
      "Epoch 25/100\n",
      "350/350 - 5s - loss: 0.0882 - auroc: 0.9859 - aupr: 0.9448 - val_loss: 0.0731 - val_auroc: 0.9906 - val_aupr: 0.9615\n",
      "Epoch 26/100\n",
      "350/350 - 5s - loss: 0.0876 - auroc: 0.9861 - aupr: 0.9457 - val_loss: 0.0712 - val_auroc: 0.9911 - val_aupr: 0.9619\n",
      "Epoch 27/100\n",
      "350/350 - 5s - loss: 0.0866 - auroc: 0.9864 - aupr: 0.9466 - val_loss: 0.0727 - val_auroc: 0.9903 - val_aupr: 0.9615\n",
      "Epoch 28/100\n",
      "350/350 - 5s - loss: 0.0857 - auroc: 0.9868 - aupr: 0.9478 - val_loss: 0.0720 - val_auroc: 0.9911 - val_aupr: 0.9621\n",
      "Epoch 29/100\n",
      "350/350 - 5s - loss: 0.0860 - auroc: 0.9865 - aupr: 0.9471 - val_loss: 0.0709 - val_auroc: 0.9911 - val_aupr: 0.9626\n",
      "Epoch 30/100\n",
      "350/350 - 5s - loss: 0.0851 - auroc: 0.9867 - aupr: 0.9484 - val_loss: 0.0717 - val_auroc: 0.9915 - val_aupr: 0.9626\n",
      "Epoch 31/100\n",
      "350/350 - 5s - loss: 0.0855 - auroc: 0.9867 - aupr: 0.9480 - val_loss: 0.0709 - val_auroc: 0.9914 - val_aupr: 0.9622\n",
      "Epoch 32/100\n",
      "350/350 - 5s - loss: 0.0838 - auroc: 0.9871 - aupr: 0.9497 - val_loss: 0.0726 - val_auroc: 0.9908 - val_aupr: 0.9614\n",
      "Epoch 33/100\n",
      "350/350 - 5s - loss: 0.0843 - auroc: 0.9870 - aupr: 0.9492 - val_loss: 0.0693 - val_auroc: 0.9913 - val_aupr: 0.9640\n",
      "Epoch 34/100\n",
      "350/350 - 5s - loss: 0.0841 - auroc: 0.9869 - aupr: 0.9496 - val_loss: 0.0707 - val_auroc: 0.9914 - val_aupr: 0.9632\n",
      "Epoch 35/100\n",
      "350/350 - 5s - loss: 0.0830 - auroc: 0.9872 - aupr: 0.9511 - val_loss: 0.0710 - val_auroc: 0.9916 - val_aupr: 0.9639\n",
      "Epoch 36/100\n",
      "350/350 - 5s - loss: 0.0819 - auroc: 0.9877 - aupr: 0.9523 - val_loss: 0.0696 - val_auroc: 0.9916 - val_aupr: 0.9643\n",
      "Epoch 37/100\n",
      "350/350 - 5s - loss: 0.0819 - auroc: 0.9875 - aupr: 0.9521 - val_loss: 0.0694 - val_auroc: 0.9915 - val_aupr: 0.9642\n",
      "Epoch 38/100\n",
      "350/350 - 5s - loss: 0.0808 - auroc: 0.9877 - aupr: 0.9532 - val_loss: 0.0703 - val_auroc: 0.9908 - val_aupr: 0.9637\n",
      "Epoch 39/100\n",
      "350/350 - 5s - loss: 0.0805 - auroc: 0.9879 - aupr: 0.9535 - val_loss: 0.0707 - val_auroc: 0.9908 - val_aupr: 0.9633\n",
      "Epoch 40/100\n",
      "350/350 - 5s - loss: 0.0800 - auroc: 0.9880 - aupr: 0.9543 - val_loss: 0.0701 - val_auroc: 0.9907 - val_aupr: 0.9632\n",
      "Epoch 41/100\n",
      "350/350 - 5s - loss: 0.0800 - auroc: 0.9881 - aupr: 0.9541 - val_loss: 0.0698 - val_auroc: 0.9913 - val_aupr: 0.9642\n",
      "Epoch 42/100\n",
      "350/350 - 5s - loss: 0.0797 - auroc: 0.9879 - aupr: 0.9546 - val_loss: 0.0696 - val_auroc: 0.9913 - val_aupr: 0.9643\n",
      "Epoch 43/100\n",
      "\n",
      "Epoch 00043: ReduceLROnPlateau reducing learning rate to 0.00020000000949949026.\n",
      "350/350 - 5s - loss: 0.0793 - auroc: 0.9880 - aupr: 0.9548 - val_loss: 0.0719 - val_auroc: 0.9913 - val_aupr: 0.9623\n",
      "Epoch 44/100\n",
      "350/350 - 5s - loss: 0.0756 - auroc: 0.9895 - aupr: 0.9587 - val_loss: 0.0676 - val_auroc: 0.9921 - val_aupr: 0.9660\n",
      "Epoch 45/100\n",
      "350/350 - 5s - loss: 0.0748 - auroc: 0.9894 - aupr: 0.9595 - val_loss: 0.0674 - val_auroc: 0.9920 - val_aupr: 0.9660\n",
      "Epoch 46/100\n",
      "350/350 - 5s - loss: 0.0751 - auroc: 0.9893 - aupr: 0.9591 - val_loss: 0.0674 - val_auroc: 0.9920 - val_aupr: 0.9661\n",
      "Epoch 47/100\n",
      "350/350 - 5s - loss: 0.0742 - auroc: 0.9895 - aupr: 0.9601 - val_loss: 0.0673 - val_auroc: 0.9918 - val_aupr: 0.9660\n",
      "Epoch 48/100\n",
      "350/350 - 5s - loss: 0.0745 - auroc: 0.9895 - aupr: 0.9599 - val_loss: 0.0671 - val_auroc: 0.9919 - val_aupr: 0.9663\n",
      "Epoch 49/100\n",
      "350/350 - 5s - loss: 0.0738 - auroc: 0.9897 - aupr: 0.9604 - val_loss: 0.0676 - val_auroc: 0.9920 - val_aupr: 0.9660\n",
      "Epoch 50/100\n",
      "350/350 - 5s - loss: 0.0736 - auroc: 0.9898 - aupr: 0.9607 - val_loss: 0.0683 - val_auroc: 0.9917 - val_aupr: 0.9654\n",
      "Epoch 51/100\n",
      "350/350 - 5s - loss: 0.0734 - auroc: 0.9898 - aupr: 0.9610 - val_loss: 0.0676 - val_auroc: 0.9918 - val_aupr: 0.9657\n",
      "Epoch 52/100\n",
      "350/350 - 5s - loss: 0.0735 - auroc: 0.9896 - aupr: 0.9607 - val_loss: 0.0677 - val_auroc: 0.9919 - val_aupr: 0.9657\n",
      "Epoch 53/100\n",
      "350/350 - 5s - loss: 0.0738 - auroc: 0.9896 - aupr: 0.9606 - val_loss: 0.0681 - val_auroc: 0.9916 - val_aupr: 0.9655\n",
      "Epoch 54/100\n",
      "350/350 - 5s - loss: 0.0729 - auroc: 0.9899 - aupr: 0.9613 - val_loss: 0.0674 - val_auroc: 0.9917 - val_aupr: 0.9660\n",
      "Epoch 55/100\n",
      "350/350 - 5s - loss: 0.0730 - auroc: 0.9899 - aupr: 0.9611 - val_loss: 0.0677 - val_auroc: 0.9916 - val_aupr: 0.9656\n",
      "Epoch 56/100\n",
      "350/350 - 5s - loss: 0.0729 - auroc: 0.9899 - aupr: 0.9614 - val_loss: 0.0677 - val_auroc: 0.9916 - val_aupr: 0.9657\n",
      "Epoch 57/100\n",
      "350/350 - 5s - loss: 0.0730 - auroc: 0.9898 - aupr: 0.9612 - val_loss: 0.0675 - val_auroc: 0.9917 - val_aupr: 0.9658\n",
      "Epoch 58/100\n",
      "\n",
      "Epoch 00058: ReduceLROnPlateau reducing learning rate to 4.0000001899898055e-05.\n",
      "350/350 - 5s - loss: 0.0725 - auroc: 0.9901 - aupr: 0.9621 - val_loss: 0.0676 - val_auroc: 0.9917 - val_aupr: 0.9658\n",
      "Epoch 59/100\n",
      "350/350 - 5s - loss: 0.0716 - auroc: 0.9903 - aupr: 0.9627 - val_loss: 0.0674 - val_auroc: 0.9918 - val_aupr: 0.9660\n",
      "Epoch 60/100\n",
      "350/350 - 5s - loss: 0.0716 - auroc: 0.9903 - aupr: 0.9627 - val_loss: 0.0675 - val_auroc: 0.9918 - val_aupr: 0.9659\n",
      "Epoch 61/100\n",
      "350/350 - 5s - loss: 0.0719 - auroc: 0.9901 - aupr: 0.9626 - val_loss: 0.0674 - val_auroc: 0.9919 - val_aupr: 0.9661\n",
      "Epoch 62/100\n",
      "350/350 - 5s - loss: 0.0719 - auroc: 0.9901 - aupr: 0.9623 - val_loss: 0.0675 - val_auroc: 0.9917 - val_aupr: 0.9659\n"
     ]
    },
    {
     "name": "stdout",
     "output_type": "stream",
     "text": [
      "Epoch 63/100\n",
      "Restoring model weights from the end of the best epoch.\n",
      "350/350 - 5s - loss: 0.0713 - auroc: 0.9902 - aupr: 0.9629 - val_loss: 0.0674 - val_auroc: 0.9918 - val_aupr: 0.9660\n",
      "Epoch 00063: early stopping\n",
      "625/625 [==============================] - 1s 2ms/step - loss: 0.0679 - auroc: 0.9915 - aupr: 0.9653\n",
      "generated PPMs\n",
      "TomTom TPR:  0.9375\n",
      "TomTom FPR:  0.0\n",
      "Motif coverage:  1.0\n",
      "completed TomTom analysis\n",
      "completed clustering\n"
     ]
    },
    {
     "name": "stderr",
     "output_type": "stream",
     "text": [
      "/home/koolab/Documents/GLIFAC/Code/glifac.py:108: FutureWarning: Using a non-tuple sequence for multidimensional indexing is deprecated; use `arr[tuple(seq)]` instead of `arr[seq]`. In the future this will be interpreted as an array index, `arr[np.array(seq)]`, which will result either in an error or a different result.\n",
      "  filter_interactions = feature_maps[position_pairs].transpose([1, 2, 0])\n",
      "/home/koolab/Documents/GLIFAC/Code/glifac.py:46: FutureWarning: Using a non-tuple sequence for multidimensional indexing is deprecated; use `arr[tuple(seq)]` instead of `arr[seq]`. In the future this will be interpreted as an array index, `arr[np.array(seq)]`, which will result either in an error or a different result.\n",
      "  filter_interactions_values = correlation_matrix[ind.transpose().tolist()]\n"
     ]
    },
    {
     "name": "stdout",
     "output_type": "stream",
     "text": [
      "0.0  | AUROC: 0.9468990619595459  | AUPR: 0.9965426072808623  | SNR: 3.212878955835607\n"
     ]
    },
    {
     "name": "stderr",
     "output_type": "stream",
     "text": [
      "/home/koolab/Documents/GLIFAC/Code/glifac.py:108: FutureWarning: Using a non-tuple sequence for multidimensional indexing is deprecated; use `arr[tuple(seq)]` instead of `arr[seq]`. In the future this will be interpreted as an array index, `arr[np.array(seq)]`, which will result either in an error or a different result.\n",
      "  filter_interactions = feature_maps[position_pairs].transpose([1, 2, 0])\n",
      "/home/koolab/Documents/GLIFAC/Code/glifac.py:28: RuntimeWarning: invalid value encountered in float_scalars\n",
      "  return top/bottom\n",
      "/home/koolab/Documents/GLIFAC/Code/glifac.py:10: RuntimeWarning: invalid value encountered in greater\n",
      "  return np.where(-amin > amax, amin, amax)\n",
      "/home/koolab/Documents/GLIFAC/Code/glifac.py:46: FutureWarning: Using a non-tuple sequence for multidimensional indexing is deprecated; use `arr[tuple(seq)]` instead of `arr[seq]`. In the future this will be interpreted as an array index, `arr[np.array(seq)]`, which will result either in an error or a different result.\n",
      "  filter_interactions_values = correlation_matrix[ind.transpose().tolist()]\n"
     ]
    },
    {
     "name": "stdout",
     "output_type": "stream",
     "text": [
      "0.1  | AUROC: 0.09990480917306077  | AUPR: 0.5845027455765711  | SNR: 0.6955864254954738\n"
     ]
    },
    {
     "name": "stderr",
     "output_type": "stream",
     "text": [
      "/home/koolab/Documents/GLIFAC/Code/glifac.py:108: FutureWarning: Using a non-tuple sequence for multidimensional indexing is deprecated; use `arr[tuple(seq)]` instead of `arr[seq]`. In the future this will be interpreted as an array index, `arr[np.array(seq)]`, which will result either in an error or a different result.\n",
      "  filter_interactions = feature_maps[position_pairs].transpose([1, 2, 0])\n",
      "/home/koolab/Documents/GLIFAC/Code/glifac.py:28: RuntimeWarning: invalid value encountered in float_scalars\n",
      "  return top/bottom\n",
      "/home/koolab/Documents/GLIFAC/Code/glifac.py:10: RuntimeWarning: invalid value encountered in greater\n",
      "  return np.where(-amin > amax, amin, amax)\n",
      "/home/koolab/Documents/GLIFAC/Code/glifac.py:46: FutureWarning: Using a non-tuple sequence for multidimensional indexing is deprecated; use `arr[tuple(seq)]` instead of `arr[seq]`. In the future this will be interpreted as an array index, `arr[np.array(seq)]`, which will result either in an error or a different result.\n",
      "  filter_interactions_values = correlation_matrix[ind.transpose().tolist()]\n"
     ]
    },
    {
     "name": "stdout",
     "output_type": "stream",
     "text": [
      "0.2  | AUROC: 0.07749182864707266  | AUPR: 0.6288387227984544  | SNR: 0.3530534963359518\n"
     ]
    },
    {
     "name": "stderr",
     "output_type": "stream",
     "text": [
      "/home/koolab/Documents/GLIFAC/Code/glifac.py:108: FutureWarning: Using a non-tuple sequence for multidimensional indexing is deprecated; use `arr[tuple(seq)]` instead of `arr[seq]`. In the future this will be interpreted as an array index, `arr[np.array(seq)]`, which will result either in an error or a different result.\n",
      "  filter_interactions = feature_maps[position_pairs].transpose([1, 2, 0])\n",
      "/home/koolab/Documents/GLIFAC/Code/glifac.py:28: RuntimeWarning: invalid value encountered in float_scalars\n",
      "  return top/bottom\n",
      "/home/koolab/Documents/GLIFAC/Code/glifac.py:10: RuntimeWarning: invalid value encountered in greater\n",
      "  return np.where(-amin > amax, amin, amax)\n",
      "/home/koolab/Documents/GLIFAC/Code/glifac.py:46: FutureWarning: Using a non-tuple sequence for multidimensional indexing is deprecated; use `arr[tuple(seq)]` instead of `arr[seq]`. In the future this will be interpreted as an array index, `arr[np.array(seq)]`, which will result either in an error or a different result.\n",
      "  filter_interactions_values = correlation_matrix[ind.transpose().tolist()]\n"
     ]
    },
    {
     "name": "stdout",
     "output_type": "stream",
     "text": [
      "0.3  | AUROC: 0.06998633489278261  | AUPR: 0.6165344722391702  | SNR: 0.09077481249622942\n"
     ]
    },
    {
     "name": "stderr",
     "output_type": "stream",
     "text": [
      "/home/koolab/Documents/GLIFAC/Code/glifac.py:108: FutureWarning: Using a non-tuple sequence for multidimensional indexing is deprecated; use `arr[tuple(seq)]` instead of `arr[seq]`. In the future this will be interpreted as an array index, `arr[np.array(seq)]`, which will result either in an error or a different result.\n",
      "  filter_interactions = feature_maps[position_pairs].transpose([1, 2, 0])\n",
      "/home/koolab/Documents/GLIFAC/Code/glifac.py:28: RuntimeWarning: invalid value encountered in float_scalars\n",
      "  return top/bottom\n",
      "/home/koolab/Documents/GLIFAC/Code/glifac.py:10: RuntimeWarning: invalid value encountered in greater\n",
      "  return np.where(-amin > amax, amin, amax)\n",
      "/home/koolab/Documents/GLIFAC/Code/glifac.py:46: FutureWarning: Using a non-tuple sequence for multidimensional indexing is deprecated; use `arr[tuple(seq)]` instead of `arr[seq]`. In the future this will be interpreted as an array index, `arr[np.array(seq)]`, which will result either in an error or a different result.\n",
      "  filter_interactions_values = correlation_matrix[ind.transpose().tolist()]\n"
     ]
    },
    {
     "name": "stdout",
     "output_type": "stream",
     "text": [
      "0.4  | AUROC: 0.06664417043460417  | AUPR: 0.5921293471629042  | SNR: 0.10321669554814954\n"
     ]
    },
    {
     "name": "stderr",
     "output_type": "stream",
     "text": [
      "/home/koolab/Documents/GLIFAC/Code/glifac.py:108: FutureWarning: Using a non-tuple sequence for multidimensional indexing is deprecated; use `arr[tuple(seq)]` instead of `arr[seq]`. In the future this will be interpreted as an array index, `arr[np.array(seq)]`, which will result either in an error or a different result.\n",
      "  filter_interactions = feature_maps[position_pairs].transpose([1, 2, 0])\n",
      "/home/koolab/Documents/GLIFAC/Code/glifac.py:28: RuntimeWarning: invalid value encountered in float_scalars\n",
      "  return top/bottom\n",
      "/home/koolab/Documents/GLIFAC/Code/glifac.py:10: RuntimeWarning: invalid value encountered in greater\n",
      "  return np.where(-amin > amax, amin, amax)\n",
      "/home/koolab/Documents/GLIFAC/Code/glifac.py:46: FutureWarning: Using a non-tuple sequence for multidimensional indexing is deprecated; use `arr[tuple(seq)]` instead of `arr[seq]`. In the future this will be interpreted as an array index, `arr[np.array(seq)]`, which will result either in an error or a different result.\n",
      "  filter_interactions_values = correlation_matrix[ind.transpose().tolist()]\n"
     ]
    },
    {
     "name": "stdout",
     "output_type": "stream",
     "text": [
      "0.5  | AUROC: 0.060757934853925416  | AUPR: 0.5689444783404515  | SNR: 0.11410413138903115\n"
     ]
    },
    {
     "name": "stderr",
     "output_type": "stream",
     "text": [
      "/home/koolab/Documents/GLIFAC/Code/glifac.py:108: FutureWarning: Using a non-tuple sequence for multidimensional indexing is deprecated; use `arr[tuple(seq)]` instead of `arr[seq]`. In the future this will be interpreted as an array index, `arr[np.array(seq)]`, which will result either in an error or a different result.\n",
      "  filter_interactions = feature_maps[position_pairs].transpose([1, 2, 0])\n",
      "/home/koolab/Documents/GLIFAC/Code/glifac.py:28: RuntimeWarning: invalid value encountered in float_scalars\n",
      "  return top/bottom\n",
      "/home/koolab/Documents/GLIFAC/Code/glifac.py:10: RuntimeWarning: invalid value encountered in greater\n",
      "  return np.where(-amin > amax, amin, amax)\n",
      "/home/koolab/Documents/GLIFAC/Code/glifac.py:46: FutureWarning: Using a non-tuple sequence for multidimensional indexing is deprecated; use `arr[tuple(seq)]` instead of `arr[seq]`. In the future this will be interpreted as an array index, `arr[np.array(seq)]`, which will result either in an error or a different result.\n",
      "  filter_interactions_values = correlation_matrix[ind.transpose().tolist()]\n"
     ]
    },
    {
     "name": "stdout",
     "output_type": "stream",
     "text": [
      "0.6  | AUROC: 0.059666921274267065  | AUPR: 0.5743339434614603  | SNR: 0.1276566254885863\n"
     ]
    },
    {
     "name": "stderr",
     "output_type": "stream",
     "text": [
      "/home/koolab/Documents/GLIFAC/Code/glifac.py:108: FutureWarning: Using a non-tuple sequence for multidimensional indexing is deprecated; use `arr[tuple(seq)]` instead of `arr[seq]`. In the future this will be interpreted as an array index, `arr[np.array(seq)]`, which will result either in an error or a different result.\n",
      "  filter_interactions = feature_maps[position_pairs].transpose([1, 2, 0])\n",
      "/home/koolab/Documents/GLIFAC/Code/glifac.py:28: RuntimeWarning: invalid value encountered in float_scalars\n",
      "  return top/bottom\n",
      "/home/koolab/Documents/GLIFAC/Code/glifac.py:10: RuntimeWarning: invalid value encountered in greater\n",
      "  return np.where(-amin > amax, amin, amax)\n",
      "/home/koolab/Documents/GLIFAC/Code/glifac.py:46: FutureWarning: Using a non-tuple sequence for multidimensional indexing is deprecated; use `arr[tuple(seq)]` instead of `arr[seq]`. In the future this will be interpreted as an array index, `arr[np.array(seq)]`, which will result either in an error or a different result.\n",
      "  filter_interactions_values = correlation_matrix[ind.transpose().tolist()]\n"
     ]
    },
    {
     "name": "stdout",
     "output_type": "stream",
     "text": [
      "0.7  | AUROC: 0.056862226837177704  | AUPR: 0.5638600772828961  | SNR: 0.07750529651347622\n"
     ]
    },
    {
     "name": "stderr",
     "output_type": "stream",
     "text": [
      "/home/koolab/Documents/GLIFAC/Code/glifac.py:108: FutureWarning: Using a non-tuple sequence for multidimensional indexing is deprecated; use `arr[tuple(seq)]` instead of `arr[seq]`. In the future this will be interpreted as an array index, `arr[np.array(seq)]`, which will result either in an error or a different result.\n",
      "  filter_interactions = feature_maps[position_pairs].transpose([1, 2, 0])\n",
      "/home/koolab/Documents/GLIFAC/Code/glifac.py:28: RuntimeWarning: invalid value encountered in float_scalars\n",
      "  return top/bottom\n",
      "/home/koolab/Documents/GLIFAC/Code/glifac.py:10: RuntimeWarning: invalid value encountered in greater\n",
      "  return np.where(-amin > amax, amin, amax)\n",
      "/home/koolab/Documents/GLIFAC/Code/glifac.py:46: FutureWarning: Using a non-tuple sequence for multidimensional indexing is deprecated; use `arr[tuple(seq)]` instead of `arr[seq]`. In the future this will be interpreted as an array index, `arr[np.array(seq)]`, which will result either in an error or a different result.\n",
      "  filter_interactions_values = correlation_matrix[ind.transpose().tolist()]\n"
     ]
    },
    {
     "name": "stdout",
     "output_type": "stream",
     "text": [
      "0.8  | AUROC: 0.06297750032612617  | AUPR: 0.5889770185072198  | SNR: 0.09601688657355979\n"
     ]
    },
    {
     "name": "stderr",
     "output_type": "stream",
     "text": [
      "/home/koolab/Documents/GLIFAC/Code/glifac.py:108: FutureWarning: Using a non-tuple sequence for multidimensional indexing is deprecated; use `arr[tuple(seq)]` instead of `arr[seq]`. In the future this will be interpreted as an array index, `arr[np.array(seq)]`, which will result either in an error or a different result.\n",
      "  filter_interactions = feature_maps[position_pairs].transpose([1, 2, 0])\n",
      "/home/koolab/Documents/GLIFAC/Code/glifac.py:28: RuntimeWarning: invalid value encountered in float_scalars\n",
      "  return top/bottom\n",
      "/home/koolab/Documents/GLIFAC/Code/glifac.py:10: RuntimeWarning: invalid value encountered in greater\n",
      "  return np.where(-amin > amax, amin, amax)\n",
      "/home/koolab/Documents/GLIFAC/Code/glifac.py:46: FutureWarning: Using a non-tuple sequence for multidimensional indexing is deprecated; use `arr[tuple(seq)]` instead of `arr[seq]`. In the future this will be interpreted as an array index, `arr[np.array(seq)]`, which will result either in an error or a different result.\n",
      "  filter_interactions_values = correlation_matrix[ind.transpose().tolist()]\n"
     ]
    },
    {
     "name": "stdout",
     "output_type": "stream",
     "text": [
      "0.9  | AUROC: 0.048320370758102096  | AUPR: 0.5038641448037421  | SNR: -0.012755987348124779\n",
      "finished correlation interpretability\n",
      "saved statistics\n",
      "saved filters\n"
     ]
    },
    {
     "name": "stderr",
     "output_type": "stream",
     "text": [
      "/home/koolab/Documents/GLIFAC/Code/glifac_pipeline.py:297: MatplotlibDeprecationWarning: savefig() got unexpected keyword argument \"box_inches\" which is no longer supported as of 3.3 and will become an error two minor releases later\n",
      "  fig.savefig(glifac_dir, format='pdf', dpi=300, box_inches='tight')\n"
     ]
    },
    {
     "name": "stdout",
     "output_type": "stream",
     "text": [
      "saved glifac\n",
      "Epoch 1/100\n",
      "350/350 - 5s - loss: 0.3070 - auroc: 0.8248 - aupr: 0.5189 - val_loss: 0.2557 - val_auroc: 0.9613 - val_aupr: 0.8437\n",
      "Epoch 2/100\n",
      "350/350 - 5s - loss: 0.1409 - auroc: 0.9672 - aupr: 0.8745 - val_loss: 0.1215 - val_auroc: 0.9758 - val_aupr: 0.9163\n",
      "Epoch 3/100\n",
      "350/350 - 5s - loss: 0.1209 - auroc: 0.9748 - aupr: 0.9046 - val_loss: 0.1017 - val_auroc: 0.9831 - val_aupr: 0.9358\n",
      "Epoch 4/100\n",
      "350/350 - 5s - loss: 0.1130 - auroc: 0.9777 - aupr: 0.9158 - val_loss: 0.0929 - val_auroc: 0.9865 - val_aupr: 0.9442\n",
      "Epoch 5/100\n",
      "350/350 - 5s - loss: 0.1077 - auroc: 0.9796 - aupr: 0.9226 - val_loss: 0.0882 - val_auroc: 0.9854 - val_aupr: 0.9465\n",
      "Epoch 6/100\n",
      "350/350 - 5s - loss: 0.1050 - auroc: 0.9804 - aupr: 0.9257 - val_loss: 0.0823 - val_auroc: 0.9887 - val_aupr: 0.9513\n",
      "Epoch 7/100\n",
      "350/350 - 5s - loss: 0.1036 - auroc: 0.9808 - aupr: 0.9275 - val_loss: 0.0911 - val_auroc: 0.9849 - val_aupr: 0.9421\n",
      "Epoch 8/100\n",
      "350/350 - 5s - loss: 0.1030 - auroc: 0.9808 - aupr: 0.9285 - val_loss: 0.0818 - val_auroc: 0.9886 - val_aupr: 0.9521\n",
      "Epoch 9/100\n",
      "350/350 - 5s - loss: 0.1014 - auroc: 0.9816 - aupr: 0.9302 - val_loss: 0.0791 - val_auroc: 0.9893 - val_aupr: 0.9556\n",
      "Epoch 10/100\n",
      "350/350 - 5s - loss: 0.1013 - auroc: 0.9817 - aupr: 0.9306 - val_loss: 0.0829 - val_auroc: 0.9895 - val_aupr: 0.9517\n",
      "Epoch 11/100\n",
      "350/350 - 5s - loss: 0.1004 - auroc: 0.9820 - aupr: 0.9309 - val_loss: 0.0810 - val_auroc: 0.9880 - val_aupr: 0.9546\n",
      "Epoch 12/100\n",
      "350/350 - 5s - loss: 0.0998 - auroc: 0.9822 - aupr: 0.9318 - val_loss: 0.0783 - val_auroc: 0.9889 - val_aupr: 0.9545\n",
      "Epoch 13/100\n",
      "350/350 - 5s - loss: 0.0999 - auroc: 0.9822 - aupr: 0.9321 - val_loss: 0.0764 - val_auroc: 0.9901 - val_aupr: 0.9575\n",
      "Epoch 14/100\n",
      "350/350 - 5s - loss: 0.0957 - auroc: 0.9840 - aupr: 0.9362 - val_loss: 0.0769 - val_auroc: 0.9893 - val_aupr: 0.9567\n",
      "Epoch 15/100\n",
      "350/350 - 5s - loss: 0.0940 - auroc: 0.9846 - aupr: 0.9378 - val_loss: 0.0774 - val_auroc: 0.9902 - val_aupr: 0.9574\n",
      "Epoch 16/100\n",
      "350/350 - 5s - loss: 0.0932 - auroc: 0.9848 - aupr: 0.9391 - val_loss: 0.0782 - val_auroc: 0.9903 - val_aupr: 0.9580\n",
      "Epoch 17/100\n",
      "350/350 - 5s - loss: 0.0937 - auroc: 0.9847 - aupr: 0.9379 - val_loss: 0.0757 - val_auroc: 0.9904 - val_aupr: 0.9591\n",
      "Epoch 18/100\n",
      "350/350 - 5s - loss: 0.0929 - auroc: 0.9846 - aupr: 0.9389 - val_loss: 0.0770 - val_auroc: 0.9907 - val_aupr: 0.9573\n",
      "Epoch 19/100\n",
      "350/350 - 5s - loss: 0.0929 - auroc: 0.9847 - aupr: 0.9394 - val_loss: 0.0753 - val_auroc: 0.9902 - val_aupr: 0.9592\n",
      "Epoch 20/100\n",
      "350/350 - 5s - loss: 0.0924 - auroc: 0.9848 - aupr: 0.9398 - val_loss: 0.0747 - val_auroc: 0.9905 - val_aupr: 0.9594\n",
      "Epoch 21/100\n",
      "350/350 - 5s - loss: 0.0923 - auroc: 0.9849 - aupr: 0.9399 - val_loss: 0.0779 - val_auroc: 0.9897 - val_aupr: 0.9570\n",
      "Epoch 22/100\n",
      "350/350 - 5s - loss: 0.0915 - auroc: 0.9851 - aupr: 0.9409 - val_loss: 0.0731 - val_auroc: 0.9913 - val_aupr: 0.9603\n",
      "Epoch 23/100\n",
      "350/350 - 5s - loss: 0.0918 - auroc: 0.9851 - aupr: 0.9411 - val_loss: 0.0754 - val_auroc: 0.9909 - val_aupr: 0.9582\n",
      "Epoch 24/100\n",
      "350/350 - 5s - loss: 0.0903 - auroc: 0.9853 - aupr: 0.9421 - val_loss: 0.0760 - val_auroc: 0.9906 - val_aupr: 0.9591\n",
      "Epoch 25/100\n",
      "350/350 - 5s - loss: 0.0903 - auroc: 0.9854 - aupr: 0.9424 - val_loss: 0.0739 - val_auroc: 0.9908 - val_aupr: 0.9609\n",
      "Epoch 26/100\n",
      "350/350 - 5s - loss: 0.0896 - auroc: 0.9857 - aupr: 0.9434 - val_loss: 0.0753 - val_auroc: 0.9897 - val_aupr: 0.9583\n",
      "Epoch 27/100\n",
      "350/350 - 5s - loss: 0.0893 - auroc: 0.9858 - aupr: 0.9439 - val_loss: 0.0732 - val_auroc: 0.9906 - val_aupr: 0.9608\n",
      "Epoch 28/100\n",
      "350/350 - 5s - loss: 0.0890 - auroc: 0.9858 - aupr: 0.9442 - val_loss: 0.0742 - val_auroc: 0.9909 - val_aupr: 0.9594\n",
      "Epoch 29/100\n",
      "350/350 - 5s - loss: 0.0882 - auroc: 0.9859 - aupr: 0.9448 - val_loss: 0.0720 - val_auroc: 0.9913 - val_aupr: 0.9618\n",
      "Epoch 30/100\n",
      "350/350 - 5s - loss: 0.0885 - auroc: 0.9858 - aupr: 0.9447 - val_loss: 0.0745 - val_auroc: 0.9904 - val_aupr: 0.9600\n",
      "Epoch 31/100\n",
      "350/350 - 5s - loss: 0.0882 - auroc: 0.9859 - aupr: 0.9452 - val_loss: 0.0727 - val_auroc: 0.9909 - val_aupr: 0.9611\n",
      "Epoch 32/100\n",
      "350/350 - 5s - loss: 0.0872 - auroc: 0.9862 - aupr: 0.9462 - val_loss: 0.0735 - val_auroc: 0.9902 - val_aupr: 0.9607\n",
      "Epoch 33/100\n",
      "350/350 - 5s - loss: 0.0872 - auroc: 0.9863 - aupr: 0.9463 - val_loss: 0.0734 - val_auroc: 0.9912 - val_aupr: 0.9608\n",
      "Epoch 34/100\n",
      "350/350 - 5s - loss: 0.0868 - auroc: 0.9864 - aupr: 0.9468 - val_loss: 0.0720 - val_auroc: 0.9912 - val_aupr: 0.9615\n",
      "Epoch 35/100\n",
      "350/350 - 5s - loss: 0.0864 - auroc: 0.9865 - aupr: 0.9472 - val_loss: 0.0726 - val_auroc: 0.9913 - val_aupr: 0.9616\n",
      "Epoch 36/100\n",
      "350/350 - 5s - loss: 0.0860 - auroc: 0.9867 - aupr: 0.9475 - val_loss: 0.0726 - val_auroc: 0.9914 - val_aupr: 0.9616\n",
      "Epoch 37/100\n",
      "350/350 - 5s - loss: 0.0858 - auroc: 0.9867 - aupr: 0.9480 - val_loss: 0.0707 - val_auroc: 0.9914 - val_aupr: 0.9627\n",
      "Epoch 38/100\n",
      "350/350 - 5s - loss: 0.0847 - auroc: 0.9872 - aupr: 0.9489 - val_loss: 0.0723 - val_auroc: 0.9909 - val_aupr: 0.9612\n",
      "Epoch 39/100\n",
      "350/350 - 5s - loss: 0.0852 - auroc: 0.9868 - aupr: 0.9484 - val_loss: 0.0716 - val_auroc: 0.9914 - val_aupr: 0.9618\n",
      "Epoch 40/100\n",
      "350/350 - 5s - loss: 0.0844 - auroc: 0.9871 - aupr: 0.9494 - val_loss: 0.0724 - val_auroc: 0.9912 - val_aupr: 0.9619\n",
      "Epoch 41/100\n",
      "350/350 - 5s - loss: 0.0841 - auroc: 0.9871 - aupr: 0.9499 - val_loss: 0.0709 - val_auroc: 0.9911 - val_aupr: 0.9629\n",
      "Epoch 42/100\n",
      "350/350 - 5s - loss: 0.0840 - auroc: 0.9873 - aupr: 0.9496 - val_loss: 0.0707 - val_auroc: 0.9913 - val_aupr: 0.9630\n",
      "Epoch 43/100\n",
      "350/350 - 5s - loss: 0.0839 - auroc: 0.9870 - aupr: 0.9501 - val_loss: 0.0724 - val_auroc: 0.9909 - val_aupr: 0.9622\n",
      "Epoch 44/100\n",
      "350/350 - 5s - loss: 0.0827 - auroc: 0.9878 - aupr: 0.9512 - val_loss: 0.0718 - val_auroc: 0.9905 - val_aupr: 0.9613\n",
      "Epoch 45/100\n",
      "350/350 - 5s - loss: 0.0826 - auroc: 0.9875 - aupr: 0.9517 - val_loss: 0.0711 - val_auroc: 0.9911 - val_aupr: 0.9625\n",
      "Epoch 46/100\n",
      "350/350 - 5s - loss: 0.0832 - auroc: 0.9874 - aupr: 0.9507 - val_loss: 0.0717 - val_auroc: 0.9910 - val_aupr: 0.9618\n",
      "Epoch 47/100\n",
      "\n",
      "Epoch 00047: ReduceLROnPlateau reducing learning rate to 0.00020000000949949026.\n",
      "350/350 - 5s - loss: 0.0828 - auroc: 0.9875 - aupr: 0.9515 - val_loss: 0.0715 - val_auroc: 0.9910 - val_aupr: 0.9626\n",
      "Epoch 48/100\n",
      "350/350 - 5s - loss: 0.0795 - auroc: 0.9885 - aupr: 0.9548 - val_loss: 0.0698 - val_auroc: 0.9914 - val_aupr: 0.9637\n",
      "Epoch 49/100\n",
      "350/350 - 5s - loss: 0.0782 - auroc: 0.9889 - aupr: 0.9564 - val_loss: 0.0693 - val_auroc: 0.9915 - val_aupr: 0.9642\n",
      "Epoch 50/100\n",
      "350/350 - 5s - loss: 0.0780 - auroc: 0.9889 - aupr: 0.9564 - val_loss: 0.0696 - val_auroc: 0.9915 - val_aupr: 0.9640\n",
      "Epoch 51/100\n",
      "350/350 - 5s - loss: 0.0777 - auroc: 0.9890 - aupr: 0.9568 - val_loss: 0.0699 - val_auroc: 0.9912 - val_aupr: 0.9637\n",
      "Epoch 52/100\n",
      "350/350 - 5s - loss: 0.0781 - auroc: 0.9888 - aupr: 0.9563 - val_loss: 0.0696 - val_auroc: 0.9916 - val_aupr: 0.9639\n",
      "Epoch 53/100\n",
      "350/350 - 5s - loss: 0.0781 - auroc: 0.9889 - aupr: 0.9564 - val_loss: 0.0697 - val_auroc: 0.9914 - val_aupr: 0.9638\n",
      "Epoch 54/100\n",
      "350/350 - 5s - loss: 0.0769 - auroc: 0.9893 - aupr: 0.9574 - val_loss: 0.0694 - val_auroc: 0.9914 - val_aupr: 0.9642\n",
      "Epoch 55/100\n",
      "350/350 - 5s - loss: 0.0775 - auroc: 0.9890 - aupr: 0.9569 - val_loss: 0.0697 - val_auroc: 0.9912 - val_aupr: 0.9639\n",
      "Epoch 56/100\n",
      "350/350 - 5s - loss: 0.0769 - auroc: 0.9892 - aupr: 0.9578 - val_loss: 0.0693 - val_auroc: 0.9915 - val_aupr: 0.9638\n",
      "Epoch 57/100\n",
      "350/350 - 5s - loss: 0.0764 - auroc: 0.9895 - aupr: 0.9583 - val_loss: 0.0692 - val_auroc: 0.9914 - val_aupr: 0.9641\n",
      "Epoch 58/100\n",
      "350/350 - 5s - loss: 0.0766 - auroc: 0.9892 - aupr: 0.9581 - val_loss: 0.0702 - val_auroc: 0.9913 - val_aupr: 0.9634\n",
      "Epoch 59/100\n",
      "\n",
      "Epoch 00059: ReduceLROnPlateau reducing learning rate to 4.0000001899898055e-05.\n",
      "350/350 - 5s - loss: 0.0767 - auroc: 0.9891 - aupr: 0.9577 - val_loss: 0.0700 - val_auroc: 0.9913 - val_aupr: 0.9636\n",
      "Epoch 60/100\n",
      "350/350 - 5s - loss: 0.0757 - auroc: 0.9894 - aupr: 0.9588 - val_loss: 0.0695 - val_auroc: 0.9914 - val_aupr: 0.9641\n",
      "Epoch 61/100\n",
      "350/350 - 5s - loss: 0.0757 - auroc: 0.9895 - aupr: 0.9587 - val_loss: 0.0693 - val_auroc: 0.9913 - val_aupr: 0.9641\n",
      "Epoch 62/100\n",
      "350/350 - 5s - loss: 0.0756 - auroc: 0.9895 - aupr: 0.9588 - val_loss: 0.0695 - val_auroc: 0.9914 - val_aupr: 0.9641\n"
     ]
    },
    {
     "name": "stdout",
     "output_type": "stream",
     "text": [
      "Epoch 63/100\n",
      "350/350 - 5s - loss: 0.0758 - auroc: 0.9895 - aupr: 0.9590 - val_loss: 0.0695 - val_auroc: 0.9914 - val_aupr: 0.9641\n",
      "Epoch 64/100\n",
      "350/350 - 5s - loss: 0.0757 - auroc: 0.9894 - aupr: 0.9590 - val_loss: 0.0694 - val_auroc: 0.9913 - val_aupr: 0.9640\n",
      "Epoch 65/100\n",
      "350/350 - 5s - loss: 0.0760 - auroc: 0.9892 - aupr: 0.9587 - val_loss: 0.0695 - val_auroc: 0.9914 - val_aupr: 0.9641\n",
      "Epoch 66/100\n",
      "350/350 - 5s - loss: 0.0751 - auroc: 0.9898 - aupr: 0.9592 - val_loss: 0.0695 - val_auroc: 0.9911 - val_aupr: 0.9639\n",
      "Epoch 67/100\n",
      "350/350 - 5s - loss: 0.0757 - auroc: 0.9893 - aupr: 0.9590 - val_loss: 0.0695 - val_auroc: 0.9913 - val_aupr: 0.9640\n",
      "Epoch 68/100\n",
      "350/350 - 5s - loss: 0.0753 - auroc: 0.9895 - aupr: 0.9591 - val_loss: 0.0695 - val_auroc: 0.9912 - val_aupr: 0.9639\n",
      "Epoch 69/100\n",
      "\n",
      "Epoch 00069: ReduceLROnPlateau reducing learning rate to 8.000000525498762e-06.\n",
      "350/350 - 5s - loss: 0.0753 - auroc: 0.9897 - aupr: 0.9589 - val_loss: 0.0695 - val_auroc: 0.9913 - val_aupr: 0.9640\n",
      "Epoch 70/100\n",
      "350/350 - 5s - loss: 0.0754 - auroc: 0.9896 - aupr: 0.9594 - val_loss: 0.0694 - val_auroc: 0.9913 - val_aupr: 0.9641\n",
      "Epoch 71/100\n",
      "350/350 - 5s - loss: 0.0757 - auroc: 0.9896 - aupr: 0.9589 - val_loss: 0.0695 - val_auroc: 0.9913 - val_aupr: 0.9641\n",
      "Epoch 72/100\n",
      "Restoring model weights from the end of the best epoch.\n",
      "350/350 - 5s - loss: 0.0748 - auroc: 0.9897 - aupr: 0.9596 - val_loss: 0.0694 - val_auroc: 0.9912 - val_aupr: 0.9641\n",
      "Epoch 00072: early stopping\n",
      "625/625 [==============================] - 2s 2ms/step - loss: 0.0699 - auroc: 0.9910 - aupr: 0.9635\n",
      "generated PPMs\n",
      "TomTom TPR:  0.90625\n",
      "TomTom FPR:  0.03125\n",
      "Motif coverage:  1.0\n",
      "completed TomTom analysis\n",
      "completed clustering\n"
     ]
    },
    {
     "name": "stderr",
     "output_type": "stream",
     "text": [
      "/home/koolab/Documents/GLIFAC/Code/glifac.py:108: FutureWarning: Using a non-tuple sequence for multidimensional indexing is deprecated; use `arr[tuple(seq)]` instead of `arr[seq]`. In the future this will be interpreted as an array index, `arr[np.array(seq)]`, which will result either in an error or a different result.\n",
      "  filter_interactions = feature_maps[position_pairs].transpose([1, 2, 0])\n",
      "/home/koolab/Documents/GLIFAC/Code/glifac.py:46: FutureWarning: Using a non-tuple sequence for multidimensional indexing is deprecated; use `arr[tuple(seq)]` instead of `arr[seq]`. In the future this will be interpreted as an array index, `arr[np.array(seq)]`, which will result either in an error or a different result.\n",
      "  filter_interactions_values = correlation_matrix[ind.transpose().tolist()]\n"
     ]
    },
    {
     "name": "stdout",
     "output_type": "stream",
     "text": [
      "0.0  | AUROC: 0.9597298631451109  | AUPR: 0.9986111111111111  | SNR: 2.7415906679460793\n"
     ]
    },
    {
     "name": "stderr",
     "output_type": "stream",
     "text": [
      "/home/koolab/Documents/GLIFAC/Code/glifac.py:108: FutureWarning: Using a non-tuple sequence for multidimensional indexing is deprecated; use `arr[tuple(seq)]` instead of `arr[seq]`. In the future this will be interpreted as an array index, `arr[np.array(seq)]`, which will result either in an error or a different result.\n",
      "  filter_interactions = feature_maps[position_pairs].transpose([1, 2, 0])\n",
      "/home/koolab/Documents/GLIFAC/Code/glifac.py:28: RuntimeWarning: invalid value encountered in float_scalars\n",
      "  return top/bottom\n",
      "/home/koolab/Documents/GLIFAC/Code/glifac.py:10: RuntimeWarning: invalid value encountered in greater\n",
      "  return np.where(-amin > amax, amin, amax)\n",
      "/home/koolab/Documents/GLIFAC/Code/glifac.py:46: FutureWarning: Using a non-tuple sequence for multidimensional indexing is deprecated; use `arr[tuple(seq)]` instead of `arr[seq]`. In the future this will be interpreted as an array index, `arr[np.array(seq)]`, which will result either in an error or a different result.\n",
      "  filter_interactions_values = correlation_matrix[ind.transpose().tolist()]\n"
     ]
    },
    {
     "name": "stdout",
     "output_type": "stream",
     "text": [
      "0.1  | AUROC: 0.09578398630682511  | AUPR: 0.6172222222222222  | SNR: 0.7037677001363901\n"
     ]
    },
    {
     "name": "stderr",
     "output_type": "stream",
     "text": [
      "/home/koolab/Documents/GLIFAC/Code/glifac.py:108: FutureWarning: Using a non-tuple sequence for multidimensional indexing is deprecated; use `arr[tuple(seq)]` instead of `arr[seq]`. In the future this will be interpreted as an array index, `arr[np.array(seq)]`, which will result either in an error or a different result.\n",
      "  filter_interactions = feature_maps[position_pairs].transpose([1, 2, 0])\n",
      "/home/koolab/Documents/GLIFAC/Code/glifac.py:28: RuntimeWarning: invalid value encountered in float_scalars\n",
      "  return top/bottom\n",
      "/home/koolab/Documents/GLIFAC/Code/glifac.py:10: RuntimeWarning: invalid value encountered in greater\n",
      "  return np.where(-amin > amax, amin, amax)\n",
      "/home/koolab/Documents/GLIFAC/Code/glifac.py:46: FutureWarning: Using a non-tuple sequence for multidimensional indexing is deprecated; use `arr[tuple(seq)]` instead of `arr[seq]`. In the future this will be interpreted as an array index, `arr[np.array(seq)]`, which will result either in an error or a different result.\n",
      "  filter_interactions_values = correlation_matrix[ind.transpose().tolist()]\n"
     ]
    },
    {
     "name": "stdout",
     "output_type": "stream",
     "text": [
      "0.2  | AUROC: 0.08508649960734  | AUPR: 0.5934722222222222  | SNR: 0.5419565487803473\n"
     ]
    },
    {
     "name": "stderr",
     "output_type": "stream",
     "text": [
      "/home/koolab/Documents/GLIFAC/Code/glifac.py:108: FutureWarning: Using a non-tuple sequence for multidimensional indexing is deprecated; use `arr[tuple(seq)]` instead of `arr[seq]`. In the future this will be interpreted as an array index, `arr[np.array(seq)]`, which will result either in an error or a different result.\n",
      "  filter_interactions = feature_maps[position_pairs].transpose([1, 2, 0])\n",
      "/home/koolab/Documents/GLIFAC/Code/glifac.py:28: RuntimeWarning: invalid value encountered in float_scalars\n",
      "  return top/bottom\n",
      "/home/koolab/Documents/GLIFAC/Code/glifac.py:10: RuntimeWarning: invalid value encountered in greater\n",
      "  return np.where(-amin > amax, amin, amax)\n",
      "/home/koolab/Documents/GLIFAC/Code/glifac.py:46: FutureWarning: Using a non-tuple sequence for multidimensional indexing is deprecated; use `arr[tuple(seq)]` instead of `arr[seq]`. In the future this will be interpreted as an array index, `arr[np.array(seq)]`, which will result either in an error or a different result.\n",
      "  filter_interactions_values = correlation_matrix[ind.transpose().tolist()]\n"
     ]
    },
    {
     "name": "stdout",
     "output_type": "stream",
     "text": [
      "0.3  | AUROC: 0.06265002263737447  | AUPR: 0.5613888888888889  | SNR: 0.2778614447354385\n"
     ]
    },
    {
     "name": "stderr",
     "output_type": "stream",
     "text": [
      "/home/koolab/Documents/GLIFAC/Code/glifac.py:108: FutureWarning: Using a non-tuple sequence for multidimensional indexing is deprecated; use `arr[tuple(seq)]` instead of `arr[seq]`. In the future this will be interpreted as an array index, `arr[np.array(seq)]`, which will result either in an error or a different result.\n",
      "  filter_interactions = feature_maps[position_pairs].transpose([1, 2, 0])\n",
      "/home/koolab/Documents/GLIFAC/Code/glifac.py:28: RuntimeWarning: invalid value encountered in float_scalars\n",
      "  return top/bottom\n",
      "/home/koolab/Documents/GLIFAC/Code/glifac.py:10: RuntimeWarning: invalid value encountered in greater\n",
      "  return np.where(-amin > amax, amin, amax)\n",
      "/home/koolab/Documents/GLIFAC/Code/glifac.py:46: FutureWarning: Using a non-tuple sequence for multidimensional indexing is deprecated; use `arr[tuple(seq)]` instead of `arr[seq]`. In the future this will be interpreted as an array index, `arr[np.array(seq)]`, which will result either in an error or a different result.\n",
      "  filter_interactions_values = correlation_matrix[ind.transpose().tolist()]\n"
     ]
    },
    {
     "name": "stdout",
     "output_type": "stream",
     "text": [
      "0.4  | AUROC: 0.06241439921410582  | AUPR: 0.6168055555555555  | SNR: 0.16546339135110555\n"
     ]
    },
    {
     "name": "stderr",
     "output_type": "stream",
     "text": [
      "/home/koolab/Documents/GLIFAC/Code/glifac.py:108: FutureWarning: Using a non-tuple sequence for multidimensional indexing is deprecated; use `arr[tuple(seq)]` instead of `arr[seq]`. In the future this will be interpreted as an array index, `arr[np.array(seq)]`, which will result either in an error or a different result.\n",
      "  filter_interactions = feature_maps[position_pairs].transpose([1, 2, 0])\n",
      "/home/koolab/Documents/GLIFAC/Code/glifac.py:28: RuntimeWarning: invalid value encountered in float_scalars\n",
      "  return top/bottom\n",
      "/home/koolab/Documents/GLIFAC/Code/glifac.py:10: RuntimeWarning: invalid value encountered in greater\n",
      "  return np.where(-amin > amax, amin, amax)\n",
      "/home/koolab/Documents/GLIFAC/Code/glifac.py:46: FutureWarning: Using a non-tuple sequence for multidimensional indexing is deprecated; use `arr[tuple(seq)]` instead of `arr[seq]`. In the future this will be interpreted as an array index, `arr[np.array(seq)]`, which will result either in an error or a different result.\n",
      "  filter_interactions_values = correlation_matrix[ind.transpose().tolist()]\n"
     ]
    },
    {
     "name": "stdout",
     "output_type": "stream",
     "text": [
      "0.5  | AUROC: 0.03647101533254045  | AUPR: 0.49083333333333334  | SNR: -0.0477701848340616\n"
     ]
    },
    {
     "name": "stderr",
     "output_type": "stream",
     "text": [
      "/home/koolab/Documents/GLIFAC/Code/glifac.py:108: FutureWarning: Using a non-tuple sequence for multidimensional indexing is deprecated; use `arr[tuple(seq)]` instead of `arr[seq]`. In the future this will be interpreted as an array index, `arr[np.array(seq)]`, which will result either in an error or a different result.\n",
      "  filter_interactions = feature_maps[position_pairs].transpose([1, 2, 0])\n",
      "/home/koolab/Documents/GLIFAC/Code/glifac.py:28: RuntimeWarning: invalid value encountered in float_scalars\n",
      "  return top/bottom\n",
      "/home/koolab/Documents/GLIFAC/Code/glifac.py:10: RuntimeWarning: invalid value encountered in greater\n",
      "  return np.where(-amin > amax, amin, amax)\n",
      "/home/koolab/Documents/GLIFAC/Code/glifac.py:46: FutureWarning: Using a non-tuple sequence for multidimensional indexing is deprecated; use `arr[tuple(seq)]` instead of `arr[seq]`. In the future this will be interpreted as an array index, `arr[np.array(seq)]`, which will result either in an error or a different result.\n",
      "  filter_interactions_values = correlation_matrix[ind.transpose().tolist()]\n"
     ]
    },
    {
     "name": "stdout",
     "output_type": "stream",
     "text": [
      "0.6  | AUROC: 0.03964620734880659  | AUPR: 0.4951388888888889  | SNR: 0.01867850476480328\n"
     ]
    },
    {
     "name": "stderr",
     "output_type": "stream",
     "text": [
      "/home/koolab/Documents/GLIFAC/Code/glifac.py:108: FutureWarning: Using a non-tuple sequence for multidimensional indexing is deprecated; use `arr[tuple(seq)]` instead of `arr[seq]`. In the future this will be interpreted as an array index, `arr[np.array(seq)]`, which will result either in an error or a different result.\n",
      "  filter_interactions = feature_maps[position_pairs].transpose([1, 2, 0])\n",
      "/home/koolab/Documents/GLIFAC/Code/glifac.py:28: RuntimeWarning: invalid value encountered in float_scalars\n",
      "  return top/bottom\n",
      "/home/koolab/Documents/GLIFAC/Code/glifac.py:10: RuntimeWarning: invalid value encountered in greater\n",
      "  return np.where(-amin > amax, amin, amax)\n",
      "/home/koolab/Documents/GLIFAC/Code/glifac.py:46: FutureWarning: Using a non-tuple sequence for multidimensional indexing is deprecated; use `arr[tuple(seq)]` instead of `arr[seq]`. In the future this will be interpreted as an array index, `arr[np.array(seq)]`, which will result either in an error or a different result.\n",
      "  filter_interactions_values = correlation_matrix[ind.transpose().tolist()]\n"
     ]
    },
    {
     "name": "stdout",
     "output_type": "stream",
     "text": [
      "0.7  | AUROC: 0.03677270616145288  | AUPR: 0.4509722222222222  | SNR: -0.062341790730113346\n"
     ]
    },
    {
     "name": "stderr",
     "output_type": "stream",
     "text": [
      "/home/koolab/Documents/GLIFAC/Code/glifac.py:108: FutureWarning: Using a non-tuple sequence for multidimensional indexing is deprecated; use `arr[tuple(seq)]` instead of `arr[seq]`. In the future this will be interpreted as an array index, `arr[np.array(seq)]`, which will result either in an error or a different result.\n",
      "  filter_interactions = feature_maps[position_pairs].transpose([1, 2, 0])\n",
      "/home/koolab/Documents/GLIFAC/Code/glifac.py:28: RuntimeWarning: invalid value encountered in float_scalars\n",
      "  return top/bottom\n",
      "/home/koolab/Documents/GLIFAC/Code/glifac.py:10: RuntimeWarning: invalid value encountered in greater\n",
      "  return np.where(-amin > amax, amin, amax)\n",
      "/home/koolab/Documents/GLIFAC/Code/glifac.py:46: FutureWarning: Using a non-tuple sequence for multidimensional indexing is deprecated; use `arr[tuple(seq)]` instead of `arr[seq]`. In the future this will be interpreted as an array index, `arr[np.array(seq)]`, which will result either in an error or a different result.\n",
      "  filter_interactions_values = correlation_matrix[ind.transpose().tolist()]\n"
     ]
    },
    {
     "name": "stdout",
     "output_type": "stream",
     "text": [
      "0.8  | AUROC: 0.03599431692859681  | AUPR: 0.4325  | SNR: -0.041106003407550475\n"
     ]
    },
    {
     "name": "stderr",
     "output_type": "stream",
     "text": [
      "/home/koolab/Documents/GLIFAC/Code/glifac.py:108: FutureWarning: Using a non-tuple sequence for multidimensional indexing is deprecated; use `arr[tuple(seq)]` instead of `arr[seq]`. In the future this will be interpreted as an array index, `arr[np.array(seq)]`, which will result either in an error or a different result.\n",
      "  filter_interactions = feature_maps[position_pairs].transpose([1, 2, 0])\n",
      "/home/koolab/Documents/GLIFAC/Code/glifac.py:28: RuntimeWarning: invalid value encountered in float_scalars\n",
      "  return top/bottom\n",
      "/home/koolab/Documents/GLIFAC/Code/glifac.py:10: RuntimeWarning: invalid value encountered in greater\n",
      "  return np.where(-amin > amax, amin, amax)\n",
      "/home/koolab/Documents/GLIFAC/Code/glifac.py:46: FutureWarning: Using a non-tuple sequence for multidimensional indexing is deprecated; use `arr[tuple(seq)]` instead of `arr[seq]`. In the future this will be interpreted as an array index, `arr[np.array(seq)]`, which will result either in an error or a different result.\n",
      "  filter_interactions_values = correlation_matrix[ind.transpose().tolist()]\n"
     ]
    },
    {
     "name": "stdout",
     "output_type": "stream",
     "text": [
      "0.9  | AUROC: 0.050458359831478325  | AUPR: 0.4730555555555556  | SNR: 0.009509217141723193\n",
      "finished correlation interpretability\n",
      "saved statistics\n",
      "saved filters\n"
     ]
    },
    {
     "name": "stderr",
     "output_type": "stream",
     "text": [
      "/home/koolab/Documents/GLIFAC/Code/glifac_pipeline.py:297: MatplotlibDeprecationWarning: savefig() got unexpected keyword argument \"box_inches\" which is no longer supported as of 3.3 and will become an error two minor releases later\n",
      "  fig.savefig(glifac_dir, format='pdf', dpi=300, box_inches='tight')\n"
     ]
    },
    {
     "name": "stdout",
     "output_type": "stream",
     "text": [
      "saved glifac\n",
      "Epoch 1/100\n",
      "350/350 - 5s - loss: 0.2932 - auroc: 0.8395 - aupr: 0.5571 - val_loss: 0.2354 - val_auroc: 0.9539 - val_aupr: 0.8309\n",
      "Epoch 2/100\n",
      "350/350 - 5s - loss: 0.1289 - auroc: 0.9729 - aupr: 0.8935 - val_loss: 0.1125 - val_auroc: 0.9808 - val_aupr: 0.9230\n",
      "Epoch 3/100\n",
      "350/350 - 5s - loss: 0.1102 - auroc: 0.9794 - aupr: 0.9184 - val_loss: 0.0881 - val_auroc: 0.9872 - val_aupr: 0.9461\n",
      "Epoch 4/100\n",
      "350/350 - 5s - loss: 0.1041 - auroc: 0.9812 - aupr: 0.9264 - val_loss: 0.0941 - val_auroc: 0.9819 - val_aupr: 0.9400\n",
      "Epoch 5/100\n",
      "350/350 - 5s - loss: 0.1012 - auroc: 0.9820 - aupr: 0.9297 - val_loss: 0.0860 - val_auroc: 0.9876 - val_aupr: 0.9462\n",
      "Epoch 6/100\n",
      "350/350 - 5s - loss: 0.0977 - auroc: 0.9831 - aupr: 0.9340 - val_loss: 0.0846 - val_auroc: 0.9863 - val_aupr: 0.9487\n",
      "Epoch 7/100\n",
      "350/350 - 5s - loss: 0.0959 - auroc: 0.9836 - aupr: 0.9361 - val_loss: 0.0825 - val_auroc: 0.9891 - val_aupr: 0.9543\n",
      "Epoch 8/100\n",
      "350/350 - 5s - loss: 0.0945 - auroc: 0.9839 - aupr: 0.9375 - val_loss: 0.0777 - val_auroc: 0.9898 - val_aupr: 0.9563\n",
      "Epoch 9/100\n",
      "350/350 - 5s - loss: 0.0936 - auroc: 0.9843 - aupr: 0.9379 - val_loss: 0.0787 - val_auroc: 0.9882 - val_aupr: 0.9544\n",
      "Epoch 10/100\n",
      "350/350 - 5s - loss: 0.0938 - auroc: 0.9841 - aupr: 0.9380 - val_loss: 0.0814 - val_auroc: 0.9903 - val_aupr: 0.9560\n",
      "Epoch 11/100\n",
      "350/350 - 5s - loss: 0.0924 - auroc: 0.9848 - aupr: 0.9394 - val_loss: 0.0818 - val_auroc: 0.9885 - val_aupr: 0.9520\n",
      "Epoch 12/100\n",
      "350/350 - 5s - loss: 0.0927 - auroc: 0.9845 - aupr: 0.9392 - val_loss: 0.0793 - val_auroc: 0.9876 - val_aupr: 0.9542\n",
      "Epoch 13/100\n",
      "350/350 - 5s - loss: 0.0918 - auroc: 0.9849 - aupr: 0.9402 - val_loss: 0.0772 - val_auroc: 0.9903 - val_aupr: 0.9576\n",
      "Epoch 14/100\n",
      "350/350 - 5s - loss: 0.0919 - auroc: 0.9848 - aupr: 0.9399 - val_loss: 0.0745 - val_auroc: 0.9903 - val_aupr: 0.9588\n",
      "Epoch 15/100\n",
      "350/350 - 5s - loss: 0.0912 - auroc: 0.9849 - aupr: 0.9409 - val_loss: 0.0748 - val_auroc: 0.9907 - val_aupr: 0.9580\n",
      "Epoch 16/100\n",
      "350/350 - 5s - loss: 0.0910 - auroc: 0.9850 - aupr: 0.9411 - val_loss: 0.0760 - val_auroc: 0.9891 - val_aupr: 0.9577\n",
      "Epoch 17/100\n",
      "350/350 - 5s - loss: 0.0898 - auroc: 0.9854 - aupr: 0.9426 - val_loss: 0.0732 - val_auroc: 0.9899 - val_aupr: 0.9598\n",
      "Epoch 18/100\n",
      "350/350 - 5s - loss: 0.0900 - auroc: 0.9853 - aupr: 0.9422 - val_loss: 0.0759 - val_auroc: 0.9893 - val_aupr: 0.9580\n",
      "Epoch 19/100\n",
      "350/350 - 5s - loss: 0.0900 - auroc: 0.9853 - aupr: 0.9423 - val_loss: 0.0746 - val_auroc: 0.9895 - val_aupr: 0.9589\n",
      "Epoch 20/100\n",
      "350/350 - 5s - loss: 0.0898 - auroc: 0.9853 - aupr: 0.9425 - val_loss: 0.0736 - val_auroc: 0.9904 - val_aupr: 0.9603\n",
      "Epoch 21/100\n",
      "350/350 - 5s - loss: 0.0886 - auroc: 0.9859 - aupr: 0.9436 - val_loss: 0.0739 - val_auroc: 0.9909 - val_aupr: 0.9598\n",
      "Epoch 22/100\n",
      "350/350 - 5s - loss: 0.0881 - auroc: 0.9859 - aupr: 0.9442 - val_loss: 0.0747 - val_auroc: 0.9909 - val_aupr: 0.9589\n",
      "Epoch 23/100\n",
      "350/350 - 5s - loss: 0.0879 - auroc: 0.9860 - aupr: 0.9447 - val_loss: 0.0734 - val_auroc: 0.9905 - val_aupr: 0.9605\n",
      "Epoch 24/100\n",
      "350/350 - 5s - loss: 0.0871 - auroc: 0.9863 - aupr: 0.9459 - val_loss: 0.0758 - val_auroc: 0.9900 - val_aupr: 0.9582\n",
      "Epoch 25/100\n",
      "350/350 - 5s - loss: 0.0869 - auroc: 0.9863 - aupr: 0.9459 - val_loss: 0.0728 - val_auroc: 0.9903 - val_aupr: 0.9595\n",
      "Epoch 26/100\n",
      "350/350 - 5s - loss: 0.0867 - auroc: 0.9864 - aupr: 0.9466 - val_loss: 0.0732 - val_auroc: 0.9916 - val_aupr: 0.9619\n",
      "Epoch 27/100\n",
      "350/350 - 5s - loss: 0.0858 - auroc: 0.9868 - aupr: 0.9471 - val_loss: 0.0731 - val_auroc: 0.9911 - val_aupr: 0.9607\n",
      "Epoch 28/100\n",
      "350/350 - 5s - loss: 0.0853 - auroc: 0.9868 - aupr: 0.9481 - val_loss: 0.0757 - val_auroc: 0.9900 - val_aupr: 0.9585\n",
      "Epoch 29/100\n",
      "350/350 - 5s - loss: 0.0847 - auroc: 0.9870 - aupr: 0.9489 - val_loss: 0.0715 - val_auroc: 0.9913 - val_aupr: 0.9624\n",
      "Epoch 30/100\n",
      "350/350 - 5s - loss: 0.0843 - auroc: 0.9871 - aupr: 0.9491 - val_loss: 0.0725 - val_auroc: 0.9908 - val_aupr: 0.9613\n",
      "Epoch 31/100\n",
      "350/350 - 5s - loss: 0.0843 - auroc: 0.9870 - aupr: 0.9488 - val_loss: 0.0721 - val_auroc: 0.9912 - val_aupr: 0.9614\n",
      "Epoch 32/100\n",
      "350/350 - 5s - loss: 0.0833 - auroc: 0.9873 - aupr: 0.9501 - val_loss: 0.0738 - val_auroc: 0.9903 - val_aupr: 0.9598\n",
      "Epoch 33/100\n",
      "350/350 - 5s - loss: 0.0833 - auroc: 0.9874 - aupr: 0.9503 - val_loss: 0.0723 - val_auroc: 0.9912 - val_aupr: 0.9614\n",
      "Epoch 34/100\n",
      "350/350 - 5s - loss: 0.0824 - auroc: 0.9875 - aupr: 0.9511 - val_loss: 0.0713 - val_auroc: 0.9915 - val_aupr: 0.9626\n",
      "Epoch 35/100\n",
      "350/350 - 5s - loss: 0.0819 - auroc: 0.9877 - aupr: 0.9515 - val_loss: 0.0717 - val_auroc: 0.9909 - val_aupr: 0.9616\n",
      "Epoch 36/100\n",
      "350/350 - 5s - loss: 0.0816 - auroc: 0.9878 - aupr: 0.9520 - val_loss: 0.0724 - val_auroc: 0.9906 - val_aupr: 0.9607\n",
      "Epoch 37/100\n",
      "350/350 - 5s - loss: 0.0813 - auroc: 0.9879 - aupr: 0.9523 - val_loss: 0.0714 - val_auroc: 0.9906 - val_aupr: 0.9622\n",
      "Epoch 38/100\n",
      "350/350 - 5s - loss: 0.0811 - auroc: 0.9878 - aupr: 0.9527 - val_loss: 0.0719 - val_auroc: 0.9909 - val_aupr: 0.9608\n",
      "Epoch 39/100\n",
      "350/350 - 5s - loss: 0.0805 - auroc: 0.9880 - aupr: 0.9533 - val_loss: 0.0717 - val_auroc: 0.9912 - val_aupr: 0.9611\n",
      "Epoch 40/100\n",
      "350/350 - 5s - loss: 0.0796 - auroc: 0.9883 - aupr: 0.9541 - val_loss: 0.0720 - val_auroc: 0.9912 - val_aupr: 0.9624\n",
      "Epoch 41/100\n",
      "350/350 - 5s - loss: 0.0795 - auroc: 0.9882 - aupr: 0.9543 - val_loss: 0.0721 - val_auroc: 0.9907 - val_aupr: 0.9615\n",
      "Epoch 42/100\n",
      "350/350 - 5s - loss: 0.0795 - auroc: 0.9882 - aupr: 0.9542 - val_loss: 0.0709 - val_auroc: 0.9913 - val_aupr: 0.9624\n",
      "Epoch 43/100\n",
      "350/350 - 5s - loss: 0.0792 - auroc: 0.9883 - aupr: 0.9548 - val_loss: 0.0712 - val_auroc: 0.9908 - val_aupr: 0.9621\n",
      "Epoch 44/100\n",
      "350/350 - 5s - loss: 0.0782 - auroc: 0.9886 - aupr: 0.9558 - val_loss: 0.0716 - val_auroc: 0.9909 - val_aupr: 0.9618\n",
      "Epoch 45/100\n",
      "350/350 - 5s - loss: 0.0783 - auroc: 0.9887 - aupr: 0.9556 - val_loss: 0.0719 - val_auroc: 0.9905 - val_aupr: 0.9601\n",
      "Epoch 46/100\n",
      "350/350 - 5s - loss: 0.0778 - auroc: 0.9887 - aupr: 0.9562 - val_loss: 0.0712 - val_auroc: 0.9909 - val_aupr: 0.9616\n",
      "Epoch 47/100\n",
      "350/350 - 5s - loss: 0.0777 - auroc: 0.9888 - aupr: 0.9563 - val_loss: 0.0731 - val_auroc: 0.9899 - val_aupr: 0.9610\n",
      "Epoch 48/100\n",
      "350/350 - 5s - loss: 0.0769 - auroc: 0.9889 - aupr: 0.9571 - val_loss: 0.0720 - val_auroc: 0.9902 - val_aupr: 0.9614\n",
      "Epoch 49/100\n",
      "350/350 - 5s - loss: 0.0765 - auroc: 0.9890 - aupr: 0.9577 - val_loss: 0.0722 - val_auroc: 0.9907 - val_aupr: 0.9600\n",
      "Epoch 50/100\n",
      "350/350 - 5s - loss: 0.0765 - auroc: 0.9890 - aupr: 0.9574 - val_loss: 0.0714 - val_auroc: 0.9911 - val_aupr: 0.9617\n",
      "Epoch 51/100\n",
      "350/350 - 5s - loss: 0.0760 - auroc: 0.9891 - aupr: 0.9582 - val_loss: 0.0717 - val_auroc: 0.9910 - val_aupr: 0.9612\n",
      "Epoch 52/100\n",
      "\n",
      "Epoch 00052: ReduceLROnPlateau reducing learning rate to 0.00020000000949949026.\n",
      "350/350 - 5s - loss: 0.0761 - auroc: 0.9890 - aupr: 0.9579 - val_loss: 0.0720 - val_auroc: 0.9904 - val_aupr: 0.9608\n",
      "Epoch 53/100\n",
      "350/350 - 5s - loss: 0.0725 - auroc: 0.9901 - aupr: 0.9617 - val_loss: 0.0701 - val_auroc: 0.9909 - val_aupr: 0.9626\n",
      "Epoch 54/100\n",
      "350/350 - 5s - loss: 0.0721 - auroc: 0.9902 - aupr: 0.9620 - val_loss: 0.0701 - val_auroc: 0.9910 - val_aupr: 0.9627\n",
      "Epoch 55/100\n",
      "350/350 - 5s - loss: 0.0722 - auroc: 0.9899 - aupr: 0.9619 - val_loss: 0.0701 - val_auroc: 0.9910 - val_aupr: 0.9624\n",
      "Epoch 56/100\n",
      "350/350 - 5s - loss: 0.0715 - auroc: 0.9903 - aupr: 0.9625 - val_loss: 0.0701 - val_auroc: 0.9910 - val_aupr: 0.9627\n",
      "Epoch 57/100\n",
      "350/350 - 5s - loss: 0.0713 - auroc: 0.9902 - aupr: 0.9629 - val_loss: 0.0702 - val_auroc: 0.9910 - val_aupr: 0.9625\n",
      "Epoch 58/100\n",
      "350/350 - 5s - loss: 0.0713 - auroc: 0.9904 - aupr: 0.9628 - val_loss: 0.0702 - val_auroc: 0.9912 - val_aupr: 0.9628\n",
      "Epoch 59/100\n",
      "350/350 - 5s - loss: 0.0706 - auroc: 0.9904 - aupr: 0.9634 - val_loss: 0.0707 - val_auroc: 0.9906 - val_aupr: 0.9621\n",
      "Epoch 60/100\n",
      "350/350 - 5s - loss: 0.0704 - auroc: 0.9905 - aupr: 0.9637 - val_loss: 0.0705 - val_auroc: 0.9911 - val_aupr: 0.9624\n",
      "Epoch 61/100\n",
      "350/350 - 5s - loss: 0.0701 - auroc: 0.9905 - aupr: 0.9640 - val_loss: 0.0705 - val_auroc: 0.9908 - val_aupr: 0.9620\n",
      "Epoch 62/100\n",
      "350/350 - 5s - loss: 0.0705 - auroc: 0.9905 - aupr: 0.9636 - val_loss: 0.0709 - val_auroc: 0.9908 - val_aupr: 0.9615\n",
      "Epoch 63/100\n",
      "\n",
      "Epoch 00063: ReduceLROnPlateau reducing learning rate to 4.0000001899898055e-05.\n",
      "350/350 - 5s - loss: 0.0700 - auroc: 0.9907 - aupr: 0.9642 - val_loss: 0.0708 - val_auroc: 0.9909 - val_aupr: 0.9620\n"
     ]
    },
    {
     "name": "stdout",
     "output_type": "stream",
     "text": [
      "Epoch 64/100\n",
      "350/350 - 5s - loss: 0.0693 - auroc: 0.9908 - aupr: 0.9646 - val_loss: 0.0706 - val_auroc: 0.9908 - val_aupr: 0.9621\n",
      "Epoch 65/100\n",
      "350/350 - 5s - loss: 0.0691 - auroc: 0.9908 - aupr: 0.9649 - val_loss: 0.0705 - val_auroc: 0.9910 - val_aupr: 0.9622\n",
      "Epoch 66/100\n",
      "350/350 - 5s - loss: 0.0689 - auroc: 0.9909 - aupr: 0.9648 - val_loss: 0.0704 - val_auroc: 0.9911 - val_aupr: 0.9623\n",
      "Epoch 67/100\n",
      "350/350 - 5s - loss: 0.0684 - auroc: 0.9911 - aupr: 0.9655 - val_loss: 0.0706 - val_auroc: 0.9909 - val_aupr: 0.9622\n",
      "Epoch 68/100\n",
      "Restoring model weights from the end of the best epoch.\n",
      "350/350 - 5s - loss: 0.0693 - auroc: 0.9907 - aupr: 0.9650 - val_loss: 0.0705 - val_auroc: 0.9909 - val_aupr: 0.9623\n",
      "Epoch 00068: early stopping\n",
      "625/625 [==============================] - 1s 2ms/step - loss: 0.0700 - auroc: 0.9909 - aupr: 0.9625\n",
      "generated PPMs\n",
      "TomTom TPR:  0.875\n",
      "TomTom FPR:  0.0\n",
      "Motif coverage:  1.0\n",
      "completed TomTom analysis\n",
      "completed clustering\n"
     ]
    },
    {
     "name": "stderr",
     "output_type": "stream",
     "text": [
      "/home/koolab/Documents/GLIFAC/Code/glifac.py:108: FutureWarning: Using a non-tuple sequence for multidimensional indexing is deprecated; use `arr[tuple(seq)]` instead of `arr[seq]`. In the future this will be interpreted as an array index, `arr[np.array(seq)]`, which will result either in an error or a different result.\n",
      "  filter_interactions = feature_maps[position_pairs].transpose([1, 2, 0])\n",
      "/home/koolab/Documents/GLIFAC/Code/glifac.py:46: FutureWarning: Using a non-tuple sequence for multidimensional indexing is deprecated; use `arr[tuple(seq)]` instead of `arr[seq]`. In the future this will be interpreted as an array index, `arr[np.array(seq)]`, which will result either in an error or a different result.\n",
      "  filter_interactions_values = correlation_matrix[ind.transpose().tolist()]\n"
     ]
    },
    {
     "name": "stdout",
     "output_type": "stream",
     "text": [
      "0.0  | AUROC: 0.9271373163371707  | AUPR: 0.9945530590409494  | SNR: 2.7275944324504855\n"
     ]
    },
    {
     "name": "stderr",
     "output_type": "stream",
     "text": [
      "/home/koolab/Documents/GLIFAC/Code/glifac.py:108: FutureWarning: Using a non-tuple sequence for multidimensional indexing is deprecated; use `arr[tuple(seq)]` instead of `arr[seq]`. In the future this will be interpreted as an array index, `arr[np.array(seq)]`, which will result either in an error or a different result.\n",
      "  filter_interactions = feature_maps[position_pairs].transpose([1, 2, 0])\n",
      "/home/koolab/Documents/GLIFAC/Code/glifac.py:46: FutureWarning: Using a non-tuple sequence for multidimensional indexing is deprecated; use `arr[tuple(seq)]` instead of `arr[seq]`. In the future this will be interpreted as an array index, `arr[np.array(seq)]`, which will result either in an error or a different result.\n",
      "  filter_interactions_values = correlation_matrix[ind.transpose().tolist()]\n"
     ]
    },
    {
     "name": "stdout",
     "output_type": "stream",
     "text": [
      "0.1  | AUROC: 0.2191609618774384  | AUPR: 0.7731738157766754  | SNR: 1.3160932394781806\n"
     ]
    },
    {
     "name": "stderr",
     "output_type": "stream",
     "text": [
      "/home/koolab/Documents/GLIFAC/Code/glifac.py:108: FutureWarning: Using a non-tuple sequence for multidimensional indexing is deprecated; use `arr[tuple(seq)]` instead of `arr[seq]`. In the future this will be interpreted as an array index, `arr[np.array(seq)]`, which will result either in an error or a different result.\n",
      "  filter_interactions = feature_maps[position_pairs].transpose([1, 2, 0])\n",
      "/home/koolab/Documents/GLIFAC/Code/glifac.py:46: FutureWarning: Using a non-tuple sequence for multidimensional indexing is deprecated; use `arr[tuple(seq)]` instead of `arr[seq]`. In the future this will be interpreted as an array index, `arr[np.array(seq)]`, which will result either in an error or a different result.\n",
      "  filter_interactions_values = correlation_matrix[ind.transpose().tolist()]\n"
     ]
    },
    {
     "name": "stdout",
     "output_type": "stream",
     "text": [
      "0.2  | AUROC: 0.15390327442414647  | AUPR: 0.6930259702363584  | SNR: 0.6754582474277785\n"
     ]
    },
    {
     "name": "stderr",
     "output_type": "stream",
     "text": [
      "/home/koolab/Documents/GLIFAC/Code/glifac.py:108: FutureWarning: Using a non-tuple sequence for multidimensional indexing is deprecated; use `arr[tuple(seq)]` instead of `arr[seq]`. In the future this will be interpreted as an array index, `arr[np.array(seq)]`, which will result either in an error or a different result.\n",
      "  filter_interactions = feature_maps[position_pairs].transpose([1, 2, 0])\n",
      "/home/koolab/Documents/GLIFAC/Code/glifac.py:46: FutureWarning: Using a non-tuple sequence for multidimensional indexing is deprecated; use `arr[tuple(seq)]` instead of `arr[seq]`. In the future this will be interpreted as an array index, `arr[np.array(seq)]`, which will result either in an error or a different result.\n",
      "  filter_interactions_values = correlation_matrix[ind.transpose().tolist()]\n"
     ]
    },
    {
     "name": "stdout",
     "output_type": "stream",
     "text": [
      "0.3  | AUROC: 0.0810787329810843  | AUPR: 0.5942028985507246  | SNR: 0.3174573388089565\n"
     ]
    },
    {
     "name": "stderr",
     "output_type": "stream",
     "text": [
      "/home/koolab/Documents/GLIFAC/Code/glifac.py:108: FutureWarning: Using a non-tuple sequence for multidimensional indexing is deprecated; use `arr[tuple(seq)]` instead of `arr[seq]`. In the future this will be interpreted as an array index, `arr[np.array(seq)]`, which will result either in an error or a different result.\n",
      "  filter_interactions = feature_maps[position_pairs].transpose([1, 2, 0])\n",
      "/home/koolab/Documents/GLIFAC/Code/glifac.py:46: FutureWarning: Using a non-tuple sequence for multidimensional indexing is deprecated; use `arr[tuple(seq)]` instead of `arr[seq]`. In the future this will be interpreted as an array index, `arr[np.array(seq)]`, which will result either in an error or a different result.\n",
      "  filter_interactions_values = correlation_matrix[ind.transpose().tolist()]\n"
     ]
    },
    {
     "name": "stdout",
     "output_type": "stream",
     "text": [
      "0.4  | AUROC: 0.07689034388406564  | AUPR: 0.5365236844664916  | SNR: 0.24869103534807346\n"
     ]
    },
    {
     "name": "stderr",
     "output_type": "stream",
     "text": [
      "/home/koolab/Documents/GLIFAC/Code/glifac.py:108: FutureWarning: Using a non-tuple sequence for multidimensional indexing is deprecated; use `arr[tuple(seq)]` instead of `arr[seq]`. In the future this will be interpreted as an array index, `arr[np.array(seq)]`, which will result either in an error or a different result.\n",
      "  filter_interactions = feature_maps[position_pairs].transpose([1, 2, 0])\n",
      "/home/koolab/Documents/GLIFAC/Code/glifac.py:28: RuntimeWarning: invalid value encountered in float_scalars\n",
      "  return top/bottom\n",
      "/home/koolab/Documents/GLIFAC/Code/glifac.py:10: RuntimeWarning: invalid value encountered in greater\n",
      "  return np.where(-amin > amax, amin, amax)\n",
      "/home/koolab/Documents/GLIFAC/Code/glifac.py:46: FutureWarning: Using a non-tuple sequence for multidimensional indexing is deprecated; use `arr[tuple(seq)]` instead of `arr[seq]`. In the future this will be interpreted as an array index, `arr[np.array(seq)]`, which will result either in an error or a different result.\n",
      "  filter_interactions_values = correlation_matrix[ind.transpose().tolist()]\n"
     ]
    },
    {
     "name": "stdout",
     "output_type": "stream",
     "text": [
      "0.5  | AUROC: 0.06825333053161188  | AUPR: 0.4858476801867523  | SNR: 0.21875514781836747\n"
     ]
    },
    {
     "name": "stderr",
     "output_type": "stream",
     "text": [
      "/home/koolab/Documents/GLIFAC/Code/glifac.py:108: FutureWarning: Using a non-tuple sequence for multidimensional indexing is deprecated; use `arr[tuple(seq)]` instead of `arr[seq]`. In the future this will be interpreted as an array index, `arr[np.array(seq)]`, which will result either in an error or a different result.\n",
      "  filter_interactions = feature_maps[position_pairs].transpose([1, 2, 0])\n",
      "/home/koolab/Documents/GLIFAC/Code/glifac.py:28: RuntimeWarning: invalid value encountered in float_scalars\n",
      "  return top/bottom\n",
      "/home/koolab/Documents/GLIFAC/Code/glifac.py:10: RuntimeWarning: invalid value encountered in greater\n",
      "  return np.where(-amin > amax, amin, amax)\n",
      "/home/koolab/Documents/GLIFAC/Code/glifac.py:46: FutureWarning: Using a non-tuple sequence for multidimensional indexing is deprecated; use `arr[tuple(seq)]` instead of `arr[seq]`. In the future this will be interpreted as an array index, `arr[np.array(seq)]`, which will result either in an error or a different result.\n",
      "  filter_interactions_values = correlation_matrix[ind.transpose().tolist()]\n"
     ]
    },
    {
     "name": "stdout",
     "output_type": "stream",
     "text": [
      "0.6  | AUROC: 0.07279694867716424  | AUPR: 0.5364264176636514  | SNR: 0.2876517612613116\n"
     ]
    },
    {
     "name": "stderr",
     "output_type": "stream",
     "text": [
      "/home/koolab/Documents/GLIFAC/Code/glifac.py:108: FutureWarning: Using a non-tuple sequence for multidimensional indexing is deprecated; use `arr[tuple(seq)]` instead of `arr[seq]`. In the future this will be interpreted as an array index, `arr[np.array(seq)]`, which will result either in an error or a different result.\n",
      "  filter_interactions = feature_maps[position_pairs].transpose([1, 2, 0])\n",
      "/home/koolab/Documents/GLIFAC/Code/glifac.py:28: RuntimeWarning: invalid value encountered in float_scalars\n",
      "  return top/bottom\n",
      "/home/koolab/Documents/GLIFAC/Code/glifac.py:10: RuntimeWarning: invalid value encountered in greater\n",
      "  return np.where(-amin > amax, amin, amax)\n",
      "/home/koolab/Documents/GLIFAC/Code/glifac.py:46: FutureWarning: Using a non-tuple sequence for multidimensional indexing is deprecated; use `arr[tuple(seq)]` instead of `arr[seq]`. In the future this will be interpreted as an array index, `arr[np.array(seq)]`, which will result either in an error or a different result.\n",
      "  filter_interactions_values = correlation_matrix[ind.transpose().tolist()]\n"
     ]
    },
    {
     "name": "stdout",
     "output_type": "stream",
     "text": [
      "0.7  | AUROC: 0.0875142737729292  | AUPR: 0.6133644587102421  | SNR: 0.4189437982299924\n"
     ]
    },
    {
     "name": "stderr",
     "output_type": "stream",
     "text": [
      "/home/koolab/Documents/GLIFAC/Code/glifac.py:108: FutureWarning: Using a non-tuple sequence for multidimensional indexing is deprecated; use `arr[tuple(seq)]` instead of `arr[seq]`. In the future this will be interpreted as an array index, `arr[np.array(seq)]`, which will result either in an error or a different result.\n",
      "  filter_interactions = feature_maps[position_pairs].transpose([1, 2, 0])\n",
      "/home/koolab/Documents/GLIFAC/Code/glifac.py:28: RuntimeWarning: invalid value encountered in float_scalars\n",
      "  return top/bottom\n",
      "/home/koolab/Documents/GLIFAC/Code/glifac.py:10: RuntimeWarning: invalid value encountered in greater\n",
      "  return np.where(-amin > amax, amin, amax)\n",
      "/home/koolab/Documents/GLIFAC/Code/glifac.py:46: FutureWarning: Using a non-tuple sequence for multidimensional indexing is deprecated; use `arr[tuple(seq)]` instead of `arr[seq]`. In the future this will be interpreted as an array index, `arr[np.array(seq)]`, which will result either in an error or a different result.\n",
      "  filter_interactions_values = correlation_matrix[ind.transpose().tolist()]\n"
     ]
    },
    {
     "name": "stdout",
     "output_type": "stream",
     "text": [
      "0.8  | AUROC: 0.07541652529638578  | AUPR: 0.4889602178776383  | SNR: 0.30271182123104357\n"
     ]
    },
    {
     "name": "stderr",
     "output_type": "stream",
     "text": [
      "/home/koolab/Documents/GLIFAC/Code/glifac.py:108: FutureWarning: Using a non-tuple sequence for multidimensional indexing is deprecated; use `arr[tuple(seq)]` instead of `arr[seq]`. In the future this will be interpreted as an array index, `arr[np.array(seq)]`, which will result either in an error or a different result.\n",
      "  filter_interactions = feature_maps[position_pairs].transpose([1, 2, 0])\n",
      "/home/koolab/Documents/GLIFAC/Code/glifac.py:28: RuntimeWarning: invalid value encountered in float_scalars\n",
      "  return top/bottom\n",
      "/home/koolab/Documents/GLIFAC/Code/glifac.py:10: RuntimeWarning: invalid value encountered in greater\n",
      "  return np.where(-amin > amax, amin, amax)\n",
      "/home/koolab/Documents/GLIFAC/Code/glifac.py:46: FutureWarning: Using a non-tuple sequence for multidimensional indexing is deprecated; use `arr[tuple(seq)]` instead of `arr[seq]`. In the future this will be interpreted as an array index, `arr[np.array(seq)]`, which will result either in an error or a different result.\n",
      "  filter_interactions_values = correlation_matrix[ind.transpose().tolist()]\n"
     ]
    },
    {
     "name": "stdout",
     "output_type": "stream",
     "text": [
      "0.9  | AUROC: 0.08255466520045024  | AUPR: 0.5034529715008267  | SNR: 0.3511635462895148\n",
      "finished correlation interpretability\n",
      "saved statistics\n",
      "saved filters\n"
     ]
    },
    {
     "name": "stderr",
     "output_type": "stream",
     "text": [
      "/home/koolab/Documents/GLIFAC/Code/glifac_pipeline.py:297: MatplotlibDeprecationWarning: savefig() got unexpected keyword argument \"box_inches\" which is no longer supported as of 3.3 and will become an error two minor releases later\n",
      "  fig.savefig(glifac_dir, format='pdf', dpi=300, box_inches='tight')\n"
     ]
    },
    {
     "name": "stdout",
     "output_type": "stream",
     "text": [
      "saved glifac\n",
      "Epoch 1/100\n",
      "350/350 - 5s - loss: 0.2999 - auroc: 0.8319 - aupr: 0.5365 - val_loss: 0.2358 - val_auroc: 0.9519 - val_aupr: 0.8259\n",
      "Epoch 2/100\n",
      "350/350 - 5s - loss: 0.1338 - auroc: 0.9698 - aupr: 0.8861 - val_loss: 0.1009 - val_auroc: 0.9847 - val_aupr: 0.9332\n",
      "Epoch 3/100\n",
      "350/350 - 5s - loss: 0.1111 - auroc: 0.9785 - aupr: 0.9168 - val_loss: 0.0860 - val_auroc: 0.9880 - val_aupr: 0.9474\n",
      "Epoch 4/100\n",
      "350/350 - 5s - loss: 0.1034 - auroc: 0.9809 - aupr: 0.9261 - val_loss: 0.0927 - val_auroc: 0.9864 - val_aupr: 0.9437\n",
      "Epoch 5/100\n",
      "350/350 - 5s - loss: 0.0989 - auroc: 0.9823 - aupr: 0.9317 - val_loss: 0.0834 - val_auroc: 0.9869 - val_aupr: 0.9501\n",
      "Epoch 6/100\n",
      "350/350 - 5s - loss: 0.0963 - auroc: 0.9831 - aupr: 0.9349 - val_loss: 0.0816 - val_auroc: 0.9876 - val_aupr: 0.9543\n",
      "Epoch 7/100\n",
      "350/350 - 5s - loss: 0.0958 - auroc: 0.9830 - aupr: 0.9355 - val_loss: 0.0777 - val_auroc: 0.9899 - val_aupr: 0.9564\n",
      "Epoch 8/100\n",
      "350/350 - 5s - loss: 0.0943 - auroc: 0.9836 - aupr: 0.9372 - val_loss: 0.0958 - val_auroc: 0.9828 - val_aupr: 0.9374\n",
      "Epoch 9/100\n",
      "350/350 - 5s - loss: 0.0936 - auroc: 0.9839 - aupr: 0.9378 - val_loss: 0.0815 - val_auroc: 0.9880 - val_aupr: 0.9526\n",
      "Epoch 10/100\n",
      "350/350 - 5s - loss: 0.0931 - auroc: 0.9838 - aupr: 0.9387 - val_loss: 0.0778 - val_auroc: 0.9890 - val_aupr: 0.9566\n",
      "Epoch 11/100\n",
      "350/350 - 5s - loss: 0.0927 - auroc: 0.9841 - aupr: 0.9388 - val_loss: 0.0759 - val_auroc: 0.9902 - val_aupr: 0.9573\n",
      "Epoch 12/100\n",
      "350/350 - 5s - loss: 0.0922 - auroc: 0.9843 - aupr: 0.9394 - val_loss: 0.0733 - val_auroc: 0.9903 - val_aupr: 0.9598\n",
      "Epoch 13/100\n",
      "350/350 - 5s - loss: 0.0917 - auroc: 0.9843 - aupr: 0.9401 - val_loss: 0.0761 - val_auroc: 0.9891 - val_aupr: 0.9577\n",
      "Epoch 14/100\n",
      "350/350 - 5s - loss: 0.0909 - auroc: 0.9847 - aupr: 0.9409 - val_loss: 0.0742 - val_auroc: 0.9904 - val_aupr: 0.9588\n",
      "Epoch 15/100\n",
      "350/350 - 5s - loss: 0.0906 - auroc: 0.9848 - aupr: 0.9416 - val_loss: 0.0779 - val_auroc: 0.9907 - val_aupr: 0.9575\n",
      "Epoch 16/100\n",
      "350/350 - 5s - loss: 0.0907 - auroc: 0.9848 - aupr: 0.9408 - val_loss: 0.0741 - val_auroc: 0.9909 - val_aupr: 0.9599\n",
      "Epoch 17/100\n",
      "350/350 - 5s - loss: 0.0905 - auroc: 0.9847 - aupr: 0.9413 - val_loss: 0.0731 - val_auroc: 0.9910 - val_aupr: 0.9606\n",
      "Epoch 18/100\n",
      "350/350 - 5s - loss: 0.0903 - auroc: 0.9847 - aupr: 0.9420 - val_loss: 0.0732 - val_auroc: 0.9914 - val_aupr: 0.9610\n",
      "Epoch 19/100\n",
      "350/350 - 5s - loss: 0.0898 - auroc: 0.9849 - aupr: 0.9422 - val_loss: 0.0747 - val_auroc: 0.9897 - val_aupr: 0.9590\n",
      "Epoch 20/100\n",
      "350/350 - 5s - loss: 0.0899 - auroc: 0.9850 - aupr: 0.9423 - val_loss: 0.0722 - val_auroc: 0.9912 - val_aupr: 0.9614\n",
      "Epoch 21/100\n",
      "350/350 - 5s - loss: 0.0892 - auroc: 0.9852 - aupr: 0.9430 - val_loss: 0.0716 - val_auroc: 0.9914 - val_aupr: 0.9620\n",
      "Epoch 22/100\n",
      "350/350 - 5s - loss: 0.0889 - auroc: 0.9853 - aupr: 0.9432 - val_loss: 0.0767 - val_auroc: 0.9909 - val_aupr: 0.9584\n",
      "Epoch 23/100\n",
      "350/350 - 5s - loss: 0.0894 - auroc: 0.9849 - aupr: 0.9428 - val_loss: 0.0722 - val_auroc: 0.9908 - val_aupr: 0.9613\n",
      "Epoch 24/100\n",
      "350/350 - 5s - loss: 0.0877 - auroc: 0.9857 - aupr: 0.9449 - val_loss: 0.0720 - val_auroc: 0.9905 - val_aupr: 0.9612\n",
      "Epoch 25/100\n",
      "350/350 - 5s - loss: 0.0873 - auroc: 0.9858 - aupr: 0.9454 - val_loss: 0.0726 - val_auroc: 0.9910 - val_aupr: 0.9616\n",
      "Epoch 26/100\n",
      "350/350 - 5s - loss: 0.0872 - auroc: 0.9859 - aupr: 0.9454 - val_loss: 0.0717 - val_auroc: 0.9913 - val_aupr: 0.9626\n",
      "Epoch 27/100\n",
      "350/350 - 5s - loss: 0.0865 - auroc: 0.9858 - aupr: 0.9464 - val_loss: 0.0735 - val_auroc: 0.9904 - val_aupr: 0.9605\n",
      "Epoch 28/100\n",
      "350/350 - 5s - loss: 0.0865 - auroc: 0.9860 - aupr: 0.9462 - val_loss: 0.0709 - val_auroc: 0.9914 - val_aupr: 0.9627\n",
      "Epoch 29/100\n",
      "350/350 - 5s - loss: 0.0853 - auroc: 0.9865 - aupr: 0.9477 - val_loss: 0.0724 - val_auroc: 0.9910 - val_aupr: 0.9614\n",
      "Epoch 30/100\n",
      "350/350 - 5s - loss: 0.0847 - auroc: 0.9865 - aupr: 0.9481 - val_loss: 0.0713 - val_auroc: 0.9913 - val_aupr: 0.9620\n",
      "Epoch 31/100\n",
      "350/350 - 5s - loss: 0.0844 - auroc: 0.9868 - aupr: 0.9486 - val_loss: 0.0724 - val_auroc: 0.9910 - val_aupr: 0.9620\n",
      "Epoch 32/100\n",
      "350/350 - 5s - loss: 0.0842 - auroc: 0.9867 - aupr: 0.9492 - val_loss: 0.0705 - val_auroc: 0.9915 - val_aupr: 0.9633\n",
      "Epoch 33/100\n",
      "350/350 - 5s - loss: 0.0834 - auroc: 0.9868 - aupr: 0.9500 - val_loss: 0.0716 - val_auroc: 0.9916 - val_aupr: 0.9623\n",
      "Epoch 34/100\n",
      "350/350 - 5s - loss: 0.0827 - auroc: 0.9871 - aupr: 0.9508 - val_loss: 0.0703 - val_auroc: 0.9920 - val_aupr: 0.9637\n",
      "Epoch 35/100\n",
      "350/350 - 5s - loss: 0.0819 - auroc: 0.9872 - aupr: 0.9519 - val_loss: 0.0702 - val_auroc: 0.9914 - val_aupr: 0.9634\n",
      "Epoch 36/100\n",
      "350/350 - 5s - loss: 0.0812 - auroc: 0.9875 - aupr: 0.9524 - val_loss: 0.0713 - val_auroc: 0.9915 - val_aupr: 0.9631\n",
      "Epoch 37/100\n",
      "350/350 - 5s - loss: 0.0806 - auroc: 0.9876 - aupr: 0.9532 - val_loss: 0.0709 - val_auroc: 0.9910 - val_aupr: 0.9632\n",
      "Epoch 38/100\n",
      "350/350 - 5s - loss: 0.0794 - auroc: 0.9880 - aupr: 0.9544 - val_loss: 0.0689 - val_auroc: 0.9913 - val_aupr: 0.9645\n",
      "Epoch 39/100\n",
      "350/350 - 5s - loss: 0.0801 - auroc: 0.9876 - aupr: 0.9540 - val_loss: 0.0702 - val_auroc: 0.9914 - val_aupr: 0.9635\n",
      "Epoch 40/100\n",
      "350/350 - 5s - loss: 0.0790 - auroc: 0.9880 - aupr: 0.9549 - val_loss: 0.0706 - val_auroc: 0.9917 - val_aupr: 0.9631\n",
      "Epoch 41/100\n",
      "350/350 - 5s - loss: 0.0782 - auroc: 0.9882 - aupr: 0.9559 - val_loss: 0.0688 - val_auroc: 0.9916 - val_aupr: 0.9641\n",
      "Epoch 42/100\n",
      "350/350 - 5s - loss: 0.0780 - auroc: 0.9884 - aupr: 0.9559 - val_loss: 0.0710 - val_auroc: 0.9908 - val_aupr: 0.9622\n",
      "Epoch 43/100\n",
      "350/350 - 5s - loss: 0.0772 - auroc: 0.9885 - aupr: 0.9567 - val_loss: 0.0704 - val_auroc: 0.9916 - val_aupr: 0.9632\n",
      "Epoch 44/100\n",
      "350/350 - 5s - loss: 0.0772 - auroc: 0.9884 - aupr: 0.9568 - val_loss: 0.0711 - val_auroc: 0.9912 - val_aupr: 0.9624\n",
      "Epoch 45/100\n",
      "350/350 - 5s - loss: 0.0771 - auroc: 0.9886 - aupr: 0.9572 - val_loss: 0.0688 - val_auroc: 0.9916 - val_aupr: 0.9647\n",
      "Epoch 46/100\n",
      "350/350 - 5s - loss: 0.0761 - auroc: 0.9886 - aupr: 0.9580 - val_loss: 0.0707 - val_auroc: 0.9909 - val_aupr: 0.9639\n",
      "Epoch 47/100\n",
      "350/350 - 5s - loss: 0.0758 - auroc: 0.9886 - aupr: 0.9584 - val_loss: 0.0698 - val_auroc: 0.9914 - val_aupr: 0.9630\n",
      "Epoch 48/100\n",
      "350/350 - 5s - loss: 0.0743 - auroc: 0.9892 - aupr: 0.9596 - val_loss: 0.0698 - val_auroc: 0.9912 - val_aupr: 0.9632\n",
      "Epoch 49/100\n",
      "350/350 - 5s - loss: 0.0745 - auroc: 0.9890 - aupr: 0.9594 - val_loss: 0.0703 - val_auroc: 0.9914 - val_aupr: 0.9626\n",
      "Epoch 50/100\n",
      "350/350 - 5s - loss: 0.0743 - auroc: 0.9892 - aupr: 0.9599 - val_loss: 0.0697 - val_auroc: 0.9912 - val_aupr: 0.9633\n",
      "Epoch 51/100\n",
      "\n",
      "Epoch 00051: ReduceLROnPlateau reducing learning rate to 0.00020000000949949026.\n",
      "350/350 - 5s - loss: 0.0733 - auroc: 0.9894 - aupr: 0.9610 - val_loss: 0.0708 - val_auroc: 0.9912 - val_aupr: 0.9628\n",
      "Epoch 52/100\n",
      "350/350 - 5s - loss: 0.0700 - auroc: 0.9901 - aupr: 0.9639 - val_loss: 0.0686 - val_auroc: 0.9916 - val_aupr: 0.9646\n",
      "Epoch 53/100\n",
      "350/350 - 5s - loss: 0.0692 - auroc: 0.9906 - aupr: 0.9646 - val_loss: 0.0684 - val_auroc: 0.9915 - val_aupr: 0.9647\n",
      "Epoch 54/100\n",
      "350/350 - 5s - loss: 0.0691 - auroc: 0.9903 - aupr: 0.9646 - val_loss: 0.0690 - val_auroc: 0.9913 - val_aupr: 0.9642\n",
      "Epoch 55/100\n",
      "350/350 - 5s - loss: 0.0688 - auroc: 0.9905 - aupr: 0.9651 - val_loss: 0.0688 - val_auroc: 0.9914 - val_aupr: 0.9642\n",
      "Epoch 56/100\n",
      "350/350 - 5s - loss: 0.0684 - auroc: 0.9906 - aupr: 0.9655 - val_loss: 0.0689 - val_auroc: 0.9911 - val_aupr: 0.9644\n",
      "Epoch 57/100\n",
      "350/350 - 5s - loss: 0.0678 - auroc: 0.9908 - aupr: 0.9659 - val_loss: 0.0689 - val_auroc: 0.9914 - val_aupr: 0.9642\n",
      "Epoch 58/100\n",
      "350/350 - 5s - loss: 0.0686 - auroc: 0.9905 - aupr: 0.9651 - val_loss: 0.0691 - val_auroc: 0.9912 - val_aupr: 0.9641\n",
      "Epoch 59/100\n",
      "350/350 - 5s - loss: 0.0676 - auroc: 0.9909 - aupr: 0.9662 - val_loss: 0.0692 - val_auroc: 0.9912 - val_aupr: 0.9637\n",
      "Epoch 60/100\n",
      "350/350 - 5s - loss: 0.0677 - auroc: 0.9907 - aupr: 0.9662 - val_loss: 0.0693 - val_auroc: 0.9913 - val_aupr: 0.9637\n",
      "Epoch 61/100\n",
      "350/350 - 5s - loss: 0.0673 - auroc: 0.9907 - aupr: 0.9664 - val_loss: 0.0692 - val_auroc: 0.9912 - val_aupr: 0.9638\n",
      "Epoch 62/100\n",
      "350/350 - 5s - loss: 0.0676 - auroc: 0.9907 - aupr: 0.9661 - val_loss: 0.0694 - val_auroc: 0.9911 - val_aupr: 0.9636\n",
      "Epoch 63/100\n",
      "\n",
      "Epoch 00063: ReduceLROnPlateau reducing learning rate to 4.0000001899898055e-05.\n",
      "350/350 - 5s - loss: 0.0668 - auroc: 0.9908 - aupr: 0.9669 - val_loss: 0.0692 - val_auroc: 0.9911 - val_aupr: 0.9640\n"
     ]
    },
    {
     "name": "stdout",
     "output_type": "stream",
     "text": [
      "Epoch 64/100\n",
      "350/350 - 5s - loss: 0.0663 - auroc: 0.9911 - aupr: 0.9673 - val_loss: 0.0692 - val_auroc: 0.9912 - val_aupr: 0.9638\n",
      "Epoch 65/100\n",
      "350/350 - 5s - loss: 0.0667 - auroc: 0.9910 - aupr: 0.9669 - val_loss: 0.0693 - val_auroc: 0.9911 - val_aupr: 0.9635\n",
      "Epoch 66/100\n",
      "350/350 - 5s - loss: 0.0662 - auroc: 0.9910 - aupr: 0.9675 - val_loss: 0.0691 - val_auroc: 0.9912 - val_aupr: 0.9638\n",
      "Epoch 67/100\n",
      "350/350 - 5s - loss: 0.0665 - auroc: 0.9908 - aupr: 0.9671 - val_loss: 0.0693 - val_auroc: 0.9911 - val_aupr: 0.9636\n",
      "Epoch 68/100\n",
      "Restoring model weights from the end of the best epoch.\n",
      "350/350 - 5s - loss: 0.0660 - auroc: 0.9912 - aupr: 0.9675 - val_loss: 0.0692 - val_auroc: 0.9911 - val_aupr: 0.9637\n",
      "Epoch 00068: early stopping\n",
      "625/625 [==============================] - 1s 2ms/step - loss: 0.0690 - auroc: 0.9909 - aupr: 0.9637\n",
      "generated PPMs\n",
      "TomTom TPR:  0.90625\n",
      "TomTom FPR:  0.0\n",
      "Motif coverage:  1.0\n",
      "completed TomTom analysis\n",
      "completed clustering\n"
     ]
    },
    {
     "name": "stderr",
     "output_type": "stream",
     "text": [
      "/home/koolab/Documents/GLIFAC/Code/glifac.py:108: FutureWarning: Using a non-tuple sequence for multidimensional indexing is deprecated; use `arr[tuple(seq)]` instead of `arr[seq]`. In the future this will be interpreted as an array index, `arr[np.array(seq)]`, which will result either in an error or a different result.\n",
      "  filter_interactions = feature_maps[position_pairs].transpose([1, 2, 0])\n",
      "/home/koolab/Documents/GLIFAC/Code/glifac.py:46: FutureWarning: Using a non-tuple sequence for multidimensional indexing is deprecated; use `arr[tuple(seq)]` instead of `arr[seq]`. In the future this will be interpreted as an array index, `arr[np.array(seq)]`, which will result either in an error or a different result.\n",
      "  filter_interactions_values = correlation_matrix[ind.transpose().tolist()]\n"
     ]
    },
    {
     "name": "stdout",
     "output_type": "stream",
     "text": [
      "0.0  | AUROC: 0.9854762207440487  | AUPR: 0.9991317937141865  | SNR: 3.3473266564256305\n"
     ]
    },
    {
     "name": "stderr",
     "output_type": "stream",
     "text": [
      "/home/koolab/Documents/GLIFAC/Code/glifac.py:108: FutureWarning: Using a non-tuple sequence for multidimensional indexing is deprecated; use `arr[tuple(seq)]` instead of `arr[seq]`. In the future this will be interpreted as an array index, `arr[np.array(seq)]`, which will result either in an error or a different result.\n",
      "  filter_interactions = feature_maps[position_pairs].transpose([1, 2, 0])\n",
      "/home/koolab/Documents/GLIFAC/Code/glifac.py:46: FutureWarning: Using a non-tuple sequence for multidimensional indexing is deprecated; use `arr[tuple(seq)]` instead of `arr[seq]`. In the future this will be interpreted as an array index, `arr[np.array(seq)]`, which will result either in an error or a different result.\n",
      "  filter_interactions_values = correlation_matrix[ind.transpose().tolist()]\n"
     ]
    },
    {
     "name": "stdout",
     "output_type": "stream",
     "text": [
      "0.1  | AUROC: 0.14574389828003037  | AUPR: 0.656363952075013  | SNR: 0.689281642678845\n"
     ]
    },
    {
     "name": "stderr",
     "output_type": "stream",
     "text": [
      "/home/koolab/Documents/GLIFAC/Code/glifac.py:108: FutureWarning: Using a non-tuple sequence for multidimensional indexing is deprecated; use `arr[tuple(seq)]` instead of `arr[seq]`. In the future this will be interpreted as an array index, `arr[np.array(seq)]`, which will result either in an error or a different result.\n",
      "  filter_interactions = feature_maps[position_pairs].transpose([1, 2, 0])\n",
      "/home/koolab/Documents/GLIFAC/Code/glifac.py:46: FutureWarning: Using a non-tuple sequence for multidimensional indexing is deprecated; use `arr[tuple(seq)]` instead of `arr[seq]`. In the future this will be interpreted as an array index, `arr[np.array(seq)]`, which will result either in an error or a different result.\n",
      "  filter_interactions_values = correlation_matrix[ind.transpose().tolist()]\n"
     ]
    },
    {
     "name": "stdout",
     "output_type": "stream",
     "text": [
      "0.2  | AUROC: 0.1194615471969434  | AUPR: 0.6495919430456677  | SNR: 0.48989092306685245\n"
     ]
    },
    {
     "name": "stderr",
     "output_type": "stream",
     "text": [
      "/home/koolab/Documents/GLIFAC/Code/glifac.py:108: FutureWarning: Using a non-tuple sequence for multidimensional indexing is deprecated; use `arr[tuple(seq)]` instead of `arr[seq]`. In the future this will be interpreted as an array index, `arr[np.array(seq)]`, which will result either in an error or a different result.\n",
      "  filter_interactions = feature_maps[position_pairs].transpose([1, 2, 0])\n",
      "/home/koolab/Documents/GLIFAC/Code/glifac.py:46: FutureWarning: Using a non-tuple sequence for multidimensional indexing is deprecated; use `arr[tuple(seq)]` instead of `arr[seq]`. In the future this will be interpreted as an array index, `arr[np.array(seq)]`, which will result either in an error or a different result.\n",
      "  filter_interactions_values = correlation_matrix[ind.transpose().tolist()]\n"
     ]
    },
    {
     "name": "stdout",
     "output_type": "stream",
     "text": [
      "0.3  | AUROC: 0.11827421215729311  | AUPR: 0.6587081090467095  | SNR: 0.4709412585597373\n"
     ]
    },
    {
     "name": "stderr",
     "output_type": "stream",
     "text": [
      "/home/koolab/Documents/GLIFAC/Code/glifac.py:108: FutureWarning: Using a non-tuple sequence for multidimensional indexing is deprecated; use `arr[tuple(seq)]` instead of `arr[seq]`. In the future this will be interpreted as an array index, `arr[np.array(seq)]`, which will result either in an error or a different result.\n",
      "  filter_interactions = feature_maps[position_pairs].transpose([1, 2, 0])\n",
      "/home/koolab/Documents/GLIFAC/Code/glifac.py:46: FutureWarning: Using a non-tuple sequence for multidimensional indexing is deprecated; use `arr[tuple(seq)]` instead of `arr[seq]`. In the future this will be interpreted as an array index, `arr[np.array(seq)]`, which will result either in an error or a different result.\n",
      "  filter_interactions_values = correlation_matrix[ind.transpose().tolist()]\n"
     ]
    },
    {
     "name": "stdout",
     "output_type": "stream",
     "text": [
      "0.4  | AUROC: 0.10768572374219865  | AUPR: 0.6554089251606181  | SNR: 0.4195731782341297\n"
     ]
    },
    {
     "name": "stderr",
     "output_type": "stream",
     "text": [
      "/home/koolab/Documents/GLIFAC/Code/glifac.py:108: FutureWarning: Using a non-tuple sequence for multidimensional indexing is deprecated; use `arr[tuple(seq)]` instead of `arr[seq]`. In the future this will be interpreted as an array index, `arr[np.array(seq)]`, which will result either in an error or a different result.\n",
      "  filter_interactions = feature_maps[position_pairs].transpose([1, 2, 0])\n",
      "/home/koolab/Documents/GLIFAC/Code/glifac.py:46: FutureWarning: Using a non-tuple sequence for multidimensional indexing is deprecated; use `arr[tuple(seq)]` instead of `arr[seq]`. In the future this will be interpreted as an array index, `arr[np.array(seq)]`, which will result either in an error or a different result.\n",
      "  filter_interactions_values = correlation_matrix[ind.transpose().tolist()]\n"
     ]
    },
    {
     "name": "stdout",
     "output_type": "stream",
     "text": [
      "0.5  | AUROC: 0.10028855144077031  | AUPR: 0.6361347456155583  | SNR: 0.36502756601922043\n"
     ]
    },
    {
     "name": "stderr",
     "output_type": "stream",
     "text": [
      "/home/koolab/Documents/GLIFAC/Code/glifac.py:108: FutureWarning: Using a non-tuple sequence for multidimensional indexing is deprecated; use `arr[tuple(seq)]` instead of `arr[seq]`. In the future this will be interpreted as an array index, `arr[np.array(seq)]`, which will result either in an error or a different result.\n",
      "  filter_interactions = feature_maps[position_pairs].transpose([1, 2, 0])\n",
      "/home/koolab/Documents/GLIFAC/Code/glifac.py:46: FutureWarning: Using a non-tuple sequence for multidimensional indexing is deprecated; use `arr[tuple(seq)]` instead of `arr[seq]`. In the future this will be interpreted as an array index, `arr[np.array(seq)]`, which will result either in an error or a different result.\n",
      "  filter_interactions_values = correlation_matrix[ind.transpose().tolist()]\n"
     ]
    },
    {
     "name": "stdout",
     "output_type": "stream",
     "text": [
      "0.6  | AUROC: 0.09321304558037696  | AUPR: 0.6109567633269665  | SNR: 0.3043826294744938\n"
     ]
    },
    {
     "name": "stderr",
     "output_type": "stream",
     "text": [
      "/home/koolab/Documents/GLIFAC/Code/glifac.py:108: FutureWarning: Using a non-tuple sequence for multidimensional indexing is deprecated; use `arr[tuple(seq)]` instead of `arr[seq]`. In the future this will be interpreted as an array index, `arr[np.array(seq)]`, which will result either in an error or a different result.\n",
      "  filter_interactions = feature_maps[position_pairs].transpose([1, 2, 0])\n",
      "/home/koolab/Documents/GLIFAC/Code/glifac.py:46: FutureWarning: Using a non-tuple sequence for multidimensional indexing is deprecated; use `arr[tuple(seq)]` instead of `arr[seq]`. In the future this will be interpreted as an array index, `arr[np.array(seq)]`, which will result either in an error or a different result.\n",
      "  filter_interactions_values = correlation_matrix[ind.transpose().tolist()]\n"
     ]
    },
    {
     "name": "stdout",
     "output_type": "stream",
     "text": [
      "0.7  | AUROC: 0.08780865178676842  | AUPR: 0.6007987497829484  | SNR: 0.24361841158971984\n"
     ]
    },
    {
     "name": "stderr",
     "output_type": "stream",
     "text": [
      "/home/koolab/Documents/GLIFAC/Code/glifac.py:108: FutureWarning: Using a non-tuple sequence for multidimensional indexing is deprecated; use `arr[tuple(seq)]` instead of `arr[seq]`. In the future this will be interpreted as an array index, `arr[np.array(seq)]`, which will result either in an error or a different result.\n",
      "  filter_interactions = feature_maps[position_pairs].transpose([1, 2, 0])\n",
      "/home/koolab/Documents/GLIFAC/Code/glifac.py:46: FutureWarning: Using a non-tuple sequence for multidimensional indexing is deprecated; use `arr[tuple(seq)]` instead of `arr[seq]`. In the future this will be interpreted as an array index, `arr[np.array(seq)]`, which will result either in an error or a different result.\n",
      "  filter_interactions_values = correlation_matrix[ind.transpose().tolist()]\n"
     ]
    },
    {
     "name": "stdout",
     "output_type": "stream",
     "text": [
      "0.8  | AUROC: 0.0792505103334172  | AUPR: 0.5788331307518667  | SNR: 0.17542605592826688\n"
     ]
    },
    {
     "name": "stderr",
     "output_type": "stream",
     "text": [
      "/home/koolab/Documents/GLIFAC/Code/glifac.py:108: FutureWarning: Using a non-tuple sequence for multidimensional indexing is deprecated; use `arr[tuple(seq)]` instead of `arr[seq]`. In the future this will be interpreted as an array index, `arr[np.array(seq)]`, which will result either in an error or a different result.\n",
      "  filter_interactions = feature_maps[position_pairs].transpose([1, 2, 0])\n",
      "/home/koolab/Documents/GLIFAC/Code/glifac.py:28: RuntimeWarning: invalid value encountered in float_scalars\n",
      "  return top/bottom\n",
      "/home/koolab/Documents/GLIFAC/Code/glifac.py:10: RuntimeWarning: invalid value encountered in greater\n",
      "  return np.where(-amin > amax, amin, amax)\n",
      "/home/koolab/Documents/GLIFAC/Code/glifac.py:46: FutureWarning: Using a non-tuple sequence for multidimensional indexing is deprecated; use `arr[tuple(seq)]` instead of `arr[seq]`. In the future this will be interpreted as an array index, `arr[np.array(seq)]`, which will result either in an error or a different result.\n",
      "  filter_interactions_values = correlation_matrix[ind.transpose().tolist()]\n"
     ]
    },
    {
     "name": "stdout",
     "output_type": "stream",
     "text": [
      "0.9  | AUROC: 0.06769917981425999  | AUPR: 0.5551745094634485  | SNR: 0.05629740138720859\n",
      "finished correlation interpretability\n",
      "saved statistics\n",
      "saved filters\n"
     ]
    },
    {
     "name": "stderr",
     "output_type": "stream",
     "text": [
      "/home/koolab/Documents/GLIFAC/Code/glifac_pipeline.py:297: MatplotlibDeprecationWarning: savefig() got unexpected keyword argument \"box_inches\" which is no longer supported as of 3.3 and will become an error two minor releases later\n",
      "  fig.savefig(glifac_dir, format='pdf', dpi=300, box_inches='tight')\n"
     ]
    },
    {
     "name": "stdout",
     "output_type": "stream",
     "text": [
      "saved glifac\n",
      "Epoch 1/100\n",
      "350/350 - 5s - loss: 0.3070 - auroc: 0.8234 - aupr: 0.5191 - val_loss: 0.2597 - val_auroc: 0.9589 - val_aupr: 0.8329\n",
      "Epoch 2/100\n",
      "350/350 - 5s - loss: 0.1311 - auroc: 0.9712 - aupr: 0.8911 - val_loss: 0.1150 - val_auroc: 0.9772 - val_aupr: 0.9191\n",
      "Epoch 3/100\n",
      "350/350 - 5s - loss: 0.1077 - auroc: 0.9802 - aupr: 0.9214 - val_loss: 0.1024 - val_auroc: 0.9853 - val_aupr: 0.9351\n",
      "Epoch 4/100\n",
      "350/350 - 5s - loss: 0.1011 - auroc: 0.9824 - aupr: 0.9294 - val_loss: 0.0856 - val_auroc: 0.9873 - val_aupr: 0.9477\n",
      "Epoch 5/100\n",
      "350/350 - 5s - loss: 0.0984 - auroc: 0.9831 - aupr: 0.9323 - val_loss: 0.0841 - val_auroc: 0.9867 - val_aupr: 0.9516\n",
      "Epoch 6/100\n",
      "350/350 - 5s - loss: 0.0962 - auroc: 0.9838 - aupr: 0.9348 - val_loss: 0.0848 - val_auroc: 0.9882 - val_aupr: 0.9502\n",
      "Epoch 7/100\n",
      "350/350 - 5s - loss: 0.0947 - auroc: 0.9841 - aupr: 0.9366 - val_loss: 0.0849 - val_auroc: 0.9883 - val_aupr: 0.9498\n",
      "Epoch 8/100\n",
      "350/350 - 5s - loss: 0.0934 - auroc: 0.9843 - aupr: 0.9382 - val_loss: 0.0809 - val_auroc: 0.9891 - val_aupr: 0.9511\n",
      "Epoch 9/100\n",
      "350/350 - 5s - loss: 0.0918 - auroc: 0.9850 - aupr: 0.9397 - val_loss: 0.0787 - val_auroc: 0.9889 - val_aupr: 0.9577\n",
      "Epoch 10/100\n",
      "350/350 - 5s - loss: 0.0915 - auroc: 0.9848 - aupr: 0.9404 - val_loss: 0.0765 - val_auroc: 0.9904 - val_aupr: 0.9556\n",
      "Epoch 11/100\n",
      "350/350 - 5s - loss: 0.0909 - auroc: 0.9851 - aupr: 0.9408 - val_loss: 0.0749 - val_auroc: 0.9894 - val_aupr: 0.9599\n",
      "Epoch 12/100\n",
      "350/350 - 5s - loss: 0.0896 - auroc: 0.9856 - aupr: 0.9424 - val_loss: 0.0753 - val_auroc: 0.9905 - val_aupr: 0.9587\n",
      "Epoch 13/100\n",
      "350/350 - 5s - loss: 0.0891 - auroc: 0.9858 - aupr: 0.9429 - val_loss: 0.0741 - val_auroc: 0.9906 - val_aupr: 0.9583\n",
      "Epoch 14/100\n",
      "350/350 - 5s - loss: 0.0892 - auroc: 0.9855 - aupr: 0.9425 - val_loss: 0.0729 - val_auroc: 0.9911 - val_aupr: 0.9609\n",
      "Epoch 15/100\n",
      "350/350 - 5s - loss: 0.0886 - auroc: 0.9857 - aupr: 0.9434 - val_loss: 0.0750 - val_auroc: 0.9902 - val_aupr: 0.9589\n",
      "Epoch 16/100\n",
      "350/350 - 5s - loss: 0.0880 - auroc: 0.9860 - aupr: 0.9440 - val_loss: 0.0741 - val_auroc: 0.9902 - val_aupr: 0.9589\n",
      "Epoch 17/100\n",
      "350/350 - 5s - loss: 0.0881 - auroc: 0.9858 - aupr: 0.9438 - val_loss: 0.0739 - val_auroc: 0.9905 - val_aupr: 0.9596\n",
      "Epoch 18/100\n",
      "350/350 - 5s - loss: 0.0880 - auroc: 0.9859 - aupr: 0.9442 - val_loss: 0.0747 - val_auroc: 0.9906 - val_aupr: 0.9589\n",
      "Epoch 19/100\n",
      "350/350 - 5s - loss: 0.0875 - auroc: 0.9860 - aupr: 0.9446 - val_loss: 0.0721 - val_auroc: 0.9906 - val_aupr: 0.9615\n",
      "Epoch 20/100\n",
      "350/350 - 5s - loss: 0.0869 - auroc: 0.9864 - aupr: 0.9452 - val_loss: 0.0730 - val_auroc: 0.9918 - val_aupr: 0.9616\n",
      "Epoch 21/100\n",
      "350/350 - 5s - loss: 0.0868 - auroc: 0.9862 - aupr: 0.9457 - val_loss: 0.0733 - val_auroc: 0.9909 - val_aupr: 0.9613\n",
      "Epoch 22/100\n",
      "350/350 - 5s - loss: 0.0864 - auroc: 0.9864 - aupr: 0.9460 - val_loss: 0.0716 - val_auroc: 0.9910 - val_aupr: 0.9616\n",
      "Epoch 23/100\n",
      "350/350 - 5s - loss: 0.0862 - auroc: 0.9864 - aupr: 0.9457 - val_loss: 0.0715 - val_auroc: 0.9910 - val_aupr: 0.9615\n",
      "Epoch 24/100\n",
      "350/350 - 5s - loss: 0.0856 - auroc: 0.9867 - aupr: 0.9468 - val_loss: 0.0725 - val_auroc: 0.9903 - val_aupr: 0.9607\n",
      "Epoch 25/100\n",
      "350/350 - 5s - loss: 0.0855 - auroc: 0.9866 - aupr: 0.9468 - val_loss: 0.0717 - val_auroc: 0.9909 - val_aupr: 0.9622\n",
      "Epoch 26/100\n",
      "350/350 - 5s - loss: 0.0852 - auroc: 0.9867 - aupr: 0.9475 - val_loss: 0.0711 - val_auroc: 0.9912 - val_aupr: 0.9630\n",
      "Epoch 27/100\n",
      "350/350 - 5s - loss: 0.0848 - auroc: 0.9867 - aupr: 0.9483 - val_loss: 0.0713 - val_auroc: 0.9913 - val_aupr: 0.9618\n",
      "Epoch 28/100\n",
      "350/350 - 5s - loss: 0.0841 - auroc: 0.9869 - aupr: 0.9487 - val_loss: 0.0712 - val_auroc: 0.9910 - val_aupr: 0.9625\n",
      "Epoch 29/100\n",
      "350/350 - 5s - loss: 0.0842 - auroc: 0.9872 - aupr: 0.9486 - val_loss: 0.0717 - val_auroc: 0.9908 - val_aupr: 0.9615\n",
      "Epoch 30/100\n",
      "350/350 - 5s - loss: 0.0834 - auroc: 0.9872 - aupr: 0.9493 - val_loss: 0.0723 - val_auroc: 0.9910 - val_aupr: 0.9607\n",
      "Epoch 31/100\n",
      "350/350 - 5s - loss: 0.0830 - auroc: 0.9872 - aupr: 0.9500 - val_loss: 0.0706 - val_auroc: 0.9911 - val_aupr: 0.9626\n",
      "Epoch 32/100\n",
      "350/350 - 5s - loss: 0.0823 - auroc: 0.9876 - aupr: 0.9508 - val_loss: 0.0700 - val_auroc: 0.9915 - val_aupr: 0.9636\n",
      "Epoch 33/100\n",
      "350/350 - 5s - loss: 0.0820 - auroc: 0.9875 - aupr: 0.9514 - val_loss: 0.0699 - val_auroc: 0.9913 - val_aupr: 0.9632\n",
      "Epoch 34/100\n",
      "350/350 - 5s - loss: 0.0810 - auroc: 0.9879 - aupr: 0.9523 - val_loss: 0.0711 - val_auroc: 0.9910 - val_aupr: 0.9624\n",
      "Epoch 35/100\n",
      "350/350 - 5s - loss: 0.0808 - auroc: 0.9879 - aupr: 0.9526 - val_loss: 0.0703 - val_auroc: 0.9915 - val_aupr: 0.9632\n",
      "Epoch 36/100\n",
      "350/350 - 5s - loss: 0.0802 - auroc: 0.9880 - aupr: 0.9530 - val_loss: 0.0694 - val_auroc: 0.9914 - val_aupr: 0.9644\n",
      "Epoch 37/100\n",
      "350/350 - 5s - loss: 0.0798 - auroc: 0.9880 - aupr: 0.9537 - val_loss: 0.0691 - val_auroc: 0.9916 - val_aupr: 0.9644\n",
      "Epoch 38/100\n",
      "350/350 - 5s - loss: 0.0795 - auroc: 0.9881 - aupr: 0.9538 - val_loss: 0.0694 - val_auroc: 0.9916 - val_aupr: 0.9641\n",
      "Epoch 39/100\n",
      "350/350 - 5s - loss: 0.0791 - auroc: 0.9882 - aupr: 0.9545 - val_loss: 0.0688 - val_auroc: 0.9914 - val_aupr: 0.9645\n",
      "Epoch 40/100\n",
      "350/350 - 5s - loss: 0.0786 - auroc: 0.9883 - aupr: 0.9549 - val_loss: 0.0697 - val_auroc: 0.9910 - val_aupr: 0.9638\n",
      "Epoch 41/100\n",
      "350/350 - 5s - loss: 0.0775 - auroc: 0.9886 - aupr: 0.9558 - val_loss: 0.0698 - val_auroc: 0.9910 - val_aupr: 0.9634\n",
      "Epoch 42/100\n",
      "350/350 - 5s - loss: 0.0771 - auroc: 0.9888 - aupr: 0.9567 - val_loss: 0.0689 - val_auroc: 0.9910 - val_aupr: 0.9638\n",
      "Epoch 43/100\n",
      "350/350 - 5s - loss: 0.0768 - auroc: 0.9888 - aupr: 0.9568 - val_loss: 0.0712 - val_auroc: 0.9915 - val_aupr: 0.9623\n",
      "Epoch 44/100\n",
      "350/350 - 5s - loss: 0.0771 - auroc: 0.9886 - aupr: 0.9564 - val_loss: 0.0690 - val_auroc: 0.9915 - val_aupr: 0.9640\n",
      "Epoch 45/100\n",
      "350/350 - 5s - loss: 0.0761 - auroc: 0.9890 - aupr: 0.9577 - val_loss: 0.0709 - val_auroc: 0.9917 - val_aupr: 0.9637\n",
      "Epoch 46/100\n",
      "350/350 - 5s - loss: 0.0759 - auroc: 0.9890 - aupr: 0.9577 - val_loss: 0.0691 - val_auroc: 0.9913 - val_aupr: 0.9644\n",
      "Epoch 47/100\n",
      "350/350 - 5s - loss: 0.0755 - auroc: 0.9890 - aupr: 0.9581 - val_loss: 0.0683 - val_auroc: 0.9914 - val_aupr: 0.9652\n",
      "Epoch 48/100\n",
      "350/350 - 5s - loss: 0.0748 - auroc: 0.9892 - aupr: 0.9589 - val_loss: 0.0684 - val_auroc: 0.9920 - val_aupr: 0.9652\n",
      "Epoch 49/100\n",
      "350/350 - 5s - loss: 0.0744 - auroc: 0.9892 - aupr: 0.9595 - val_loss: 0.0694 - val_auroc: 0.9916 - val_aupr: 0.9635\n",
      "Epoch 50/100\n",
      "350/350 - 5s - loss: 0.0738 - auroc: 0.9895 - aupr: 0.9601 - val_loss: 0.0683 - val_auroc: 0.9917 - val_aupr: 0.9650\n",
      "Epoch 51/100\n",
      "350/350 - 5s - loss: 0.0729 - auroc: 0.9897 - aupr: 0.9609 - val_loss: 0.0687 - val_auroc: 0.9913 - val_aupr: 0.9639\n",
      "Epoch 52/100\n",
      "350/350 - 5s - loss: 0.0733 - auroc: 0.9894 - aupr: 0.9606 - val_loss: 0.0700 - val_auroc: 0.9913 - val_aupr: 0.9632\n",
      "Epoch 53/100\n",
      "350/350 - 5s - loss: 0.0726 - auroc: 0.9898 - aupr: 0.9612 - val_loss: 0.0692 - val_auroc: 0.9914 - val_aupr: 0.9640\n",
      "Epoch 54/100\n",
      "350/350 - 5s - loss: 0.0722 - auroc: 0.9897 - aupr: 0.9617 - val_loss: 0.0690 - val_auroc: 0.9909 - val_aupr: 0.9644\n",
      "Epoch 55/100\n",
      "350/350 - 5s - loss: 0.0713 - auroc: 0.9900 - aupr: 0.9623 - val_loss: 0.0699 - val_auroc: 0.9912 - val_aupr: 0.9633\n",
      "Epoch 56/100\n",
      "350/350 - 5s - loss: 0.0708 - auroc: 0.9901 - aupr: 0.9633 - val_loss: 0.0693 - val_auroc: 0.9913 - val_aupr: 0.9631\n",
      "Epoch 57/100\n",
      "\n",
      "Epoch 00057: ReduceLROnPlateau reducing learning rate to 0.00020000000949949026.\n",
      "350/350 - 5s - loss: 0.0705 - auroc: 0.9902 - aupr: 0.9633 - val_loss: 0.0689 - val_auroc: 0.9910 - val_aupr: 0.9634\n",
      "Epoch 58/100\n",
      "350/350 - 5s - loss: 0.0671 - auroc: 0.9912 - aupr: 0.9666 - val_loss: 0.0681 - val_auroc: 0.9916 - val_aupr: 0.9645\n",
      "Epoch 59/100\n",
      "350/350 - 5s - loss: 0.0668 - auroc: 0.9911 - aupr: 0.9670 - val_loss: 0.0680 - val_auroc: 0.9914 - val_aupr: 0.9651\n",
      "Epoch 60/100\n",
      "350/350 - 5s - loss: 0.0658 - auroc: 0.9913 - aupr: 0.9678 - val_loss: 0.0681 - val_auroc: 0.9913 - val_aupr: 0.9647\n",
      "Epoch 61/100\n",
      "350/350 - 5s - loss: 0.0655 - auroc: 0.9914 - aupr: 0.9682 - val_loss: 0.0684 - val_auroc: 0.9913 - val_aupr: 0.9644\n",
      "Epoch 62/100\n",
      "350/350 - 5s - loss: 0.0650 - auroc: 0.9917 - aupr: 0.9686 - val_loss: 0.0684 - val_auroc: 0.9912 - val_aupr: 0.9644\n",
      "Epoch 63/100\n",
      "350/350 - 5s - loss: 0.0660 - auroc: 0.9912 - aupr: 0.9674 - val_loss: 0.0684 - val_auroc: 0.9912 - val_aupr: 0.9647\n"
     ]
    },
    {
     "name": "stdout",
     "output_type": "stream",
     "text": [
      "Epoch 64/100\n",
      "350/350 - 5s - loss: 0.0652 - auroc: 0.9914 - aupr: 0.9681 - val_loss: 0.0683 - val_auroc: 0.9913 - val_aupr: 0.9641\n",
      "Epoch 65/100\n",
      "350/350 - 5s - loss: 0.0651 - auroc: 0.9915 - aupr: 0.9685 - val_loss: 0.0685 - val_auroc: 0.9912 - val_aupr: 0.9642\n",
      "Epoch 66/100\n",
      "350/350 - 5s - loss: 0.0648 - auroc: 0.9916 - aupr: 0.9689 - val_loss: 0.0684 - val_auroc: 0.9913 - val_aupr: 0.9645\n",
      "Epoch 67/100\n",
      "350/350 - 5s - loss: 0.0644 - auroc: 0.9916 - aupr: 0.9691 - val_loss: 0.0684 - val_auroc: 0.9912 - val_aupr: 0.9646\n",
      "Epoch 68/100\n",
      "\n",
      "Epoch 00068: ReduceLROnPlateau reducing learning rate to 4.0000001899898055e-05.\n",
      "350/350 - 5s - loss: 0.0643 - auroc: 0.9916 - aupr: 0.9692 - val_loss: 0.0693 - val_auroc: 0.9911 - val_aupr: 0.9633\n",
      "Epoch 69/100\n",
      "350/350 - 5s - loss: 0.0641 - auroc: 0.9916 - aupr: 0.9696 - val_loss: 0.0686 - val_auroc: 0.9912 - val_aupr: 0.9642\n",
      "Epoch 70/100\n",
      "350/350 - 5s - loss: 0.0637 - auroc: 0.9916 - aupr: 0.9694 - val_loss: 0.0685 - val_auroc: 0.9913 - val_aupr: 0.9642\n",
      "Epoch 71/100\n",
      "350/350 - 5s - loss: 0.0637 - auroc: 0.9918 - aupr: 0.9700 - val_loss: 0.0686 - val_auroc: 0.9911 - val_aupr: 0.9642\n",
      "Epoch 72/100\n",
      "350/350 - 5s - loss: 0.0635 - auroc: 0.9918 - aupr: 0.9698 - val_loss: 0.0685 - val_auroc: 0.9911 - val_aupr: 0.9643\n",
      "Epoch 73/100\n",
      "350/350 - 5s - loss: 0.0636 - auroc: 0.9918 - aupr: 0.9699 - val_loss: 0.0686 - val_auroc: 0.9912 - val_aupr: 0.9642\n",
      "Epoch 74/100\n",
      "Restoring model weights from the end of the best epoch.\n",
      "350/350 - 5s - loss: 0.0636 - auroc: 0.9917 - aupr: 0.9697 - val_loss: 0.0687 - val_auroc: 0.9911 - val_aupr: 0.9640\n",
      "Epoch 00074: early stopping\n",
      "625/625 [==============================] - 1s 2ms/step - loss: 0.0687 - auroc: 0.9911 - aupr: 0.9638\n",
      "generated PPMs\n",
      "TomTom TPR:  0.96875\n",
      "TomTom FPR:  0.0\n",
      "Motif coverage:  1.0\n",
      "completed TomTom analysis\n",
      "completed clustering\n"
     ]
    },
    {
     "name": "stderr",
     "output_type": "stream",
     "text": [
      "/home/koolab/Documents/GLIFAC/Code/glifac.py:108: FutureWarning: Using a non-tuple sequence for multidimensional indexing is deprecated; use `arr[tuple(seq)]` instead of `arr[seq]`. In the future this will be interpreted as an array index, `arr[np.array(seq)]`, which will result either in an error or a different result.\n",
      "  filter_interactions = feature_maps[position_pairs].transpose([1, 2, 0])\n",
      "/home/koolab/Documents/GLIFAC/Code/glifac.py:46: FutureWarning: Using a non-tuple sequence for multidimensional indexing is deprecated; use `arr[tuple(seq)]` instead of `arr[seq]`. In the future this will be interpreted as an array index, `arr[np.array(seq)]`, which will result either in an error or a different result.\n",
      "  filter_interactions_values = correlation_matrix[ind.transpose().tolist()]\n"
     ]
    },
    {
     "name": "stdout",
     "output_type": "stream",
     "text": [
      "0.0  | AUROC: 0.9705955581157193  | AUPR: 0.9961524024024024  | SNR: 3.182259178029749\n"
     ]
    },
    {
     "name": "stderr",
     "output_type": "stream",
     "text": [
      "/home/koolab/Documents/GLIFAC/Code/glifac.py:108: FutureWarning: Using a non-tuple sequence for multidimensional indexing is deprecated; use `arr[tuple(seq)]` instead of `arr[seq]`. In the future this will be interpreted as an array index, `arr[np.array(seq)]`, which will result either in an error or a different result.\n",
      "  filter_interactions = feature_maps[position_pairs].transpose([1, 2, 0])\n",
      "/home/koolab/Documents/GLIFAC/Code/glifac.py:46: FutureWarning: Using a non-tuple sequence for multidimensional indexing is deprecated; use `arr[tuple(seq)]` instead of `arr[seq]`. In the future this will be interpreted as an array index, `arr[np.array(seq)]`, which will result either in an error or a different result.\n",
      "  filter_interactions_values = correlation_matrix[ind.transpose().tolist()]\n"
     ]
    },
    {
     "name": "stdout",
     "output_type": "stream",
     "text": [
      "0.1  | AUROC: 0.09006589845844824  | AUPR: 0.4605855855855855  | SNR: 0.1333490669695125\n"
     ]
    },
    {
     "name": "stderr",
     "output_type": "stream",
     "text": [
      "/home/koolab/Documents/GLIFAC/Code/glifac.py:108: FutureWarning: Using a non-tuple sequence for multidimensional indexing is deprecated; use `arr[tuple(seq)]` instead of `arr[seq]`. In the future this will be interpreted as an array index, `arr[np.array(seq)]`, which will result either in an error or a different result.\n",
      "  filter_interactions = feature_maps[position_pairs].transpose([1, 2, 0])\n",
      "/home/koolab/Documents/GLIFAC/Code/glifac.py:46: FutureWarning: Using a non-tuple sequence for multidimensional indexing is deprecated; use `arr[tuple(seq)]` instead of `arr[seq]`. In the future this will be interpreted as an array index, `arr[np.array(seq)]`, which will result either in an error or a different result.\n",
      "  filter_interactions_values = correlation_matrix[ind.transpose().tolist()]\n"
     ]
    },
    {
     "name": "stdout",
     "output_type": "stream",
     "text": [
      "0.2  | AUROC: 0.07869279492233695  | AUPR: 0.4339339339339339  | SNR: 0.08250681266838687\n"
     ]
    },
    {
     "name": "stderr",
     "output_type": "stream",
     "text": [
      "/home/koolab/Documents/GLIFAC/Code/glifac.py:108: FutureWarning: Using a non-tuple sequence for multidimensional indexing is deprecated; use `arr[tuple(seq)]` instead of `arr[seq]`. In the future this will be interpreted as an array index, `arr[np.array(seq)]`, which will result either in an error or a different result.\n",
      "  filter_interactions = feature_maps[position_pairs].transpose([1, 2, 0])\n",
      "/home/koolab/Documents/GLIFAC/Code/glifac.py:46: FutureWarning: Using a non-tuple sequence for multidimensional indexing is deprecated; use `arr[tuple(seq)]` instead of `arr[seq]`. In the future this will be interpreted as an array index, `arr[np.array(seq)]`, which will result either in an error or a different result.\n",
      "  filter_interactions_values = correlation_matrix[ind.transpose().tolist()]\n"
     ]
    },
    {
     "name": "stdout",
     "output_type": "stream",
     "text": [
      "0.3  | AUROC: 0.06741797732269889  | AUPR: 0.3947072072072072  | SNR: 0.03500559433601901\n"
     ]
    },
    {
     "name": "stderr",
     "output_type": "stream",
     "text": [
      "/home/koolab/Documents/GLIFAC/Code/glifac.py:108: FutureWarning: Using a non-tuple sequence for multidimensional indexing is deprecated; use `arr[tuple(seq)]` instead of `arr[seq]`. In the future this will be interpreted as an array index, `arr[np.array(seq)]`, which will result either in an error or a different result.\n",
      "  filter_interactions = feature_maps[position_pairs].transpose([1, 2, 0])\n",
      "/home/koolab/Documents/GLIFAC/Code/glifac.py:46: FutureWarning: Using a non-tuple sequence for multidimensional indexing is deprecated; use `arr[tuple(seq)]` instead of `arr[seq]`. In the future this will be interpreted as an array index, `arr[np.array(seq)]`, which will result either in an error or a different result.\n",
      "  filter_interactions_values = correlation_matrix[ind.transpose().tolist()]\n"
     ]
    },
    {
     "name": "stdout",
     "output_type": "stream",
     "text": [
      "0.4  | AUROC: 0.06503558549366356  | AUPR: 0.37894144144144143  | SNR: 0.0441120587916874\n"
     ]
    },
    {
     "name": "stderr",
     "output_type": "stream",
     "text": [
      "/home/koolab/Documents/GLIFAC/Code/glifac.py:108: FutureWarning: Using a non-tuple sequence for multidimensional indexing is deprecated; use `arr[tuple(seq)]` instead of `arr[seq]`. In the future this will be interpreted as an array index, `arr[np.array(seq)]`, which will result either in an error or a different result.\n",
      "  filter_interactions = feature_maps[position_pairs].transpose([1, 2, 0])\n",
      "/home/koolab/Documents/GLIFAC/Code/glifac.py:46: FutureWarning: Using a non-tuple sequence for multidimensional indexing is deprecated; use `arr[tuple(seq)]` instead of `arr[seq]`. In the future this will be interpreted as an array index, `arr[np.array(seq)]`, which will result either in an error or a different result.\n",
      "  filter_interactions_values = correlation_matrix[ind.transpose().tolist()]\n"
     ]
    },
    {
     "name": "stdout",
     "output_type": "stream",
     "text": [
      "0.5  | AUROC: 0.06850078129804661  | AUPR: 0.3849474474474474  | SNR: 0.0769317467578268\n"
     ]
    },
    {
     "name": "stderr",
     "output_type": "stream",
     "text": [
      "/home/koolab/Documents/GLIFAC/Code/glifac.py:108: FutureWarning: Using a non-tuple sequence for multidimensional indexing is deprecated; use `arr[tuple(seq)]` instead of `arr[seq]`. In the future this will be interpreted as an array index, `arr[np.array(seq)]`, which will result either in an error or a different result.\n",
      "  filter_interactions = feature_maps[position_pairs].transpose([1, 2, 0])\n",
      "/home/koolab/Documents/GLIFAC/Code/glifac.py:28: RuntimeWarning: invalid value encountered in float_scalars\n",
      "  return top/bottom\n",
      "/home/koolab/Documents/GLIFAC/Code/glifac.py:10: RuntimeWarning: invalid value encountered in greater\n",
      "  return np.where(-amin > amax, amin, amax)\n",
      "/home/koolab/Documents/GLIFAC/Code/glifac.py:46: FutureWarning: Using a non-tuple sequence for multidimensional indexing is deprecated; use `arr[tuple(seq)]` instead of `arr[seq]`. In the future this will be interpreted as an array index, `arr[np.array(seq)]`, which will result either in an error or a different result.\n",
      "  filter_interactions_values = correlation_matrix[ind.transpose().tolist()]\n"
     ]
    },
    {
     "name": "stdout",
     "output_type": "stream",
     "text": [
      "0.6  | AUROC: 0.07186089931049454  | AUPR: 0.3771584084084084  | SNR: 0.10685866554663508\n"
     ]
    },
    {
     "name": "stderr",
     "output_type": "stream",
     "text": [
      "/home/koolab/Documents/GLIFAC/Code/glifac.py:108: FutureWarning: Using a non-tuple sequence for multidimensional indexing is deprecated; use `arr[tuple(seq)]` instead of `arr[seq]`. In the future this will be interpreted as an array index, `arr[np.array(seq)]`, which will result either in an error or a different result.\n",
      "  filter_interactions = feature_maps[position_pairs].transpose([1, 2, 0])\n",
      "/home/koolab/Documents/GLIFAC/Code/glifac.py:28: RuntimeWarning: invalid value encountered in float_scalars\n",
      "  return top/bottom\n",
      "/home/koolab/Documents/GLIFAC/Code/glifac.py:10: RuntimeWarning: invalid value encountered in greater\n",
      "  return np.where(-amin > amax, amin, amax)\n",
      "/home/koolab/Documents/GLIFAC/Code/glifac.py:46: FutureWarning: Using a non-tuple sequence for multidimensional indexing is deprecated; use `arr[tuple(seq)]` instead of `arr[seq]`. In the future this will be interpreted as an array index, `arr[np.array(seq)]`, which will result either in an error or a different result.\n",
      "  filter_interactions_values = correlation_matrix[ind.transpose().tolist()]\n"
     ]
    },
    {
     "name": "stdout",
     "output_type": "stream",
     "text": [
      "0.7  | AUROC: 0.07461849768256973  | AUPR: 0.3816629129129129  | SNR: 0.10747132588052993\n"
     ]
    },
    {
     "name": "stderr",
     "output_type": "stream",
     "text": [
      "/home/koolab/Documents/GLIFAC/Code/glifac.py:108: FutureWarning: Using a non-tuple sequence for multidimensional indexing is deprecated; use `arr[tuple(seq)]` instead of `arr[seq]`. In the future this will be interpreted as an array index, `arr[np.array(seq)]`, which will result either in an error or a different result.\n",
      "  filter_interactions = feature_maps[position_pairs].transpose([1, 2, 0])\n",
      "/home/koolab/Documents/GLIFAC/Code/glifac.py:28: RuntimeWarning: invalid value encountered in float_scalars\n",
      "  return top/bottom\n",
      "/home/koolab/Documents/GLIFAC/Code/glifac.py:10: RuntimeWarning: invalid value encountered in greater\n",
      "  return np.where(-amin > amax, amin, amax)\n",
      "/home/koolab/Documents/GLIFAC/Code/glifac.py:46: FutureWarning: Using a non-tuple sequence for multidimensional indexing is deprecated; use `arr[tuple(seq)]` instead of `arr[seq]`. In the future this will be interpreted as an array index, `arr[np.array(seq)]`, which will result either in an error or a different result.\n",
      "  filter_interactions_values = correlation_matrix[ind.transpose().tolist()]\n"
     ]
    },
    {
     "name": "stdout",
     "output_type": "stream",
     "text": [
      "0.8  | AUROC: 0.07027024263021352  | AUPR: 0.38682432432432434  | SNR: 0.04809368930587079\n"
     ]
    },
    {
     "name": "stderr",
     "output_type": "stream",
     "text": [
      "/home/koolab/Documents/GLIFAC/Code/glifac.py:108: FutureWarning: Using a non-tuple sequence for multidimensional indexing is deprecated; use `arr[tuple(seq)]` instead of `arr[seq]`. In the future this will be interpreted as an array index, `arr[np.array(seq)]`, which will result either in an error or a different result.\n",
      "  filter_interactions = feature_maps[position_pairs].transpose([1, 2, 0])\n",
      "/home/koolab/Documents/GLIFAC/Code/glifac.py:28: RuntimeWarning: invalid value encountered in float_scalars\n",
      "  return top/bottom\n",
      "/home/koolab/Documents/GLIFAC/Code/glifac.py:10: RuntimeWarning: invalid value encountered in greater\n",
      "  return np.where(-amin > amax, amin, amax)\n",
      "/home/koolab/Documents/GLIFAC/Code/glifac.py:46: FutureWarning: Using a non-tuple sequence for multidimensional indexing is deprecated; use `arr[tuple(seq)]` instead of `arr[seq]`. In the future this will be interpreted as an array index, `arr[np.array(seq)]`, which will result either in an error or a different result.\n",
      "  filter_interactions_values = correlation_matrix[ind.transpose().tolist()]\n"
     ]
    },
    {
     "name": "stdout",
     "output_type": "stream",
     "text": [
      "0.9  | AUROC: 0.05688783769471799  | AUPR: 0.3940503003003003  | SNR: -0.02867312921668503\n",
      "finished correlation interpretability\n",
      "saved statistics\n",
      "saved filters\n"
     ]
    },
    {
     "name": "stderr",
     "output_type": "stream",
     "text": [
      "/home/koolab/Documents/GLIFAC/Code/glifac_pipeline.py:297: MatplotlibDeprecationWarning: savefig() got unexpected keyword argument \"box_inches\" which is no longer supported as of 3.3 and will become an error two minor releases later\n",
      "  fig.savefig(glifac_dir, format='pdf', dpi=300, box_inches='tight')\n"
     ]
    },
    {
     "name": "stdout",
     "output_type": "stream",
     "text": [
      "saved glifac\n",
      "Epoch 1/100\n",
      "350/350 - 5s - loss: 0.3104 - auroc: 0.8190 - aupr: 0.5079 - val_loss: 0.3288 - val_auroc: 0.9571 - val_aupr: 0.8216\n",
      "Epoch 2/100\n",
      "350/350 - 5s - loss: 0.1466 - auroc: 0.9644 - aupr: 0.8655 - val_loss: 0.1061 - val_auroc: 0.9835 - val_aupr: 0.9288\n",
      "Epoch 3/100\n",
      "350/350 - 5s - loss: 0.1129 - auroc: 0.9782 - aupr: 0.9144 - val_loss: 0.1018 - val_auroc: 0.9866 - val_aupr: 0.9411\n",
      "Epoch 4/100\n",
      "350/350 - 5s - loss: 0.1037 - auroc: 0.9810 - aupr: 0.9258 - val_loss: 0.0852 - val_auroc: 0.9877 - val_aupr: 0.9464\n",
      "Epoch 5/100\n",
      "350/350 - 5s - loss: 0.0996 - auroc: 0.9824 - aupr: 0.9309 - val_loss: 0.1002 - val_auroc: 0.9840 - val_aupr: 0.9353\n",
      "Epoch 6/100\n",
      "350/350 - 5s - loss: 0.0983 - auroc: 0.9827 - aupr: 0.9322 - val_loss: 0.0853 - val_auroc: 0.9882 - val_aupr: 0.9502\n",
      "Epoch 7/100\n",
      "350/350 - 5s - loss: 0.0972 - auroc: 0.9830 - aupr: 0.9335 - val_loss: 0.0830 - val_auroc: 0.9867 - val_aupr: 0.9486\n",
      "Epoch 8/100\n",
      "350/350 - 5s - loss: 0.0960 - auroc: 0.9834 - aupr: 0.9348 - val_loss: 0.0785 - val_auroc: 0.9899 - val_aupr: 0.9545\n",
      "Epoch 9/100\n",
      "350/350 - 5s - loss: 0.0952 - auroc: 0.9837 - aupr: 0.9356 - val_loss: 0.0741 - val_auroc: 0.9907 - val_aupr: 0.9595\n",
      "Epoch 10/100\n",
      "350/350 - 5s - loss: 0.0942 - auroc: 0.9840 - aupr: 0.9370 - val_loss: 0.0769 - val_auroc: 0.9907 - val_aupr: 0.9574\n",
      "Epoch 11/100\n",
      "350/350 - 5s - loss: 0.0933 - auroc: 0.9844 - aupr: 0.9378 - val_loss: 0.0743 - val_auroc: 0.9897 - val_aupr: 0.9598\n",
      "Epoch 12/100\n",
      "350/350 - 5s - loss: 0.0924 - auroc: 0.9849 - aupr: 0.9388 - val_loss: 0.0742 - val_auroc: 0.9901 - val_aupr: 0.9591\n",
      "Epoch 13/100\n",
      "350/350 - 5s - loss: 0.0928 - auroc: 0.9847 - aupr: 0.9382 - val_loss: 0.0789 - val_auroc: 0.9888 - val_aupr: 0.9534\n",
      "Epoch 14/100\n",
      "350/350 - 5s - loss: 0.0922 - auroc: 0.9848 - aupr: 0.9390 - val_loss: 0.0730 - val_auroc: 0.9904 - val_aupr: 0.9595\n",
      "Epoch 15/100\n",
      "350/350 - 5s - loss: 0.0917 - auroc: 0.9848 - aupr: 0.9395 - val_loss: 0.0748 - val_auroc: 0.9904 - val_aupr: 0.9587\n",
      "Epoch 16/100\n",
      "350/350 - 5s - loss: 0.0917 - auroc: 0.9849 - aupr: 0.9394 - val_loss: 0.0741 - val_auroc: 0.9908 - val_aupr: 0.9589\n",
      "Epoch 17/100\n",
      "350/350 - 5s - loss: 0.0913 - auroc: 0.9852 - aupr: 0.9399 - val_loss: 0.0734 - val_auroc: 0.9902 - val_aupr: 0.9591\n",
      "Epoch 18/100\n",
      "350/350 - 5s - loss: 0.0909 - auroc: 0.9853 - aupr: 0.9407 - val_loss: 0.0731 - val_auroc: 0.9902 - val_aupr: 0.9591\n",
      "Epoch 19/100\n",
      "350/350 - 5s - loss: 0.0902 - auroc: 0.9854 - aupr: 0.9414 - val_loss: 0.0734 - val_auroc: 0.9900 - val_aupr: 0.9600\n",
      "Epoch 20/100\n",
      "350/350 - 5s - loss: 0.0903 - auroc: 0.9852 - aupr: 0.9411 - val_loss: 0.0740 - val_auroc: 0.9908 - val_aupr: 0.9593\n",
      "Epoch 21/100\n",
      "350/350 - 5s - loss: 0.0898 - auroc: 0.9855 - aupr: 0.9419 - val_loss: 0.0730 - val_auroc: 0.9911 - val_aupr: 0.9603\n",
      "Epoch 22/100\n",
      "350/350 - 5s - loss: 0.0892 - auroc: 0.9857 - aupr: 0.9427 - val_loss: 0.0732 - val_auroc: 0.9910 - val_aupr: 0.9603\n",
      "Epoch 23/100\n",
      "350/350 - 5s - loss: 0.0895 - auroc: 0.9857 - aupr: 0.9421 - val_loss: 0.0732 - val_auroc: 0.9906 - val_aupr: 0.9597\n",
      "Epoch 24/100\n",
      "350/350 - 5s - loss: 0.0894 - auroc: 0.9857 - aupr: 0.9424 - val_loss: 0.0727 - val_auroc: 0.9903 - val_aupr: 0.9603\n",
      "Epoch 25/100\n",
      "350/350 - 5s - loss: 0.0884 - auroc: 0.9860 - aupr: 0.9435 - val_loss: 0.0717 - val_auroc: 0.9908 - val_aupr: 0.9620\n",
      "Epoch 26/100\n",
      "350/350 - 5s - loss: 0.0875 - auroc: 0.9861 - aupr: 0.9443 - val_loss: 0.0724 - val_auroc: 0.9914 - val_aupr: 0.9608\n",
      "Epoch 27/100\n",
      "350/350 - 5s - loss: 0.0878 - auroc: 0.9860 - aupr: 0.9442 - val_loss: 0.0736 - val_auroc: 0.9905 - val_aupr: 0.9595\n",
      "Epoch 28/100\n",
      "350/350 - 5s - loss: 0.0874 - auroc: 0.9864 - aupr: 0.9451 - val_loss: 0.0722 - val_auroc: 0.9902 - val_aupr: 0.9609\n",
      "Epoch 29/100\n",
      "350/350 - 5s - loss: 0.0866 - auroc: 0.9866 - aupr: 0.9459 - val_loss: 0.0719 - val_auroc: 0.9907 - val_aupr: 0.9625\n",
      "Epoch 30/100\n",
      "350/350 - 5s - loss: 0.0864 - auroc: 0.9867 - aupr: 0.9464 - val_loss: 0.0731 - val_auroc: 0.9908 - val_aupr: 0.9605\n",
      "Epoch 31/100\n",
      "350/350 - 5s - loss: 0.0850 - auroc: 0.9871 - aupr: 0.9479 - val_loss: 0.0718 - val_auroc: 0.9906 - val_aupr: 0.9616\n",
      "Epoch 32/100\n",
      "350/350 - 5s - loss: 0.0848 - auroc: 0.9871 - aupr: 0.9480 - val_loss: 0.0723 - val_auroc: 0.9912 - val_aupr: 0.9614\n",
      "Epoch 33/100\n",
      "350/350 - 5s - loss: 0.0840 - auroc: 0.9873 - aupr: 0.9492 - val_loss: 0.0715 - val_auroc: 0.9911 - val_aupr: 0.9618\n",
      "Epoch 34/100\n",
      "350/350 - 5s - loss: 0.0844 - auroc: 0.9871 - aupr: 0.9486 - val_loss: 0.0707 - val_auroc: 0.9913 - val_aupr: 0.9625\n",
      "Epoch 35/100\n",
      "350/350 - 5s - loss: 0.0833 - auroc: 0.9875 - aupr: 0.9499 - val_loss: 0.0713 - val_auroc: 0.9910 - val_aupr: 0.9620\n",
      "Epoch 36/100\n",
      "350/350 - 5s - loss: 0.0829 - auroc: 0.9875 - aupr: 0.9502 - val_loss: 0.0696 - val_auroc: 0.9911 - val_aupr: 0.9640\n",
      "Epoch 37/100\n",
      "350/350 - 5s - loss: 0.0824 - auroc: 0.9877 - aupr: 0.9507 - val_loss: 0.0706 - val_auroc: 0.9907 - val_aupr: 0.9624\n",
      "Epoch 38/100\n",
      "350/350 - 5s - loss: 0.0822 - auroc: 0.9877 - aupr: 0.9513 - val_loss: 0.0714 - val_auroc: 0.9904 - val_aupr: 0.9616\n",
      "Epoch 39/100\n",
      "350/350 - 5s - loss: 0.0813 - auroc: 0.9880 - aupr: 0.9521 - val_loss: 0.0710 - val_auroc: 0.9913 - val_aupr: 0.9617\n",
      "Epoch 40/100\n",
      "350/350 - 5s - loss: 0.0812 - auroc: 0.9880 - aupr: 0.9523 - val_loss: 0.0713 - val_auroc: 0.9901 - val_aupr: 0.9616\n",
      "Epoch 41/100\n",
      "350/350 - 5s - loss: 0.0808 - auroc: 0.9882 - aupr: 0.9527 - val_loss: 0.0706 - val_auroc: 0.9910 - val_aupr: 0.9630\n",
      "Epoch 42/100\n",
      "350/350 - 5s - loss: 0.0806 - auroc: 0.9882 - aupr: 0.9528 - val_loss: 0.0721 - val_auroc: 0.9903 - val_aupr: 0.9618\n",
      "Epoch 43/100\n",
      "350/350 - 5s - loss: 0.0799 - auroc: 0.9884 - aupr: 0.9534 - val_loss: 0.0708 - val_auroc: 0.9906 - val_aupr: 0.9624\n",
      "Epoch 44/100\n",
      "350/350 - 5s - loss: 0.0793 - auroc: 0.9886 - aupr: 0.9545 - val_loss: 0.0702 - val_auroc: 0.9914 - val_aupr: 0.9632\n",
      "Epoch 45/100\n",
      "350/350 - 5s - loss: 0.0783 - auroc: 0.9888 - aupr: 0.9555 - val_loss: 0.0697 - val_auroc: 0.9913 - val_aupr: 0.9631\n",
      "Epoch 46/100\n",
      "\n",
      "Epoch 00046: ReduceLROnPlateau reducing learning rate to 0.00020000000949949026.\n",
      "350/350 - 5s - loss: 0.0789 - auroc: 0.9886 - aupr: 0.9548 - val_loss: 0.0724 - val_auroc: 0.9904 - val_aupr: 0.9613\n",
      "Epoch 47/100\n",
      "350/350 - 5s - loss: 0.0757 - auroc: 0.9896 - aupr: 0.9581 - val_loss: 0.0698 - val_auroc: 0.9908 - val_aupr: 0.9633\n",
      "Epoch 48/100\n",
      "350/350 - 5s - loss: 0.0745 - auroc: 0.9898 - aupr: 0.9594 - val_loss: 0.0694 - val_auroc: 0.9910 - val_aupr: 0.9634\n",
      "Epoch 49/100\n",
      "350/350 - 5s - loss: 0.0745 - auroc: 0.9900 - aupr: 0.9594 - val_loss: 0.0693 - val_auroc: 0.9912 - val_aupr: 0.9635\n",
      "Epoch 50/100\n",
      "350/350 - 5s - loss: 0.0744 - auroc: 0.9899 - aupr: 0.9595 - val_loss: 0.0694 - val_auroc: 0.9913 - val_aupr: 0.9634\n",
      "Epoch 51/100\n",
      "350/350 - 5s - loss: 0.0739 - auroc: 0.9900 - aupr: 0.9601 - val_loss: 0.0695 - val_auroc: 0.9909 - val_aupr: 0.9634\n",
      "Epoch 52/100\n",
      "350/350 - 5s - loss: 0.0737 - auroc: 0.9901 - aupr: 0.9601 - val_loss: 0.0696 - val_auroc: 0.9907 - val_aupr: 0.9635\n",
      "Epoch 53/100\n",
      "350/350 - 5s - loss: 0.0738 - auroc: 0.9899 - aupr: 0.9605 - val_loss: 0.0693 - val_auroc: 0.9910 - val_aupr: 0.9639\n",
      "Epoch 54/100\n",
      "350/350 - 5s - loss: 0.0729 - auroc: 0.9901 - aupr: 0.9611 - val_loss: 0.0696 - val_auroc: 0.9909 - val_aupr: 0.9629\n",
      "Epoch 55/100\n",
      "350/350 - 5s - loss: 0.0735 - auroc: 0.9900 - aupr: 0.9604 - val_loss: 0.0693 - val_auroc: 0.9910 - val_aupr: 0.9636\n",
      "Epoch 56/100\n",
      "350/350 - 5s - loss: 0.0728 - auroc: 0.9903 - aupr: 0.9614 - val_loss: 0.0697 - val_auroc: 0.9910 - val_aupr: 0.9631\n",
      "Epoch 57/100\n",
      "350/350 - 5s - loss: 0.0730 - auroc: 0.9901 - aupr: 0.9607 - val_loss: 0.0698 - val_auroc: 0.9908 - val_aupr: 0.9632\n",
      "Epoch 58/100\n",
      "350/350 - 5s - loss: 0.0722 - auroc: 0.9904 - aupr: 0.9618 - val_loss: 0.0696 - val_auroc: 0.9910 - val_aupr: 0.9633\n",
      "Epoch 59/100\n",
      "\n",
      "Epoch 00059: ReduceLROnPlateau reducing learning rate to 4.0000001899898055e-05.\n",
      "350/350 - 5s - loss: 0.0725 - auroc: 0.9903 - aupr: 0.9615 - val_loss: 0.0695 - val_auroc: 0.9909 - val_aupr: 0.9636\n",
      "Epoch 60/100\n",
      "350/350 - 5s - loss: 0.0719 - auroc: 0.9906 - aupr: 0.9623 - val_loss: 0.0696 - val_auroc: 0.9907 - val_aupr: 0.9632\n",
      "Epoch 61/100\n",
      "350/350 - 5s - loss: 0.0711 - auroc: 0.9908 - aupr: 0.9629 - val_loss: 0.0696 - val_auroc: 0.9908 - val_aupr: 0.9632\n",
      "Epoch 62/100\n",
      "350/350 - 5s - loss: 0.0715 - auroc: 0.9904 - aupr: 0.9624 - val_loss: 0.0695 - val_auroc: 0.9908 - val_aupr: 0.9632\n"
     ]
    },
    {
     "name": "stdout",
     "output_type": "stream",
     "text": [
      "Epoch 63/100\n",
      "350/350 - 5s - loss: 0.0717 - auroc: 0.9905 - aupr: 0.9621 - val_loss: 0.0697 - val_auroc: 0.9908 - val_aupr: 0.9632\n",
      "Epoch 64/100\n",
      "Restoring model weights from the end of the best epoch.\n",
      "350/350 - 5s - loss: 0.0710 - auroc: 0.9907 - aupr: 0.9627 - val_loss: 0.0696 - val_auroc: 0.9908 - val_aupr: 0.9632\n",
      "Epoch 00064: early stopping\n",
      "625/625 [==============================] - 1s 2ms/step - loss: 0.0686 - auroc: 0.9914 - aupr: 0.9643\n",
      "generated PPMs\n",
      "TomTom TPR:  0.90625\n",
      "TomTom FPR:  0.0\n",
      "Motif coverage:  1.0\n",
      "completed TomTom analysis\n",
      "completed clustering\n"
     ]
    },
    {
     "name": "stderr",
     "output_type": "stream",
     "text": [
      "/home/koolab/Documents/GLIFAC/Code/glifac.py:108: FutureWarning: Using a non-tuple sequence for multidimensional indexing is deprecated; use `arr[tuple(seq)]` instead of `arr[seq]`. In the future this will be interpreted as an array index, `arr[np.array(seq)]`, which will result either in an error or a different result.\n",
      "  filter_interactions = feature_maps[position_pairs].transpose([1, 2, 0])\n",
      "/home/koolab/Documents/GLIFAC/Code/glifac.py:46: FutureWarning: Using a non-tuple sequence for multidimensional indexing is deprecated; use `arr[tuple(seq)]` instead of `arr[seq]`. In the future this will be interpreted as an array index, `arr[np.array(seq)]`, which will result either in an error or a different result.\n",
      "  filter_interactions_values = correlation_matrix[ind.transpose().tolist()]\n"
     ]
    },
    {
     "name": "stdout",
     "output_type": "stream",
     "text": [
      "0.0  | AUROC: 0.9461256418971205  | AUPR: 0.9962656085891002  | SNR: 3.032665482774908\n"
     ]
    },
    {
     "name": "stderr",
     "output_type": "stream",
     "text": [
      "/home/koolab/Documents/GLIFAC/Code/glifac.py:108: FutureWarning: Using a non-tuple sequence for multidimensional indexing is deprecated; use `arr[tuple(seq)]` instead of `arr[seq]`. In the future this will be interpreted as an array index, `arr[np.array(seq)]`, which will result either in an error or a different result.\n",
      "  filter_interactions = feature_maps[position_pairs].transpose([1, 2, 0])\n",
      "/home/koolab/Documents/GLIFAC/Code/glifac.py:46: FutureWarning: Using a non-tuple sequence for multidimensional indexing is deprecated; use `arr[tuple(seq)]` instead of `arr[seq]`. In the future this will be interpreted as an array index, `arr[np.array(seq)]`, which will result either in an error or a different result.\n",
      "  filter_interactions_values = correlation_matrix[ind.transpose().tolist()]\n"
     ]
    },
    {
     "name": "stdout",
     "output_type": "stream",
     "text": [
      "0.1  | AUROC: 0.06956305687704666  | AUPR: 0.46143073870930096  | SNR: 0.2124111112179466\n"
     ]
    },
    {
     "name": "stderr",
     "output_type": "stream",
     "text": [
      "/home/koolab/Documents/GLIFAC/Code/glifac.py:108: FutureWarning: Using a non-tuple sequence for multidimensional indexing is deprecated; use `arr[tuple(seq)]` instead of `arr[seq]`. In the future this will be interpreted as an array index, `arr[np.array(seq)]`, which will result either in an error or a different result.\n",
      "  filter_interactions = feature_maps[position_pairs].transpose([1, 2, 0])\n",
      "/home/koolab/Documents/GLIFAC/Code/glifac.py:46: FutureWarning: Using a non-tuple sequence for multidimensional indexing is deprecated; use `arr[tuple(seq)]` instead of `arr[seq]`. In the future this will be interpreted as an array index, `arr[np.array(seq)]`, which will result either in an error or a different result.\n",
      "  filter_interactions_values = correlation_matrix[ind.transpose().tolist()]\n"
     ]
    },
    {
     "name": "stdout",
     "output_type": "stream",
     "text": [
      "0.2  | AUROC: 0.08618143804477657  | AUPR: 0.4710001166997315  | SNR: 0.40191387250467614\n"
     ]
    },
    {
     "name": "stderr",
     "output_type": "stream",
     "text": [
      "/home/koolab/Documents/GLIFAC/Code/glifac.py:108: FutureWarning: Using a non-tuple sequence for multidimensional indexing is deprecated; use `arr[tuple(seq)]` instead of `arr[seq]`. In the future this will be interpreted as an array index, `arr[np.array(seq)]`, which will result either in an error or a different result.\n",
      "  filter_interactions = feature_maps[position_pairs].transpose([1, 2, 0])\n",
      "/home/koolab/Documents/GLIFAC/Code/glifac.py:46: FutureWarning: Using a non-tuple sequence for multidimensional indexing is deprecated; use `arr[tuple(seq)]` instead of `arr[seq]`. In the future this will be interpreted as an array index, `arr[np.array(seq)]`, which will result either in an error or a different result.\n",
      "  filter_interactions_values = correlation_matrix[ind.transpose().tolist()]\n"
     ]
    },
    {
     "name": "stdout",
     "output_type": "stream",
     "text": [
      "0.3  | AUROC: 0.08624285103005695  | AUPR: 0.4914225697280896  | SNR: 0.47131307995263744\n"
     ]
    },
    {
     "name": "stderr",
     "output_type": "stream",
     "text": [
      "/home/koolab/Documents/GLIFAC/Code/glifac.py:108: FutureWarning: Using a non-tuple sequence for multidimensional indexing is deprecated; use `arr[tuple(seq)]` instead of `arr[seq]`. In the future this will be interpreted as an array index, `arr[np.array(seq)]`, which will result either in an error or a different result.\n",
      "  filter_interactions = feature_maps[position_pairs].transpose([1, 2, 0])\n",
      "/home/koolab/Documents/GLIFAC/Code/glifac.py:46: FutureWarning: Using a non-tuple sequence for multidimensional indexing is deprecated; use `arr[tuple(seq)]` instead of `arr[seq]`. In the future this will be interpreted as an array index, `arr[np.array(seq)]`, which will result either in an error or a different result.\n",
      "  filter_interactions_values = correlation_matrix[ind.transpose().tolist()]\n"
     ]
    },
    {
     "name": "stdout",
     "output_type": "stream",
     "text": [
      "0.4  | AUROC: 0.07489346469584203  | AUPR: 0.5240984945734624  | SNR: 0.24907845627603792\n"
     ]
    },
    {
     "name": "stderr",
     "output_type": "stream",
     "text": [
      "/home/koolab/Documents/GLIFAC/Code/glifac.py:108: FutureWarning: Using a non-tuple sequence for multidimensional indexing is deprecated; use `arr[tuple(seq)]` instead of `arr[seq]`. In the future this will be interpreted as an array index, `arr[np.array(seq)]`, which will result either in an error or a different result.\n",
      "  filter_interactions = feature_maps[position_pairs].transpose([1, 2, 0])\n",
      "/home/koolab/Documents/GLIFAC/Code/glifac.py:46: FutureWarning: Using a non-tuple sequence for multidimensional indexing is deprecated; use `arr[tuple(seq)]` instead of `arr[seq]`. In the future this will be interpreted as an array index, `arr[np.array(seq)]`, which will result either in an error or a different result.\n",
      "  filter_interactions_values = correlation_matrix[ind.transpose().tolist()]\n"
     ]
    },
    {
     "name": "stdout",
     "output_type": "stream",
     "text": [
      "0.5  | AUROC: 0.059789943560463396  | AUPR: 0.5279495857159529  | SNR: 0.11073625105627212\n"
     ]
    },
    {
     "name": "stderr",
     "output_type": "stream",
     "text": [
      "/home/koolab/Documents/GLIFAC/Code/glifac.py:108: FutureWarning: Using a non-tuple sequence for multidimensional indexing is deprecated; use `arr[tuple(seq)]` instead of `arr[seq]`. In the future this will be interpreted as an array index, `arr[np.array(seq)]`, which will result either in an error or a different result.\n",
      "  filter_interactions = feature_maps[position_pairs].transpose([1, 2, 0])\n",
      "/home/koolab/Documents/GLIFAC/Code/glifac.py:28: RuntimeWarning: invalid value encountered in float_scalars\n",
      "  return top/bottom\n",
      "/home/koolab/Documents/GLIFAC/Code/glifac.py:10: RuntimeWarning: invalid value encountered in greater\n",
      "  return np.where(-amin > amax, amin, amax)\n",
      "/home/koolab/Documents/GLIFAC/Code/glifac.py:46: FutureWarning: Using a non-tuple sequence for multidimensional indexing is deprecated; use `arr[tuple(seq)]` instead of `arr[seq]`. In the future this will be interpreted as an array index, `arr[np.array(seq)]`, which will result either in an error or a different result.\n",
      "  filter_interactions_values = correlation_matrix[ind.transpose().tolist()]\n"
     ]
    },
    {
     "name": "stdout",
     "output_type": "stream",
     "text": [
      "0.6  | AUROC: 0.05867141828456383  | AUPR: 0.5452211459913642  | SNR: 0.05807377483811176\n"
     ]
    },
    {
     "name": "stderr",
     "output_type": "stream",
     "text": [
      "/home/koolab/Documents/GLIFAC/Code/glifac.py:108: FutureWarning: Using a non-tuple sequence for multidimensional indexing is deprecated; use `arr[tuple(seq)]` instead of `arr[seq]`. In the future this will be interpreted as an array index, `arr[np.array(seq)]`, which will result either in an error or a different result.\n",
      "  filter_interactions = feature_maps[position_pairs].transpose([1, 2, 0])\n",
      "/home/koolab/Documents/GLIFAC/Code/glifac.py:28: RuntimeWarning: invalid value encountered in float_scalars\n",
      "  return top/bottom\n",
      "/home/koolab/Documents/GLIFAC/Code/glifac.py:10: RuntimeWarning: invalid value encountered in greater\n",
      "  return np.where(-amin > amax, amin, amax)\n",
      "/home/koolab/Documents/GLIFAC/Code/glifac.py:46: FutureWarning: Using a non-tuple sequence for multidimensional indexing is deprecated; use `arr[tuple(seq)]` instead of `arr[seq]`. In the future this will be interpreted as an array index, `arr[np.array(seq)]`, which will result either in an error or a different result.\n",
      "  filter_interactions_values = correlation_matrix[ind.transpose().tolist()]\n"
     ]
    },
    {
     "name": "stdout",
     "output_type": "stream",
     "text": [
      "0.7  | AUROC: 0.05123358870029355  | AUPR: 0.5165130120200724  | SNR: -0.019913299787517113\n"
     ]
    },
    {
     "name": "stderr",
     "output_type": "stream",
     "text": [
      "/home/koolab/Documents/GLIFAC/Code/glifac.py:108: FutureWarning: Using a non-tuple sequence for multidimensional indexing is deprecated; use `arr[tuple(seq)]` instead of `arr[seq]`. In the future this will be interpreted as an array index, `arr[np.array(seq)]`, which will result either in an error or a different result.\n",
      "  filter_interactions = feature_maps[position_pairs].transpose([1, 2, 0])\n",
      "/home/koolab/Documents/GLIFAC/Code/glifac.py:28: RuntimeWarning: invalid value encountered in float_scalars\n",
      "  return top/bottom\n",
      "/home/koolab/Documents/GLIFAC/Code/glifac.py:10: RuntimeWarning: invalid value encountered in greater\n",
      "  return np.where(-amin > amax, amin, amax)\n",
      "/home/koolab/Documents/GLIFAC/Code/glifac.py:46: FutureWarning: Using a non-tuple sequence for multidimensional indexing is deprecated; use `arr[tuple(seq)]` instead of `arr[seq]`. In the future this will be interpreted as an array index, `arr[np.array(seq)]`, which will result either in an error or a different result.\n",
      "  filter_interactions_values = correlation_matrix[ind.transpose().tolist()]\n"
     ]
    },
    {
     "name": "stdout",
     "output_type": "stream",
     "text": [
      "0.8  | AUROC: 0.049532137134755724  | AUPR: 0.5127786206091726  | SNR: -0.0479131532041498\n"
     ]
    },
    {
     "name": "stderr",
     "output_type": "stream",
     "text": [
      "/home/koolab/Documents/GLIFAC/Code/glifac.py:108: FutureWarning: Using a non-tuple sequence for multidimensional indexing is deprecated; use `arr[tuple(seq)]` instead of `arr[seq]`. In the future this will be interpreted as an array index, `arr[np.array(seq)]`, which will result either in an error or a different result.\n",
      "  filter_interactions = feature_maps[position_pairs].transpose([1, 2, 0])\n",
      "/home/koolab/Documents/GLIFAC/Code/glifac.py:28: RuntimeWarning: invalid value encountered in float_scalars\n",
      "  return top/bottom\n",
      "/home/koolab/Documents/GLIFAC/Code/glifac.py:10: RuntimeWarning: invalid value encountered in greater\n",
      "  return np.where(-amin > amax, amin, amax)\n",
      "/home/koolab/Documents/GLIFAC/Code/glifac.py:46: FutureWarning: Using a non-tuple sequence for multidimensional indexing is deprecated; use `arr[tuple(seq)]` instead of `arr[seq]`. In the future this will be interpreted as an array index, `arr[np.array(seq)]`, which will result either in an error or a different result.\n",
      "  filter_interactions_values = correlation_matrix[ind.transpose().tolist()]\n"
     ]
    },
    {
     "name": "stdout",
     "output_type": "stream",
     "text": [
      "0.9  | AUROC: 0.04352514976508284  | AUPR: 0.48045279495857157  | SNR: -0.1289405086027098\n",
      "finished correlation interpretability\n",
      "saved statistics\n",
      "saved filters\n"
     ]
    },
    {
     "name": "stderr",
     "output_type": "stream",
     "text": [
      "/home/koolab/Documents/GLIFAC/Code/glifac_pipeline.py:297: MatplotlibDeprecationWarning: savefig() got unexpected keyword argument \"box_inches\" which is no longer supported as of 3.3 and will become an error two minor releases later\n",
      "  fig.savefig(glifac_dir, format='pdf', dpi=300, box_inches='tight')\n"
     ]
    },
    {
     "name": "stdout",
     "output_type": "stream",
     "text": [
      "saved glifac\n",
      "Epoch 1/100\n",
      "350/350 - 5s - loss: 0.3154 - auroc: 0.8106 - aupr: 0.4945 - val_loss: 0.2582 - val_auroc: 0.9506 - val_aupr: 0.8067\n",
      "Epoch 2/100\n",
      "350/350 - 5s - loss: 0.1341 - auroc: 0.9687 - aupr: 0.8871 - val_loss: 0.1091 - val_auroc: 0.9805 - val_aupr: 0.9245\n",
      "Epoch 3/100\n",
      "350/350 - 5s - loss: 0.1169 - auroc: 0.9751 - aupr: 0.9100 - val_loss: 0.0954 - val_auroc: 0.9847 - val_aupr: 0.9382\n",
      "Epoch 4/100\n",
      "350/350 - 5s - loss: 0.1121 - auroc: 0.9769 - aupr: 0.9156 - val_loss: 0.0931 - val_auroc: 0.9857 - val_aupr: 0.9416\n",
      "Epoch 5/100\n",
      "350/350 - 5s - loss: 0.1079 - auroc: 0.9784 - aupr: 0.9210 - val_loss: 0.0933 - val_auroc: 0.9854 - val_aupr: 0.9368\n",
      "Epoch 6/100\n",
      "350/350 - 5s - loss: 0.1042 - auroc: 0.9798 - aupr: 0.9254 - val_loss: 0.0813 - val_auroc: 0.9883 - val_aupr: 0.9525\n",
      "Epoch 7/100\n",
      "350/350 - 5s - loss: 0.1024 - auroc: 0.9804 - aupr: 0.9276 - val_loss: 0.0933 - val_auroc: 0.9878 - val_aupr: 0.9468\n",
      "Epoch 8/100\n",
      "350/350 - 5s - loss: 0.0996 - auroc: 0.9813 - aupr: 0.9309 - val_loss: 0.0768 - val_auroc: 0.9897 - val_aupr: 0.9555\n",
      "Epoch 9/100\n",
      "350/350 - 5s - loss: 0.0981 - auroc: 0.9819 - aupr: 0.9324 - val_loss: 0.0796 - val_auroc: 0.9902 - val_aupr: 0.9555\n",
      "Epoch 10/100\n",
      "350/350 - 5s - loss: 0.0971 - auroc: 0.9823 - aupr: 0.9335 - val_loss: 0.0790 - val_auroc: 0.9888 - val_aupr: 0.9540\n",
      "Epoch 11/100\n",
      "350/350 - 5s - loss: 0.0966 - auroc: 0.9826 - aupr: 0.9342 - val_loss: 0.0789 - val_auroc: 0.9881 - val_aupr: 0.9547\n",
      "Epoch 12/100\n",
      "350/350 - 5s - loss: 0.0956 - auroc: 0.9827 - aupr: 0.9352 - val_loss: 0.0775 - val_auroc: 0.9906 - val_aupr: 0.9566\n",
      "Epoch 13/100\n",
      "350/350 - 5s - loss: 0.0958 - auroc: 0.9828 - aupr: 0.9353 - val_loss: 0.0764 - val_auroc: 0.9898 - val_aupr: 0.9568\n",
      "Epoch 14/100\n",
      "350/350 - 5s - loss: 0.0947 - auroc: 0.9831 - aupr: 0.9362 - val_loss: 0.0758 - val_auroc: 0.9905 - val_aupr: 0.9578\n",
      "Epoch 15/100\n"
     ]
    }
   ],
   "source": [
    "path = '../DATA/MatrixSymmetry'\n",
    "path = os.path.abspath(path)\n",
    "\n",
    "baseline = 'CNN4-ReLU'\n",
    "categories = ['Max', 'Mean', 'AbsMax']\n",
    "trials = np.arange(10)\n",
    "options = [np.max, np.mean, glifac.absmaxND]\n",
    "\n",
    "for i in range(len(categories)):\n",
    "    for j in range(len(trials)):\n",
    "        model = models.CNN_ATT(\n",
    "            batch_norm=False,\n",
    "            activation='relu',\n",
    "            pool_size=4,\n",
    "            layer_norm=False\n",
    "        )\n",
    "        \n",
    "        category = categories[i]\n",
    "        variant = 'model'\n",
    "        trial = trials[j]\n",
    "        \n",
    "        glifac_pipeline.run_pipeline(\n",
    "            model,\n",
    "            path,\n",
    "            baseline,\n",
    "            category,\n",
    "            variant,\n",
    "            trial,\n",
    "            motifs,\n",
    "            batch_size=200,\n",
    "            epochs=100,\n",
    "            root_tomtom=False,\n",
    "            concat=np.max,\n",
    "            rand_frac=0.5,\n",
    "            symmetrize=options[i]\n",
    "        )"
   ]
  },
  {
   "cell_type": "code",
   "execution_count": null,
   "id": "8c485466",
   "metadata": {},
   "outputs": [],
   "source": [
    "path = '../DATA/MatrixSymmetry'\n",
    "path = os.path.abspath(path)\n",
    "\n",
    "baseline = 'CNN4-ReLU-Norm'\n",
    "categories = ['Max', 'Mean', 'AbsMax']\n",
    "trials = np.arange(10)\n",
    "options = [np.max, np.mean, glifac.absmaxND]\n",
    "\n",
    "for i in range(len(categories)):\n",
    "    break\n",
    "    for j in range(len(trials)):\n",
    "        model = models.CNN_ATT(\n",
    "            batch_norm=True,\n",
    "            activation='relu',\n",
    "            pool_size=4,\n",
    "            layer_norm=True\n",
    "        )\n",
    "        \n",
    "        category = categories[i]\n",
    "        variant = 'model'\n",
    "        trial = trials[j]\n",
    "        \n",
    "        glifac_pipeline.run_pipeline(\n",
    "            model,\n",
    "            path,\n",
    "            baseline,\n",
    "            category,\n",
    "            variant,\n",
    "            trial,\n",
    "            motifs,\n",
    "            batch_size=200,\n",
    "            epochs=100,\n",
    "            root_tomtom=False,\n",
    "            concat=np.max,\n",
    "            rand_frac=0.5,\n",
    "            symmetrize=options[i]\n",
    "        )"
   ]
  },
  {
   "cell_type": "code",
   "execution_count": null,
   "id": "f9e3f38e",
   "metadata": {},
   "outputs": [],
   "source": [
    "path = '../DATA/MatrixSymmetry'\n",
    "path = os.path.abspath(path)\n",
    "\n",
    "baseline = 'CNN4-Exp'\n",
    "categories = ['Max', 'Mean', 'AbsMax']\n",
    "trials = np.arange(10)\n",
    "options = [np.max, np.mean, glifac.absmaxND]\n",
    "\n",
    "for i in range(len(categories)):\n",
    "    for j in range(len(trials)):\n",
    "        model = models.CNN_ATT(\n",
    "            batch_norm=False,\n",
    "            activation='exp',\n",
    "            pool_size=4,\n",
    "            layer_norm=False\n",
    "        )\n",
    "        \n",
    "        category = categories[i]\n",
    "        variant = 'model'\n",
    "        trial = trials[j]\n",
    "        \n",
    "        glifac_pipeline.run_pipeline(\n",
    "            model,\n",
    "            path,\n",
    "            baseline,\n",
    "            category,\n",
    "            variant,\n",
    "            trial,\n",
    "            motifs,\n",
    "            batch_size=200,\n",
    "            epochs=100,\n",
    "            root_tomtom=False,\n",
    "            concat=np.max,\n",
    "            rand_frac=0.5,\n",
    "            symmetrize=options[i]\n",
    "        )"
   ]
  },
  {
   "cell_type": "code",
   "execution_count": null,
   "id": "96b8d737",
   "metadata": {},
   "outputs": [],
   "source": [
    "path = '../DATA/MatrixSymmetry'\n",
    "path = os.path.abspath(path)\n",
    "\n",
    "baseline = 'CNN4-Exp-Norm'\n",
    "categories = ['Max', 'Mean', 'AbsMax']\n",
    "trials = np.arange(10)\n",
    "options = [np.max, np.mean, glifac.absmaxND]\n",
    "\n",
    "for i in range(len(categories)):\n",
    "    for j in range(len(trials)):\n",
    "        model = models.CNN_ATT(\n",
    "            batch_norm=True,\n",
    "            activation='exp',\n",
    "            pool_size=4,\n",
    "            layer_norm=True\n",
    "        )\n",
    "        \n",
    "        category = categories[i]\n",
    "        variant = 'model'\n",
    "        trial = trials[j]\n",
    "        \n",
    "        glifac_pipeline.run_pipeline(\n",
    "            model,\n",
    "            path,\n",
    "            baseline,\n",
    "            category,\n",
    "            variant,\n",
    "            trial,\n",
    "            motifs,\n",
    "            batch_size=200,\n",
    "            epochs=100,\n",
    "            root_tomtom=False,\n",
    "            concat=np.max,\n",
    "            rand_frac=0.5,\n",
    "            symmetrize=options[i]\n",
    "        )"
   ]
  },
  {
   "cell_type": "code",
   "execution_count": null,
   "id": "4e66a4ea",
   "metadata": {},
   "outputs": [],
   "source": [
    "path = '../DATA/MatrixSymmetry'\n",
    "path = os.path.abspath(path)\n",
    "\n",
    "baseline = 'CNN20-ReLU'\n",
    "categories = ['Max', 'Mean', 'AbsMax']\n",
    "trials = np.arange(10)\n",
    "options = [np.max, np.mean, glifac.absmaxND]\n",
    "\n",
    "for i in range(len(categories)):\n",
    "    for j in range(len(trials)):\n",
    "        model = models.CNN_ATT(\n",
    "            batch_norm=False,\n",
    "            activation='relu',\n",
    "            pool_size=20,\n",
    "            layer_norm=False\n",
    "        )\n",
    "        \n",
    "        category = categories[i]\n",
    "        variant = 'model'\n",
    "        trial = trials[j]\n",
    "        \n",
    "        glifac_pipeline.run_pipeline(\n",
    "            model,\n",
    "            path,\n",
    "            baseline,\n",
    "            category,\n",
    "            variant,\n",
    "            trial,\n",
    "            motifs,\n",
    "            batch_size=200,\n",
    "            epochs=100,\n",
    "            root_tomtom=False,\n",
    "            concat=np.max,\n",
    "            rand_frac=0.5,\n",
    "            symmetrize=options[i]\n",
    "        )"
   ]
  },
  {
   "cell_type": "code",
   "execution_count": null,
   "id": "b91d79ea",
   "metadata": {},
   "outputs": [],
   "source": [
    "path = '../DATA/MatrixSymmetry'\n",
    "path = os.path.abspath(path)\n",
    "\n",
    "baseline = 'CNN20-ReLU-Norm'\n",
    "categories = ['Max', 'Mean', 'AbsMax']\n",
    "trials = np.arange(10)\n",
    "options = [np.max, np.mean, glifac.absmaxND]\n",
    "\n",
    "for i in range(len(categories)):\n",
    "    for j in range(len(trials)):\n",
    "        model = models.CNN_ATT(\n",
    "            batch_norm=True,\n",
    "            activation='relu',\n",
    "            pool_size=20,\n",
    "            layer_norm=True\n",
    "        )\n",
    "        \n",
    "        category = categories[i]\n",
    "        variant = 'model'\n",
    "        trial = trials[j]\n",
    "        \n",
    "        glifac_pipeline.run_pipeline(\n",
    "            model,\n",
    "            path,\n",
    "            baseline,\n",
    "            category,\n",
    "            variant,\n",
    "            trial,\n",
    "            motifs,\n",
    "            batch_size=200,\n",
    "            epochs=100,\n",
    "            root_tomtom=False,\n",
    "            concat=np.max,\n",
    "            rand_frac=0.5,\n",
    "            symmetrize=options[i]\n",
    "        )"
   ]
  },
  {
   "cell_type": "code",
   "execution_count": null,
   "id": "a920f815",
   "metadata": {},
   "outputs": [],
   "source": [
    "path = '../DATA/MatrixSymmetry'\n",
    "path = os.path.abspath(path)\n",
    "\n",
    "baseline = 'CNN20-Exp'\n",
    "categories = ['Max', 'Mean', 'AbsMax']\n",
    "trials = np.arange(10)\n",
    "options = [np.max, np.mean, glifac.absmaxND]\n",
    "\n",
    "for i in range(len(categories)):\n",
    "    for j in range(len(trials)):\n",
    "        model = models.CNN_ATT(\n",
    "            batch_norm=False,\n",
    "            activation='exp',\n",
    "            pool_size=20,\n",
    "            layer_norm=False\n",
    "        )\n",
    "        \n",
    "        category = categories[i]\n",
    "        variant = 'model'\n",
    "        trial = trials[j]\n",
    "        \n",
    "        glifac_pipeline.run_pipeline(\n",
    "            model,\n",
    "            path,\n",
    "            baseline,\n",
    "            category,\n",
    "            variant,\n",
    "            trial,\n",
    "            motifs,\n",
    "            batch_size=200,\n",
    "            epochs=100,\n",
    "            root_tomtom=False,\n",
    "            concat=np.max,\n",
    "            rand_frac=0.5,\n",
    "            symmetrize=options[i]\n",
    "        )"
   ]
  },
  {
   "cell_type": "code",
   "execution_count": null,
   "id": "2e1467e8",
   "metadata": {},
   "outputs": [],
   "source": [
    "path = '../DATA/MatrixSymmetry'\n",
    "path = os.path.abspath(path)\n",
    "\n",
    "baseline = 'CNN20-Exp-Norm'\n",
    "categories = ['Max', 'Mean', 'AbsMax']\n",
    "trials = np.arange(10)\n",
    "options = [np.max, np.mean, glifac.absmaxND]\n",
    "\n",
    "for i in range(len(categories)):\n",
    "    for j in range(len(trials)):\n",
    "        model = models.CNN_ATT(\n",
    "            batch_norm=True,\n",
    "            activation='exp',\n",
    "            pool_size=20,\n",
    "            layer_norm=True\n",
    "        )\n",
    "        \n",
    "        category = categories[i]\n",
    "        variant = 'model'\n",
    "        trial = trials[j]\n",
    "        \n",
    "        glifac_pipeline.run_pipeline(\n",
    "            model,\n",
    "            path,\n",
    "            baseline,\n",
    "            category,\n",
    "            variant,\n",
    "            trial,\n",
    "            motifs,\n",
    "            batch_size=200,\n",
    "            epochs=100,\n",
    "            root_tomtom=False,\n",
    "            concat=np.max,\n",
    "            rand_frac=0.5,\n",
    "            symmetrize=options[i]\n",
    "        )"
   ]
  }
 ],
 "metadata": {
  "kernelspec": {
   "display_name": "Python 3",
   "language": "python",
   "name": "python3"
  },
  "language_info": {
   "codemirror_mode": {
    "name": "ipython",
    "version": 3
   },
   "file_extension": ".py",
   "mimetype": "text/x-python",
   "name": "python",
   "nbconvert_exporter": "python",
   "pygments_lexer": "ipython3",
   "version": "3.8.10"
  }
 },
 "nbformat": 4,
 "nbformat_minor": 5
}
